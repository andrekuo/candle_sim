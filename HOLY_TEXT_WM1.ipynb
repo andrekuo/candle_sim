{
 "cells": [
  {
   "cell_type": "code",
   "execution_count": 20,
   "metadata": {},
   "outputs": [
    {
     "name": "stdout",
     "output_type": "stream",
     "text": [
      "The autoreload extension is already loaded. To reload it, use:\n",
      "  %reload_ext autoreload\n"
     ]
    }
   ],
   "source": [
    "%load_ext autoreload\n",
    "%autoreload 2\n",
    "from qiskit_metal import draw, Dict, designs, MetalGUI\n",
    "from qiskit_metal.toolbox_metal import math_and_overrides\n",
    "from qiskit_metal.qlibrary.core import QComponent\n",
    "import qiskit_metal as metal\n",
    "# ?metal.qlibrary.core.QComponent.add_qgeometry\n",
    "\n",
    "design = metal.designs.design_planar.DesignPlanar()\n",
    "gui = metal.MetalGUI(design)\n",
    "design.overwrite_enabled = True\n",
    "\n",
    "# dir(QComponent)\n",
    "cpw_width = '11.7um'\n",
    "\n",
    "design._chips.main.size.size_x = '5mm'\n",
    "design._chips.main.size.size_y = '5mm'\n",
    "from qiskit_metal.qlibrary.terminations.launchpad_wb import LaunchpadWirebond\n",
    "from qiskit_metal.qlibrary.terminations.short_to_ground import ShortToGround\n",
    "from qiskit_metal.qlibrary.tlines.straight_path import RouteStraight\n",
    "from qiskit_metal.qlibrary.tlines.anchored_path import RouteAnchors\n",
    "from qiskit_metal.qlibrary.tlines.mixed_path import RouteMixed\n",
    "from qiskit_metal.qlibrary.qubits.transmon_cross import TransmonCross\n",
    "from qiskit_metal.qlibrary.tlines.meandered import RouteMeander\n",
    "from qiskit_metal.qlibrary.terminations.open_to_ground import OpenToGround\n",
    "from qiskit_metal.qlibrary.couplers.coupled_line_tee import CoupledLineTee\n",
    "from qiskit_metal.qlibrary.couplers.cap_n_interdigital_tee import CapNInterdigitalTee\n",
    "from qiskit_metal.qlibrary.couplers.line_tee import LineTee\n",
    "\n",
    "from collections import OrderedDict\n",
    "\n",
    "import numpy as np\n",
    "### Top and Bottom\n",
    "options = Dict(\n",
    "    orientation = -90,\n",
    "    pos_y = 2.5 - 0.3,\n",
    "    # pad_width = '80um',\n",
    "    # pad_length = '200um',\n",
    "    # taper_height = '200um',\n",
    "    trace_width = cpw_width,\n",
    "    trace_gap = '5.1um'\n",
    ")\n",
    "wb1 = LaunchpadWirebond(design, 'wb_top', options=options)\n",
    "\n",
    "options = Dict(\n",
    "    orientation = 90,\n",
    "    pos_y = -2.5 + 0.3,\n",
    "    # pad_width = '80um',\n",
    "    # pad_length = '200um',\n",
    "    # taper_height = '200um',\n",
    "    trace_width = cpw_width,\n",
    "    trace_gap = '5.1um'\n",
    ")\n",
    "wb2 = LaunchpadWirebond(design, 'wb_bottom', options=options)\n",
    "\n",
    "xmon1_options = dict(\n",
    "    connection_pads=dict(\n",
    "        # a = dict( connector_location = '0', connector_type = '0'),\n",
    "        # b = dict(connector_location = '90', connector_type = '0'),\n",
    "        c = dict(connector_location = '90', \n",
    "                 connector_type = '0', \n",
    "                 claw_length = '215um',\n",
    "                 ground_spacing = '10um', \n",
    "                 claw_gap = '5.1um', \n",
    "                 claw_width = '15um',\n",
    "                 claw_cpw_length = '0um'\n",
    "                 ),\n",
    "        # d = dict(connector_location = '270', connector_type = '0'),\n",
    "    ),\n",
    "    cross_width = '30um',\n",
    "    cross_length = '240um',\n",
    "    cross_gap = '30um',\n",
    "    orientation = '-90',\n",
    "    pos_x = '-1500um',\n",
    "    pos_y = '1200um',\n",
    "    aedt_hfss_inductance = 9.686E-9\n",
    ")\n",
    "\n",
    "# Create a new Transmon Cross object with name 'Q1'\n",
    "q1 = TransmonCross(design, 'Q1', options=xmon1_options)\n",
    "\n",
    "# otg_options = dict(width = '5.85um', \n",
    "#                    gap = '5.1um', \n",
    "#                 #    termination_gap = '500um',\n",
    "#                    pos_x='-30um',  \n",
    "#                    pos_y='1313um', \n",
    "#                    orientation='90')\n",
    "\n",
    "# otg = OpenToGround(design, 'open_to_ground', options=otg_options)\n",
    "\n",
    "\n",
    "xmon3_options = dict(\n",
    "    connection_pads=dict(\n",
    "        # a = dict( connector_location = '0', connector_type = '0'),\n",
    "        # b = dict(connector_location = '90', connector_type = '0'),\n",
    "        c = dict(connector_location = '90', \n",
    "                 connector_type = '0', \n",
    "                 claw_length = '185.9um',\n",
    "                 ground_spacing = '4.1um', \n",
    "                 claw_gap = '5.1um', \n",
    "                 claw_width = '15.9um',\n",
    "                 claw_cpw_length = 0),\n",
    "        # d = dict(connector_location = '270', connector_type = '0'),\n",
    "    ),\n",
    "    cross_width = '30.9um',\n",
    "    cross_length = '200.9um',\n",
    "    cross_gap = '29.1um',\n",
    "    orientation = '90',\n",
    "    pos_x = '2000.9um',\n",
    "    pos_y = '1700um',\n",
    "    aedt_hfss_inductance = 10.471E-9\n",
    ")\n",
    "\n",
    "# Create a new Transmon Cross object with name 'Q1'\n",
    "q3 = TransmonCross(design, 'Q3', options=xmon3_options)\n",
    "\n",
    "xmon5_options = dict(\n",
    "    connection_pads=dict(\n",
    "        # a = dict( connector_location = '0', connector_type = '0'),\n",
    "        # b = dict(connector_location = '90', connector_type = '0'),\n",
    "        c = dict(connector_location = '90', \n",
    "                 connector_type = '0', \n",
    "                 claw_length = '185um',\n",
    "                 ground_spacing = '5um', \n",
    "                 claw_gap = '5.1um', \n",
    "                 claw_width = '10um',\n",
    "                 claw_cpw_length = 0),\n",
    "        # d = dict(connector_location = '270', connector_type = '0'),\n",
    "    ),\n",
    "    cross_width = '30um',\n",
    "    cross_length = '200um',\n",
    "    cross_gap = '30um',\n",
    "    orientation = '-90',\n",
    "    pos_x = '-2000um',\n",
    "    pos_y = '-300um',\n",
    "    aedt_hfss_inductance = 13.235E-9\n",
    ")\n",
    "\n",
    "# Create a new Transmon Cross object with name 'Q1'\n",
    "q5 = TransmonCross(design, 'Q5', options=xmon5_options)\n",
    "\n",
    "\n",
    "xmon2_options = dict(\n",
    "    connection_pads=dict(\n",
    "        # a = dict( connector_location = '0', connector_type = '0'),\n",
    "        # b = dict(connector_location = '90', connector_type = '0'),\n",
    "        c = dict(connector_location = '90', \n",
    "                 connector_type = '0', \n",
    "                 claw_length = '215.9um',\n",
    "                 ground_spacing = '9.1um', \n",
    "                 claw_gap = '5.1um', \n",
    "                 claw_width = '15.9um',\n",
    "                 claw_cpw_length = 0),\n",
    "        # d = dict(connector_location = '270', connector_type = '0'),\n",
    "    ),\n",
    "    cross_width = '30.9um',\n",
    "    cross_length = '240.9um',\n",
    "    cross_gap = '29.1um',\n",
    "    orientation = '90',\n",
    "    pos_x = '1500um',\n",
    "    pos_y = '250um',\n",
    "    aedt_hfss_inductance = 11.268E-9\n",
    ")\n",
    "\n",
    "# Create a new Transmon Cross object with name 'Q1'\n",
    "q2 = TransmonCross(design, 'Q2', options=xmon2_options)\n",
    "\n",
    "\n",
    "xmon4_options = dict(\n",
    "    connection_pads=dict(\n",
    "        # a = dict( connector_location = '0', connector_type = '0'),\n",
    "        # b = dict(connector_location = '90', connector_type = '0'),\n",
    "        c = dict(connector_location = '90', \n",
    "                 connector_type = '0', \n",
    "                 claw_length = '215.9um',\n",
    "                 ground_spacing = '9.1um', \n",
    "                 claw_gap = '5.1um', \n",
    "                 claw_width = '15.9um',\n",
    "                 claw_cpw_length = '0'),\n",
    "        # d = dict(connector_location = '270', connector_type = '0'),\n",
    "    ),\n",
    "    cross_width = '30.9um',\n",
    "    cross_length = '240.9um',\n",
    "    cross_gap = '29.1um',\n",
    "    orientation = '-90',\n",
    "    pos_x = '-1500um',\n",
    "    pos_y = '-1500um',\n",
    "    aedt_hfss_inductance = 13.816E-9\n",
    ")\n",
    "\n",
    "# Create a new Transmon Cross object with name 'Q1'\n",
    "q4 = TransmonCross(design, 'Q4', options=xmon4_options)\n",
    "\n",
    "\n",
    "xmon6_options = dict(\n",
    "    connection_pads=dict(\n",
    "        # a = dict( connector_location = '0', connector_type = '0'),\n",
    "        # b = dict(connector_location = '90', connector_type = '0'),\n",
    "        c = dict(connector_location = '90', \n",
    "                 connector_type = '0', \n",
    "                 claw_length = '200.9um',\n",
    "                 ground_spacing = '10.9um', \n",
    "                 claw_gap = '5.1um', \n",
    "                 claw_width = '10.9um',\n",
    "                 claw_cpw_width = cpw_width,\n",
    "                 claw_cpw_length = '0'),\n",
    "        # d = dict(connector_location = '270', connector_type = '0'),\n",
    "    ),\n",
    "    cross_width = '30.9um',\n",
    "    cross_length = '220.9um',\n",
    "    cross_gap = '29.1um',\n",
    "    orientation = '90',\n",
    "    pos_x = '2000um',\n",
    "    pos_y = '-1200um',\n",
    "    aedt_hfss_inductance = 12.679E-9\n",
    ")\n",
    "\n",
    "# Create a new Transmon Cross object with name 'Q1'\n",
    "q6 = TransmonCross(design, 'Q6', options=xmon6_options)\n",
    "\n",
    "\n",
    "clt1_opts = Dict(prime_width = cpw_width,\n",
    "                prime_gap = '5.1um',\n",
    "                second_width = cpw_width,\n",
    "                second_gap = '5.1um',\n",
    "                coupling_space = '7.9um',\n",
    "                coupling_length = '225um',\n",
    "                open_termination = False,\n",
    "                orientation = '-90',\n",
    "                pos_y = '1200um',\n",
    "                down_length = '50um')\n",
    "\n",
    "clt1 = CoupledLineTee(design, 'clt1', clt1_opts)\n",
    "\n",
    "cpw_total_length = 5160 + 716 + 300 + 1881.18568\n",
    "cpw_total_length = str(cpw_total_length) + 'um'\n",
    "cpw1_opts = Dict(pin_inputs = Dict(start_pin = Dict(component = 'clt1',\n",
    "                                                    pin = 'second_end'),\n",
    "                                   end_pin = Dict(component = 'Q1',\n",
    "                                                  pin = 'c')),\n",
    "                lead = Dict(end_straight = '70um',\n",
    "                            # start_jogged_extension = jogsS),\n",
    "                ),\n",
    "                fillet = '49.9um',\n",
    "                total_length = '3900um',#'3893.8166um', # '6776um',\n",
    "                trace_width = cpw_width,\n",
    "                meander = Dict(spacing = '100um',\n",
    "                               asymmetry = '-150um'),\n",
    "                trace_gap = '5.1um',)\n",
    "cpw1 = RouteMeander(design, 'cpw1', options = cpw1_opts)\n",
    "\n",
    "\n",
    "ncap3_opts = Dict(pos_x = '0',\n",
    "                  pos_y = '1700um',\n",
    "                  orientation = '90',\n",
    "                  prime_width = cpw_width,\n",
    "                  prime_gap = '5.1um',\n",
    "                  second_width = cpw_width,\n",
    "                  second_gap = '5.1um',\n",
    "                  cap_gap = '4.1um',\n",
    "                  cap_width = '10.9um',\n",
    "                  cap_gap_ground = '5.1um',\n",
    "                  finger_length = '30.9um',\n",
    "                  finger_count = '10',\n",
    "                  cap_distance = '50.9um',\n",
    "                  )\n",
    "\n",
    "NCap3 = CapNInterdigitalTee(design, 'ncap3', options = ncap3_opts)\n",
    "\n",
    "cpw_total_length = 5160 + 716 + 300 + 1881.18568\n",
    "cpw_total_length = str(cpw_total_length) + 'um'\n",
    "cpw3_opts = Dict(pin_inputs = Dict(start_pin = Dict(component = 'ncap3',\n",
    "                                                    pin = 'second_end'),\n",
    "                                   end_pin = Dict(component = 'Q3',\n",
    "                                                  pin = 'c')),\n",
    "                lead = Dict(start_straight = '100um',\n",
    "                            end_straight = '170um'),\n",
    "                fillet = '49.9um',\n",
    "                total_length = '8150um', # '6776um',\n",
    "                trace_width = cpw_width,\n",
    "                meander = Dict(spacing = '100um',\n",
    "                               asymmetry = '-150um'),\n",
    "                trace_gap = '5.1um')\n",
    "cpw3 = RouteMeander(design, 'cpw3', options = cpw3_opts)\n",
    "\n",
    "\n",
    "ncap5_opts = Dict(pos_x = '0',\n",
    "                  pos_y = '-300um',\n",
    "                  orientation = '-90',\n",
    "                  prime_width = cpw_width,\n",
    "                  prime_gap = '5.1um',\n",
    "                  second_width = cpw_width,\n",
    "                  second_gap = '5.1um',\n",
    "                  cap_gap = '4.1um',\n",
    "                  cap_width = '10.9um',\n",
    "                  cap_gap_ground = '5.1um',\n",
    "                  finger_length = '30.9um',\n",
    "                  finger_count = '7',\n",
    "                  cap_distance = '50.9um',\n",
    "                  )\n",
    "\n",
    "NCap5 = CapNInterdigitalTee(design, 'ncap5', options = ncap5_opts)\n",
    "\n",
    "cpw_total_length = 5160 + 716 + 300 + 1881.18568\n",
    "cpw_total_length = str(cpw_total_length) + 'um'\n",
    "cpw5_opts = Dict(pin_inputs = Dict(start_pin = Dict(component = 'ncap5',\n",
    "                                                    pin = 'second_end'),\n",
    "                                   end_pin = Dict(component = 'Q5',\n",
    "                                                  pin = 'c')),\n",
    "                lead = Dict(start_straight = '100um'),\n",
    "                fillet = '49.9um',\n",
    "                total_length = '8025um', # '6776um',\n",
    "                trace_width = cpw_width,\n",
    "                meander = Dict(spacing = '100um',\n",
    "                               asymmetry = '-150um'),\n",
    "                trace_gap = '5.1um')\n",
    "cpw5 = RouteMeander(design, 'cpw5', options = cpw5_opts)\n",
    "\n",
    "\n",
    "clt2_opts = Dict(prime_width = cpw_width,\n",
    "                prime_gap = '5.1um',\n",
    "                second_width = cpw_width,\n",
    "                second_gap = '5.1um',\n",
    "                coupling_space = '7.9um',\n",
    "                coupling_length = '225um',\n",
    "                open_termination = False,\n",
    "                orientation = '90',\n",
    "                pos_y = '250um',\n",
    "                down_length = '50um')\n",
    "\n",
    "clt2 = CoupledLineTee(design, 'clt2', clt2_opts)\n",
    "\n",
    "cpw_total_length = 5160 + 716 + 300 + 1881.18568\n",
    "cpw_total_length = str(cpw_total_length) + 'um'\n",
    "cpw2_opts = Dict(pin_inputs = Dict(start_pin = Dict(component = 'clt2',\n",
    "                                                    pin = 'second_end'),\n",
    "                                   end_pin = Dict(component = 'Q2',\n",
    "                                                  pin = 'c')),\n",
    "                lead = Dict(end_straight = '70um',\n",
    "                            # start_jogged_extension = jogsS),\n",
    "                ),\n",
    "                fillet = '49.9um',\n",
    "                total_length = '3700um', # '6776um',\n",
    "                trace_width = cpw_width,\n",
    "                meander = Dict(spacing = '100um',\n",
    "                               asymmetry = '-150um'),\n",
    "                trace_gap = '5.1um')\n",
    "cpw2 = RouteMeander(design, 'cpw2', options = cpw2_opts)\n",
    "\n",
    "\n",
    "clt4_opts = Dict(prime_width = cpw_width,\n",
    "                prime_gap = '5.1um',\n",
    "                second_width = cpw_width,\n",
    "                second_gap = '5.1um',\n",
    "                coupling_space = '7.9um',\n",
    "                coupling_length = '225um',\n",
    "                open_termination = False,\n",
    "                orientation = '-90',\n",
    "                pos_y = '-1500um',\n",
    "                down_length = '50um')\n",
    "\n",
    "clt4 = CoupledLineTee(design, 'clt4', clt4_opts)\n",
    "\n",
    "cpw_total_length = 5160 + 716 + 300 + 1881.18568\n",
    "cpw_total_length = str(cpw_total_length) + 'um'\n",
    "cpw4_opts = Dict(pin_inputs = Dict(start_pin = Dict(component = 'clt4',\n",
    "                                                    pin = 'second_end'),\n",
    "                                   end_pin = Dict(component = 'Q4',\n",
    "                                                  pin = 'c')),\n",
    "                lead = Dict(start_straight = '10um',\n",
    "                            end_straight = '70um'),\n",
    "                #             ),\n",
    "                fillet = '49.9um',\n",
    "                total_length = '3550um', # '6776um',\n",
    "                trace_width = cpw_width,\n",
    "                meander = Dict(spacing = '100um',\n",
    "                               asymmetry = '-150um'),\n",
    "                trace_gap = '5.1um')\n",
    "cpw4 = RouteMeander(design, 'cpw4', options = cpw4_opts)\n",
    "\n",
    "\n",
    "ncap6_opts = Dict(pos_x = '0',\n",
    "                  pos_y = '-1000um',\n",
    "                  orientation = '90',\n",
    "                  prime_width = cpw_width,\n",
    "                  prime_gap = '5.1um',\n",
    "                  second_width = cpw_width,\n",
    "                  second_gap = '5.1um',\n",
    "                  cap_gap = '4.1um',\n",
    "                  cap_width = '10.9um',\n",
    "                  cap_gap_ground = '5.1um',\n",
    "                  finger_length = '30.9um',\n",
    "                  finger_count = '4',\n",
    "                  cap_distance = '50.9um',\n",
    "                  )\n",
    "\n",
    "NCap6 = CapNInterdigitalTee(design, 'ncap6', options = ncap6_opts)\n",
    "\n",
    "cpw6_opts = Dict(pin_inputs = Dict(start_pin = Dict(component = 'ncap6',\n",
    "                                                    pin = 'second_end'),\n",
    "                                   end_pin = Dict(component = 'Q6',\n",
    "                                                  pin = 'c')),\n",
    "                lead = Dict(start_straight = '100um',\n",
    "                            end_straight = '70um'),\n",
    "                fillet = '49.9um',\n",
    "                total_length = '8000um',\n",
    "                trace_width = cpw_width,\n",
    "                meander = Dict(spacing = '100um',\n",
    "                               asymmetry = '-150um'),\n",
    "                trace_gap = '5.1um')\n",
    "cpw6 = RouteMeander(design, 'cpw6', options = cpw6_opts)\n",
    "\n",
    "\n",
    "RouteStraight.get_template_options(design)\n",
    "feedline_opts = Dict(pin_inputs = Dict(start_pin = Dict(component = 'wb_top',\n",
    "                                                        pin = 'tie'),\n",
    "                                       end_pin = Dict(component = 'wb_bottom',\n",
    "                                                      pin = 'tie')),\n",
    "                     trace_width = cpw_width,\n",
    "                     trace_gap = '5.1um')\n",
    "feedline = RouteStraight(design, 'feedline', options = feedline_opts)\n",
    "\n",
    "# feedline_opts = Dict(pin_inputs = Dict(start_pin = Dict(component = 'ncap6',\n",
    "#                                                         pin = 'prime_start'),\n",
    "#                                        end_pin = Dict(component = 'ncap5',\n",
    "#                                                       pin = 'prime_start')),\n",
    "#                      trace_width = cpw_width,\n",
    "#                      trace_gap = '5.1um')\n",
    "# feedline2 = RouteStraight(design, 'feedline2', options = feedline_opts)\n",
    "\n",
    "# feedline_opts = Dict(pin_inputs = Dict(start_pin = Dict(component = 'ncap5',\n",
    "#                                                         pin = 'prime_end'),\n",
    "#                                        end_pin = Dict(component = 'ncap4',\n",
    "#                                                       pin = 'prime_end')),\n",
    "#                      trace_width = cpw_width,\n",
    "#                      trace_gap = '5.1um')\n",
    "# feedline3 = RouteStraight(design, 'feedline3', options = feedline_opts)\n",
    "\n",
    "# feedline_opts = Dict(pin_inputs = Dict(start_pin = Dict(component = 'ncap4',\n",
    "#                                                         pin = 'prime_start'),\n",
    "#                                        end_pin = Dict(component = 'wb_bottom',\n",
    "#                                                       pin = 'tie')),\n",
    "#                      trace_width = cpw_width,\n",
    "#                      trace_gap = '5.1um')\n",
    "# feedline4 = RouteStraight(design, 'feedline4', options = feedline_opts)\n",
    "gui.rebuild()\n",
    "gui.autoscale()\n",
    "# gui.zoom_on_components(['clt5', 'Q5'])\n",
    "# gui.screenshot()"
   ]
  },
  {
   "attachments": {},
   "cell_type": "markdown",
   "metadata": {},
   "source": [
    "# EPR Simulation (Qubit + Cavity)"
   ]
  },
  {
   "cell_type": "code",
   "execution_count": 21,
   "metadata": {},
   "outputs": [],
   "source": [
    "from qiskit_metal.analyses.quantization import EPRanalysis\n",
    "import pyEPR as epr"
   ]
  },
  {
   "cell_type": "code",
   "execution_count": 22,
   "metadata": {},
   "outputs": [],
   "source": [
    "qubit_names = [f'Q{i}' for i in range(1,7)]\n",
    "for name in qubit_names:\n",
    "    Lj = design.components[name].options['aedt_hfss_inductance']\n",
    "    design.components[name].options['hfss_inductance'] = Lj\n",
    "design.rebuild()"
   ]
  },
  {
   "cell_type": "code",
   "execution_count": 23,
   "metadata": {},
   "outputs": [],
   "source": [
    "#Simulate Q1 + bus coupling strength\n",
    "\n",
    "eig_q12bus = EPRanalysis(design, \"hfss\")\n",
    "hfss1 = eig_q12bus.sim.renderer\n",
    "eig_q12bus.sim.setup.max_passes = 50\n",
    "eig_q12bus.sim.setup.max_delta_f = 0.1\n",
    "eig_q12bus.sim.setup.n_modes = 2\n",
    "# hfss1.options['max_mesh_length']\n",
    "\n",
    "# Create sim setup vars\n",
    "sim_setup_var_dict = dict()\n",
    "for i, name in enumerate(qubit_names):\n",
    "    i += 1\n",
    "    key_Lj = f'Lj{i}'\n",
    "    key_Cj = f'Cj{i}'\n",
    "    sim_setup_var_dict[key_Lj] = str(design.components[name].options['hfss_inductance']) + ' H'\n",
    "    sim_setup_var_dict[key_Cj] = str(design.components[name].options['hfss_capacitance']) + ' F'\n",
    "\n",
    "eig_q12bus.sim.setup.vars = sim_setup_var_dict\n",
    "\n",
    "# for i in range(1, 7):\n",
    "#     eig_q12bus.sim.renderer.mo\n",
    "#     hfss1.modeler.mesh_length(\n",
    "#                     f'cpw{i}_mesh',\n",
    "#                     [f'c_connector_arm_Q{i}', f'prime_cpw_clt{i}', f'second_cpw_clt{i}', f'trace_cpw{i}'],\n",
    "#                     MaxLength='4um')\n",
    "#     hfss1.modeler.mesh_length(\n",
    "#                     f'qubit{i}_mesh',\n",
    "#                     [f'cross_Q{i}'],\n",
    "#                     MaxLength='5um')\n",
    "\n",
    "gui.rebuild()  # line needed to propagate the updates from the qubit instance into the junction design table\n",
    "gui.autoscale()\n"
   ]
  },
  {
   "cell_type": "code",
   "execution_count": 24,
   "metadata": {},
   "outputs": [
    {
     "name": "stderr",
     "output_type": "stream",
     "text": [
      "INFO 08:44PM [connect_project]: Connecting to Ansys Desktop API...\n",
      "INFO 08:44PM [load_ansys_project]: \tOpened Ansys App\n",
      "INFO 08:44PM [load_ansys_project]: \tOpened Ansys Desktop v2021.1.0\n",
      "INFO 08:44PM [load_ansys_project]: \tOpened Ansys Project\n",
      "\tFolder:    D:/lfl/Documents/Ansoft/\n",
      "\tProject:   Project28\n",
      "INFO 08:44PM [connect_design]: No active design found (or error getting active design).\n",
      "INFO 08:44PM [connect]: \t Connected to project \"Project28\". No design detected\n",
      "INFO 08:44PM [connect_design]: \tOpened active design\n",
      "\tDesign:    Q3RO_v5.0_hfss [Solution type: Eigenmode]\n",
      "WARNING 08:44PM [connect_setup]: \tNo design setup detected.\n",
      "WARNING 08:44PM [connect_setup]: \tCreating eigenmode default setup.\n",
      "INFO 08:44PM [get_setup]: \tOpened setup `Setup`  (<class 'pyEPR.ansys.HfssEMSetup'>)\n",
      "INFO 08:44PM [get_setup]: \tOpened setup `Setup`  (<class 'pyEPR.ansys.HfssEMSetup'>)\n",
      "INFO 08:44PM [analyze]: Analyzing setup Setup\n",
      "09:16PM 04s INFO [get_f_convergence]: Saved convergences to d:\\andre\\candle_sim\\hfss_eig_f_convergence.csv\n"
     ]
    },
    {
     "name": "stdout",
     "output_type": "stream",
     "text": [
      "Design \"Q3RO_v5.0_hfss\" info:\n",
      "\t# eigenmodes    2\n",
      "\t# variations    1\n",
      "\n",
      "ℰ_elec_all       = 1.63393247199267e-25\n",
      "ℰ_elec_substrate = 1.50585823406271e-25\n",
      "EPR of substrate = 92.2%\n",
      "\n",
      "ℰ_mag    = 1.57917860415904e-27\n",
      "\n",
      "This analysis object run with the following kwargs:\n",
      "{'name': 'Q3RO_v5.0', 'components': ['Q4', 'cpw4', 'clt4'], 'open_terminations': None, 'port_list': None, 'jj_to_port': None, 'ignored_jjs': None, 'box_plus_buffer': True}\n",
      "\n",
      "Design \"Q3RO_v5.0_hfss\" info:\n",
      "\t# eigenmodes    2\n",
      "\t# variations    1\n",
      "Design \"Q3RO_v5.0_hfss\" info:\n",
      "\t# eigenmodes    2\n",
      "\t# variations    1\n"
     ]
    },
    {
     "name": "stderr",
     "output_type": "stream",
     "text": [
      "WARNING:py.warnings:c:\\Users\\lfl\\.conda\\envs\\qiskit_metal\\Lib\\site-packages\\pyEPR\\project_info.py:239: FutureWarning: The default dtype for empty Series will be 'object' instead of 'float64' in a future version. Specify a dtype explicitly to silence this warning.\n",
      "  options=pd.Series(get_instance_vars(self.options)),\n",
      "\n"
     ]
    },
    {
     "name": "stdout",
     "output_type": "stream",
     "text": [
      "\n",
      "        energy_elec_all       = 1.63393247199267e-25\n",
      "        energy_elec_substrate = 1.50585823406271e-25\n",
      "        EPR of substrate = 92.2%\n",
      "\n",
      "        energy_mag    = 1.57917860415904e-27\n",
      "        energy_mag % of energy_elec_all  = 1.0%\n",
      "        \n",
      "\n",
      "Variation 0  [1/1]\n"
     ]
    },
    {
     "name": "stderr",
     "output_type": "stream",
     "text": [
      "WARNING:py.warnings:c:\\Users\\lfl\\.conda\\envs\\qiskit_metal\\Lib\\site-packages\\pyEPR\\core_distributed_analysis.py:1101: FutureWarning: The default dtype for empty Series will be 'object' instead of 'float64' in a future version. Specify a dtype explicitly to silence this warning.\n",
      "  Ljs = pd.Series({})\n",
      "\n",
      "WARNING:py.warnings:c:\\Users\\lfl\\.conda\\envs\\qiskit_metal\\Lib\\site-packages\\pyEPR\\core_distributed_analysis.py:1102: FutureWarning: The default dtype for empty Series will be 'object' instead of 'float64' in a future version. Specify a dtype explicitly to silence this warning.\n",
      "  Cjs = pd.Series({})\n",
      "\n",
      "WARNING:py.warnings:c:\\Users\\lfl\\.conda\\envs\\qiskit_metal\\Lib\\site-packages\\pyEPR\\core_distributed_analysis.py:1245: FutureWarning: The default dtype for empty Series will be 'object' instead of 'float64' in a future version. Specify a dtype explicitly to silence this warning.\n",
      "  _Om = pd.Series({})\n",
      "\n"
     ]
    },
    {
     "name": "stdout",
     "output_type": "stream",
     "text": [
      "\n",
      "  \u001b[1mMode 0 at 3.64 GHz   [1/2]\u001b[0m\n",
      "    Calculating ℰ_magnetic,ℰ_electric\n"
     ]
    },
    {
     "name": "stderr",
     "output_type": "stream",
     "text": [
      "WARNING:py.warnings:c:\\Users\\lfl\\.conda\\envs\\qiskit_metal\\Lib\\site-packages\\pyEPR\\core_distributed_analysis.py:981: FutureWarning: The default dtype for empty Series will be 'object' instead of 'float64' in a future version. Specify a dtype explicitly to silence this warning.\n",
      "  Sj = pd.Series({})\n",
      "\n"
     ]
    },
    {
     "name": "stdout",
     "output_type": "stream",
     "text": [
      "       (ℰ_E-ℰ_H)/ℰ_E       ℰ_E       ℰ_H\n",
      "               99.0%   8.17e-26 7.896e-28\n",
      "\n",
      "    Calculating junction energy participation ration (EPR)\n",
      "\tmethod=`line_voltage`. First estimates:\n",
      "\tjunction        EPR p_0j   sign s_0j    (p_capacitive)\n"
     ]
    },
    {
     "name": "stderr",
     "output_type": "stream",
     "text": [
      "WARNING:py.warnings:c:\\Users\\lfl\\.conda\\envs\\qiskit_metal\\Lib\\site-packages\\pyEPR\\core_distributed_analysis.py:933: FutureWarning: The default dtype for empty Series will be 'object' instead of 'float64' in a future version. Specify a dtype explicitly to silence this warning.\n",
      "  Qp = pd.Series({})\n",
      "\n"
     ]
    },
    {
     "name": "stdout",
     "output_type": "stream",
     "text": [
      "\t\tEnergy fraction (Lj over Lj&Cj)= 98.57%\n",
      "\tjj4             0.989066  (+)        0.0143112\n",
      "\t\t(U_tot_cap-U_tot_ind)/mean=0.77%\n",
      "Calculating Qdielectric_main for mode 0 (0/1)\n"
     ]
    },
    {
     "name": "stderr",
     "output_type": "stream",
     "text": [
      "WARNING:py.warnings:c:\\Users\\lfl\\.conda\\envs\\qiskit_metal\\Lib\\site-packages\\pyEPR\\core_distributed_analysis.py:1307: FutureWarning: The series.append method is deprecated and will be removed from pandas in a future version. Use pandas.concat instead.\n",
      "  sol = sol.append(self.get_Qdielectric(\n",
      "\n"
     ]
    },
    {
     "name": "stdout",
     "output_type": "stream",
     "text": [
      "p_dielectric_main_0 = 0.9216159540707539\n"
     ]
    },
    {
     "name": "stderr",
     "output_type": "stream",
     "text": [
      "WARNING:py.warnings:c:\\Users\\lfl\\.conda\\envs\\qiskit_metal\\Lib\\site-packages\\pyEPR\\core_distributed_analysis.py:1245: FutureWarning: The default dtype for empty Series will be 'object' instead of 'float64' in a future version. Specify a dtype explicitly to silence this warning.\n",
      "  _Om = pd.Series({})\n",
      "\n"
     ]
    },
    {
     "name": "stdout",
     "output_type": "stream",
     "text": [
      "\n",
      "  \u001b[1mMode 1 at 6.74 GHz   [2/2]\u001b[0m\n",
      "    Calculating ℰ_magnetic,ℰ_electric\n"
     ]
    },
    {
     "name": "stderr",
     "output_type": "stream",
     "text": [
      "WARNING:py.warnings:c:\\Users\\lfl\\.conda\\envs\\qiskit_metal\\Lib\\site-packages\\pyEPR\\core_distributed_analysis.py:981: FutureWarning: The default dtype for empty Series will be 'object' instead of 'float64' in a future version. Specify a dtype explicitly to silence this warning.\n",
      "  Sj = pd.Series({})\n",
      "\n"
     ]
    },
    {
     "name": "stdout",
     "output_type": "stream",
     "text": [
      "       (ℰ_E-ℰ_H)/ℰ_E       ℰ_E       ℰ_H\n",
      "                0.0%  3.135e-26 3.134e-26\n",
      "\n",
      "    Calculating junction energy participation ration (EPR)\n",
      "\tmethod=`line_voltage`. First estimates:\n",
      "\tjunction        EPR p_1j   sign s_1j    (p_capacitive)\n"
     ]
    },
    {
     "name": "stderr",
     "output_type": "stream",
     "text": [
      "WARNING:py.warnings:c:\\Users\\lfl\\.conda\\envs\\qiskit_metal\\Lib\\site-packages\\pyEPR\\core_distributed_analysis.py:933: FutureWarning: The default dtype for empty Series will be 'object' instead of 'float64' in a future version. Specify a dtype explicitly to silence this warning.\n",
      "  Qp = pd.Series({})\n",
      "\n"
     ]
    },
    {
     "name": "stdout",
     "output_type": "stream",
     "text": [
      "\t\tEnergy fraction (Lj over Lj&Cj)= 95.28%\n",
      "\tjj4             0.000433416  (+)        2.14701e-05\n",
      "\t\t(U_tot_cap-U_tot_ind)/mean=0.00%\n",
      "Calculating Qdielectric_main for mode 1 (1/1)\n"
     ]
    },
    {
     "name": "stderr",
     "output_type": "stream",
     "text": [
      "WARNING:py.warnings:c:\\Users\\lfl\\.conda\\envs\\qiskit_metal\\Lib\\site-packages\\pyEPR\\core_distributed_analysis.py:1307: FutureWarning: The series.append method is deprecated and will be removed from pandas in a future version. Use pandas.concat instead.\n",
      "  sol = sol.append(self.get_Qdielectric(\n",
      "\n"
     ]
    },
    {
     "name": "stdout",
     "output_type": "stream",
     "text": [
      "p_dielectric_main_1 = 0.921573616823192\n"
     ]
    },
    {
     "name": "stderr",
     "output_type": "stream",
     "text": [
      "WARNING:py.warnings:c:\\Users\\lfl\\.conda\\envs\\qiskit_metal\\Lib\\site-packages\\pyEPR\\project_info.py:239: FutureWarning: The default dtype for empty Series will be 'object' instead of 'float64' in a future version. Specify a dtype explicitly to silence this warning.\n",
      "  options=pd.Series(get_instance_vars(self.options)),\n",
      "\n",
      "WARNING 09:17PM [__init__]: <p>Error: <class 'IndexError'></p>\n",
      "WARNING:py.warnings:c:\\Users\\lfl\\.conda\\envs\\qiskit_metal\\Lib\\site-packages\\pyEPR\\core_quantum_analysis.py:712: FutureWarning: Support for multi-dimensional indexing (e.g. `obj[:, None]`) is deprecated and will be removed in a future version.  Convert to a numpy array before indexing instead.\n",
      "  result['Q_coupling'] = self.Qm_coupling[variation][self.Qm_coupling[variation].columns[junctions]][modes]#TODO change the columns to junctions\n",
      "\n",
      "WARNING:py.warnings:c:\\Users\\lfl\\.conda\\envs\\qiskit_metal\\Lib\\site-packages\\pyEPR\\core_quantum_analysis.py:717: FutureWarning: Support for multi-dimensional indexing (e.g. `obj[:, None]`) is deprecated and will be removed in a future version.  Convert to a numpy array before indexing instead.\n",
      "  result['Qs'] = self.Qs[variation][self.PM[variation].columns[junctions]][modes] #TODO change the columns to junctions\n",
      "\n"
     ]
    },
    {
     "name": "stdout",
     "output_type": "stream",
     "text": [
      "\n",
      "ANALYSIS DONE. Data saved to:\n",
      "\n",
      "C:\\data-pyEPR\\Project28\\Q3RO_v5.0_hfss\\2023-09-23 21-16-19.npz\n",
      "\n",
      "\n",
      "\t Differences in variations:\n",
      "\n",
      "\n",
      "\n",
      " . . . . . . . . . . . . . . . . . . . . . . . . . . . . . . . . . . . . . . . . \n",
      "Variation 0\n",
      "\n",
      "Starting the diagonalization\n",
      "Finished the diagonalization\n",
      "Pm_norm=\n",
      "modes\n",
      "0    1.015677\n",
      "1    1.024914\n",
      "dtype: float64\n",
      "\n",
      "Pm_norm idx =\n",
      "     jj4\n",
      "0   True\n",
      "1  False\n",
      "*** P (participation matrix, not normlz.)\n",
      "        jj4\n",
      "0  0.975111\n",
      "1  0.000433\n",
      "\n",
      "*** S (sign-bit matrix)\n",
      "   s_jj4\n",
      "0     -1\n",
      "1     -1\n",
      "*** P (participation matrix, normalized.)\n",
      "      0.99\n",
      "   0.00043\n",
      "\n",
      "*** Chi matrix O1 PT (MHz)\n",
      "    Diag is anharmonicity, off diag is full cross-Kerr.\n",
      "       137    0.223\n",
      "     0.223 9.01e-05\n",
      "\n",
      "*** Chi matrix ND (MHz) \n",
      "       150    0.214\n",
      "     0.214 7.75e-05\n",
      "\n",
      "*** Frequencies O1 PT (MHz)\n",
      "0    3504.427450\n",
      "1    6738.628335\n",
      "dtype: float64\n",
      "\n",
      "*** Frequencies ND (MHz)\n",
      "0    3498.771331\n",
      "1    6738.628183\n",
      "dtype: float64\n",
      "\n",
      "*** Q_coupling\n",
      "Empty DataFrame\n",
      "Columns: []\n",
      "Index: [0, 1]\n"
     ]
    },
    {
     "ename": "",
     "evalue": "",
     "output_type": "error",
     "traceback": [
      "\u001b[1;31mCannot execute code, session has been disposed. Please try restarting the Kernel."
     ]
    },
    {
     "ename": "",
     "evalue": "",
     "output_type": "error",
     "traceback": [
      "\u001b[1;31mThe Kernel crashed while executing code in the the current cell or a previous cell. Please review the code in the cell(s) to identify a possible cause of the failure. Click <a href='https://aka.ms/vscodeJupyterKernelCrash'>here</a> for more info. View Jupyter <a href='command:jupyter.viewOutput'>log</a> for further details."
     ]
    }
   ],
   "source": [
    "%matplotlib inline\n",
    "\n",
    "hfss = eig_q12bus.sim.renderer\n",
    "\n",
    "i = 4\n",
    "# for i, name in enumerate(qubit_names):\n",
    "#     i += 1\n",
    "\n",
    "#     ### Run ANSYS simulation\n",
    "#     # if i == 3 or i == 5 or i == 6:\n",
    "#     #     open_terminations = [(f'cpw{i}', 'start')]\n",
    "#     # else:\n",
    "#     #     open_terminations = []\n",
    "\n",
    "#     if i != 3:\n",
    "#         continue\n",
    "    \n",
    "    # Clear previous design and renderer new design\n",
    "eig_q12bus.sim.run(name=\"Q3RO_v5.0\",\n",
    "                    components=[f'Q{i}', f'cpw{i}', f'clt{i}' if i == 1 or i == 2 or i == 4 else f'ncap{i}'])\n",
    "\n",
    "### Plot convergences\n",
    "eig_q12bus.sim.plot_convergences()\n",
    "\n",
    "### Run EPR Analysis\n",
    "hfss1 = eig_q12bus.sim.renderer\n",
    "pinfo1 = hfss1.pinfo\n",
    "\n",
    "eprd1 = epr.DistributedAnalysis(pinfo1)\n",
    "\n",
    "ℰ_elec = eprd1.calc_energy_electric()\n",
    "ℰ_elec_substrate = eprd1.calc_energy_electric(None, 'main')\n",
    "ℰ_mag = eprd1.calc_energy_magnetic()\n",
    "\n",
    "print(f\"\"\"\n",
    "ℰ_elec_all       = {ℰ_elec}\n",
    "ℰ_elec_substrate = {ℰ_elec_substrate}\n",
    "EPR of substrate = {ℰ_elec_substrate / ℰ_elec * 100 :.1f}%\n",
    "\n",
    "ℰ_mag    = {ℰ_mag}\n",
    "\"\"\")\n",
    "\n",
    "eig_q12bus.sim.print_run_args()\n",
    "\n",
    "eig_q12bus.setup.sweep_variable = f'Lj{i}'\n",
    "\n",
    "eig_q12bus.setup.junctions = Dict()\n",
    "eig_q12bus.setup.junctions[f'jj{i}'] = Dict(rect=f'JJ_rect_Lj_Q{i}_rect_jj', \n",
    "                                            line=f'JJ_Lj_Q{i}_rect_jj_',\n",
    "                                            Lj_variable=f'Lj{i}', \n",
    "                                            Cj_variable=f'Cj{i}')\n",
    "\n",
    "eig_q12bus.run_epr()\n"
   ]
  },
  {
   "cell_type": "markdown",
   "metadata": {},
   "source": [
    "# LOM Analysis"
   ]
  },
  {
   "cell_type": "code",
   "execution_count": 2,
   "metadata": {},
   "outputs": [],
   "source": [
    "qubit_names = [f'Q{i}' for i in range(1,7)]\n",
    "for name in qubit_names:\n",
    "    Lj = design.components[name].options['aedt_hfss_inductance']\n",
    "    design.components[name].options['q3d_inductance'] = str(Lj) + \"H\"\n",
    "design.rebuild()"
   ]
  },
  {
   "cell_type": "code",
   "execution_count": 3,
   "metadata": {},
   "outputs": [],
   "source": [
    "from qiskit_metal.analyses.quantization import LOManalysis\n",
    "c1 = LOManalysis(design, \"q3d\")"
   ]
  },
  {
   "cell_type": "code",
   "execution_count": 5,
   "metadata": {},
   "outputs": [
    {
     "data": {
      "text/plain": [
       "{'name': 'lom_setup',\n",
       " 'reuse_selected_design': False,\n",
       " 'reuse_setup': False,\n",
       " 'freq_ghz': 5.0,\n",
       " 'save_fields': False,\n",
       " 'enabled': True,\n",
       " 'max_passes': 30,\n",
       " 'min_passes': 2,\n",
       " 'min_converged_passes': 1,\n",
       " 'percent_error': 0.1,\n",
       " 'percent_refinement': 30,\n",
       " 'auto_increase_solution_order': 'False',\n",
       " 'solution_order': 'Medium',\n",
       " 'solver_type': 'Iterative'}"
      ]
     },
     "execution_count": 5,
     "metadata": {},
     "output_type": "execute_result"
    }
   ],
   "source": [
    "c1.sim.setup.reuse_selected_design = False\n",
    "c1.sim.setup.reuse_setup = False\n",
    "\n",
    "# example: update single setting\n",
    "c1.sim.setup.max_passes = 30\n",
    "c1.sim.setup.min_converged_passes = 1\n",
    "c1.sim.setup.percent_error = 0.1\n",
    "c1.sim.setup.auto_increase_solution_order = 'False'\n",
    "c1.sim.setup.solution_order = 'Medium'\n",
    "\n",
    "c1.sim.setup.name = 'lom_setup'\n",
    "\n",
    "# import inspect\n",
    "# inspect.signature(c1.sim.renderer.modeler.mesh_length)\n",
    "# c1.sim.renderer.modeler.mesh_length('ground_strip_mesh', ['ground_main_plane'], MaxLength = '3um')\n",
    "# c1.sim.renderer.modeler.mesh_length('claw_mesh', ['c_connector_arm_Q1'], MaxLength = '5um')\n",
    "# c1.sim.renderer.modeler.mesh_length('cross_mesh', ['cross_Q1'], MaxLength = '10um')\n",
    "\n",
    "\n",
    "# .mesh_length('ground_strip', ['ground_main_plane'], MaxLength = '0.003mm')\n",
    "c1.sim.setup\n",
    "\n",
    "# c1"
   ]
  },
  {
   "cell_type": "code",
   "execution_count": 6,
   "metadata": {},
   "outputs": [
    {
     "name": "stderr",
     "output_type": "stream",
     "text": [
      "INFO 05:34PM [connect_project]: Connecting to Ansys Desktop API...\n",
      "INFO 05:34PM [load_ansys_project]: \tOpened Ansys App\n",
      "INFO 05:34PM [load_ansys_project]: \tOpened Ansys Desktop v2021.1.0\n",
      "INFO 05:34PM [load_ansys_project]: \tOpened Ansys Project\n",
      "\tFolder:    D:/lfl/Documents/Ansoft/\n",
      "\tProject:   test_qubit_cavity_saruman_proj\n",
      "INFO 05:34PM [connect_design]: \tOpened active design\n",
      "\tDesign:    xmon_v1.0 [Solution type: Q3D]\n",
      "INFO 05:34PM [get_setup]: \tOpened setup `Setup`  (<class 'pyEPR.ansys.AnsysQ3DSetup'>)\n",
      "INFO 05:34PM [connect]: \tConnected to project \"test_qubit_cavity_saruman_proj\" and design \"xmon_v1.0\" 😀 \n",
      "\n"
     ]
    },
    {
     "data": {
      "text/plain": [
       "True"
      ]
     },
     "execution_count": 6,
     "metadata": {},
     "output_type": "execute_result"
    }
   ],
   "source": [
    "c1.sim.renderer.start()"
   ]
  },
  {
   "cell_type": "code",
   "execution_count": 19,
   "metadata": {},
   "outputs": [
    {
     "data": {
      "text/plain": [
       "<Signature ()>"
      ]
     },
     "execution_count": 19,
     "metadata": {},
     "output_type": "execute_result"
    }
   ],
   "source": [
    "import inspect\n",
    "\n",
    "inspect.signature(c1.sim.renderer.add_mesh)"
   ]
  },
  {
   "cell_type": "code",
   "execution_count": 8,
   "metadata": {},
   "outputs": [],
   "source": [
    "c1.sim.renderer.clean_active_design()\n",
    "c1.sim.renderer.render_design(['Q1'], [('Q1','c')])"
   ]
  },
  {
   "cell_type": "code",
   "execution_count": 15,
   "metadata": {},
   "outputs": [
    {
     "data": {
      "text/plain": [
       "{'name': 'lom_setup',\n",
       " 'reuse_selected_design': False,\n",
       " 'reuse_setup': False,\n",
       " 'freq_ghz': 5.0,\n",
       " 'save_fields': False,\n",
       " 'enabled': True,\n",
       " 'max_passes': 30,\n",
       " 'min_passes': 2,\n",
       " 'min_converged_passes': 1,\n",
       " 'percent_error': 0.1,\n",
       " 'percent_refinement': 30,\n",
       " 'auto_increase_solution_order': 'False',\n",
       " 'solution_order': 'Medium',\n",
       " 'solver_type': 'Iterative'}"
      ]
     },
     "execution_count": 15,
     "metadata": {},
     "output_type": "execute_result"
    }
   ],
   "source": [
    "c1.sim.setup"
   ]
  },
  {
   "cell_type": "code",
   "execution_count": 9,
   "metadata": {},
   "outputs": [
    {
     "ename": "OSError",
     "evalue": "Setup lom_setup not found: ('Setup',)",
     "output_type": "error",
     "traceback": [
      "\u001b[1;31m---------------------------------------------------------------------------\u001b[0m",
      "\u001b[1;31mOSError\u001b[0m                                   Traceback (most recent call last)",
      "Cell \u001b[1;32mIn[9], line 1\u001b[0m\n\u001b[1;32m----> 1\u001b[0m c1\u001b[39m.\u001b[39;49msim\u001b[39m.\u001b[39;49mrenderer\u001b[39m.\u001b[39;49manalyze_setup(c1\u001b[39m.\u001b[39;49msim\u001b[39m.\u001b[39;49msetup\u001b[39m.\u001b[39;49mname)\n",
      "File \u001b[1;32mc:\\users\\lfl\\qiskit-metal\\qiskit_metal\\renderers\\renderer_ansys\\q3d_renderer.py:384\u001b[0m, in \u001b[0;36mQQ3DRenderer.analyze_setup\u001b[1;34m(self, setup_name)\u001b[0m\n\u001b[0;32m    378\u001b[0m \u001b[39m\u001b[39m\u001b[39m\"\"\"Run a specific solution setup in Ansys Q3D.\u001b[39;00m\n\u001b[0;32m    379\u001b[0m \n\u001b[0;32m    380\u001b[0m \u001b[39mArgs:\u001b[39;00m\n\u001b[0;32m    381\u001b[0m \u001b[39m    setup_name (str): Name of setup.\u001b[39;00m\n\u001b[0;32m    382\u001b[0m \u001b[39m\"\"\"\u001b[39;00m\n\u001b[0;32m    383\u001b[0m \u001b[39mif\u001b[39;00m \u001b[39mself\u001b[39m\u001b[39m.\u001b[39mpinfo:\n\u001b[1;32m--> 384\u001b[0m     setup \u001b[39m=\u001b[39m \u001b[39mself\u001b[39;49m\u001b[39m.\u001b[39;49mpinfo\u001b[39m.\u001b[39;49mget_setup(setup_name)\n\u001b[0;32m    385\u001b[0m     setup\u001b[39m.\u001b[39manalyze(setup_name)\n",
      "File \u001b[1;32mc:\\Users\\lfl\\.conda\\envs\\qiskit_metal\\Lib\\site-packages\\pyEPR\\project_info.py:403\u001b[0m, in \u001b[0;36mProjectInfo.get_setup\u001b[1;34m(self, name)\u001b[0m\n\u001b[0;32m    401\u001b[0m \u001b[39mif\u001b[39;00m name \u001b[39mis\u001b[39;00m \u001b[39mNone\u001b[39;00m:\n\u001b[0;32m    402\u001b[0m     \u001b[39mreturn\u001b[39;00m \u001b[39mNone\u001b[39;00m\n\u001b[1;32m--> 403\u001b[0m \u001b[39mself\u001b[39m\u001b[39m.\u001b[39msetup \u001b[39m=\u001b[39m \u001b[39mself\u001b[39;49m\u001b[39m.\u001b[39;49mdesign\u001b[39m.\u001b[39;49mget_setup(name\u001b[39m=\u001b[39;49mname)\n\u001b[0;32m    404\u001b[0m \u001b[39mif\u001b[39;00m \u001b[39mself\u001b[39m\u001b[39m.\u001b[39msetup \u001b[39mis\u001b[39;00m \u001b[39mNone\u001b[39;00m:\n\u001b[0;32m    405\u001b[0m     logger\u001b[39m.\u001b[39merror(\u001b[39mf\u001b[39m\u001b[39m\"\u001b[39m\u001b[39mCould not retrieve setup: \u001b[39m\u001b[39m{\u001b[39;00mname\u001b[39m}\u001b[39;00m\u001b[39m\\n\u001b[39;00m\u001b[39m \u001b[39m\u001b[39m\\\u001b[39;00m\n\u001b[0;32m    406\u001b[0m \u001b[39m                Did you give the right name? Does it exist?\u001b[39m\u001b[39m\"\u001b[39m)\n",
      "File \u001b[1;32mc:\\Users\\lfl\\.conda\\envs\\qiskit_metal\\Lib\\site-packages\\pyEPR\\ansys.py:711\u001b[0m, in \u001b[0;36mHfssDesign.get_setup\u001b[1;34m(self, name)\u001b[0m\n\u001b[0;32m    709\u001b[0m     name \u001b[39m=\u001b[39m setups[\u001b[39m0\u001b[39m]\n\u001b[0;32m    710\u001b[0m \u001b[39melif\u001b[39;00m name \u001b[39mnot\u001b[39;00m \u001b[39min\u001b[39;00m setups:\n\u001b[1;32m--> 711\u001b[0m     \u001b[39mraise\u001b[39;00m \u001b[39mEnvironmentError\u001b[39;00m(\u001b[39m\"\u001b[39m\u001b[39mSetup \u001b[39m\u001b[39m{}\u001b[39;00m\u001b[39m not found: \u001b[39m\u001b[39m{}\u001b[39;00m\u001b[39m\"\u001b[39m\u001b[39m.\u001b[39mformat(\n\u001b[0;32m    712\u001b[0m         name, setups))\n\u001b[0;32m    714\u001b[0m \u001b[39mif\u001b[39;00m \u001b[39mself\u001b[39m\u001b[39m.\u001b[39msolution_type \u001b[39m==\u001b[39m \u001b[39m\"\u001b[39m\u001b[39mEigenmode\u001b[39m\u001b[39m\"\u001b[39m:\n\u001b[0;32m    715\u001b[0m     \u001b[39mreturn\u001b[39;00m HfssEMSetup(\u001b[39mself\u001b[39m, name)\n",
      "\u001b[1;31mOSError\u001b[0m: Setup lom_setup not found: ('Setup',)"
     ]
    }
   ],
   "source": [
    "c1.sim.renderer.analyze_setup(c1.sim.setup.name)"
   ]
  },
  {
   "cell_type": "code",
   "execution_count": 35,
   "metadata": {},
   "outputs": [
    {
     "name": "stderr",
     "output_type": "stream",
     "text": [
      "INFO 05:22PM [connect_design]: \tOpened active design\n",
      "\tDesign:    LOMv1.0_q3d16 [Solution type: Q3D]\n",
      "WARNING 05:22PM [connect_setup]: \tNo design setup detected.\n",
      "WARNING 05:22PM [connect_setup]: \tCreating Q3D default setup.\n",
      "INFO 05:22PM [get_setup]: \tOpened setup `Setup`  (<class 'pyEPR.ansys.AnsysQ3DSetup'>)\n",
      "INFO 05:22PM [get_setup]: \tOpened setup `lom_setup`  (<class 'pyEPR.ansys.AnsysQ3DSetup'>)\n",
      "INFO 05:22PM [analyze]: Analyzing setup lom_setup\n",
      "INFO 05:24PM [get_matrix]: Exporting matrix data to (C:\\Users\\lfl\\AppData\\Local\\Temp\\tmpyzs1gkll.txt, C, , lom_setup:LastAdaptive, \"Original\", \"ohm\", \"nH\", \"fF\", \"mSie\", 5000000000, Maxwell, 1, False\n",
      "INFO 05:24PM [get_matrix]: Exporting matrix data to (C:\\Users\\lfl\\AppData\\Local\\Temp\\tmpogoo3sy6.txt, C, , lom_setup:AdaptivePass, \"Original\", \"ohm\", \"nH\", \"fF\", \"mSie\", 5000000000, Maxwell, 1, False\n",
      "INFO 05:24PM [get_matrix]: Exporting matrix data to (C:\\Users\\lfl\\AppData\\Local\\Temp\\tmpv4rjm19n.txt, C, , lom_setup:AdaptivePass, \"Original\", \"ohm\", \"nH\", \"fF\", \"mSie\", 5000000000, Maxwell, 2, False\n",
      "INFO 05:24PM [get_matrix]: Exporting matrix data to (C:\\Users\\lfl\\AppData\\Local\\Temp\\tmp6f_4hi3x.txt, C, , lom_setup:AdaptivePass, \"Original\", \"ohm\", \"nH\", \"fF\", \"mSie\", 5000000000, Maxwell, 3, False\n",
      "INFO 05:24PM [get_matrix]: Exporting matrix data to (C:\\Users\\lfl\\AppData\\Local\\Temp\\tmph9ppodgq.txt, C, , lom_setup:AdaptivePass, \"Original\", \"ohm\", \"nH\", \"fF\", \"mSie\", 5000000000, Maxwell, 4, False\n",
      "INFO 05:24PM [get_matrix]: Exporting matrix data to (C:\\Users\\lfl\\AppData\\Local\\Temp\\tmptm6c3zy9.txt, C, , lom_setup:AdaptivePass, \"Original\", \"ohm\", \"nH\", \"fF\", \"mSie\", 5000000000, Maxwell, 5, False\n",
      "INFO 05:24PM [get_matrix]: Exporting matrix data to (C:\\Users\\lfl\\AppData\\Local\\Temp\\tmp5ugg762n.txt, C, , lom_setup:AdaptivePass, \"Original\", \"ohm\", \"nH\", \"fF\", \"mSie\", 5000000000, Maxwell, 6, False\n",
      "INFO 05:24PM [get_matrix]: Exporting matrix data to (C:\\Users\\lfl\\AppData\\Local\\Temp\\tmplss07u5m.txt, C, , lom_setup:AdaptivePass, \"Original\", \"ohm\", \"nH\", \"fF\", \"mSie\", 5000000000, Maxwell, 7, False\n",
      "INFO 05:24PM [get_matrix]: Exporting matrix data to (C:\\Users\\lfl\\AppData\\Local\\Temp\\tmpqi5_t01_.txt, C, , lom_setup:AdaptivePass, \"Original\", \"ohm\", \"nH\", \"fF\", \"mSie\", 5000000000, Maxwell, 8, False\n",
      "INFO 05:24PM [get_matrix]: Exporting matrix data to (C:\\Users\\lfl\\AppData\\Local\\Temp\\tmp8hnw3v1q.txt, C, , lom_setup:AdaptivePass, \"Original\", \"ohm\", \"nH\", \"fF\", \"mSie\", 5000000000, Maxwell, 9, False\n",
      "INFO 05:24PM [get_matrix]: Exporting matrix data to (C:\\Users\\lfl\\AppData\\Local\\Temp\\tmpd599ffka.txt, C, , lom_setup:AdaptivePass, \"Original\", \"ohm\", \"nH\", \"fF\", \"mSie\", 5000000000, Maxwell, 10, False\n",
      "INFO 05:24PM [get_matrix]: Exporting matrix data to (C:\\Users\\lfl\\AppData\\Local\\Temp\\tmpvh58aflx.txt, C, , lom_setup:AdaptivePass, \"Original\", \"ohm\", \"nH\", \"fF\", \"mSie\", 5000000000, Maxwell, 11, False\n",
      "INFO 05:24PM [get_matrix]: Exporting matrix data to (C:\\Users\\lfl\\AppData\\Local\\Temp\\tmpb_gsb5f3.txt, C, , lom_setup:AdaptivePass, \"Original\", \"ohm\", \"nH\", \"fF\", \"mSie\", 5000000000, Maxwell, 12, False\n",
      "INFO 05:24PM [get_matrix]: Exporting matrix data to (C:\\Users\\lfl\\AppData\\Local\\Temp\\tmpa4aa19xs.txt, C, , lom_setup:AdaptivePass, \"Original\", \"ohm\", \"nH\", \"fF\", \"mSie\", 5000000000, Maxwell, 13, False\n",
      "INFO 05:24PM [get_matrix]: Exporting matrix data to (C:\\Users\\lfl\\AppData\\Local\\Temp\\tmpif52o9fs.txt, C, , lom_setup:AdaptivePass, \"Original\", \"ohm\", \"nH\", \"fF\", \"mSie\", 5000000000, Maxwell, 14, False\n",
      "INFO 05:24PM [get_matrix]: Exporting matrix data to (C:\\Users\\lfl\\AppData\\Local\\Temp\\tmp20ctcyhn.txt, C, , lom_setup:AdaptivePass, \"Original\", \"ohm\", \"nH\", \"fF\", \"mSie\", 5000000000, Maxwell, 15, False\n",
      "INFO 05:24PM [get_matrix]: Exporting matrix data to (C:\\Users\\lfl\\AppData\\Local\\Temp\\tmpaz7hhaho.txt, C, , lom_setup:AdaptivePass, \"Original\", \"ohm\", \"nH\", \"fF\", \"mSie\", 5000000000, Maxwell, 16, False\n",
      "INFO 05:24PM [get_matrix]: Exporting matrix data to (C:\\Users\\lfl\\AppData\\Local\\Temp\\tmpciiruvff.txt, C, , lom_setup:AdaptivePass, \"Original\", \"ohm\", \"nH\", \"fF\", \"mSie\", 5000000000, Maxwell, 17, False\n",
      "INFO 05:24PM [get_matrix]: Exporting matrix data to (C:\\Users\\lfl\\AppData\\Local\\Temp\\tmpa1y7dkw1.txt, C, , lom_setup:AdaptivePass, \"Original\", \"ohm\", \"nH\", \"fF\", \"mSie\", 5000000000, Maxwell, 18, False\n"
     ]
    },
    {
     "name": "stdout",
     "output_type": "stream",
     "text": [
      "For Qubit 1, the cap matrix is...\n",
      "                    c_connector_arm_Q1   cross_Q1  ground_main_plane\n",
      "c_connector_arm_Q1           111.13298   -5.75642         -104.91049\n",
      "cross_Q1                      -5.75642  126.67822         -118.27675\n",
      "ground_main_plane           -104.91049 -118.27675          277.73492\n"
     ]
    }
   ],
   "source": [
    "all_cap_matricies = []\n",
    "\n",
    "for i, name in enumerate(qubit_names):\n",
    "    i += 1\n",
    "    if i != 1:\n",
    "        continue\n",
    "\n",
    "    ### Render design\n",
    "    # if i == 3 or i == 5 or i == 6: # Finger coupler\n",
    "    #     selection = [f'Q{i}']\n",
    "    #     open_pins = [(f'Q{i}', 'c')]\n",
    "    # else: # Hanging resonator coupler\n",
    "    #     selection = [f'Q{i}', f'cpw{i}', f'clt{i}']\n",
    "    #     open_pins = [(f'clt{i}', 'prime_start'), (f'clt{i}', 'prime_end')]\n",
    "\n",
    "    selection = [f'Q{i}']\n",
    "    open_pins = [(f'Q{i}', 'c')]\n",
    "\n",
    "\n",
    "    c1.sim.run(name = 'LOMv2.0', components=selection,\n",
    "               open_terminations=open_pins)\n",
    "    cap_df = c1.sim.capacitance_matrix\n",
    "\n",
    "    all_cap_matricies.append(cap_df)\n",
    "\n",
    "    print(f'For Qubit {i}, the cap matrix is...')\n",
    "    print(cap_df)"
   ]
  },
  {
   "cell_type": "code",
   "execution_count": 37,
   "metadata": {},
   "outputs": [
    {
     "name": "stderr",
     "output_type": "stream",
     "text": [
      "INFO 05:26PM [connect_project]: Connecting to Ansys Desktop API...\n",
      "INFO 05:26PM [load_ansys_project]: \tOpened Ansys App\n",
      "INFO 05:26PM [load_ansys_project]: \tOpened Ansys Desktop v2021.1.0\n",
      "INFO 05:26PM [load_ansys_project]: \tOpened Ansys Project\n",
      "\tFolder:    D:/lfl/Documents/Ansoft/\n",
      "\tProject:   test_qubit_cavity_saruman_proj\n",
      "INFO 05:26PM [connect_design]: \tOpened active design\n",
      "\tDesign:    xmon_v1.0 [Solution type: Q3D]\n",
      "INFO 05:26PM [get_setup]: \tOpened setup `Setup`  (<class 'pyEPR.ansys.AnsysQ3DSetup'>)\n",
      "INFO 05:26PM [connect]: \tConnected to project \"test_qubit_cavity_saruman_proj\" and design \"xmon_v1.0\" 😀 \n",
      "\n",
      "INFO 05:26PM [connect_design]: \tOpened active design\n",
      "\tDesign:    xmon_v1.0 [Solution type: Q3D]\n",
      "05:26PM 10s ERROR [subtract_from_ground]: This error might indicate that a component was not correctly rendered in Ansys. \n",
      "This might have been caused by floating point numerical corrections. \n",
      " For example Ansys will inconsistently render (or not) routing that has 180deg jogs with the two adjacent segments spaced 'exactly' twice the fillet radius (U shaped routing). \n",
      "In this example, changing your fillet radius to a smaller number would solve the issue.\n"
     ]
    },
    {
     "name": "stdout",
     "output_type": "stream",
     "text": [
      "com_error:  (-2147352567, 'Exception occurred.', (0, None, None, None, 0, -2147024381), None)\n"
     ]
    },
    {
     "ename": "com_error",
     "evalue": "(-2147352567, 'Exception occurred.', (0, None, None, None, 0, -2147024381), None)",
     "output_type": "error",
     "traceback": [
      "\u001b[1;31m---------------------------------------------------------------------------\u001b[0m",
      "\u001b[1;31mcom_error\u001b[0m                                 Traceback (most recent call last)",
      "Cell \u001b[1;32mIn[37], line 6\u001b[0m\n\u001b[0;32m      3\u001b[0m q3d\u001b[39m.\u001b[39mstart()\n\u001b[0;32m      4\u001b[0m q3d\u001b[39m.\u001b[39mactivate_ansys_design(\u001b[39m\"\u001b[39m\u001b[39mxmon_v1.0\u001b[39m\u001b[39m\"\u001b[39m, \u001b[39m'\u001b[39m\u001b[39mcapacitive\u001b[39m\u001b[39m'\u001b[39m)\n\u001b[1;32m----> 6\u001b[0m q3d\u001b[39m.\u001b[39;49mrender_design([\u001b[39m'\u001b[39;49m\u001b[39mQ1\u001b[39;49m\u001b[39m'\u001b[39;49m], [(\u001b[39m'\u001b[39;49m\u001b[39mQ1\u001b[39;49m\u001b[39m'\u001b[39;49m,\u001b[39m'\u001b[39;49m\u001b[39mc\u001b[39;49m\u001b[39m'\u001b[39;49m)])\n",
      "File \u001b[1;32mc:\\users\\lfl\\qiskit-metal\\qiskit_metal\\renderers\\renderer_ansys\\q3d_renderer.py:138\u001b[0m, in \u001b[0;36mQQ3DRenderer.render_design\u001b[1;34m(self, selection, open_pins, box_plus_buffer)\u001b[0m\n\u001b[0;32m    134\u001b[0m \u001b[39mself\u001b[39m\u001b[39m.\u001b[39madd_endcaps(open_pins)\n\u001b[0;32m    136\u001b[0m \u001b[39mself\u001b[39m\u001b[39m.\u001b[39mrender_chips(draw_sample_holder\u001b[39m=\u001b[39m\u001b[39mFalse\u001b[39;00m,\n\u001b[0;32m    137\u001b[0m                   box_plus_buffer\u001b[39m=\u001b[39mbox_plus_buffer)\n\u001b[1;32m--> 138\u001b[0m \u001b[39mself\u001b[39;49m\u001b[39m.\u001b[39;49msubtract_from_ground()\n\u001b[0;32m    139\u001b[0m \u001b[39mself\u001b[39m\u001b[39m.\u001b[39madd_mesh()\n\u001b[0;32m    141\u001b[0m \u001b[39mself\u001b[39m\u001b[39m.\u001b[39massign_thin_conductor()\n",
      "File \u001b[1;32mc:\\users\\lfl\\qiskit-metal\\qiskit_metal\\renderers\\renderer_ansys\\ansys_renderer.py:1570\u001b[0m, in \u001b[0;36mQAnsysRenderer.subtract_from_ground\u001b[1;34m(self)\u001b[0m\n\u001b[0;32m   1562\u001b[0m \u001b[39mif\u001b[39;00m msg \u001b[39m==\u001b[39m \u001b[39m\"\u001b[39m\u001b[39mException occurred.\u001b[39m\u001b[39m\"\u001b[39m \u001b[39mand\u001b[39;00m hr \u001b[39m==\u001b[39m \u001b[39m-\u001b[39m\u001b[39m2147352567\u001b[39m:\n\u001b[0;32m   1563\u001b[0m     \u001b[39mself\u001b[39m\u001b[39m.\u001b[39mlogger\u001b[39m.\u001b[39merror(\n\u001b[0;32m   1564\u001b[0m         \u001b[39m\"\u001b[39m\u001b[39mThis error might indicate that a component was not correctly rendered in Ansys. \u001b[39m\u001b[39m\\n\u001b[39;00m\u001b[39m\"\u001b[39m\n\u001b[0;32m   1565\u001b[0m         \u001b[39m\"\u001b[39m\u001b[39mThis might have been caused by floating point numerical corrections. \u001b[39m\u001b[39m\\n\u001b[39;00m\u001b[39m For example \u001b[39m\u001b[39m\"\u001b[39m\n\u001b[1;32m   (...)\u001b[0m\n\u001b[0;32m   1568\u001b[0m         \u001b[39m\"\u001b[39m\u001b[39mIn this example, changing your fillet radius to a smaller number would solve the issue.\u001b[39m\u001b[39m\"\u001b[39m\n\u001b[0;32m   1569\u001b[0m     )\n\u001b[1;32m-> 1570\u001b[0m \u001b[39mraise\u001b[39;00m error\n",
      "File \u001b[1;32mc:\\users\\lfl\\qiskit-metal\\qiskit_metal\\renderers\\renderer_ansys\\ansys_renderer.py:1558\u001b[0m, in \u001b[0;36mQAnsysRenderer.subtract_from_ground\u001b[1;34m(self)\u001b[0m\n\u001b[0;32m   1555\u001b[0m \u001b[39mimport\u001b[39;00m \u001b[39mpythoncom\u001b[39;00m\n\u001b[0;32m   1557\u001b[0m \u001b[39mtry\u001b[39;00m:\n\u001b[1;32m-> 1558\u001b[0m     \u001b[39mself\u001b[39;49m\u001b[39m.\u001b[39;49mmodeler\u001b[39m.\u001b[39;49msubtract(\u001b[39mf\u001b[39;49m\u001b[39m\"\u001b[39;49m\u001b[39mground_\u001b[39;49m\u001b[39m{\u001b[39;49;00mchip\u001b[39m}\u001b[39;49;00m\u001b[39m_plane\u001b[39;49m\u001b[39m\"\u001b[39;49m, \u001b[39mlist\u001b[39;49m(shapes))\n\u001b[0;32m   1559\u001b[0m \u001b[39mexcept\u001b[39;00m pythoncom\u001b[39m.\u001b[39mcom_error \u001b[39mas\u001b[39;00m error:\n\u001b[0;32m   1560\u001b[0m     \u001b[39mprint\u001b[39m(\u001b[39m\"\u001b[39m\u001b[39mcom_error: \u001b[39m\u001b[39m\"\u001b[39m, error)\n",
      "File \u001b[1;32mc:\\Users\\lfl\\.conda\\envs\\qiskit_metal\\Lib\\site-packages\\pyEPR\\ansys.py:2565\u001b[0m, in \u001b[0;36mHfssModeler.subtract\u001b[1;34m(self, blank_name, tool_names, keep_originals)\u001b[0m\n\u001b[0;32m   2560\u001b[0m \u001b[39mdef\u001b[39;00m \u001b[39msubtract\u001b[39m(\u001b[39mself\u001b[39m, blank_name, tool_names, keep_originals\u001b[39m=\u001b[39m\u001b[39mFalse\u001b[39;00m):\n\u001b[0;32m   2561\u001b[0m     selection_array \u001b[39m=\u001b[39m [\n\u001b[0;32m   2562\u001b[0m         \u001b[39m\"\u001b[39m\u001b[39mNAME:Selections\u001b[39m\u001b[39m\"\u001b[39m, \u001b[39m\"\u001b[39m\u001b[39mBlank Parts:=\u001b[39m\u001b[39m\"\u001b[39m, blank_name, \u001b[39m\"\u001b[39m\u001b[39mTool Parts:=\u001b[39m\u001b[39m\"\u001b[39m,\n\u001b[0;32m   2563\u001b[0m         \u001b[39m\"\u001b[39m\u001b[39m,\u001b[39m\u001b[39m\"\u001b[39m\u001b[39m.\u001b[39mjoin(tool_names)\n\u001b[0;32m   2564\u001b[0m     ]\n\u001b[1;32m-> 2565\u001b[0m     \u001b[39mself\u001b[39;49m\u001b[39m.\u001b[39;49m_modeler\u001b[39m.\u001b[39;49mSubtract(\n\u001b[0;32m   2566\u001b[0m         selection_array,\n\u001b[0;32m   2567\u001b[0m         [\u001b[39m\"\u001b[39;49m\u001b[39mNAME:UniteParameters\u001b[39;49m\u001b[39m\"\u001b[39;49m, \u001b[39m\"\u001b[39;49m\u001b[39mKeepOriginals:=\u001b[39;49m\u001b[39m\"\u001b[39;49m, keep_originals])\n\u001b[0;32m   2568\u001b[0m     \u001b[39mreturn\u001b[39;00m blank_name\n",
      "File \u001b[1;32m<COMObject SetActiveEditor>:2\u001b[0m, in \u001b[0;36mSubtract\u001b[1;34m(self, argSelections, argParamters)\u001b[0m\n",
      "\u001b[1;31mcom_error\u001b[0m: (-2147352567, 'Exception occurred.', (0, None, None, None, 0, -2147024381), None)"
     ]
    }
   ],
   "source": [
    "q3d = c1.sim.renderer\n",
    "\n",
    "q3d.start()\n",
    "q3d.activate_ansys_design(\"xmon_v1.0\", 'capacitive')\n",
    "\n",
    "q3d.render_design(['Q1'], [('Q1','c')])"
   ]
  },
  {
   "cell_type": "code",
   "execution_count": 38,
   "metadata": {},
   "outputs": [
    {
     "data": {
      "text/plain": [
       "'lom_setup'"
      ]
     },
     "execution_count": 38,
     "metadata": {},
     "output_type": "execute_result"
    }
   ],
   "source": [
    "c1.sim.setup.name"
   ]
  },
  {
   "cell_type": "code",
   "execution_count": 39,
   "metadata": {},
   "outputs": [
    {
     "ename": "OSError",
     "evalue": "Setup lom_setup not found: ('Setup',)",
     "output_type": "error",
     "traceback": [
      "\u001b[1;31m---------------------------------------------------------------------------\u001b[0m",
      "\u001b[1;31mOSError\u001b[0m                                   Traceback (most recent call last)",
      "Cell \u001b[1;32mIn[39], line 1\u001b[0m\n\u001b[1;32m----> 1\u001b[0m q3d\u001b[39m.\u001b[39;49manalyze_setup(c1\u001b[39m.\u001b[39;49msim\u001b[39m.\u001b[39;49msetup\u001b[39m.\u001b[39;49mname)\n",
      "File \u001b[1;32mc:\\users\\lfl\\qiskit-metal\\qiskit_metal\\renderers\\renderer_ansys\\q3d_renderer.py:384\u001b[0m, in \u001b[0;36mQQ3DRenderer.analyze_setup\u001b[1;34m(self, setup_name)\u001b[0m\n\u001b[0;32m    378\u001b[0m \u001b[39m\u001b[39m\u001b[39m\"\"\"Run a specific solution setup in Ansys Q3D.\u001b[39;00m\n\u001b[0;32m    379\u001b[0m \n\u001b[0;32m    380\u001b[0m \u001b[39mArgs:\u001b[39;00m\n\u001b[0;32m    381\u001b[0m \u001b[39m    setup_name (str): Name of setup.\u001b[39;00m\n\u001b[0;32m    382\u001b[0m \u001b[39m\"\"\"\u001b[39;00m\n\u001b[0;32m    383\u001b[0m \u001b[39mif\u001b[39;00m \u001b[39mself\u001b[39m\u001b[39m.\u001b[39mpinfo:\n\u001b[1;32m--> 384\u001b[0m     setup \u001b[39m=\u001b[39m \u001b[39mself\u001b[39;49m\u001b[39m.\u001b[39;49mpinfo\u001b[39m.\u001b[39;49mget_setup(setup_name)\n\u001b[0;32m    385\u001b[0m     setup\u001b[39m.\u001b[39manalyze(setup_name)\n",
      "File \u001b[1;32mc:\\Users\\lfl\\.conda\\envs\\qiskit_metal\\Lib\\site-packages\\pyEPR\\project_info.py:403\u001b[0m, in \u001b[0;36mProjectInfo.get_setup\u001b[1;34m(self, name)\u001b[0m\n\u001b[0;32m    401\u001b[0m \u001b[39mif\u001b[39;00m name \u001b[39mis\u001b[39;00m \u001b[39mNone\u001b[39;00m:\n\u001b[0;32m    402\u001b[0m     \u001b[39mreturn\u001b[39;00m \u001b[39mNone\u001b[39;00m\n\u001b[1;32m--> 403\u001b[0m \u001b[39mself\u001b[39m\u001b[39m.\u001b[39msetup \u001b[39m=\u001b[39m \u001b[39mself\u001b[39;49m\u001b[39m.\u001b[39;49mdesign\u001b[39m.\u001b[39;49mget_setup(name\u001b[39m=\u001b[39;49mname)\n\u001b[0;32m    404\u001b[0m \u001b[39mif\u001b[39;00m \u001b[39mself\u001b[39m\u001b[39m.\u001b[39msetup \u001b[39mis\u001b[39;00m \u001b[39mNone\u001b[39;00m:\n\u001b[0;32m    405\u001b[0m     logger\u001b[39m.\u001b[39merror(\u001b[39mf\u001b[39m\u001b[39m\"\u001b[39m\u001b[39mCould not retrieve setup: \u001b[39m\u001b[39m{\u001b[39;00mname\u001b[39m}\u001b[39;00m\u001b[39m\\n\u001b[39;00m\u001b[39m \u001b[39m\u001b[39m\\\u001b[39;00m\n\u001b[0;32m    406\u001b[0m \u001b[39m                Did you give the right name? Does it exist?\u001b[39m\u001b[39m\"\u001b[39m)\n",
      "File \u001b[1;32mc:\\Users\\lfl\\.conda\\envs\\qiskit_metal\\Lib\\site-packages\\pyEPR\\ansys.py:711\u001b[0m, in \u001b[0;36mHfssDesign.get_setup\u001b[1;34m(self, name)\u001b[0m\n\u001b[0;32m    709\u001b[0m     name \u001b[39m=\u001b[39m setups[\u001b[39m0\u001b[39m]\n\u001b[0;32m    710\u001b[0m \u001b[39melif\u001b[39;00m name \u001b[39mnot\u001b[39;00m \u001b[39min\u001b[39;00m setups:\n\u001b[1;32m--> 711\u001b[0m     \u001b[39mraise\u001b[39;00m \u001b[39mEnvironmentError\u001b[39;00m(\u001b[39m\"\u001b[39m\u001b[39mSetup \u001b[39m\u001b[39m{}\u001b[39;00m\u001b[39m not found: \u001b[39m\u001b[39m{}\u001b[39;00m\u001b[39m\"\u001b[39m\u001b[39m.\u001b[39mformat(\n\u001b[0;32m    712\u001b[0m         name, setups))\n\u001b[0;32m    714\u001b[0m \u001b[39mif\u001b[39;00m \u001b[39mself\u001b[39m\u001b[39m.\u001b[39msolution_type \u001b[39m==\u001b[39m \u001b[39m\"\u001b[39m\u001b[39mEigenmode\u001b[39m\u001b[39m\"\u001b[39m:\n\u001b[0;32m    715\u001b[0m     \u001b[39mreturn\u001b[39;00m HfssEMSetup(\u001b[39mself\u001b[39m, name)\n",
      "\u001b[1;31mOSError\u001b[0m: Setup lom_setup not found: ('Setup',)"
     ]
    }
   ],
   "source": [
    "q3d.analyze_setup(c1.sim.setup.name)"
   ]
  },
  {
   "cell_type": "code",
   "execution_count": 31,
   "metadata": {},
   "outputs": [
    {
     "name": "stderr",
     "output_type": "stream",
     "text": [
      "INFO 05:20PM [get_setup]: \tOpened setup `Setup`  (<class 'pyEPR.ansys.AnsysQ3DSetup'>)\n"
     ]
    },
    {
     "data": {
      "text/plain": [
       "<pyEPR.ansys.AnsysQ3DSetup at 0x210920fe750>"
      ]
     },
     "execution_count": 31,
     "metadata": {},
     "output_type": "execute_result"
    }
   ],
   "source": [
    "c1.sim.renderer.pinfo.get_setup('Setup')"
   ]
  },
  {
   "cell_type": "code",
   "execution_count": 25,
   "metadata": {},
   "outputs": [
    {
     "name": "stderr",
     "output_type": "stream",
     "text": [
      "INFO 05:16PM [get_matrix]: Exporting matrix data to (C:\\Users\\lfl\\AppData\\Local\\Temp\\tmpk4b9k1yw.txt, C, , Setup:LastAdaptive, \"Original\", \"ohm\", \"nH\", \"fF\", \"mSie\", 5000000000, Maxwell, 1, False\n",
      "INFO 05:16PM [get_matrix]: Exporting matrix data to (C:\\Users\\lfl\\AppData\\Local\\Temp\\tmp02cw6jan.txt, C, , Setup:AdaptivePass, \"Original\", \"ohm\", \"nH\", \"fF\", \"mSie\", 5000000000, Maxwell, 1, False\n",
      "INFO 05:16PM [get_matrix]: Exporting matrix data to (C:\\Users\\lfl\\AppData\\Local\\Temp\\tmpgp0vsdf4.txt, C, , Setup:AdaptivePass, \"Original\", \"ohm\", \"nH\", \"fF\", \"mSie\", 5000000000, Maxwell, 2, False\n",
      "INFO 05:16PM [get_matrix]: Exporting matrix data to (C:\\Users\\lfl\\AppData\\Local\\Temp\\tmpzgvfeefr.txt, C, , Setup:AdaptivePass, \"Original\", \"ohm\", \"nH\", \"fF\", \"mSie\", 5000000000, Maxwell, 3, False\n",
      "INFO 05:16PM [get_matrix]: Exporting matrix data to (C:\\Users\\lfl\\AppData\\Local\\Temp\\tmpq54omvnm.txt, C, , Setup:AdaptivePass, \"Original\", \"ohm\", \"nH\", \"fF\", \"mSie\", 5000000000, Maxwell, 4, False\n",
      "INFO 05:16PM [get_matrix]: Exporting matrix data to (C:\\Users\\lfl\\AppData\\Local\\Temp\\tmp2xrptoxb.txt, C, , Setup:AdaptivePass, \"Original\", \"ohm\", \"nH\", \"fF\", \"mSie\", 5000000000, Maxwell, 5, False\n",
      "INFO 05:16PM [get_matrix]: Exporting matrix data to (C:\\Users\\lfl\\AppData\\Local\\Temp\\tmpwr46fwn0.txt, C, , Setup:AdaptivePass, \"Original\", \"ohm\", \"nH\", \"fF\", \"mSie\", 5000000000, Maxwell, 6, False\n",
      "INFO 05:16PM [get_matrix]: Exporting matrix data to (C:\\Users\\lfl\\AppData\\Local\\Temp\\tmph5vt3ikt.txt, C, , Setup:AdaptivePass, \"Original\", \"ohm\", \"nH\", \"fF\", \"mSie\", 5000000000, Maxwell, 7, False\n",
      "INFO 05:16PM [get_matrix]: Exporting matrix data to (C:\\Users\\lfl\\AppData\\Local\\Temp\\tmp8jf7qy_9.txt, C, , Setup:AdaptivePass, \"Original\", \"ohm\", \"nH\", \"fF\", \"mSie\", 5000000000, Maxwell, 8, False\n",
      "INFO 05:16PM [get_matrix]: Exporting matrix data to (C:\\Users\\lfl\\AppData\\Local\\Temp\\tmp2z38pfrz.txt, C, , Setup:AdaptivePass, \"Original\", \"ohm\", \"nH\", \"fF\", \"mSie\", 5000000000, Maxwell, 9, False\n",
      "INFO 05:16PM [get_matrix]: Exporting matrix data to (C:\\Users\\lfl\\AppData\\Local\\Temp\\tmpnf23ew6h.txt, C, , Setup:AdaptivePass, \"Original\", \"ohm\", \"nH\", \"fF\", \"mSie\", 5000000000, Maxwell, 10, False\n",
      "INFO 05:16PM [get_matrix]: Exporting matrix data to (C:\\Users\\lfl\\AppData\\Local\\Temp\\tmpteh8yb2l.txt, C, , Setup:AdaptivePass, \"Original\", \"ohm\", \"nH\", \"fF\", \"mSie\", 5000000000, Maxwell, 11, False\n",
      "INFO 05:16PM [get_matrix]: Exporting matrix data to (C:\\Users\\lfl\\AppData\\Local\\Temp\\tmp446b1nna.txt, C, , Setup:AdaptivePass, \"Original\", \"ohm\", \"nH\", \"fF\", \"mSie\", 5000000000, Maxwell, 12, False\n"
     ]
    },
    {
     "data": {
      "text/html": [
       "<div>\n",
       "<style scoped>\n",
       "    .dataframe tbody tr th:only-of-type {\n",
       "        vertical-align: middle;\n",
       "    }\n",
       "\n",
       "    .dataframe tbody tr th {\n",
       "        vertical-align: top;\n",
       "    }\n",
       "\n",
       "    .dataframe thead th {\n",
       "        text-align: right;\n",
       "    }\n",
       "</style>\n",
       "<table border=\"1\" class=\"dataframe\">\n",
       "  <thead>\n",
       "    <tr style=\"text-align: right;\">\n",
       "      <th></th>\n",
       "      <th>c_connector_arm_Q1</th>\n",
       "      <th>cross_Q1</th>\n",
       "      <th>ground_main_plane</th>\n",
       "    </tr>\n",
       "  </thead>\n",
       "  <tbody>\n",
       "    <tr>\n",
       "      <th>c_connector_arm_Q1</th>\n",
       "      <td>108.59832</td>\n",
       "      <td>-5.70096</td>\n",
       "      <td>-102.37345</td>\n",
       "    </tr>\n",
       "    <tr>\n",
       "      <th>cross_Q1</th>\n",
       "      <td>-5.70096</td>\n",
       "      <td>125.13198</td>\n",
       "      <td>-117.02097</td>\n",
       "    </tr>\n",
       "    <tr>\n",
       "      <th>ground_main_plane</th>\n",
       "      <td>-102.37345</td>\n",
       "      <td>-117.02097</td>\n",
       "      <td>274.00678</td>\n",
       "    </tr>\n",
       "  </tbody>\n",
       "</table>\n",
       "</div>"
      ],
      "text/plain": [
       "                    c_connector_arm_Q1   cross_Q1  ground_main_plane\n",
       "c_connector_arm_Q1           108.59832   -5.70096         -102.37345\n",
       "cross_Q1                      -5.70096  125.13198         -117.02097\n",
       "ground_main_plane           -102.37345 -117.02097          274.00678"
      ]
     },
     "execution_count": 25,
     "metadata": {},
     "output_type": "execute_result"
    }
   ],
   "source": [
    "c1.sim.capacitance_matrix, c1.sim.units = q3d.get_capacitance_matrix()\n",
    "c1.sim.capacitance_all_passes, _ = q3d.get_capacitance_all_passes()\n",
    "c1.sim.capacitance_matrix"
   ]
  },
  {
   "cell_type": "code",
   "execution_count": 33,
   "metadata": {},
   "outputs": [],
   "source": [
    "import json\n",
    "from datetime import datetime\n",
    "\n",
    "def save_simulation_data_to_json(data):\n",
    "    current_time = datetime.now().strftime(\"%Y%m%d_%H%M%S\")\n",
    "    filename = f\"simulation_data_{123}.json\"\n",
    "    \n",
    "    # with open(filename, 'a') as outfile:\n",
    "    #     json.dump(data, outfile, indent=4)\n",
    "\n",
    "    with open(filename, 'a+') as f:\n",
    "        d = json.load(f)\n",
    "\n",
    "    d.update(data)\n",
    "\n",
    "    with open(filename, 'a+') as f:\n",
    "        json.dump(d, f, indent = 4)"
   ]
  },
  {
   "cell_type": "code",
   "execution_count": 12,
   "metadata": {},
   "outputs": [
    {
     "data": {
      "text/plain": [
       "{'sim_setup_name': 'Setup1',\n",
       " 'cap_matrix':                     c_connector_arm_Q1   cross_Q1  ground_main_plane\n",
       " c_connector_arm_Q1           110.51368   -5.73626         -104.32296\n",
       " cross_Q1                      -5.73626  126.17422         -117.75711\n",
       " ground_main_plane           -104.32296 -117.75711          277.17290,\n",
       " 'units': 'fF',\n",
       " 'cap_all_passes': {1: array([[ 8.1493620e-14, -5.3059300e-15, -7.6187690e-14],\n",
       "         [-5.3059300e-15,  1.1045144e-13, -1.0386853e-13],\n",
       "         [-7.6187690e-14, -1.0386853e-13,  2.5165089e-13]]),\n",
       "  2: array([[ 8.6022360e-14, -5.7787800e-15, -7.9762640e-14],\n",
       "         [-5.7787800e-15,  1.1039483e-13, -1.0265507e-13],\n",
       "         [-7.9762640e-14, -1.0265507e-13,  2.4729917e-13]]),\n",
       "  3: array([[ 9.3325290e-14, -5.3844500e-15, -8.7408470e-14],\n",
       "         [-5.3844500e-15,  1.1603519e-13, -1.0864835e-13],\n",
       "         [-8.7408470e-14, -1.0864835e-13,  2.5627352e-13]]),\n",
       "  4: array([[ 9.9200830e-14, -5.3986300e-15, -9.3332180e-14],\n",
       "         [-5.3986300e-15,  1.1885352e-13, -1.1093733e-13],\n",
       "         [-9.3332180e-14, -1.1093733e-13,  2.6232635e-13]]),\n",
       "  5: array([[ 1.0107033e-13, -5.4711500e-15, -9.5108440e-14],\n",
       "         [-5.4711500e-15,  1.2038124e-13, -1.1233488e-13],\n",
       "         [-9.5108440e-14, -1.1233488e-13,  2.6512587e-13]]),\n",
       "  6: array([[ 1.0281555e-13, -5.5761700e-15, -9.6794830e-14],\n",
       "         [-5.5761700e-15,  1.2142742e-13, -1.1332461e-13],\n",
       "         [-9.6794830e-14, -1.1332461e-13,  2.6804665e-13]]),\n",
       "  7: array([[ 1.0433486e-13, -5.6610600e-15, -9.8218090e-14],\n",
       "         [-5.6610600e-15,  1.2288829e-13, -1.1464045e-13],\n",
       "         [-9.8218090e-14, -1.1464045e-13,  2.7020533e-13]]),\n",
       "  8: array([[ 1.0568328e-13, -5.6904400e-15, -9.9531330e-14],\n",
       "         [-5.6904400e-15,  1.2350185e-13, -1.1521819e-13],\n",
       "         [-9.9531330e-14, -1.1521819e-13,  2.7105244e-13]]),\n",
       "  9: array([[ 1.0661167e-13, -5.7016600e-15, -1.0046339e-13],\n",
       "         [-5.7016600e-15,  1.2404390e-13, -1.1571806e-13],\n",
       "         [-1.0046339e-13, -1.1571806e-13,  2.7171885e-13]]),\n",
       "  10: array([[ 1.0750878e-13, -5.6946300e-15, -1.0135526e-13],\n",
       "         [-5.6946300e-15,  1.2469215e-13, -1.1631760e-13],\n",
       "         [-1.0135526e-13, -1.1631760e-13,  2.7329384e-13]]),\n",
       "  11: array([[ 1.0858827e-13, -5.7177500e-15, -1.0241584e-13],\n",
       "         [-5.7177500e-15,  1.2500581e-13, -1.1660139e-13],\n",
       "         [-1.0241584e-13, -1.1660139e-13,  2.7449034e-13]]),\n",
       "  12: array([[ 1.0913102e-13, -5.7139000e-15, -1.0297699e-13],\n",
       "         [-5.7139000e-15,  1.2526280e-13, -1.1687308e-13],\n",
       "         [-1.0297699e-13, -1.1687308e-13,  2.7444063e-13]]),\n",
       "  13: array([[ 1.0964690e-13, -5.7345000e-15, -1.0349259e-13],\n",
       "         [-5.7345000e-15,  1.2589081e-13, -1.1757221e-13],\n",
       "         [-1.0349259e-13, -1.1757221e-13,  2.7634828e-13]]),\n",
       "  14: array([[ 1.1026326e-13, -5.7407500e-15, -1.0408982e-13],\n",
       "         [-5.7407500e-15,  1.2606539e-13, -1.1770930e-13],\n",
       "         [-1.0408982e-13, -1.1770930e-13,  2.7727384e-13]]),\n",
       "  15: array([[ 1.1051368e-13, -5.7362600e-15, -1.0432296e-13],\n",
       "         [-5.7362600e-15,  1.2617422e-13, -1.1775711e-13],\n",
       "         [-1.0432296e-13, -1.1775711e-13,  2.7717290e-13]])},\n",
       " 'is_converged': True}"
      ]
     },
     "execution_count": 12,
     "metadata": {},
     "output_type": "execute_result"
    }
   ],
   "source": [
    "c1.sim.renderer."
   ]
  }
 ],
 "metadata": {
  "kernelspec": {
   "display_name": "qiskit_metal",
   "language": "python",
   "name": "python3"
  },
  "language_info": {
   "codemirror_mode": {
    "name": "ipython",
    "version": 3
   },
   "file_extension": ".py",
   "mimetype": "text/x-python",
   "name": "python",
   "nbconvert_exporter": "python",
   "pygments_lexer": "ipython3",
   "version": "3.11.4"
  }
 },
 "nbformat": 4,
 "nbformat_minor": 4
}
