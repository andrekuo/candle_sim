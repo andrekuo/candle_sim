{
 "cells": [
  {
   "cell_type": "code",
   "execution_count": 1,
   "metadata": {},
   "outputs": [],
   "source": [
    "%load_ext autoreload\n",
    "%autoreload 2"
   ]
  },
  {
   "cell_type": "code",
   "execution_count": 2,
   "metadata": {},
   "outputs": [],
   "source": [
    "from qiskit_metal import draw, Dict, designs, MetalGUI\n",
    "from qiskit_metal.designs.design_multiplanar import MultiPlanar\n",
    "from qiskit_metal.toolbox_metal import math_and_overrides\n",
    "from qiskit_metal.qlibrary.core import QComponent\n",
    "import qiskit_metal as metal\n",
    "# ?metal.qlibrary.core.QComponent.add_qgeometry\n",
    "\n",
    "design = MultiPlanar()\n",
    "gui = metal.MetalGUI(design)\n",
    "design.overwrite_enabled = True\n",
    "\n",
    "# dir(QComponent)"
   ]
  },
  {
   "cell_type": "code",
   "execution_count": 3,
   "metadata": {},
   "outputs": [],
   "source": [
    "cpw_width = '11.7um'\n",
    "\n",
    "design._chips.main.size.size_x = '5mm'\n",
    "design._chips.main.size.size_y = '5mm'"
   ]
  },
  {
   "cell_type": "code",
   "execution_count": 4,
   "metadata": {},
   "outputs": [],
   "source": [
    "from qiskit_metal.qlibrary.terminations.launchpad_wb import LaunchpadWirebond\n",
    "from qiskit_metal.qlibrary.terminations.short_to_ground import ShortToGround\n",
    "from qiskit_metal.qlibrary.tlines.straight_path import RouteStraight\n",
    "from qiskit_metal.qlibrary.tlines.anchored_path import RouteAnchors\n",
    "from qiskit_metal.qlibrary.tlines.mixed_path import RouteMixed\n",
    "from qiskit_metal.qlibrary.qubits.transmon_cross import TransmonCross\n",
    "from qiskit_metal.qlibrary.tlines.meandered import RouteMeander\n",
    "from qiskit_metal.qlibrary.terminations.open_to_ground import OpenToGround\n",
    "from qiskit_metal.qlibrary.couplers.coupled_line_tee import CoupledLineTee\n",
    "from qiskit_metal.qlibrary.couplers.cap_n_interdigital_tee import CapNInterdigitalTee\n",
    "from qiskit_metal.qlibrary.couplers.line_tee import LineTee\n",
    "\n",
    "from collections import OrderedDict\n",
    "\n",
    "import numpy as np"
   ]
  },
  {
   "cell_type": "code",
   "execution_count": 5,
   "metadata": {},
   "outputs": [],
   "source": [
    "### Top and Bottom\n",
    "options = Dict(\n",
    "    orientation = -90,\n",
    "    pos_y = 2.5 - 0.3,\n",
    "    # pad_width = '80um',\n",
    "    # pad_length = '200um',\n",
    "    # taper_height = '200um',\n",
    "    trace_width = cpw_width,\n",
    "    trace_gap = '5.1um'\n",
    ")\n",
    "wb1 = LaunchpadWirebond(design, 'wb_top', options=options)\n",
    "\n",
    "options = Dict(\n",
    "    orientation = 90,\n",
    "    pos_y = -2.5 + 0.3,\n",
    "    # pad_width = '80um',\n",
    "    # pad_length = '200um',\n",
    "    # taper_height = '200um',\n",
    "    trace_width = cpw_width,\n",
    "    trace_gap = '5.1um'\n",
    ")\n",
    "wb2 = LaunchpadWirebond(design, 'wb_bottom', options=options)"
   ]
  },
  {
   "cell_type": "code",
   "execution_count": 6,
   "metadata": {},
   "outputs": [],
   "source": [
    "xmon1_options = dict(\n",
    "    connection_pads=dict(\n",
    "        # a = dict( connector_location = '0', connector_type = '0'),\n",
    "        # b = dict(connector_location = '90', connector_type = '0'),\n",
    "        c = dict(connector_location = '90', \n",
    "                 connector_type = '0', \n",
    "                 claw_length = '215um',\n",
    "                 ground_spacing = '10um', \n",
    "                 claw_gap = '5.1um', \n",
    "                 claw_width = '15um',\n",
    "                 claw_cpw_length = 0),\n",
    "        # d = dict(connector_location = '270', connector_type = '0'),\n",
    "    ),\n",
    "    cross_width = '30um',\n",
    "    cross_length = '240um',\n",
    "    cross_gap = '30um',\n",
    "    orientation = '-90',\n",
    "    pos_x = '-1500um',\n",
    "    pos_y = '1200um',\n",
    "    aedt_hfss_inductance = 10.609327935963474E-9\n",
    ")\n",
    "\n",
    "# Create a new Transmon Cross object with name 'Q1'\n",
    "q1 = TransmonCross(design, 'Q3', options=xmon1_options)\n",
    "\n",
    "# otg_options = dict(width = '5.85um', \n",
    "#                    gap = '5.1um', \n",
    "#                 #    termination_gap = '500um',\n",
    "#                    pos_x='-30um',  \n",
    "#                    pos_y='1313um', \n",
    "#                    orientation='90')\n",
    "\n",
    "# otg = OpenToGround(design, 'open_to_ground', options=otg_options)\n",
    "\n"
   ]
  },
  {
   "cell_type": "code",
   "execution_count": 7,
   "metadata": {},
   "outputs": [],
   "source": [
    "xmon2_options = dict(\n",
    "    connection_pads=dict(\n",
    "        # a = dict( connector_location = '0', connector_type = '0'),\n",
    "        # b = dict(connector_location = '90', connector_type = '0'),\n",
    "        c = dict(connector_location = '90', \n",
    "                 connector_type = '0', \n",
    "                 claw_length = '185.9um',\n",
    "                 ground_spacing = '4.1um', \n",
    "                 claw_gap = '5.1um', \n",
    "                 claw_width = '15.9um',\n",
    "                 claw_cpw_length = 0),\n",
    "        # d = dict(connector_location = '270', connector_type = '0'),\n",
    "    ),\n",
    "    cross_width = '30.9um',\n",
    "    cross_length = '200.9um',\n",
    "    cross_gap = '29.1um',\n",
    "    orientation = '90',\n",
    "    pos_x = '2000.9um',\n",
    "    pos_y = '1700um',\n",
    "    aedt_hfss_inductance = 10.181089091582427E-9\n",
    ")\n",
    "\n",
    "# Create a new Transmon Cross object with name 'Q1'\n",
    "q2 = TransmonCross(design, 'Q6', options=xmon2_options)"
   ]
  },
  {
   "cell_type": "code",
   "execution_count": 8,
   "metadata": {},
   "outputs": [],
   "source": [
    "xmon3_options = dict(\n",
    "    connection_pads=dict(\n",
    "        # a = dict( connector_location = '0', connector_type = '0'),\n",
    "        # b = dict(connector_location = '90', connector_type = '0'),\n",
    "        c = dict(connector_location = '90', \n",
    "                 connector_type = '0', \n",
    "                 claw_length = '185um',\n",
    "                 ground_spacing = '5um', \n",
    "                 claw_gap = '5.1um', \n",
    "                 claw_width = '10um',\n",
    "                 claw_cpw_length = 0),\n",
    "        # d = dict(connector_location = '270', connector_type = '0'),\n",
    "    ),\n",
    "    cross_width = '30um',\n",
    "    cross_length = '200um',\n",
    "    cross_gap = '30um',\n",
    "    orientation = '-90',\n",
    "    pos_x = '-2000um',\n",
    "    pos_y = '-300um',\n",
    "    aedt_hfss_inductance = 12.306527428119221E-9\n",
    ")\n",
    "\n",
    "# Create a new Transmon Cross object with name 'Q1'\n",
    "q3 = TransmonCross(design, 'Q5', options=xmon3_options)"
   ]
  },
  {
   "cell_type": "code",
   "execution_count": 9,
   "metadata": {},
   "outputs": [],
   "source": [
    "xmon4_options = dict(\n",
    "    connection_pads=dict(\n",
    "        # a = dict( connector_location = '0', connector_type = '0'),\n",
    "        # b = dict(connector_location = '90', connector_type = '0'),\n",
    "        c = dict(connector_location = '90', \n",
    "                 connector_type = '0', \n",
    "                 claw_length = '215.9um',\n",
    "                 ground_spacing = '9.1um', \n",
    "                 claw_gap = '5.1um', \n",
    "                 claw_width = '15.9um',\n",
    "                 claw_cpw_length = 0),\n",
    "        # d = dict(connector_location = '270', connector_type = '0'),\n",
    "    ),\n",
    "    cross_width = '30.9um',\n",
    "    cross_length = '240.9um',\n",
    "    cross_gap = '29.1um',\n",
    "    orientation = '90',\n",
    "    pos_x = '1500um',\n",
    "    pos_y = '250um',\n",
    "    aedt_hfss_inductance = 15.500517135714711E-9\n",
    ")\n",
    "\n",
    "# Create a new Transmon Cross object with name 'Q1'\n",
    "q4 = TransmonCross(design, 'Q2', options=xmon4_options)"
   ]
  },
  {
   "cell_type": "code",
   "execution_count": 10,
   "metadata": {},
   "outputs": [],
   "source": [
    "xmon5_options = dict(\n",
    "    connection_pads=dict(\n",
    "        # a = dict( connector_location = '0', connector_type = '0'),\n",
    "        # b = dict(connector_location = '90', connector_type = '0'),\n",
    "        c = dict(connector_location = '90', \n",
    "                 connector_type = '0', \n",
    "                 claw_length = '215.9um',\n",
    "                 ground_spacing = '9.1um', \n",
    "                 claw_gap = '5.1um', \n",
    "                 claw_width = '15.9um',\n",
    "                 claw_cpw_length = '0'),\n",
    "        # d = dict(connector_location = '270', connector_type = '0'),\n",
    "    ),\n",
    "    cross_width = '30.9um',\n",
    "    cross_length = '240.9um',\n",
    "    cross_gap = '29.1um',\n",
    "    orientation = '-90',\n",
    "    pos_x = '-1500um',\n",
    "    pos_y = '-1500um',\n",
    "    aedt_hfss_inductance = 14.261653403709703E-9\n",
    ")\n",
    "\n",
    "# Create a new Transmon Cross object with name 'Q1'\n",
    "q5 = TransmonCross(design, 'Q1', options=xmon5_options)"
   ]
  },
  {
   "cell_type": "code",
   "execution_count": 11,
   "metadata": {},
   "outputs": [],
   "source": [
    "xmon6_options = dict(\n",
    "    connection_pads=dict(\n",
    "        # a = dict( connector_location = '0', connector_type = '0'),\n",
    "        # b = dict(connector_location = '90', connector_type = '0'),\n",
    "        c = dict(connector_location = '90', \n",
    "                 connector_type = '0', \n",
    "                 claw_length = '200.9um',\n",
    "                 ground_spacing = '10.9um', \n",
    "                 claw_gap = '5.1um', \n",
    "                 claw_width = '10.9um',\n",
    "                 claw_cpw_width = cpw_width,\n",
    "                 claw_cpw_length = '0'),\n",
    "        # d = dict(connector_location = '270', connector_type = '0'),\n",
    "    ),\n",
    "    cross_width = '30.9um',\n",
    "    cross_length = '220.9um',\n",
    "    cross_gap = '29.1um',\n",
    "    orientation = '90',\n",
    "    pos_x = '2000um',\n",
    "    pos_y = '-1200um',\n",
    "    aedt_hfss_inductance = 15.724568346403403E-9\n",
    ")\n",
    "\n",
    "# Create a new Transmon Cross object with name 'Q1'\n",
    "q6 = TransmonCross(design, 'Q4', options=xmon6_options)"
   ]
  },
  {
   "cell_type": "code",
   "execution_count": 12,
   "metadata": {},
   "outputs": [],
   "source": [
    "clt1_opts = Dict(prime_width = cpw_width,\n",
    "                prime_gap = '5.1um',\n",
    "                second_width = cpw_width,\n",
    "                second_gap = '5.1um',\n",
    "                coupling_space = '7.9um',\n",
    "                coupling_length = '225um',\n",
    "                open_termination = False,\n",
    "                orientation = '-90',\n",
    "                pos_y = '1200um',\n",
    "                down_length = '50um')\n",
    "\n",
    "clt1 = CoupledLineTee(design, 'clt3', clt1_opts)\n",
    "\n",
    "cpw_total_length = 5160 + 716 + 300 + 1881.18568\n",
    "cpw_total_length = str(cpw_total_length) + 'um'\n",
    "cpw1_opts = Dict(pin_inputs = Dict(start_pin = Dict(component = 'clt3',\n",
    "                                                    pin = 'second_end'),\n",
    "                                   end_pin = Dict(component = 'Q3',\n",
    "                                                  pin = 'c')),\n",
    "                lead = Dict(end_straight = '70um',\n",
    "                            # start_jogged_extension = jogsS),\n",
    "                ),\n",
    "                fillet = '49.9um',\n",
    "                total_length = '3900um',#'3893.8166um', # '6776um',\n",
    "                trace_width = cpw_width,\n",
    "                meander = Dict(spacing = '100um',\n",
    "                               asymmetry = '-150um'),\n",
    "                trace_gap = '5.1um',)\n",
    "cpw1 = RouteMeander(design, 'cpw3', options = cpw1_opts)"
   ]
  },
  {
   "cell_type": "code",
   "execution_count": 13,
   "metadata": {},
   "outputs": [],
   "source": [
    "ncap2_opts = Dict(pos_x = '0',\n",
    "                  pos_y = '1700um',\n",
    "                  orientation = '90',\n",
    "                  prime_width = cpw_width,\n",
    "                  prime_gap = '5.1um',\n",
    "                  second_width = cpw_width,\n",
    "                  second_gap = '5.1um',\n",
    "                  cap_gap = '4.1um',\n",
    "                  cap_width = '10.9um',\n",
    "                  cap_gap_ground = '5.1um',\n",
    "                  finger_length = '30.9um',\n",
    "                  finger_count = '10',\n",
    "                  cap_distance = '50.9um',\n",
    "                  )\n",
    "\n",
    "NCap2 = CapNInterdigitalTee(design, 'ncap6', options = ncap2_opts)\n",
    "\n",
    "cpw_total_length = 5160 + 716 + 300 + 1881.18568\n",
    "cpw_total_length = str(cpw_total_length) + 'um'\n",
    "cpw2_opts = Dict(pin_inputs = Dict(start_pin = Dict(component = 'ncap6',\n",
    "                                                    pin = 'second_end'),\n",
    "                                   end_pin = Dict(component = 'Q6',\n",
    "                                                  pin = 'c')),\n",
    "                lead = Dict(start_straight = '100um',\n",
    "                            end_straight = '170um'),\n",
    "                fillet = '49.9um',\n",
    "                total_length = '8150um', # '6776um',\n",
    "                trace_width = cpw_width,\n",
    "                meander = Dict(spacing = '100um',\n",
    "                               asymmetry = '-150um'),\n",
    "                trace_gap = '5.1um')\n",
    "cpw2 = RouteMeander(design, 'cpw6', options = cpw2_opts)"
   ]
  },
  {
   "cell_type": "code",
   "execution_count": 14,
   "metadata": {},
   "outputs": [],
   "source": [
    "ncap3_opts = Dict(pos_x = '0',\n",
    "                  pos_y = '-300um',\n",
    "                  orientation = '-90',\n",
    "                  prime_width = cpw_width,\n",
    "                  prime_gap = '5.1um',\n",
    "                  second_width = cpw_width,\n",
    "                  second_gap = '5.1um',\n",
    "                  cap_gap = '4.1um',\n",
    "                  cap_width = '10.9um',\n",
    "                  cap_gap_ground = '5.1um',\n",
    "                  finger_length = '30.9um',\n",
    "                  finger_count = '7',\n",
    "                  cap_distance = '50.9um',\n",
    "                  )\n",
    "\n",
    "NCap3 = CapNInterdigitalTee(design, 'ncap5', options = ncap3_opts)\n",
    "\n",
    "cpw_total_length = 5160 + 716 + 300 + 1881.18568\n",
    "cpw_total_length = str(cpw_total_length) + 'um'\n",
    "cpw3_opts = Dict(pin_inputs = Dict(start_pin = Dict(component = 'ncap5',\n",
    "                                                    pin = 'second_end'),\n",
    "                                   end_pin = Dict(component = 'Q5',\n",
    "                                                  pin = 'c')),\n",
    "                lead = Dict(start_straight = '100um'),\n",
    "                fillet = '49.9um',\n",
    "                total_length = '8025um', # '6776um',\n",
    "                trace_width = cpw_width,\n",
    "                meander = Dict(spacing = '100um',\n",
    "                               asymmetry = '-150um'),\n",
    "                trace_gap = '5.1um')\n",
    "cpw3 = RouteMeander(design, 'cpw5', options = cpw3_opts)"
   ]
  },
  {
   "cell_type": "code",
   "execution_count": 15,
   "metadata": {},
   "outputs": [],
   "source": [
    "clt4_opts = Dict(prime_width = cpw_width,\n",
    "                prime_gap = '5.1um',\n",
    "                second_width = cpw_width,\n",
    "                second_gap = '5.1um',\n",
    "                coupling_space = '7.9um',\n",
    "                coupling_length = '225um',\n",
    "                open_termination = False,\n",
    "                orientation = '90',\n",
    "                pos_y = '250um',\n",
    "                down_length = '50um')\n",
    "\n",
    "clt4 = CoupledLineTee(design, 'clt2', clt4_opts)\n",
    "\n",
    "cpw_total_length = 5160 + 716 + 300 + 1881.18568\n",
    "cpw_total_length = str(cpw_total_length) + 'um'\n",
    "cpw4_opts = Dict(pin_inputs = Dict(start_pin = Dict(component = 'clt2',\n",
    "                                                    pin = 'second_end'),\n",
    "                                   end_pin = Dict(component = 'Q2',\n",
    "                                                  pin = 'c')),\n",
    "                lead = Dict(end_straight = '70um',\n",
    "                            # start_jogged_extension = jogsS),\n",
    "                ),\n",
    "                fillet = '49.9um',\n",
    "                total_length = '3700um', # '6776um',\n",
    "                trace_width = cpw_width,\n",
    "                meander = Dict(spacing = '100um',\n",
    "                               asymmetry = '-150um'),\n",
    "                trace_gap = '5.1um')\n",
    "cpw4 = RouteMeander(design, 'cpw2', options = cpw4_opts)"
   ]
  },
  {
   "cell_type": "code",
   "execution_count": 16,
   "metadata": {},
   "outputs": [],
   "source": [
    "clt5_opts = Dict(prime_width = cpw_width,\n",
    "                prime_gap = '5.1um',\n",
    "                second_width = cpw_width,\n",
    "                second_gap = '5.1um',\n",
    "                coupling_space = '7.9um',\n",
    "                coupling_length = '225um',\n",
    "                open_termination = False,\n",
    "                orientation = '-90',\n",
    "                pos_y = '-1500um',\n",
    "                down_length = '50um')\n",
    "\n",
    "clt5 = CoupledLineTee(design, 'clt1', clt5_opts)\n",
    "\n",
    "cpw_total_length = 5160 + 716 + 300 + 1881.18568\n",
    "cpw_total_length = str(cpw_total_length) + 'um'\n",
    "cpw5_opts = Dict(pin_inputs = Dict(start_pin = Dict(component = 'clt1',\n",
    "                                                    pin = 'second_end'),\n",
    "                                   end_pin = Dict(component = 'Q1',\n",
    "                                                  pin = 'c')),\n",
    "                lead = Dict(start_straight = '10um',\n",
    "                            end_straight = '70um'),\n",
    "                #             ),\n",
    "                fillet = '49.9um',\n",
    "                total_length = '3550um', # '6776um',\n",
    "                trace_width = cpw_width,\n",
    "                meander = Dict(spacing = '100um',\n",
    "                               asymmetry = '-150um'),\n",
    "                trace_gap = '5.1um')\n",
    "cpw5 = RouteMeander(design, 'cpw1', options = cpw5_opts)"
   ]
  },
  {
   "cell_type": "code",
   "execution_count": 17,
   "metadata": {},
   "outputs": [],
   "source": [
    "ncap6_opts = Dict(pos_x = '0',\n",
    "                  pos_y = '-1000um',\n",
    "                  orientation = '90',\n",
    "                  prime_width = cpw_width,\n",
    "                  prime_gap = '5.1um',\n",
    "                  second_width = cpw_width,\n",
    "                  second_gap = '5.1um',\n",
    "                  cap_gap = '4.1um',\n",
    "                  cap_width = '10.9um',\n",
    "                  cap_gap_ground = '5.1um',\n",
    "                  finger_length = '30.9um',\n",
    "                  finger_count = '4',\n",
    "                  cap_distance = '50.9um',\n",
    "                  )\n",
    "\n",
    "NCap6 = CapNInterdigitalTee(design, 'ncap4', options = ncap6_opts)\n",
    "\n",
    "cpw6_opts = Dict(pin_inputs = Dict(start_pin = Dict(component = 'ncap4',\n",
    "                                                    pin = 'second_end'),\n",
    "                                   end_pin = Dict(component = 'Q4',\n",
    "                                                  pin = 'c')),\n",
    "                lead = Dict(start_straight = '100um',\n",
    "                            end_straight = '70um'),\n",
    "                fillet = '49.9um',\n",
    "                total_length = '8000um',\n",
    "                trace_width = cpw_width,\n",
    "                meander = Dict(spacing = '100um',\n",
    "                               asymmetry = '-150um'),\n",
    "                trace_gap = '5.1um')\n",
    "cpw6 = RouteMeander(design, 'cpw4', options = cpw6_opts)"
   ]
  },
  {
   "cell_type": "code",
   "execution_count": 18,
   "metadata": {},
   "outputs": [],
   "source": [
    "RouteStraight.get_template_options(design)\n",
    "feedline_opts = Dict(pin_inputs = Dict(start_pin = Dict(component = 'wb_top',\n",
    "                                                        pin = 'tie'),\n",
    "                                       end_pin = Dict(component = 'ncap6',\n",
    "                                                      pin = 'prime_end')),\n",
    "                     trace_width = cpw_width,\n",
    "                     trace_gap = '5.1um')\n",
    "feedline = RouteStraight(design, 'feedline', options = feedline_opts)\n",
    "\n",
    "feedline_opts = Dict(pin_inputs = Dict(start_pin = Dict(component = 'ncap6',\n",
    "                                                        pin = 'prime_start'),\n",
    "                                       end_pin = Dict(component = 'ncap5',\n",
    "                                                      pin = 'prime_start')),\n",
    "                     trace_width = cpw_width,\n",
    "                     trace_gap = '5.1um')\n",
    "feedline2 = RouteStraight(design, 'feedline2', options = feedline_opts)\n",
    "\n",
    "feedline_opts = Dict(pin_inputs = Dict(start_pin = Dict(component = 'ncap5',\n",
    "                                                        pin = 'prime_end'),\n",
    "                                       end_pin = Dict(component = 'ncap4',\n",
    "                                                      pin = 'prime_end')),\n",
    "                     trace_width = cpw_width,\n",
    "                     trace_gap = '5.1um')\n",
    "feedline3 = RouteStraight(design, 'feedline3', options = feedline_opts)\n",
    "\n",
    "feedline_opts = Dict(pin_inputs = Dict(start_pin = Dict(component = 'ncap4',\n",
    "                                                        pin = 'prime_start'),\n",
    "                                       end_pin = Dict(component = 'wb_bottom',\n",
    "                                                      pin = 'tie')),\n",
    "                     trace_width = cpw_width,\n",
    "                     trace_gap = '5.1um')\n",
    "feedline4 = RouteStraight(design, 'feedline4', options = feedline_opts)"
   ]
  },
  {
   "cell_type": "code",
   "execution_count": 19,
   "metadata": {},
   "outputs": [],
   "source": [
    "gui.rebuild()\n",
    "gui.autoscale()\n",
    "# gui.zoom_on_components(['clt5', 'Q5'])\n",
    "# gui.screenshot()"
   ]
  },
  {
   "attachments": {},
   "cell_type": "markdown",
   "metadata": {},
   "source": [
    "# Simulations"
   ]
  },
  {
   "cell_type": "code",
   "execution_count": 20,
   "metadata": {},
   "outputs": [],
   "source": [
    "from qiskit_metal.renderers.renderer_ansys_pyaedt.hfss_renderer_eigenmode_aedt import QHFSSEigenmodePyaedt\n",
    "import pyEPR as epr"
   ]
  },
  {
   "attachments": {},
   "cell_type": "markdown",
   "metadata": {},
   "source": [
    "## Qubit Characteristics (Observables)\n",
    "Resonant frequency of qubit\n",
    "$$\n",
    "\\hbar \\omega_q = \\sqrt{8 E_J E_C} - E_C\n",
    "$$\n",
    "- $E_C$ is energy stored in capacitance\n",
    "- $E_J$ is energy stored in JJ\n",
    "\n",
    "Qubit anharmonicity\n",
    "$$\n",
    "\\alpha \\equiv \\alpha_{q} = \\omega_{q,21} - \\omega_{q,01}\n",
    "$$\n",
    "- $\\omega_{q,21}$ energy splitting between $\\ket 2$ and $\\ket 1$\n",
    "- $\\omega_{q,01}$ energy splitting between $\\ket 0$ and $\\ket 1$\n",
    "\n",
    "Cavity to Qubit Coupling Strength\n",
    "\n",
    "$$\n",
    "g = \\chi^2 / \\Delta\n",
    "$$\n"
   ]
  },
  {
   "cell_type": "code",
   "execution_count": 21,
   "metadata": {},
   "outputs": [
    {
     "name": "stdout",
     "output_type": "stream",
     "text": [
      "pyaedt INFO: using existing logger.\n"
     ]
    },
    {
     "name": "stderr",
     "output_type": "stream",
     "text": [
      "INFO:Global:using existing logger.\n"
     ]
    },
    {
     "name": "stdout",
     "output_type": "stream",
     "text": [
      "pyaedt INFO: Launching PyAEDT outside AEDT with CPython and PythonNET.\n"
     ]
    },
    {
     "name": "stderr",
     "output_type": "stream",
     "text": [
      "INFO:Global:Launching PyAEDT outside AEDT with CPython and PythonNET.\n"
     ]
    },
    {
     "name": "stdout",
     "output_type": "stream",
     "text": [
      "pyaedt INFO: AEDT installation Path D:\\Program Files\\AnsysEM\\AnsysEM21.1\\Win64.\n"
     ]
    },
    {
     "name": "stderr",
     "output_type": "stream",
     "text": [
      "INFO:Global:AEDT installation Path D:\\Program Files\\AnsysEM\\AnsysEM21.1\\Win64.\n"
     ]
    },
    {
     "name": "stdout",
     "output_type": "stream",
     "text": [
      "pyaedt INFO: Launching AEDT with module PythonNET.\n"
     ]
    },
    {
     "name": "stderr",
     "output_type": "stream",
     "text": [
      "INFO:Global:Launching AEDT with module PythonNET.\n"
     ]
    },
    {
     "name": "stdout",
     "output_type": "stream",
     "text": [
      "pyaedt WARNING: PyAEDT is not supported in AEDT versions earlier than 2021 R2. Trying to launch PyAEDT with PyWin32.\n"
     ]
    },
    {
     "name": "stderr",
     "output_type": "stream",
     "text": [
      "WARNING:Global:PyAEDT is not supported in AEDT versions earlier than 2021 R2. Trying to launch PyAEDT with PyWin32.\n"
     ]
    },
    {
     "name": "stdout",
     "output_type": "stream",
     "text": [
      "pyaedt INFO: pyaedt v0.6.26\n"
     ]
    },
    {
     "name": "stderr",
     "output_type": "stream",
     "text": [
      "INFO:Global:pyaedt v0.6.26\n"
     ]
    },
    {
     "name": "stdout",
     "output_type": "stream",
     "text": [
      "pyaedt INFO: Python version 3.10.6 | packaged by conda-forge | (main, Aug 22 2022, 20:30:19) [MSC v.1929 64 bit (AMD64)]\n"
     ]
    },
    {
     "name": "stderr",
     "output_type": "stream",
     "text": [
      "INFO:Global:Python version 3.10.6 | packaged by conda-forge | (main, Aug 22 2022, 20:30:19) [MSC v.1929 64 bit (AMD64)]\n"
     ]
    },
    {
     "name": "stdout",
     "output_type": "stream",
     "text": [
      "pyaedt INFO: Project CavityQubit_Modified_Candle_Andre_proj_0_1_5 has been created.\n"
     ]
    },
    {
     "name": "stderr",
     "output_type": "stream",
     "text": [
      "INFO:Global:Project CavityQubit_Modified_Candle_Andre_proj_0_1_5 has been created.\n"
     ]
    },
    {
     "name": "stdout",
     "output_type": "stream",
     "text": [
      "pyaedt INFO: Added design 'CavityQubit_Modified_Candle_Andre_design_0_1_5' of type HFSS.\n"
     ]
    },
    {
     "name": "stderr",
     "output_type": "stream",
     "text": [
      "INFO:Global:Added design 'CavityQubit_Modified_Candle_Andre_design_0_1_5' of type HFSS.\n"
     ]
    },
    {
     "name": "stdout",
     "output_type": "stream",
     "text": [
      "pyaedt INFO: Aedt Objects initialized\n"
     ]
    },
    {
     "name": "stderr",
     "output_type": "stream",
     "text": [
      "INFO:Global:Aedt Objects initialized\n"
     ]
    },
    {
     "name": "stdout",
     "output_type": "stream",
     "text": [
      "pyaedt INFO: Variable Manager initialized\n"
     ]
    },
    {
     "name": "stderr",
     "output_type": "stream",
     "text": [
      "INFO:Global:Variable Manager initialized\n"
     ]
    },
    {
     "name": "stdout",
     "output_type": "stream",
     "text": [
      "pyaedt INFO: Design Loaded\n"
     ]
    },
    {
     "name": "stderr",
     "output_type": "stream",
     "text": [
      "INFO:Global:Design Loaded\n"
     ]
    },
    {
     "name": "stdout",
     "output_type": "stream",
     "text": [
      "pyaedt INFO: Successfully loaded project materials !\n"
     ]
    },
    {
     "name": "stderr",
     "output_type": "stream",
     "text": [
      "INFO:Global:Successfully loaded project materials !\n"
     ]
    },
    {
     "name": "stdout",
     "output_type": "stream",
     "text": [
      "pyaedt INFO: Materials Loaded\n"
     ]
    },
    {
     "name": "stderr",
     "output_type": "stream",
     "text": [
      "INFO:Global:Materials Loaded\n"
     ]
    },
    {
     "name": "stdout",
     "output_type": "stream",
     "text": [
      "pyaedt INFO: aedt file load time 0.003000020980834961\n"
     ]
    },
    {
     "name": "stderr",
     "output_type": "stream",
     "text": [
      "INFO:Global:aedt file load time 0.003000020980834961\n"
     ]
    },
    {
     "name": "stdout",
     "output_type": "stream",
     "text": [
      "pyaedt INFO: Project CavityQubit_Modified_Candle_Andre_proj_0_1_5 set to active.\n"
     ]
    },
    {
     "name": "stderr",
     "output_type": "stream",
     "text": [
      "INFO:Global:Project CavityQubit_Modified_Candle_Andre_proj_0_1_5 set to active.\n"
     ]
    },
    {
     "name": "stdout",
     "output_type": "stream",
     "text": [
      "pyaedt INFO: Aedt Objects initialized\n"
     ]
    },
    {
     "name": "stderr",
     "output_type": "stream",
     "text": [
      "INFO:Global:Aedt Objects initialized\n"
     ]
    },
    {
     "name": "stdout",
     "output_type": "stream",
     "text": [
      "pyaedt INFO: Variable Manager initialized\n"
     ]
    },
    {
     "name": "stderr",
     "output_type": "stream",
     "text": [
      "INFO:Global:Variable Manager initialized\n"
     ]
    },
    {
     "name": "stdout",
     "output_type": "stream",
     "text": [
      "pyaedt INFO: Design Loaded\n"
     ]
    },
    {
     "name": "stderr",
     "output_type": "stream",
     "text": [
      "INFO:Global:Design Loaded\n"
     ]
    },
    {
     "name": "stdout",
     "output_type": "stream",
     "text": [
      "pyaedt INFO: Successfully loaded project materials !\n"
     ]
    },
    {
     "name": "stderr",
     "output_type": "stream",
     "text": [
      "INFO:Global:Successfully loaded project materials !\n"
     ]
    },
    {
     "name": "stdout",
     "output_type": "stream",
     "text": [
      "pyaedt INFO: Materials Loaded\n"
     ]
    },
    {
     "name": "stderr",
     "output_type": "stream",
     "text": [
      "INFO:Global:Materials Loaded\n"
     ]
    }
   ],
   "source": [
    "em1_aedt = QHFSSEigenmodePyaedt(design, \n",
    "                                'CavityQubit_Modified_Candle_Andre_proj_0_1_5',\n",
    "                                'CavityQubit_Modified_Candle_Andre_design_0_1_5',\n",
    "                                initiate=True)\n",
    "hfss_aedt = em1_aedt.current_app\n",
    "\n",
    "#### Computer's variables\n",
    "num_cores=16\n",
    "num_gpu=1\n",
    "\n",
    "#### Setup Name\n",
    "setup_name = 'TransmonSetup'\n",
    "\n",
    "\n",
    "# Change silicon permitivity to super cold silicon\n",
    "em1_aedt.current_app.materials['silicon'].permittivity = 11.45"
   ]
  },
  {
   "cell_type": "code",
   "execution_count": 1,
   "metadata": {},
   "outputs": [],
   "source": [
    "def add_mesh(selection):\n",
    "    qubit_name = selection[0]\n",
    "    cpw_name = selection[1]\n",
    "    clt_name = selection[2]\n",
    "\n",
    "\n",
    "    mesh = em1_aedt.current_app.mesh\n",
    "\n",
    "    # QUBIT Mesh\n",
    "    mesh.assign_length_mesh(names=[f'cross_{qubit_name}'], \n",
    "                            isinside=True, \n",
    "                            maxlength='5um', \n",
    "                            maxel=None, \n",
    "                            meshop_name=f'qubit_{qubit_name}')\n",
    "\n",
    "    # CPW Mesh\n",
    "    mesh.assign_length_mesh(names=[f'c_connector_arm_{qubit_name}',\n",
    "                                   f'prime_cpw_{clt_name}_shortline',\n",
    "                                   f'second_cpw_{clt_name}_shortline',\n",
    "                                   f'trace_{cpw_name}_shortline'], \n",
    "                            isinside=True, \n",
    "                            maxlength='4um', \n",
    "                            maxel=None, \n",
    "                            meshop_name=f'cpw_{cpw_name}')\n",
    "\n",
    "def run_simulation():\n",
    "    #### Computer's variables\n",
    "    num_cores=16\n",
    "    num_gpu=1\n",
    "    \n",
    "    #### Setup Name\n",
    "    setup_name = 'TransmonSetup'\n",
    "    \n",
    "    # Change Silicon to Ultracold Silicon\n",
    "    hfss_aedt.materials['silicon'].permittivity = 11.45\n",
    "    \n",
    "    # Add project variables\n",
    "    add_project_level_vars(em1_aedt)\n",
    "    \n",
    "    # Clear setups\n",
    "    if len(hfss_aedt.setups) != 0:\n",
    "        hfss_aedt.setups[0].delete()\n",
    "    \n",
    "    # Add Setup\n",
    "    setup_options = dict(\n",
    "        name= setup_name,\n",
    "        MinimumFrequency = 3,  # GHz\n",
    "        NumModes= 2,\n",
    "        MaxDeltaFreq = 0.1,\n",
    "        MaximumPasses= 50,\n",
    "        MinimumPasses= None,\n",
    "        MinimumConvergedPasses= 2,\n",
    "        PercentRefinement= 30,\n",
    "        BasisOrder= None\n",
    "    )\n",
    "    \n",
    "    em1_aedt.add_hfss_em_setup(**setup_options)\n",
    "    \n",
    "    hfss_aedt.analyze_setup(name=setup_name, \n",
    "                            num_cores=num_cores, \n",
    "                            num_gpu=num_gpu)\n",
    "    \n",
    "    # Make silicon ultra cold\n",
    "    hfss_aedt.materials['silicon'].permittivity = 11.45\n",
    "\n",
    "def add_project_level_vars(self):\n",
    "    \"\"\"\n",
    "    Finds all names, inductances, and capacitances of Josephson Junctions rendered into ANSYS.\n",
    "    \"\"\"\n",
    "    # Get all josephson junctions from rendered components table\n",
    "    geom_table = self.path_poly_and_junction_with_valid_comps\n",
    "    all_jjs = geom_table.loc[geom_table['name'].str.contains('rect_jj')]\n",
    "    all_jjs = all_jjs.reset_index(drop=True)\n",
    "\n",
    "    for i, row in all_jjs.iterrows():\n",
    "        ### Parsing Data ###\n",
    "        component = str(row['component'])\n",
    "        name = str(row['name'])\n",
    "        inductance = row['aedt_hfss_inductance']  # Lj in Henries\n",
    "        capacitance = row['aedt_hfss_capacitance']  # Cj in Farads\n",
    "\n",
    "        # Get ANSYS > Model > Sheet corresponding to JJs\n",
    "        rect_name = 'JJ_rect_Lj_' + component + '_' + name\n",
    "\n",
    "        # Get ANSYS > Model > Lines corresponding to JJs\n",
    "        line_name = 'JJ_Lj_' + component + '_' + name + '_'\n",
    "\n",
    "        ### Appending data ###\n",
    "        # Add global Lj and Cj variables to ANSYS (for EPR analysis)\n",
    "        ansys_Lj_name = f'Lj_{i}'\n",
    "        ansys_Cj_name = f'Cj_{i}'\n",
    "\n",
    "        self.set_variable(ansys_Lj_name, str(inductance * 1E9) + 'nH')\n",
    "        self.set_variable(ansys_Cj_name, str(capacitance * 1E15) + 'fF')\n",
    "\n",
    "def run_analysis():\n",
    "    '''\n",
    "    After finishing simulation, analyze results\n",
    "    '''\n",
    "    em1_aedt.run_epr()\n",
    "    \n",
    "    # Extract observables of int\n",
    "    observables = extract_observables(em1_aedt.epr_quantum_analysis)\n",
    "    return observables\n",
    "\n",
    "\n",
    "\n",
    "def extract_observables(epra):\n",
    "    '''\n",
    "    Extract observables from EPR quantum analysis\n",
    "    \n",
    "    Args:\n",
    "        epra (epr.QuantumAnalysis): Raw EPR Quanutm analysis class\n",
    "        cos_trunc (int, optional): amount of terms to consider in cosine expansion\n",
    "        fock_trunc (int, optional): size of fock space before truncation\n",
    "        \n",
    "    Returns:\n",
    "        package (dict): simulated observables\n",
    "    '''\n",
    "    \n",
    "    # Extraction of variables\n",
    "    omegas = epra.get_frequencies()\n",
    "    chis = epra.get_chis()\n",
    "    other_data = epra.data\n",
    "    \n",
    "    package = dict(qubit_freq_MHz = omegas['0'][0],\n",
    "                   qubit_anharmonicity_MHz = chis[0][0],\n",
    "                   other_data = str(other_data))\n",
    "    \n",
    "    return package"
   ]
  },
  {
   "cell_type": "code",
   "execution_count": 23,
   "metadata": {},
   "outputs": [],
   "source": [
    "def simulate_cavityqubit(selection):\n",
    "    '''\n",
    "    Args:\n",
    "        selection (str): name of qubit to simulate\n",
    "    '''\n",
    "    ## Clear design\n",
    "    em1_aedt.clean_user_design()\n",
    "    \n",
    "    ## Render design in ANSYS\n",
    "    em1_aedt.render_design(selection=selection)\n",
    "\n",
    "    add_mesh(selection=selection)\n",
    "\n",
    "    ## Add project level variables for pyEPR\n",
    "    add_project_level_vars(em1_aedt)\n",
    "    \n",
    "    run_simulation()\n",
    "    package = run_analysis()\n",
    "    \n",
    "    return package"
   ]
  },
  {
   "cell_type": "code",
   "execution_count": 24,
   "metadata": {},
   "outputs": [
    {
     "name": "stdout",
     "output_type": "stream",
     "text": [
      "pyaedt INFO: Project CavityQubit_Modified_Candle_Andre_proj_0_1_5 set to active.\n"
     ]
    },
    {
     "name": "stderr",
     "output_type": "stream",
     "text": [
      "INFO:Global:Project CavityQubit_Modified_Candle_Andre_proj_0_1_5 set to active.\n"
     ]
    },
    {
     "name": "stdout",
     "output_type": "stream",
     "text": [
      "pyaedt INFO: Aedt Objects initialized\n"
     ]
    },
    {
     "name": "stderr",
     "output_type": "stream",
     "text": [
      "INFO:Global:Aedt Objects initialized\n"
     ]
    },
    {
     "name": "stdout",
     "output_type": "stream",
     "text": [
      "pyaedt INFO: Variable Manager initialized\n"
     ]
    },
    {
     "name": "stderr",
     "output_type": "stream",
     "text": [
      "INFO:Global:Variable Manager initialized\n"
     ]
    },
    {
     "name": "stdout",
     "output_type": "stream",
     "text": [
      "pyaedt INFO: Design Loaded\n"
     ]
    },
    {
     "name": "stderr",
     "output_type": "stream",
     "text": [
      "INFO:Global:Design Loaded\n"
     ]
    },
    {
     "name": "stdout",
     "output_type": "stream",
     "text": [
      "pyaedt INFO: Successfully loaded project materials !\n"
     ]
    },
    {
     "name": "stderr",
     "output_type": "stream",
     "text": [
      "INFO:Global:Successfully loaded project materials !\n"
     ]
    },
    {
     "name": "stdout",
     "output_type": "stream",
     "text": [
      "pyaedt INFO: Materials Loaded\n"
     ]
    },
    {
     "name": "stderr",
     "output_type": "stream",
     "text": [
      "INFO:Global:Materials Loaded\n"
     ]
    },
    {
     "name": "stdout",
     "output_type": "stream",
     "text": [
      "pyaedt WARNING: No objects to delete\n"
     ]
    },
    {
     "name": "stderr",
     "output_type": "stream",
     "text": [
      "WARNING:Global:No objects to delete\n"
     ]
    },
    {
     "name": "stdout",
     "output_type": "stream",
     "text": [
      "pyaedt INFO: Project CavityQubit_Modified_Candle_Andre_proj_0_1_5 set to active.\n"
     ]
    },
    {
     "name": "stderr",
     "output_type": "stream",
     "text": [
      "INFO:Global:Project CavityQubit_Modified_Candle_Andre_proj_0_1_5 set to active.\n"
     ]
    },
    {
     "name": "stdout",
     "output_type": "stream",
     "text": [
      "pyaedt INFO: Aedt Objects initialized\n"
     ]
    },
    {
     "name": "stderr",
     "output_type": "stream",
     "text": [
      "INFO:Global:Aedt Objects initialized\n"
     ]
    },
    {
     "name": "stdout",
     "output_type": "stream",
     "text": [
      "pyaedt INFO: Variable Manager initialized\n"
     ]
    },
    {
     "name": "stderr",
     "output_type": "stream",
     "text": [
      "INFO:Global:Variable Manager initialized\n"
     ]
    },
    {
     "name": "stdout",
     "output_type": "stream",
     "text": [
      "pyaedt INFO: Design Loaded\n"
     ]
    },
    {
     "name": "stderr",
     "output_type": "stream",
     "text": [
      "INFO:Global:Design Loaded\n"
     ]
    },
    {
     "name": "stdout",
     "output_type": "stream",
     "text": [
      "pyaedt INFO: Successfully loaded project materials !\n"
     ]
    },
    {
     "name": "stderr",
     "output_type": "stream",
     "text": [
      "INFO:Global:Successfully loaded project materials !\n"
     ]
    },
    {
     "name": "stdout",
     "output_type": "stream",
     "text": [
      "pyaedt INFO: Materials Loaded\n"
     ]
    },
    {
     "name": "stderr",
     "output_type": "stream",
     "text": [
      "INFO:Global:Materials Loaded\n"
     ]
    },
    {
     "name": "stdout",
     "output_type": "stream",
     "text": [
      "pyaedt INFO: Project CavityQubit_Modified_Candle_Andre_proj_0_1_5 set to active.\n"
     ]
    },
    {
     "name": "stderr",
     "output_type": "stream",
     "text": [
      "INFO:Global:Project CavityQubit_Modified_Candle_Andre_proj_0_1_5 set to active.\n"
     ]
    },
    {
     "name": "stdout",
     "output_type": "stream",
     "text": [
      "pyaedt INFO: Aedt Objects initialized\n"
     ]
    },
    {
     "name": "stderr",
     "output_type": "stream",
     "text": [
      "INFO:Global:Aedt Objects initialized\n"
     ]
    },
    {
     "name": "stdout",
     "output_type": "stream",
     "text": [
      "pyaedt INFO: Variable Manager initialized\n"
     ]
    },
    {
     "name": "stderr",
     "output_type": "stream",
     "text": [
      "INFO:Global:Variable Manager initialized\n"
     ]
    },
    {
     "name": "stdout",
     "output_type": "stream",
     "text": [
      "pyaedt INFO: Design Loaded\n"
     ]
    },
    {
     "name": "stderr",
     "output_type": "stream",
     "text": [
      "INFO:Global:Design Loaded\n"
     ]
    },
    {
     "name": "stdout",
     "output_type": "stream",
     "text": [
      "pyaedt INFO: Successfully loaded project materials !\n"
     ]
    },
    {
     "name": "stderr",
     "output_type": "stream",
     "text": [
      "INFO:Global:Successfully loaded project materials !\n"
     ]
    },
    {
     "name": "stdout",
     "output_type": "stream",
     "text": [
      "pyaedt INFO: Materials Loaded\n"
     ]
    },
    {
     "name": "stderr",
     "output_type": "stream",
     "text": [
      "INFO:Global:Materials Loaded\n"
     ]
    },
    {
     "name": "stdout",
     "output_type": "stream",
     "text": [
      "pyaedt WARNING: No objects to delete\n"
     ]
    },
    {
     "name": "stderr",
     "output_type": "stream",
     "text": [
      "WARNING:Global:No objects to delete\n"
     ]
    },
    {
     "name": "stdout",
     "output_type": "stream",
     "text": [
      "pyaedt INFO: Project CavityQubit_Modified_Candle_Andre_proj_0_1_5 set to active.\n"
     ]
    },
    {
     "name": "stderr",
     "output_type": "stream",
     "text": [
      "INFO:Global:Project CavityQubit_Modified_Candle_Andre_proj_0_1_5 set to active.\n"
     ]
    },
    {
     "name": "stdout",
     "output_type": "stream",
     "text": [
      "pyaedt INFO: Aedt Objects initialized\n"
     ]
    },
    {
     "name": "stderr",
     "output_type": "stream",
     "text": [
      "INFO:Global:Aedt Objects initialized\n"
     ]
    },
    {
     "name": "stdout",
     "output_type": "stream",
     "text": [
      "pyaedt INFO: Variable Manager initialized\n"
     ]
    },
    {
     "name": "stderr",
     "output_type": "stream",
     "text": [
      "INFO:Global:Variable Manager initialized\n"
     ]
    },
    {
     "name": "stdout",
     "output_type": "stream",
     "text": [
      "pyaedt INFO: Design Loaded\n"
     ]
    },
    {
     "name": "stderr",
     "output_type": "stream",
     "text": [
      "INFO:Global:Design Loaded\n"
     ]
    },
    {
     "name": "stdout",
     "output_type": "stream",
     "text": [
      "pyaedt INFO: Successfully loaded project materials !\n"
     ]
    },
    {
     "name": "stderr",
     "output_type": "stream",
     "text": [
      "INFO:Global:Successfully loaded project materials !\n"
     ]
    },
    {
     "name": "stdout",
     "output_type": "stream",
     "text": [
      "pyaedt INFO: Materials Loaded\n"
     ]
    },
    {
     "name": "stderr",
     "output_type": "stream",
     "text": [
      "INFO:Global:Materials Loaded\n"
     ]
    },
    {
     "name": "stdout",
     "output_type": "stream",
     "text": [
      "pyaedt INFO: Boundary Lumped RLC rlc_JJ_rect_Lj_7_rect_jj has been correctly created.\n"
     ]
    },
    {
     "name": "stderr",
     "output_type": "stream",
     "text": [
      "INFO:Global:Boundary Lumped RLC rlc_JJ_rect_Lj_7_rect_jj has been correctly created.\n"
     ]
    },
    {
     "name": "stdout",
     "output_type": "stream",
     "text": [
      "pyaedt INFO: Project CavityQubit_Modified_Candle_Andre_proj_0_1_5 set to active.\n"
     ]
    },
    {
     "name": "stderr",
     "output_type": "stream",
     "text": [
      "INFO:Global:Project CavityQubit_Modified_Candle_Andre_proj_0_1_5 set to active.\n"
     ]
    },
    {
     "name": "stdout",
     "output_type": "stream",
     "text": [
      "pyaedt INFO: Aedt Objects initialized\n"
     ]
    },
    {
     "name": "stderr",
     "output_type": "stream",
     "text": [
      "INFO:Global:Aedt Objects initialized\n"
     ]
    },
    {
     "name": "stdout",
     "output_type": "stream",
     "text": [
      "pyaedt INFO: Variable Manager initialized\n"
     ]
    },
    {
     "name": "stderr",
     "output_type": "stream",
     "text": [
      "INFO:Global:Variable Manager initialized\n"
     ]
    },
    {
     "name": "stdout",
     "output_type": "stream",
     "text": [
      "pyaedt INFO: Design Loaded\n"
     ]
    },
    {
     "name": "stderr",
     "output_type": "stream",
     "text": [
      "INFO:Global:Design Loaded\n"
     ]
    },
    {
     "name": "stdout",
     "output_type": "stream",
     "text": [
      "pyaedt INFO: Successfully loaded project materials !\n"
     ]
    },
    {
     "name": "stderr",
     "output_type": "stream",
     "text": [
      "INFO:Global:Successfully loaded project materials !\n"
     ]
    },
    {
     "name": "stdout",
     "output_type": "stream",
     "text": [
      "pyaedt INFO: Materials Loaded\n"
     ]
    },
    {
     "name": "stderr",
     "output_type": "stream",
     "text": [
      "INFO:Global:Materials Loaded\n"
     ]
    },
    {
     "name": "stdout",
     "output_type": "stream",
     "text": [
      "pyaedt INFO: Project CavityQubit_Modified_Candle_Andre_proj_0_1_5 set to active.\n"
     ]
    },
    {
     "name": "stderr",
     "output_type": "stream",
     "text": [
      "INFO:Global:Project CavityQubit_Modified_Candle_Andre_proj_0_1_5 set to active.\n"
     ]
    },
    {
     "name": "stdout",
     "output_type": "stream",
     "text": [
      "pyaedt INFO: Aedt Objects initialized\n"
     ]
    },
    {
     "name": "stderr",
     "output_type": "stream",
     "text": [
      "INFO:Global:Aedt Objects initialized\n"
     ]
    },
    {
     "name": "stdout",
     "output_type": "stream",
     "text": [
      "pyaedt INFO: Variable Manager initialized\n"
     ]
    },
    {
     "name": "stderr",
     "output_type": "stream",
     "text": [
      "INFO:Global:Variable Manager initialized\n"
     ]
    },
    {
     "name": "stdout",
     "output_type": "stream",
     "text": [
      "pyaedt INFO: Design Loaded\n"
     ]
    },
    {
     "name": "stderr",
     "output_type": "stream",
     "text": [
      "INFO:Global:Design Loaded\n"
     ]
    },
    {
     "name": "stdout",
     "output_type": "stream",
     "text": [
      "pyaedt INFO: Successfully loaded project materials !\n"
     ]
    },
    {
     "name": "stderr",
     "output_type": "stream",
     "text": [
      "INFO:Global:Successfully loaded project materials !\n"
     ]
    },
    {
     "name": "stdout",
     "output_type": "stream",
     "text": [
      "pyaedt INFO: Materials Loaded\n"
     ]
    },
    {
     "name": "stderr",
     "output_type": "stream",
     "text": [
      "INFO:Global:Materials Loaded\n"
     ]
    },
    {
     "name": "stdout",
     "output_type": "stream",
     "text": [
      "pyaedt INFO: Key Desktop/ActiveDSOConfigurations/HFSS correctly changed.\n"
     ]
    },
    {
     "name": "stderr",
     "output_type": "stream",
     "text": [
      "INFO:Global:Key Desktop/ActiveDSOConfigurations/HFSS correctly changed.\n"
     ]
    },
    {
     "name": "stdout",
     "output_type": "stream",
     "text": [
      "pyaedt INFO: Solving design setup TransmonSetup\n"
     ]
    },
    {
     "name": "stderr",
     "output_type": "stream",
     "text": [
      "INFO:Global:Solving design setup TransmonSetup\n"
     ]
    },
    {
     "name": "stdout",
     "output_type": "stream",
     "text": [
      "pyaedt INFO: Key Desktop/ActiveDSOConfigurations/HFSS correctly changed.\n"
     ]
    },
    {
     "name": "stderr",
     "output_type": "stream",
     "text": [
      "INFO:Global:Key Desktop/ActiveDSOConfigurations/HFSS correctly changed.\n"
     ]
    },
    {
     "name": "stdout",
     "output_type": "stream",
     "text": [
      "pyaedt INFO: Design setup TransmonSetup solved correctly in 0.0h 45.0m 26.0s\n"
     ]
    },
    {
     "name": "stderr",
     "output_type": "stream",
     "text": [
      "INFO:Global:Design setup TransmonSetup solved correctly in 0.0h 45.0m 26.0s\n"
     ]
    },
    {
     "name": "stdout",
     "output_type": "stream",
     "text": [
      "pyaedt INFO: Project CavityQubit_Modified_Candle_Andre_proj_0_1_5 set to active.\n"
     ]
    },
    {
     "name": "stderr",
     "output_type": "stream",
     "text": [
      "INFO:Global:Project CavityQubit_Modified_Candle_Andre_proj_0_1_5 set to active.\n"
     ]
    },
    {
     "name": "stdout",
     "output_type": "stream",
     "text": [
      "pyaedt INFO: Aedt Objects initialized\n"
     ]
    },
    {
     "name": "stderr",
     "output_type": "stream",
     "text": [
      "INFO:Global:Aedt Objects initialized\n"
     ]
    },
    {
     "name": "stdout",
     "output_type": "stream",
     "text": [
      "pyaedt INFO: Variable Manager initialized\n"
     ]
    },
    {
     "name": "stderr",
     "output_type": "stream",
     "text": [
      "INFO:Global:Variable Manager initialized\n"
     ]
    },
    {
     "name": "stdout",
     "output_type": "stream",
     "text": [
      "pyaedt INFO: Design Loaded\n"
     ]
    },
    {
     "name": "stderr",
     "output_type": "stream",
     "text": [
      "INFO:Global:Design Loaded\n"
     ]
    },
    {
     "name": "stdout",
     "output_type": "stream",
     "text": [
      "pyaedt INFO: Successfully loaded project materials !\n"
     ]
    },
    {
     "name": "stderr",
     "output_type": "stream",
     "text": [
      "INFO:Global:Successfully loaded project materials !\n"
     ]
    },
    {
     "name": "stdout",
     "output_type": "stream",
     "text": [
      "pyaedt INFO: Materials Loaded\n"
     ]
    },
    {
     "name": "stderr",
     "output_type": "stream",
     "text": [
      "INFO:Global:Materials Loaded\n",
      "INFO 07:48PM [connect_project]: Connecting to Ansys Desktop API...\n",
      "INFO 07:48PM [load_ansys_project]: \tOpened Ansys App\n",
      "INFO 07:48PM [load_ansys_project]: \tOpened Ansys Desktop v2021.1.0\n",
      "INFO 07:48PM [load_ansys_project]: \tOpened Ansys Project\n",
      "\tFolder:    D:/lfl/Documents/Ansoft/\n",
      "\tProject:   CavityQubit_Modified_Candle_Andre_proj_0_1_5\n",
      "INFO 07:48PM [connect_design]: \tOpened active design\n",
      "\tDesign:    CavityQubit_Modified_Candle_Andre_design_0_1_5 [Solution type: Eigenmode]\n",
      "INFO 07:48PM [get_setup]: \tOpened setup `TransmonSetup`  (<class 'pyEPR.ansys.HfssEMSetup'>)\n",
      "INFO 07:48PM [connect]: \tConnected to project \"CavityQubit_Modified_Candle_Andre_proj_0_1_5\" and design \"CavityQubit_Modified_Candle_Andre_design_0_1_5\" 😀 \n",
      "\n"
     ]
    },
    {
     "name": "stdout",
     "output_type": "stream",
     "text": [
      "Design \"CavityQubit_Modified_Candle_Andre_design_0_1_5\" info:\n",
      "\t# eigenmodes    2\n",
      "\t# variations    1\n",
      "\n",
      "Variation 0  [1/1]\n",
      "\n",
      "  \u001b[1mMode 0 at 4.22 GHz   [1/2]\u001b[0m\n",
      "    Calculating ℰ_magnetic,ℰ_electric\n",
      "       (ℰ_E-ℰ_H)/ℰ_E       ℰ_E       ℰ_H\n",
      "               98.8%  1.977e-26 2.365e-28\n",
      "\n",
      "    Calculating junction energy participation ration (EPR)\n",
      "\tmethod=`line_voltage`. First estimates:\n",
      "\tjunction        EPR p_0j   sign s_0j    (p_capacitive)\n",
      "\t\tEnergy fraction (Lj over Lj&Cj)= 98.04%\n",
      "\tj0               0.73478  (+)        0.0147014\n",
      "\t\t(U_tot_cap-U_tot_ind)/mean=15.21%\n",
      "WARNING: This simulation must not have converged well!!!                The difference in the total cap and ind energies is larger than 10%.                Proceed with caution.\n",
      "\n",
      "  \u001b[1mMode 1 at 7.53 GHz   [2/2]\u001b[0m\n",
      "    Calculating ℰ_magnetic,ℰ_electric\n",
      "       (ℰ_E-ℰ_H)/ℰ_E       ℰ_E       ℰ_H\n",
      "                0.0%  2.112e-26 2.111e-26\n",
      "\n",
      "    Calculating junction energy participation ration (EPR)\n",
      "\tmethod=`line_voltage`. First estimates:\n",
      "\tjunction        EPR p_1j   sign s_1j    (p_capacitive)\n",
      "\t\tEnergy fraction (Lj over Lj&Cj)= 93.99%\n",
      "\tj0              0.000357355  (+)        2.28308e-05\n",
      "\t\t(U_tot_cap-U_tot_ind)/mean=0.01%\n"
     ]
    },
    {
     "name": "stderr",
     "output_type": "stream",
     "text": [
      "WARNING 07:49PM [__init__]: <p>Error: <class 'IndexError'></p>\n",
      "ERROR 07:49PM [_get_participation_normalized]: WARNING: U_tot_cap-U_tot_ind / mean = 30.4% is > 15%.                     \n",
      "Is the simulation converged? Proceed with caution\n",
      "ERROR 07:49PM [_get_participation_normalized]: WARNING: U_tot_cap-U_tot_ind / mean = 30.4% is > 15%.                     \n",
      "Is the simulation converged? Proceed with caution\n"
     ]
    },
    {
     "name": "stdout",
     "output_type": "stream",
     "text": [
      "\n",
      "ANALYSIS DONE. Data saved to:\n",
      "\n",
      "C:\\data-pyEPR\\CavityQubit_Modified_Candle_Andre_proj_0_1_5\\CavityQubit_Modified_Candle_Andre_design_0_1_5\\2023-06-19 19-48-26.npz\n",
      "\n",
      "\n",
      "\t Differences in variations:\n",
      "\n",
      "\n",
      "\n",
      " . . . . . . . . . . . . . . . . . . . . . . . . . . . . . . . . . . . . . . . . \n",
      "Variation 0\n",
      "\n",
      "Starting the diagonalization\n",
      "Finished the diagonalization\n",
      "Pm_norm=\n",
      "modes\n",
      "0    1.362203\n",
      "1    1.203876\n",
      "dtype: float64\n",
      "\n",
      "Pm_norm idx =\n",
      "      j0\n",
      "0   True\n",
      "1  False\n",
      "*** P (participation matrix, not normlz.)\n",
      "         j0\n",
      "0  0.724134\n",
      "1  0.000357\n",
      "\n",
      "*** S (sign-bit matrix)\n",
      "   s_j0\n",
      "0    -1\n",
      "1     1\n",
      "*** P (participation matrix, normalized.)\n",
      "      0.99\n",
      "   0.00036\n",
      "\n",
      "*** Chi matrix O1 PT (MHz)\n",
      "    Diag is anharmonicity, off diag is full cross-Kerr.\n",
      "       189    0.244\n",
      "     0.244  7.9e-05\n",
      "\n",
      "*** Chi matrix ND (MHz) \n",
      "       211    0.232\n",
      "     0.232 6.27e-05\n",
      "\n",
      "*** Frequencies O1 PT (MHz)\n",
      "0    4026.555581\n",
      "1    7532.237766\n",
      "dtype: float64\n",
      "\n",
      "*** Frequencies ND (MHz)\n",
      "0    4017.102403\n",
      "1    7532.238089\n",
      "dtype: float64\n",
      "\n",
      "*** Q_coupling\n",
      "Empty DataFrame\n",
      "Columns: []\n",
      "Index: [0, 1]\n"
     ]
    },
    {
     "data": {
      "text/markdown": [
       "#### Mode frequencies (MHz)"
      ],
      "text/plain": [
       "<IPython.core.display.Markdown object>"
      ]
     },
     "metadata": {},
     "output_type": "display_data"
    },
    {
     "data": {
      "text/markdown": [
       "###### Numerical diagonalization"
      ],
      "text/plain": [
       "<IPython.core.display.Markdown object>"
      ]
     },
     "metadata": {},
     "output_type": "display_data"
    },
    {
     "data": {
      "text/html": [
       "<div>\n",
       "<style scoped>\n",
       "    .dataframe tbody tr th:only-of-type {\n",
       "        vertical-align: middle;\n",
       "    }\n",
       "\n",
       "    .dataframe tbody tr th {\n",
       "        vertical-align: top;\n",
       "    }\n",
       "\n",
       "    .dataframe thead th {\n",
       "        text-align: right;\n",
       "    }\n",
       "</style>\n",
       "<table border=\"1\" class=\"dataframe\">\n",
       "  <thead>\n",
       "    <tr style=\"text-align: right;\">\n",
       "      <th>variation</th>\n",
       "      <th>0</th>\n",
       "    </tr>\n",
       "  </thead>\n",
       "  <tbody>\n",
       "    <tr>\n",
       "      <th>0</th>\n",
       "      <td>4026.56</td>\n",
       "    </tr>\n",
       "    <tr>\n",
       "      <th>1</th>\n",
       "      <td>7532.24</td>\n",
       "    </tr>\n",
       "  </tbody>\n",
       "</table>\n",
       "</div>"
      ],
      "text/plain": [
       "variation        0\n",
       "0          4026.56\n",
       "1          7532.24"
      ]
     },
     "metadata": {},
     "output_type": "display_data"
    },
    {
     "data": {
      "text/markdown": [
       "#### Kerr Non-linear coefficient table (MHz)"
      ],
      "text/plain": [
       "<IPython.core.display.Markdown object>"
      ]
     },
     "metadata": {},
     "output_type": "display_data"
    },
    {
     "data": {
      "text/markdown": [
       "###### Numerical diagonalization"
      ],
      "text/plain": [
       "<IPython.core.display.Markdown object>"
      ]
     },
     "metadata": {},
     "output_type": "display_data"
    },
    {
     "data": {
      "text/html": [
       "<div>\n",
       "<style scoped>\n",
       "    .dataframe tbody tr th:only-of-type {\n",
       "        vertical-align: middle;\n",
       "    }\n",
       "\n",
       "    .dataframe tbody tr th {\n",
       "        vertical-align: top;\n",
       "    }\n",
       "\n",
       "    .dataframe thead th {\n",
       "        text-align: right;\n",
       "    }\n",
       "</style>\n",
       "<table border=\"1\" class=\"dataframe\">\n",
       "  <thead>\n",
       "    <tr style=\"text-align: right;\">\n",
       "      <th></th>\n",
       "      <th></th>\n",
       "      <th>0</th>\n",
       "      <th>1</th>\n",
       "    </tr>\n",
       "    <tr>\n",
       "      <th>variation</th>\n",
       "      <th></th>\n",
       "      <th></th>\n",
       "      <th></th>\n",
       "    </tr>\n",
       "  </thead>\n",
       "  <tbody>\n",
       "    <tr>\n",
       "      <th rowspan=\"2\" valign=\"top\">0</th>\n",
       "      <th>0</th>\n",
       "      <td>188.55</td>\n",
       "      <td>2.44e-01</td>\n",
       "    </tr>\n",
       "    <tr>\n",
       "      <th>1</th>\n",
       "      <td>0.24</td>\n",
       "      <td>7.90e-05</td>\n",
       "    </tr>\n",
       "  </tbody>\n",
       "</table>\n",
       "</div>"
      ],
      "text/plain": [
       "                  0         1\n",
       "variation                    \n",
       "0         0  188.55  2.44e-01\n",
       "          1    0.24  7.90e-05"
      ]
     },
     "metadata": {},
     "output_type": "display_data"
    },
    {
     "name": "stdout",
     "output_type": "stream",
     "text": [
      "Warning! 27 COM references still alive\n",
      "Ansys will likely refuse to shut down\n",
      "{'qubit_freq_MHz': 4017.1024034427924, 'qubit_anharmonicity_MHz': 211.07531843190478, 'other_data': \"{'project_info': {'pinfo': design_name     CavityQubit_Modified_Candle_Andre_design_0_1_5\\nproject_name      CavityQubit_Modified_Candle_Andre_proj_0_1_5\\nproject_path                          D:/lfl/Documents/Ansoft/\\nsetup_name                                       TransmonSetup\\ndtype: object, 'dissip': dielectrics_bulk                             None\\ndielectric_surfaces    [layer_3_datatype_0_plane]\\nresistive_surfaces                           None\\nseams                                        None\\ndtype: object, 'options': Series([], dtype: float64), 'junctions':                                j0\\nCj_variable                  Cj_0\\nLj_variable                  Lj_0\\nlength                     0.0001\\nline             JJ_Lj_7_rect_jj_\\nrect         JJ_rect_Lj_7_rect_jj, 'ports': Empty DataFrame\\nColumns: []\\nIndex: []}, 'results': {'0': {'Pm':          j0\\n0  0.724134\\n1  0.000357, 'Pm_cap':          j0\\n0  0.014488\\n1  0.000023, 'Sm':    s_j0\\n0    -1\\n1     1, 'Om':                  0        1\\nfreq_GHz  4.215228  7.53236, 'sols':             U_H           U_E\\n0  4.729698e-28  3.953617e-26\\n1  4.222411e-26  4.224440e-26, 'Qm_coupling': Empty DataFrame\\nColumns: []\\nIndex: [0, 1], 'Ljs': j0    1.426165e-08\\ndtype: float64, 'Cjs': j0    2.000000e-15\\ndtype: float64, 'Qs': 0    inf\\n1    inf\\ndtype: float64, 'freqs_hfss_GHz': 0    4.215228\\n1    7.532360\\ndtype: float64, 'hfss_variables': _Cj_0                     0fF\\n_Lj_0    14.261653403709703nH\\ndtype: object, 'modes': range(0, 2), 'I_peak': 0    0   -1.427220e-09\\ndtype: float64\\n1    0    3.253489e-11\\ndtype: float64\\ndtype: object, 'V_peak': 0    0   -5.390906e-07\\ndtype: float64\\n1    0    2.195989e-08\\ndtype: float64\\ndtype: object, 'ansys_energies': {0: {'U_J_inds': {'j0': 1.4525186581588688e-26}, 'U_J_caps': {'j0': 2.9061865156891037e-28}, 'U_H': 2.364848977356235e-28, 'U_E': 1.97680869103143e-26, 'U_tot_ind': 1.4761671479324312e-26, 'U_tot_cap': 2.005870556188321e-26, 'U_norm': 2.005870556188321e-26, 'U_diff': 0.15212454696542263}, 1: {'U_J_inds': {'j0': 7.548114061152141e-30}, 'U_J_caps': {'j0': 4.822366236859352e-31}, 'U_H': 2.11120553182291e-26, 'U_E': 2.1122197627424e-26, 'U_tot_ind': 2.1119603432290254e-26, 'U_tot_cap': 2.1122679864047684e-26, 'U_norm': 2.1122679864047684e-26, 'U_diff': 7.28282544730778e-05}}, 'mesh':                    Unnamed: 0  Num Tets    Min edge length    \\\\\\n0   layer_1_datatype_0_plane        60720           0.000646   \\n1   layer_3_datatype_0_plane       999386           0.000201   \\n2                 vacuum_box       644586           0.000208   \\n3   prime_cpw_clt1_shortline          275           0.005608   \\n4  second_cpw_clt1_shortline         2425           0.001693   \\n5       trace_cpw1_shortline        34748           0.001700   \\n6                   cross_Q1         6318           0.000638   \\n7         c_connector_arm_Q1         6560           0.000567   \\n\\n   Max edge length    RMS edge length    Min tet vol    Max tet vol    \\\\\\n0           0.221540           0.020554   7.332930e-12   1.043470e-05   \\n1           0.646110           0.015872   4.258030e-13   1.273630e-02   \\n2           0.910222           0.021759   2.084410e-13   2.822070e-02   \\n3           0.023830           0.015596   5.746030e-09   9.815890e-08   \\n4           0.007002           0.004000   1.928260e-10   8.316670e-09   \\n5           0.012699           0.004145   3.438180e-11   3.023910e-08   \\n6           0.019470           0.007993   1.018310e-11   8.808420e-08   \\n7           0.010273           0.004703   6.331920e-12   2.554460e-08   \\n\\n   Mean tet vol    Std Devn (vol)    \\n0    7.129820e-08      4.718450e-07  \\n1    1.771690e-06      5.798220e-05  \\n2    6.036150e-06      2.282130e-04  \\n3    3.829090e-08      1.943200e-08  \\n4    2.540400e-09      1.391640e-09  \\n5    2.366410e-09      1.830810e-09  \\n6    9.123280e-09      9.844980e-09  \\n7    2.816920e-09      3.062780e-09  , 'convergence':              Solved Elements  Max Delta Freq. %\\nPass Number                                    \\n1                      18684                NaN\\n2                      24014           3.889800\\n3                      30887           3.090700\\n4                      39699           1.859700\\n5                      51049           1.255100\\n6                      65443           0.479280\\n7                      83979           0.639560\\n8                     107747           0.495040\\n9                     137910           0.313160\\n10                    176546           0.305660\\n11                    226148           0.252300\\n12                    289482           0.170540\\n13                    371008           0.227060\\n14                    475366           0.181730\\n15                    609009           0.121010\\n16                    780291           0.146730\\n17                    999626           0.116420\\n18                   1281483           0.098579\\n19                   1643972           0.080496, 'convergence_f_pass': None}}}\"}\n",
      "pyaedt INFO: Project CavityQubit_Modified_Candle_Andre_proj_0_1_5 set to active.\n"
     ]
    },
    {
     "name": "stderr",
     "output_type": "stream",
     "text": [
      "INFO:Global:Project CavityQubit_Modified_Candle_Andre_proj_0_1_5 set to active.\n"
     ]
    },
    {
     "name": "stdout",
     "output_type": "stream",
     "text": [
      "pyaedt INFO: Aedt Objects initialized\n"
     ]
    },
    {
     "name": "stderr",
     "output_type": "stream",
     "text": [
      "INFO:Global:Aedt Objects initialized\n"
     ]
    },
    {
     "name": "stdout",
     "output_type": "stream",
     "text": [
      "pyaedt INFO: Variable Manager initialized\n"
     ]
    },
    {
     "name": "stderr",
     "output_type": "stream",
     "text": [
      "INFO:Global:Variable Manager initialized\n"
     ]
    },
    {
     "name": "stdout",
     "output_type": "stream",
     "text": [
      "pyaedt INFO: Design Loaded\n"
     ]
    },
    {
     "name": "stderr",
     "output_type": "stream",
     "text": [
      "INFO:Global:Design Loaded\n"
     ]
    },
    {
     "name": "stdout",
     "output_type": "stream",
     "text": [
      "pyaedt INFO: Successfully loaded project materials !\n"
     ]
    },
    {
     "name": "stderr",
     "output_type": "stream",
     "text": [
      "INFO:Global:Successfully loaded project materials !\n"
     ]
    },
    {
     "name": "stdout",
     "output_type": "stream",
     "text": [
      "pyaedt INFO: Materials Loaded\n"
     ]
    },
    {
     "name": "stderr",
     "output_type": "stream",
     "text": [
      "INFO:Global:Materials Loaded\n"
     ]
    },
    {
     "name": "stdout",
     "output_type": "stream",
     "text": [
      "pyaedt INFO: Deleted 10 Objects: layer_1_datatype_0_plane,layer_3_datatype_0_plane,vacuum_box,prime_cpw_clt1_shortline,second_cpw_clt1_shortline,trace_cpw1_shortline,cross_Q1,c_connector_arm_Q1,JJ_rect_Lj_7_rect_jj,JJ_Lj_7_rect_jj_.\n"
     ]
    },
    {
     "name": "stderr",
     "output_type": "stream",
     "text": [
      "INFO:Global:Deleted 10 Objects: layer_1_datatype_0_plane,layer_3_datatype_0_plane,vacuum_box,prime_cpw_clt1_shortline,second_cpw_clt1_shortline,trace_cpw1_shortline,cross_Q1,c_connector_arm_Q1,JJ_rect_Lj_7_rect_jj,JJ_Lj_7_rect_jj_.\n"
     ]
    },
    {
     "name": "stdout",
     "output_type": "stream",
     "text": [
      "pyaedt INFO: Project CavityQubit_Modified_Candle_Andre_proj_0_1_5 set to active.\n"
     ]
    },
    {
     "name": "stderr",
     "output_type": "stream",
     "text": [
      "INFO:Global:Project CavityQubit_Modified_Candle_Andre_proj_0_1_5 set to active.\n"
     ]
    },
    {
     "name": "stdout",
     "output_type": "stream",
     "text": [
      "pyaedt INFO: Aedt Objects initialized\n"
     ]
    },
    {
     "name": "stderr",
     "output_type": "stream",
     "text": [
      "INFO:Global:Aedt Objects initialized\n"
     ]
    },
    {
     "name": "stdout",
     "output_type": "stream",
     "text": [
      "pyaedt INFO: Variable Manager initialized\n"
     ]
    },
    {
     "name": "stderr",
     "output_type": "stream",
     "text": [
      "INFO:Global:Variable Manager initialized\n"
     ]
    },
    {
     "name": "stdout",
     "output_type": "stream",
     "text": [
      "pyaedt INFO: Design Loaded\n"
     ]
    },
    {
     "name": "stderr",
     "output_type": "stream",
     "text": [
      "INFO:Global:Design Loaded\n"
     ]
    },
    {
     "name": "stdout",
     "output_type": "stream",
     "text": [
      "pyaedt INFO: Successfully loaded project materials !\n"
     ]
    },
    {
     "name": "stderr",
     "output_type": "stream",
     "text": [
      "INFO:Global:Successfully loaded project materials !\n"
     ]
    },
    {
     "name": "stdout",
     "output_type": "stream",
     "text": [
      "pyaedt INFO: Materials Loaded\n"
     ]
    },
    {
     "name": "stderr",
     "output_type": "stream",
     "text": [
      "INFO:Global:Materials Loaded\n"
     ]
    },
    {
     "name": "stdout",
     "output_type": "stream",
     "text": [
      "pyaedt INFO: Project CavityQubit_Modified_Candle_Andre_proj_0_1_5 set to active.\n"
     ]
    },
    {
     "name": "stderr",
     "output_type": "stream",
     "text": [
      "INFO:Global:Project CavityQubit_Modified_Candle_Andre_proj_0_1_5 set to active.\n"
     ]
    },
    {
     "name": "stdout",
     "output_type": "stream",
     "text": [
      "pyaedt INFO: Aedt Objects initialized\n"
     ]
    },
    {
     "name": "stderr",
     "output_type": "stream",
     "text": [
      "INFO:Global:Aedt Objects initialized\n"
     ]
    },
    {
     "name": "stdout",
     "output_type": "stream",
     "text": [
      "pyaedt INFO: Variable Manager initialized\n"
     ]
    },
    {
     "name": "stderr",
     "output_type": "stream",
     "text": [
      "INFO:Global:Variable Manager initialized\n"
     ]
    },
    {
     "name": "stdout",
     "output_type": "stream",
     "text": [
      "pyaedt INFO: Design Loaded\n"
     ]
    },
    {
     "name": "stderr",
     "output_type": "stream",
     "text": [
      "INFO:Global:Design Loaded\n"
     ]
    },
    {
     "name": "stdout",
     "output_type": "stream",
     "text": [
      "pyaedt INFO: Successfully loaded project materials !\n"
     ]
    },
    {
     "name": "stderr",
     "output_type": "stream",
     "text": [
      "INFO:Global:Successfully loaded project materials !\n"
     ]
    },
    {
     "name": "stdout",
     "output_type": "stream",
     "text": [
      "pyaedt INFO: Materials Loaded\n"
     ]
    },
    {
     "name": "stderr",
     "output_type": "stream",
     "text": [
      "INFO:Global:Materials Loaded\n"
     ]
    },
    {
     "name": "stdout",
     "output_type": "stream",
     "text": [
      "pyaedt WARNING: No objects to delete\n"
     ]
    },
    {
     "name": "stderr",
     "output_type": "stream",
     "text": [
      "WARNING:Global:No objects to delete\n"
     ]
    },
    {
     "name": "stdout",
     "output_type": "stream",
     "text": [
      "pyaedt INFO: Project CavityQubit_Modified_Candle_Andre_proj_0_1_5 set to active.\n"
     ]
    },
    {
     "name": "stderr",
     "output_type": "stream",
     "text": [
      "INFO:Global:Project CavityQubit_Modified_Candle_Andre_proj_0_1_5 set to active.\n"
     ]
    },
    {
     "name": "stdout",
     "output_type": "stream",
     "text": [
      "pyaedt INFO: Aedt Objects initialized\n"
     ]
    },
    {
     "name": "stderr",
     "output_type": "stream",
     "text": [
      "INFO:Global:Aedt Objects initialized\n"
     ]
    },
    {
     "name": "stdout",
     "output_type": "stream",
     "text": [
      "pyaedt INFO: Variable Manager initialized\n"
     ]
    },
    {
     "name": "stderr",
     "output_type": "stream",
     "text": [
      "INFO:Global:Variable Manager initialized\n"
     ]
    },
    {
     "name": "stdout",
     "output_type": "stream",
     "text": [
      "pyaedt INFO: Design Loaded\n"
     ]
    },
    {
     "name": "stderr",
     "output_type": "stream",
     "text": [
      "INFO:Global:Design Loaded\n"
     ]
    },
    {
     "name": "stdout",
     "output_type": "stream",
     "text": [
      "pyaedt INFO: Successfully loaded project materials !\n"
     ]
    },
    {
     "name": "stderr",
     "output_type": "stream",
     "text": [
      "INFO:Global:Successfully loaded project materials !\n"
     ]
    },
    {
     "name": "stdout",
     "output_type": "stream",
     "text": [
      "pyaedt INFO: Materials Loaded\n"
     ]
    },
    {
     "name": "stderr",
     "output_type": "stream",
     "text": [
      "INFO:Global:Materials Loaded\n"
     ]
    },
    {
     "name": "stdout",
     "output_type": "stream",
     "text": [
      "pyaedt INFO: Boundary Lumped RLC rlc_JJ_rect_Lj_6_rect_jj has been correctly created.\n"
     ]
    },
    {
     "name": "stderr",
     "output_type": "stream",
     "text": [
      "INFO:Global:Boundary Lumped RLC rlc_JJ_rect_Lj_6_rect_jj has been correctly created.\n"
     ]
    },
    {
     "name": "stdout",
     "output_type": "stream",
     "text": [
      "pyaedt INFO: Project CavityQubit_Modified_Candle_Andre_proj_0_1_5 set to active.\n"
     ]
    },
    {
     "name": "stderr",
     "output_type": "stream",
     "text": [
      "INFO:Global:Project CavityQubit_Modified_Candle_Andre_proj_0_1_5 set to active.\n"
     ]
    },
    {
     "name": "stdout",
     "output_type": "stream",
     "text": [
      "pyaedt INFO: Aedt Objects initialized\n"
     ]
    },
    {
     "name": "stderr",
     "output_type": "stream",
     "text": [
      "INFO:Global:Aedt Objects initialized\n"
     ]
    },
    {
     "name": "stdout",
     "output_type": "stream",
     "text": [
      "pyaedt INFO: Variable Manager initialized\n"
     ]
    },
    {
     "name": "stderr",
     "output_type": "stream",
     "text": [
      "INFO:Global:Variable Manager initialized\n"
     ]
    },
    {
     "name": "stdout",
     "output_type": "stream",
     "text": [
      "pyaedt INFO: Design Loaded\n"
     ]
    },
    {
     "name": "stderr",
     "output_type": "stream",
     "text": [
      "INFO:Global:Design Loaded\n"
     ]
    },
    {
     "name": "stdout",
     "output_type": "stream",
     "text": [
      "pyaedt INFO: Successfully loaded project materials !\n"
     ]
    },
    {
     "name": "stderr",
     "output_type": "stream",
     "text": [
      "INFO:Global:Successfully loaded project materials !\n"
     ]
    },
    {
     "name": "stdout",
     "output_type": "stream",
     "text": [
      "pyaedt INFO: Materials Loaded\n"
     ]
    },
    {
     "name": "stderr",
     "output_type": "stream",
     "text": [
      "INFO:Global:Materials Loaded\n"
     ]
    },
    {
     "name": "stdout",
     "output_type": "stream",
     "text": [
      "pyaedt INFO: Project CavityQubit_Modified_Candle_Andre_proj_0_1_5 set to active.\n"
     ]
    },
    {
     "name": "stderr",
     "output_type": "stream",
     "text": [
      "INFO:Global:Project CavityQubit_Modified_Candle_Andre_proj_0_1_5 set to active.\n"
     ]
    },
    {
     "name": "stdout",
     "output_type": "stream",
     "text": [
      "pyaedt INFO: Aedt Objects initialized\n"
     ]
    },
    {
     "name": "stderr",
     "output_type": "stream",
     "text": [
      "INFO:Global:Aedt Objects initialized\n"
     ]
    },
    {
     "name": "stdout",
     "output_type": "stream",
     "text": [
      "pyaedt INFO: Variable Manager initialized\n"
     ]
    },
    {
     "name": "stderr",
     "output_type": "stream",
     "text": [
      "INFO:Global:Variable Manager initialized\n"
     ]
    },
    {
     "name": "stdout",
     "output_type": "stream",
     "text": [
      "pyaedt INFO: Design Loaded\n"
     ]
    },
    {
     "name": "stderr",
     "output_type": "stream",
     "text": [
      "INFO:Global:Design Loaded\n"
     ]
    },
    {
     "name": "stdout",
     "output_type": "stream",
     "text": [
      "pyaedt INFO: Successfully loaded project materials !\n"
     ]
    },
    {
     "name": "stderr",
     "output_type": "stream",
     "text": [
      "INFO:Global:Successfully loaded project materials !\n"
     ]
    },
    {
     "name": "stdout",
     "output_type": "stream",
     "text": [
      "pyaedt INFO: Materials Loaded\n"
     ]
    },
    {
     "name": "stderr",
     "output_type": "stream",
     "text": [
      "INFO:Global:Materials Loaded\n"
     ]
    },
    {
     "name": "stdout",
     "output_type": "stream",
     "text": [
      "pyaedt INFO: Key Desktop/ActiveDSOConfigurations/HFSS correctly changed.\n"
     ]
    },
    {
     "name": "stderr",
     "output_type": "stream",
     "text": [
      "INFO:Global:Key Desktop/ActiveDSOConfigurations/HFSS correctly changed.\n"
     ]
    },
    {
     "name": "stdout",
     "output_type": "stream",
     "text": [
      "pyaedt INFO: Solving design setup TransmonSetup\n"
     ]
    },
    {
     "name": "stderr",
     "output_type": "stream",
     "text": [
      "INFO:Global:Solving design setup TransmonSetup\n"
     ]
    },
    {
     "name": "stdout",
     "output_type": "stream",
     "text": [
      "pyaedt INFO: Key Desktop/ActiveDSOConfigurations/HFSS correctly changed.\n"
     ]
    },
    {
     "name": "stderr",
     "output_type": "stream",
     "text": [
      "INFO:Global:Key Desktop/ActiveDSOConfigurations/HFSS correctly changed.\n"
     ]
    },
    {
     "name": "stdout",
     "output_type": "stream",
     "text": [
      "pyaedt INFO: Design setup TransmonSetup solved correctly in 0.0h 59.0m 45.0s\n"
     ]
    },
    {
     "name": "stderr",
     "output_type": "stream",
     "text": [
      "INFO:Global:Design setup TransmonSetup solved correctly in 0.0h 59.0m 45.0s\n"
     ]
    },
    {
     "name": "stdout",
     "output_type": "stream",
     "text": [
      "pyaedt INFO: Project CavityQubit_Modified_Candle_Andre_proj_0_1_5 set to active.\n"
     ]
    },
    {
     "name": "stderr",
     "output_type": "stream",
     "text": [
      "INFO:Global:Project CavityQubit_Modified_Candle_Andre_proj_0_1_5 set to active.\n"
     ]
    },
    {
     "name": "stdout",
     "output_type": "stream",
     "text": [
      "pyaedt INFO: Aedt Objects initialized\n"
     ]
    },
    {
     "name": "stderr",
     "output_type": "stream",
     "text": [
      "INFO:Global:Aedt Objects initialized\n"
     ]
    },
    {
     "name": "stdout",
     "output_type": "stream",
     "text": [
      "pyaedt INFO: Variable Manager initialized\n"
     ]
    },
    {
     "name": "stderr",
     "output_type": "stream",
     "text": [
      "INFO:Global:Variable Manager initialized\n"
     ]
    },
    {
     "name": "stdout",
     "output_type": "stream",
     "text": [
      "pyaedt INFO: Design Loaded\n"
     ]
    },
    {
     "name": "stderr",
     "output_type": "stream",
     "text": [
      "INFO:Global:Design Loaded\n"
     ]
    },
    {
     "name": "stdout",
     "output_type": "stream",
     "text": [
      "pyaedt INFO: Successfully loaded project materials !\n"
     ]
    },
    {
     "name": "stderr",
     "output_type": "stream",
     "text": [
      "INFO:Global:Successfully loaded project materials !\n"
     ]
    },
    {
     "name": "stdout",
     "output_type": "stream",
     "text": [
      "pyaedt INFO: Materials Loaded\n"
     ]
    },
    {
     "name": "stderr",
     "output_type": "stream",
     "text": [
      "INFO:Global:Materials Loaded\n",
      "INFO 08:49PM [connect_project]: Connecting to Ansys Desktop API...\n",
      "INFO 08:49PM [load_ansys_project]: \tOpened Ansys App\n",
      "INFO 08:49PM [load_ansys_project]: \tOpened Ansys Desktop v2021.1.0\n",
      "INFO 08:49PM [load_ansys_project]: \tOpened Ansys Project\n",
      "\tFolder:    D:/lfl/Documents/Ansoft/\n",
      "\tProject:   CavityQubit_Modified_Candle_Andre_proj_0_1_5\n",
      "INFO 08:49PM [connect_design]: \tOpened active design\n",
      "\tDesign:    CavityQubit_Modified_Candle_Andre_design_0_1_5 [Solution type: Eigenmode]\n",
      "INFO 08:49PM [get_setup]: \tOpened setup `TransmonSetup`  (<class 'pyEPR.ansys.HfssEMSetup'>)\n",
      "INFO 08:49PM [connect]: \tConnected to project \"CavityQubit_Modified_Candle_Andre_proj_0_1_5\" and design \"CavityQubit_Modified_Candle_Andre_design_0_1_5\" 😀 \n",
      "\n"
     ]
    },
    {
     "name": "stdout",
     "output_type": "stream",
     "text": [
      "Design \"CavityQubit_Modified_Candle_Andre_design_0_1_5\" info:\n",
      "\t# eigenmodes    2\n",
      "\t# variations    1\n",
      "\n",
      "Variation 0  [1/1]\n",
      "\n",
      "  \u001b[1mMode 0 at 4.22 GHz   [1/2]\u001b[0m\n",
      "    Calculating ℰ_magnetic,ℰ_electric\n",
      "       (ℰ_E-ℰ_H)/ℰ_E       ℰ_E       ℰ_H\n",
      "               98.8%  1.348e-26 1.623e-28\n",
      "\n",
      "    Calculating junction energy participation ration (EPR)\n",
      "\tmethod=`line_voltage`. First estimates:\n",
      "\tjunction        EPR p_0j   sign s_0j    (p_capacitive)\n",
      "\t\tEnergy fraction (Lj over Lj&Cj)= 97.87%\n",
      "\tj0              0.676002  (+)        0.0147212\n",
      "\t\t(U_tot_cap-U_tot_ind)/mean=19.19%\n",
      "WARNING: This simulation must not have converged well!!!                The difference in the total cap and ind energies is larger than 10%.                Proceed with caution.\n",
      "\n",
      "  \u001b[1mMode 1 at 7.29 GHz   [2/2]\u001b[0m\n",
      "    Calculating ℰ_magnetic,ℰ_electric\n",
      "       (ℰ_E-ℰ_H)/ℰ_E       ℰ_E       ℰ_H\n",
      "                0.1%  9.726e-27 9.721e-27\n",
      "\n",
      "    Calculating junction energy participation ration (EPR)\n",
      "\tmethod=`line_voltage`. First estimates:\n",
      "\tjunction        EPR p_1j   sign s_1j    (p_capacitive)\n",
      "\t\tEnergy fraction (Lj over Lj&Cj)= 93.90%\n",
      "\tj0              0.000364806  (+)        2.37081e-05\n",
      "\t\t(U_tot_cap-U_tot_ind)/mean=0.01%\n"
     ]
    },
    {
     "name": "stderr",
     "output_type": "stream",
     "text": [
      "WARNING 08:50PM [__init__]: <p>Error: <class 'IndexError'></p>\n",
      "ERROR 08:50PM [_get_participation_normalized]: WARNING: U_tot_cap-U_tot_ind / mean = 38.4% is > 15%.                     \n",
      "Is the simulation converged? Proceed with caution\n",
      "ERROR 08:50PM [_get_participation_normalized]: WARNING: U_tot_cap-U_tot_ind / mean = 38.4% is > 15%.                     \n",
      "Is the simulation converged? Proceed with caution\n"
     ]
    },
    {
     "name": "stdout",
     "output_type": "stream",
     "text": [
      "\n",
      "ANALYSIS DONE. Data saved to:\n",
      "\n",
      "C:\\data-pyEPR\\CavityQubit_Modified_Candle_Andre_proj_0_1_5\\CavityQubit_Modified_Candle_Andre_design_0_1_5\\2023-06-19 20-49-32.npz\n",
      "\n",
      "\n",
      "\t Differences in variations:\n",
      "\n",
      "\n",
      "\n",
      " . . . . . . . . . . . . . . . . . . . . . . . . . . . . . . . . . . . . . . . . \n",
      "Variation 0\n",
      "\n",
      "Starting the diagonalization\n",
      "Finished the diagonalization\n",
      "Pm_norm=\n",
      "modes\n",
      "0    1.479842\n",
      "1    1.262702\n",
      "dtype: float64\n",
      "\n",
      "Pm_norm idx =\n",
      "      j0\n",
      "0   True\n",
      "1  False\n",
      "*** P (participation matrix, not normlz.)\n",
      "         j0\n",
      "0  0.666195\n",
      "1  0.000365\n",
      "\n",
      "*** S (sign-bit matrix)\n",
      "   s_j0\n",
      "0    -1\n",
      "1    -1\n",
      "*** P (participation matrix, normalized.)\n",
      "      0.99\n",
      "   0.00036\n",
      "\n",
      "*** Chi matrix O1 PT (MHz)\n",
      "    Diag is anharmonicity, off diag is full cross-Kerr.\n",
      "       205    0.262\n",
      "     0.262 8.38e-05\n",
      "\n",
      "*** Chi matrix ND (MHz) \n",
      "       232    0.244\n",
      "     0.244 7.89e-05\n",
      "\n",
      "*** Frequencies O1 PT (MHz)\n",
      "0    4013.097073\n",
      "1    7286.882600\n",
      "dtype: float64\n",
      "\n",
      "*** Frequencies ND (MHz)\n",
      "0    4001.807070\n",
      "1    7286.883715\n",
      "dtype: float64\n",
      "\n",
      "*** Q_coupling\n",
      "Empty DataFrame\n",
      "Columns: []\n",
      "Index: [0, 1]\n"
     ]
    },
    {
     "data": {
      "text/markdown": [
       "#### Mode frequencies (MHz)"
      ],
      "text/plain": [
       "<IPython.core.display.Markdown object>"
      ]
     },
     "metadata": {},
     "output_type": "display_data"
    },
    {
     "data": {
      "text/markdown": [
       "###### Numerical diagonalization"
      ],
      "text/plain": [
       "<IPython.core.display.Markdown object>"
      ]
     },
     "metadata": {},
     "output_type": "display_data"
    },
    {
     "data": {
      "text/html": [
       "<div>\n",
       "<style scoped>\n",
       "    .dataframe tbody tr th:only-of-type {\n",
       "        vertical-align: middle;\n",
       "    }\n",
       "\n",
       "    .dataframe tbody tr th {\n",
       "        vertical-align: top;\n",
       "    }\n",
       "\n",
       "    .dataframe thead th {\n",
       "        text-align: right;\n",
       "    }\n",
       "</style>\n",
       "<table border=\"1\" class=\"dataframe\">\n",
       "  <thead>\n",
       "    <tr style=\"text-align: right;\">\n",
       "      <th>variation</th>\n",
       "      <th>0</th>\n",
       "    </tr>\n",
       "  </thead>\n",
       "  <tbody>\n",
       "    <tr>\n",
       "      <th>0</th>\n",
       "      <td>4013.10</td>\n",
       "    </tr>\n",
       "    <tr>\n",
       "      <th>1</th>\n",
       "      <td>7286.88</td>\n",
       "    </tr>\n",
       "  </tbody>\n",
       "</table>\n",
       "</div>"
      ],
      "text/plain": [
       "variation        0\n",
       "0          4013.10\n",
       "1          7286.88"
      ]
     },
     "metadata": {},
     "output_type": "display_data"
    },
    {
     "data": {
      "text/markdown": [
       "#### Kerr Non-linear coefficient table (MHz)"
      ],
      "text/plain": [
       "<IPython.core.display.Markdown object>"
      ]
     },
     "metadata": {},
     "output_type": "display_data"
    },
    {
     "data": {
      "text/markdown": [
       "###### Numerical diagonalization"
      ],
      "text/plain": [
       "<IPython.core.display.Markdown object>"
      ]
     },
     "metadata": {},
     "output_type": "display_data"
    },
    {
     "data": {
      "text/html": [
       "<div>\n",
       "<style scoped>\n",
       "    .dataframe tbody tr th:only-of-type {\n",
       "        vertical-align: middle;\n",
       "    }\n",
       "\n",
       "    .dataframe tbody tr th {\n",
       "        vertical-align: top;\n",
       "    }\n",
       "\n",
       "    .dataframe thead th {\n",
       "        text-align: right;\n",
       "    }\n",
       "</style>\n",
       "<table border=\"1\" class=\"dataframe\">\n",
       "  <thead>\n",
       "    <tr style=\"text-align: right;\">\n",
       "      <th></th>\n",
       "      <th></th>\n",
       "      <th>0</th>\n",
       "      <th>1</th>\n",
       "    </tr>\n",
       "    <tr>\n",
       "      <th>variation</th>\n",
       "      <th></th>\n",
       "      <th></th>\n",
       "      <th></th>\n",
       "    </tr>\n",
       "  </thead>\n",
       "  <tbody>\n",
       "    <tr>\n",
       "      <th rowspan=\"2\" valign=\"top\">0</th>\n",
       "      <th>0</th>\n",
       "      <td>204.99</td>\n",
       "      <td>2.62e-01</td>\n",
       "    </tr>\n",
       "    <tr>\n",
       "      <th>1</th>\n",
       "      <td>0.26</td>\n",
       "      <td>8.38e-05</td>\n",
       "    </tr>\n",
       "  </tbody>\n",
       "</table>\n",
       "</div>"
      ],
      "text/plain": [
       "                  0         1\n",
       "variation                    \n",
       "0         0  204.99  2.62e-01\n",
       "          1    0.26  8.38e-05"
      ]
     },
     "metadata": {},
     "output_type": "display_data"
    },
    {
     "name": "stdout",
     "output_type": "stream",
     "text": [
      "Warning! 42 COM references still alive\n",
      "Ansys will likely refuse to shut down\n",
      "{'qubit_freq_MHz': 4001.8070697872204, 'qubit_anharmonicity_MHz': 231.96880476388262, 'other_data': \"{'project_info': {'pinfo': design_name     CavityQubit_Modified_Candle_Andre_design_0_1_5\\nproject_name      CavityQubit_Modified_Candle_Andre_proj_0_1_5\\nproject_path                          D:/lfl/Documents/Ansoft/\\nsetup_name                                       TransmonSetup\\ndtype: object, 'dissip': dielectrics_bulk                             None\\ndielectric_surfaces    [layer_3_datatype_0_plane]\\nresistive_surfaces                           None\\nseams                                        None\\ndtype: object, 'options': Series([], dtype: float64), 'junctions':                                j0\\nCj_variable                  Cj_0\\nLj_variable                  Lj_0\\nlength                     0.0001\\nline             JJ_Lj_6_rect_jj_\\nrect         JJ_rect_Lj_6_rect_jj, 'ports': Empty DataFrame\\nColumns: []\\nIndex: []}, 'results': {'0': {'Pm':          j0\\n0  0.666195\\n1  0.000365, 'Pm_cap':          j0\\n0  0.014508\\n1  0.000024, 'Sm':    s_j0\\n0    -1\\n1    -1, 'Om':                  0         1\\nfreq_GHz  4.218218  7.287014, 'sols':             U_H           U_E\\n0  3.245391e-28  2.696543e-26\\n1  1.944218e-26  1.945254e-26, 'Qm_coupling': Empty DataFrame\\nColumns: []\\nIndex: [0, 1], 'Ljs': j0    1.550052e-08\\ndtype: float64, 'Cjs': j0    2.000000e-15\\ndtype: float64, 'Qs': 0    inf\\n1    inf\\ndtype: float64, 'freqs_hfss_GHz': 0    4.218218\\n1    7.287014\\ndtype: float64, 'hfss_variables': _Cj_0                     0fF\\n_Lj_0    15.500517135714711nH\\ndtype: object, 'modes': range(0, 2), 'I_peak': 0    0   -1.084438e-09\\ndtype: float64\\n1    0   -2.139666e-11\\ndtype: float64\\ndtype: object, 'V_peak': 0    0   -4.455124e-07\\ndtype: float64\\n1    0   -1.518524e-08\\ndtype: float64\\ndtype: object, 'ansys_energies': {0: {'U_J_inds': {'j0': 9.114347438021077e-27}, 'U_J_caps': {'j0': 1.9848127544295996e-28}, 'U_H': 1.6226957388784e-28, 'U_E': 1.348271722235715e-26, 'U_tot_ind': 9.276617011908916e-27, 'U_tot_cap': 1.3681198497800108e-26, 'U_norm': 1.3681198497800108e-26, 'U_diff': 0.19185542648987935}, 1: {'U_J_inds': {'j0': 3.5482003017310235e-30}, 'U_J_caps': {'j0': 2.3059146191582136e-31}, 'U_H': 9.72108775047065e-27, 'U_E': 9.72626873855855e-27, 'U_tot_ind': 9.72463595077238e-27, 'U_tot_cap': 9.726499330020467e-27, 'U_norm': 9.726499330020467e-27, 'U_diff': 9.579796866286608e-05}}, 'mesh':                    Unnamed: 0  Num Tets    Min edge length    \\\\\\n0   layer_1_datatype_0_plane        71029           0.000462   \\n1   layer_3_datatype_0_plane      1257675           0.000129   \\n2                 vacuum_box       824413           0.000143   \\n3   prime_cpw_clt2_shortline          278           0.005114   \\n4  second_cpw_clt2_shortline         3002           0.001528   \\n5       trace_cpw2_shortline        43041           0.001321   \\n6                   cross_Q2         9449           0.000466   \\n7         c_connector_arm_Q2         7821           0.000315   \\n\\n   Max edge length    RMS edge length    Min tet vol    Max tet vol    \\\\\\n0           0.219128           0.018501   4.381700e-12   9.478930e-06   \\n1           0.709994           0.014656   1.102300e-13   1.201750e-02   \\n2           0.916695           0.019555   1.179640e-13   3.163420e-02   \\n3           0.025235           0.015352   3.348850e-09   1.167940e-07   \\n4           0.007044           0.003733   2.074240e-10   7.628880e-09   \\n5           0.012353           0.003830   2.803730e-11   2.245320e-08   \\n6           0.018686           0.006638   3.935210e-12   7.141620e-08   \\n7           0.010765           0.004279   1.112200e-12   2.321150e-08   \\n\\n   Mean tet vol    Std Devn (vol)    \\n0    6.085760e-08      4.044090e-07  \\n1    1.407840e-06      4.630200e-05  \\n2    4.719500e-06      1.952950e-04  \\n3    3.787770e-08      2.158140e-08  \\n4    2.052120e-09      1.282790e-09  \\n5    1.992010e-09      1.574810e-09  \\n6    6.100210e-09      7.096090e-09  \\n7    2.362740e-09      2.586190e-09  , 'convergence':              Solved Elements  Max Delta Freq. %\\nPass Number                                    \\n1                      18393                NaN\\n2                      23678           4.128100\\n3                      30443           2.578700\\n4                      39117           1.924400\\n5                      50285           1.127000\\n6                      64552           0.614420\\n7                      82726           0.484300\\n8                     105922           0.471570\\n9                     135683           0.412310\\n10                    173764           0.355300\\n11                    222494           0.166470\\n12                    285192           0.321070\\n13                    365444           0.284060\\n14                    468506           0.241720\\n15                    600340           0.143730\\n16                    769102           0.110110\\n17                    985688           0.104420\\n18                   1264088           0.101310\\n19                   1621306           0.072304\\n20                   2082088           0.059927, 'convergence_f_pass': None}}}\"}\n",
      "pyaedt INFO: Project CavityQubit_Modified_Candle_Andre_proj_0_1_5 set to active.\n"
     ]
    },
    {
     "name": "stderr",
     "output_type": "stream",
     "text": [
      "INFO:Global:Project CavityQubit_Modified_Candle_Andre_proj_0_1_5 set to active.\n"
     ]
    },
    {
     "name": "stdout",
     "output_type": "stream",
     "text": [
      "pyaedt INFO: Aedt Objects initialized\n"
     ]
    },
    {
     "name": "stderr",
     "output_type": "stream",
     "text": [
      "INFO:Global:Aedt Objects initialized\n"
     ]
    },
    {
     "name": "stdout",
     "output_type": "stream",
     "text": [
      "pyaedt INFO: Variable Manager initialized\n"
     ]
    },
    {
     "name": "stderr",
     "output_type": "stream",
     "text": [
      "INFO:Global:Variable Manager initialized\n"
     ]
    },
    {
     "name": "stdout",
     "output_type": "stream",
     "text": [
      "pyaedt INFO: Design Loaded\n"
     ]
    },
    {
     "name": "stderr",
     "output_type": "stream",
     "text": [
      "INFO:Global:Design Loaded\n"
     ]
    },
    {
     "name": "stdout",
     "output_type": "stream",
     "text": [
      "pyaedt INFO: Successfully loaded project materials !\n"
     ]
    },
    {
     "name": "stderr",
     "output_type": "stream",
     "text": [
      "INFO:Global:Successfully loaded project materials !\n"
     ]
    },
    {
     "name": "stdout",
     "output_type": "stream",
     "text": [
      "pyaedt INFO: Materials Loaded\n"
     ]
    },
    {
     "name": "stderr",
     "output_type": "stream",
     "text": [
      "INFO:Global:Materials Loaded\n"
     ]
    },
    {
     "name": "stdout",
     "output_type": "stream",
     "text": [
      "pyaedt INFO: Deleted 10 Objects: layer_1_datatype_0_plane,layer_3_datatype_0_plane,vacuum_box,prime_cpw_clt2_shortline,second_cpw_clt2_shortline,trace_cpw2_shortline,cross_Q2,c_connector_arm_Q2,JJ_rect_Lj_6_rect_jj,JJ_Lj_6_rect_jj_.\n"
     ]
    },
    {
     "name": "stderr",
     "output_type": "stream",
     "text": [
      "INFO:Global:Deleted 10 Objects: layer_1_datatype_0_plane,layer_3_datatype_0_plane,vacuum_box,prime_cpw_clt2_shortline,second_cpw_clt2_shortline,trace_cpw2_shortline,cross_Q2,c_connector_arm_Q2,JJ_rect_Lj_6_rect_jj,JJ_Lj_6_rect_jj_.\n"
     ]
    },
    {
     "name": "stdout",
     "output_type": "stream",
     "text": [
      "pyaedt INFO: Project CavityQubit_Modified_Candle_Andre_proj_0_1_5 set to active.\n"
     ]
    },
    {
     "name": "stderr",
     "output_type": "stream",
     "text": [
      "INFO:Global:Project CavityQubit_Modified_Candle_Andre_proj_0_1_5 set to active.\n"
     ]
    },
    {
     "name": "stdout",
     "output_type": "stream",
     "text": [
      "pyaedt INFO: Aedt Objects initialized\n"
     ]
    },
    {
     "name": "stderr",
     "output_type": "stream",
     "text": [
      "INFO:Global:Aedt Objects initialized\n"
     ]
    },
    {
     "name": "stdout",
     "output_type": "stream",
     "text": [
      "pyaedt INFO: Variable Manager initialized\n"
     ]
    },
    {
     "name": "stderr",
     "output_type": "stream",
     "text": [
      "INFO:Global:Variable Manager initialized\n"
     ]
    },
    {
     "name": "stdout",
     "output_type": "stream",
     "text": [
      "pyaedt INFO: Design Loaded\n"
     ]
    },
    {
     "name": "stderr",
     "output_type": "stream",
     "text": [
      "INFO:Global:Design Loaded\n"
     ]
    },
    {
     "name": "stdout",
     "output_type": "stream",
     "text": [
      "pyaedt INFO: Successfully loaded project materials !\n"
     ]
    },
    {
     "name": "stderr",
     "output_type": "stream",
     "text": [
      "INFO:Global:Successfully loaded project materials !\n"
     ]
    },
    {
     "name": "stdout",
     "output_type": "stream",
     "text": [
      "pyaedt INFO: Materials Loaded\n"
     ]
    },
    {
     "name": "stderr",
     "output_type": "stream",
     "text": [
      "INFO:Global:Materials Loaded\n"
     ]
    },
    {
     "name": "stdout",
     "output_type": "stream",
     "text": [
      "pyaedt INFO: Project CavityQubit_Modified_Candle_Andre_proj_0_1_5 set to active.\n"
     ]
    },
    {
     "name": "stderr",
     "output_type": "stream",
     "text": [
      "INFO:Global:Project CavityQubit_Modified_Candle_Andre_proj_0_1_5 set to active.\n"
     ]
    },
    {
     "name": "stdout",
     "output_type": "stream",
     "text": [
      "pyaedt INFO: Aedt Objects initialized\n"
     ]
    },
    {
     "name": "stderr",
     "output_type": "stream",
     "text": [
      "INFO:Global:Aedt Objects initialized\n"
     ]
    },
    {
     "name": "stdout",
     "output_type": "stream",
     "text": [
      "pyaedt INFO: Variable Manager initialized\n"
     ]
    },
    {
     "name": "stderr",
     "output_type": "stream",
     "text": [
      "INFO:Global:Variable Manager initialized\n"
     ]
    },
    {
     "name": "stdout",
     "output_type": "stream",
     "text": [
      "pyaedt INFO: Design Loaded\n"
     ]
    },
    {
     "name": "stderr",
     "output_type": "stream",
     "text": [
      "INFO:Global:Design Loaded\n"
     ]
    },
    {
     "name": "stdout",
     "output_type": "stream",
     "text": [
      "pyaedt INFO: Successfully loaded project materials !\n"
     ]
    },
    {
     "name": "stderr",
     "output_type": "stream",
     "text": [
      "INFO:Global:Successfully loaded project materials !\n"
     ]
    },
    {
     "name": "stdout",
     "output_type": "stream",
     "text": [
      "pyaedt INFO: Materials Loaded\n"
     ]
    },
    {
     "name": "stderr",
     "output_type": "stream",
     "text": [
      "INFO:Global:Materials Loaded\n"
     ]
    },
    {
     "name": "stdout",
     "output_type": "stream",
     "text": [
      "pyaedt WARNING: No objects to delete\n"
     ]
    },
    {
     "name": "stderr",
     "output_type": "stream",
     "text": [
      "WARNING:Global:No objects to delete\n"
     ]
    },
    {
     "name": "stdout",
     "output_type": "stream",
     "text": [
      "pyaedt INFO: Project CavityQubit_Modified_Candle_Andre_proj_0_1_5 set to active.\n"
     ]
    },
    {
     "name": "stderr",
     "output_type": "stream",
     "text": [
      "INFO:Global:Project CavityQubit_Modified_Candle_Andre_proj_0_1_5 set to active.\n"
     ]
    },
    {
     "name": "stdout",
     "output_type": "stream",
     "text": [
      "pyaedt INFO: Aedt Objects initialized\n"
     ]
    },
    {
     "name": "stderr",
     "output_type": "stream",
     "text": [
      "INFO:Global:Aedt Objects initialized\n"
     ]
    },
    {
     "name": "stdout",
     "output_type": "stream",
     "text": [
      "pyaedt INFO: Variable Manager initialized\n"
     ]
    },
    {
     "name": "stderr",
     "output_type": "stream",
     "text": [
      "INFO:Global:Variable Manager initialized\n"
     ]
    },
    {
     "name": "stdout",
     "output_type": "stream",
     "text": [
      "pyaedt INFO: Design Loaded\n"
     ]
    },
    {
     "name": "stderr",
     "output_type": "stream",
     "text": [
      "INFO:Global:Design Loaded\n"
     ]
    },
    {
     "name": "stdout",
     "output_type": "stream",
     "text": [
      "pyaedt INFO: Successfully loaded project materials !\n"
     ]
    },
    {
     "name": "stderr",
     "output_type": "stream",
     "text": [
      "INFO:Global:Successfully loaded project materials !\n"
     ]
    },
    {
     "name": "stdout",
     "output_type": "stream",
     "text": [
      "pyaedt INFO: Materials Loaded\n"
     ]
    },
    {
     "name": "stderr",
     "output_type": "stream",
     "text": [
      "INFO:Global:Materials Loaded\n"
     ]
    },
    {
     "name": "stdout",
     "output_type": "stream",
     "text": [
      "pyaedt INFO: Boundary Lumped RLC rlc_JJ_rect_Lj_3_rect_jj has been correctly created.\n"
     ]
    },
    {
     "name": "stderr",
     "output_type": "stream",
     "text": [
      "INFO:Global:Boundary Lumped RLC rlc_JJ_rect_Lj_3_rect_jj has been correctly created.\n"
     ]
    },
    {
     "name": "stdout",
     "output_type": "stream",
     "text": [
      "pyaedt INFO: Project CavityQubit_Modified_Candle_Andre_proj_0_1_5 set to active.\n"
     ]
    },
    {
     "name": "stderr",
     "output_type": "stream",
     "text": [
      "INFO:Global:Project CavityQubit_Modified_Candle_Andre_proj_0_1_5 set to active.\n"
     ]
    },
    {
     "name": "stdout",
     "output_type": "stream",
     "text": [
      "pyaedt INFO: Aedt Objects initialized\n"
     ]
    },
    {
     "name": "stderr",
     "output_type": "stream",
     "text": [
      "INFO:Global:Aedt Objects initialized\n"
     ]
    },
    {
     "name": "stdout",
     "output_type": "stream",
     "text": [
      "pyaedt INFO: Variable Manager initialized\n"
     ]
    },
    {
     "name": "stderr",
     "output_type": "stream",
     "text": [
      "INFO:Global:Variable Manager initialized\n"
     ]
    },
    {
     "name": "stdout",
     "output_type": "stream",
     "text": [
      "pyaedt INFO: Design Loaded\n"
     ]
    },
    {
     "name": "stderr",
     "output_type": "stream",
     "text": [
      "INFO:Global:Design Loaded\n"
     ]
    },
    {
     "name": "stdout",
     "output_type": "stream",
     "text": [
      "pyaedt INFO: Successfully loaded project materials !\n"
     ]
    },
    {
     "name": "stderr",
     "output_type": "stream",
     "text": [
      "INFO:Global:Successfully loaded project materials !\n"
     ]
    },
    {
     "name": "stdout",
     "output_type": "stream",
     "text": [
      "pyaedt INFO: Materials Loaded\n"
     ]
    },
    {
     "name": "stderr",
     "output_type": "stream",
     "text": [
      "INFO:Global:Materials Loaded\n"
     ]
    },
    {
     "name": "stdout",
     "output_type": "stream",
     "text": [
      "pyaedt INFO: Project CavityQubit_Modified_Candle_Andre_proj_0_1_5 set to active.\n"
     ]
    },
    {
     "name": "stderr",
     "output_type": "stream",
     "text": [
      "INFO:Global:Project CavityQubit_Modified_Candle_Andre_proj_0_1_5 set to active.\n"
     ]
    },
    {
     "name": "stdout",
     "output_type": "stream",
     "text": [
      "pyaedt INFO: Aedt Objects initialized\n"
     ]
    },
    {
     "name": "stderr",
     "output_type": "stream",
     "text": [
      "INFO:Global:Aedt Objects initialized\n"
     ]
    },
    {
     "name": "stdout",
     "output_type": "stream",
     "text": [
      "pyaedt INFO: Variable Manager initialized\n"
     ]
    },
    {
     "name": "stderr",
     "output_type": "stream",
     "text": [
      "INFO:Global:Variable Manager initialized\n"
     ]
    },
    {
     "name": "stdout",
     "output_type": "stream",
     "text": [
      "pyaedt INFO: Design Loaded\n"
     ]
    },
    {
     "name": "stderr",
     "output_type": "stream",
     "text": [
      "INFO:Global:Design Loaded\n"
     ]
    },
    {
     "name": "stdout",
     "output_type": "stream",
     "text": [
      "pyaedt INFO: Successfully loaded project materials !\n"
     ]
    },
    {
     "name": "stderr",
     "output_type": "stream",
     "text": [
      "INFO:Global:Successfully loaded project materials !\n"
     ]
    },
    {
     "name": "stdout",
     "output_type": "stream",
     "text": [
      "pyaedt INFO: Materials Loaded\n"
     ]
    },
    {
     "name": "stderr",
     "output_type": "stream",
     "text": [
      "INFO:Global:Materials Loaded\n"
     ]
    },
    {
     "name": "stdout",
     "output_type": "stream",
     "text": [
      "pyaedt INFO: Key Desktop/ActiveDSOConfigurations/HFSS correctly changed.\n"
     ]
    },
    {
     "name": "stderr",
     "output_type": "stream",
     "text": [
      "INFO:Global:Key Desktop/ActiveDSOConfigurations/HFSS correctly changed.\n"
     ]
    },
    {
     "name": "stdout",
     "output_type": "stream",
     "text": [
      "pyaedt INFO: Solving design setup TransmonSetup\n"
     ]
    },
    {
     "name": "stderr",
     "output_type": "stream",
     "text": [
      "INFO:Global:Solving design setup TransmonSetup\n"
     ]
    },
    {
     "name": "stdout",
     "output_type": "stream",
     "text": [
      "pyaedt INFO: Key Desktop/ActiveDSOConfigurations/HFSS correctly changed.\n"
     ]
    },
    {
     "name": "stderr",
     "output_type": "stream",
     "text": [
      "INFO:Global:Key Desktop/ActiveDSOConfigurations/HFSS correctly changed.\n"
     ]
    },
    {
     "name": "stdout",
     "output_type": "stream",
     "text": [
      "pyaedt INFO: Design setup TransmonSetup solved correctly in 0.0h 24.0m 43.0s\n"
     ]
    },
    {
     "name": "stderr",
     "output_type": "stream",
     "text": [
      "INFO:Global:Design setup TransmonSetup solved correctly in 0.0h 24.0m 43.0s\n"
     ]
    },
    {
     "name": "stdout",
     "output_type": "stream",
     "text": [
      "pyaedt INFO: Project CavityQubit_Modified_Candle_Andre_proj_0_1_5 set to active.\n"
     ]
    },
    {
     "name": "stderr",
     "output_type": "stream",
     "text": [
      "INFO:Global:Project CavityQubit_Modified_Candle_Andre_proj_0_1_5 set to active.\n"
     ]
    },
    {
     "name": "stdout",
     "output_type": "stream",
     "text": [
      "pyaedt INFO: Aedt Objects initialized\n"
     ]
    },
    {
     "name": "stderr",
     "output_type": "stream",
     "text": [
      "INFO:Global:Aedt Objects initialized\n"
     ]
    },
    {
     "name": "stdout",
     "output_type": "stream",
     "text": [
      "pyaedt INFO: Variable Manager initialized\n"
     ]
    },
    {
     "name": "stderr",
     "output_type": "stream",
     "text": [
      "INFO:Global:Variable Manager initialized\n"
     ]
    },
    {
     "name": "stdout",
     "output_type": "stream",
     "text": [
      "pyaedt INFO: Design Loaded\n"
     ]
    },
    {
     "name": "stderr",
     "output_type": "stream",
     "text": [
      "INFO:Global:Design Loaded\n"
     ]
    },
    {
     "name": "stdout",
     "output_type": "stream",
     "text": [
      "pyaedt INFO: Successfully loaded project materials !\n"
     ]
    },
    {
     "name": "stderr",
     "output_type": "stream",
     "text": [
      "INFO:Global:Successfully loaded project materials !\n"
     ]
    },
    {
     "name": "stdout",
     "output_type": "stream",
     "text": [
      "pyaedt INFO: Materials Loaded\n"
     ]
    },
    {
     "name": "stderr",
     "output_type": "stream",
     "text": [
      "INFO:Global:Materials Loaded\n",
      "INFO 09:15PM [connect_project]: Connecting to Ansys Desktop API...\n",
      "INFO 09:15PM [load_ansys_project]: \tOpened Ansys App\n",
      "INFO 09:15PM [load_ansys_project]: \tOpened Ansys Desktop v2021.1.0\n",
      "INFO 09:15PM [load_ansys_project]: \tOpened Ansys Project\n",
      "\tFolder:    D:/lfl/Documents/Ansoft/\n",
      "\tProject:   CavityQubit_Modified_Candle_Andre_proj_0_1_5\n",
      "INFO 09:15PM [connect_design]: \tOpened active design\n",
      "\tDesign:    CavityQubit_Modified_Candle_Andre_design_0_1_5 [Solution type: Eigenmode]\n",
      "INFO 09:15PM [get_setup]: \tOpened setup `TransmonSetup`  (<class 'pyEPR.ansys.HfssEMSetup'>)\n",
      "INFO 09:15PM [connect]: \tConnected to project \"CavityQubit_Modified_Candle_Andre_proj_0_1_5\" and design \"CavityQubit_Modified_Candle_Andre_design_0_1_5\" 😀 \n",
      "\n"
     ]
    },
    {
     "name": "stdout",
     "output_type": "stream",
     "text": [
      "Design \"CavityQubit_Modified_Candle_Andre_design_0_1_5\" info:\n",
      "\t# eigenmodes    2\n",
      "\t# variations    1\n",
      "\n",
      "Variation 0  [1/1]\n",
      "\n",
      "  \u001b[1mMode 0 at 4.25 GHz   [1/2]\u001b[0m\n",
      "    Calculating ℰ_magnetic,ℰ_electric\n",
      "       (ℰ_E-ℰ_H)/ℰ_E       ℰ_E       ℰ_H\n",
      "               98.8%  5.523e-26 6.712e-28\n",
      "\n",
      "    Calculating junction energy participation ration (EPR)\n",
      "\tmethod=`line_voltage`. First estimates:\n",
      "\tjunction        EPR p_0j   sign s_0j    (p_capacitive)\n",
      "\t\tEnergy fraction (Lj over Lj&Cj)= 98.51%\n",
      "\tj0              0.987535  (+)        0.0149655\n",
      "\t\t(U_tot_cap-U_tot_ind)/mean=0.76%\n",
      "\n",
      "  \u001b[1mMode 1 at 6.98 GHz   [2/2]\u001b[0m\n",
      "    Calculating ℰ_magnetic,ℰ_electric\n",
      "       (ℰ_E-ℰ_H)/ℰ_E       ℰ_E       ℰ_H\n",
      "                0.1%   2.76e-26 2.759e-26\n",
      "\n",
      "    Calculating junction energy participation ration (EPR)\n",
      "\tmethod=`line_voltage`. First estimates:\n",
      "\tjunction        EPR p_1j   sign s_1j    (p_capacitive)\n",
      "\t\tEnergy fraction (Lj over Lj&Cj)= 96.07%\n",
      "\tj0              0.000523317  (+)        2.13822e-05\n",
      "\t\t(U_tot_cap-U_tot_ind)/mean=0.00%\n"
     ]
    },
    {
     "name": "stderr",
     "output_type": "stream",
     "text": [
      "WARNING 09:16PM [__init__]: <p>Error: <class 'IndexError'></p>\n"
     ]
    },
    {
     "name": "stdout",
     "output_type": "stream",
     "text": [
      "\n",
      "ANALYSIS DONE. Data saved to:\n",
      "\n",
      "C:\\data-pyEPR\\CavityQubit_Modified_Candle_Andre_proj_0_1_5\\CavityQubit_Modified_Candle_Andre_design_0_1_5\\2023-06-19 21-15-49.npz\n",
      "\n",
      "\n",
      "\t Differences in variations:\n",
      "\n",
      "\n",
      "\n",
      " . . . . . . . . . . . . . . . . . . . . . . . . . . . . . . . . . . . . . . . . \n",
      "Variation 0\n",
      "\n",
      "Starting the diagonalization\n",
      "Finished the diagonalization\n",
      "Pm_norm=\n",
      "modes\n",
      "0    1.015376\n",
      "1    1.020161\n",
      "dtype: float64\n",
      "\n",
      "Pm_norm idx =\n",
      "      j0\n",
      "0   True\n",
      "1  False\n",
      "*** P (participation matrix, not normlz.)\n",
      "         j0\n",
      "0  0.972974\n",
      "1  0.000523\n",
      "\n",
      "*** S (sign-bit matrix)\n",
      "   s_j0\n",
      "0     1\n",
      "1    -1\n",
      "*** P (participation matrix, normalized.)\n",
      "      0.99\n",
      "   0.00052\n",
      "\n",
      "*** Chi matrix O1 PT (MHz)\n",
      "    Diag is anharmonicity, off diag is full cross-Kerr.\n",
      "       143    0.249\n",
      "     0.249 0.000108\n",
      "\n",
      "*** Chi matrix ND (MHz) \n",
      "       156    0.231\n",
      "     0.231 9.17e-05\n",
      "\n",
      "*** Frequencies O1 PT (MHz)\n",
      "0    4109.974635\n",
      "1    6983.897940\n",
      "dtype: float64\n",
      "\n",
      "*** Frequencies ND (MHz)\n",
      "0    4104.724597\n",
      "1    6983.899824\n",
      "dtype: float64\n",
      "\n",
      "*** Q_coupling\n",
      "Empty DataFrame\n",
      "Columns: []\n",
      "Index: [0, 1]\n"
     ]
    },
    {
     "data": {
      "text/markdown": [
       "#### Mode frequencies (MHz)"
      ],
      "text/plain": [
       "<IPython.core.display.Markdown object>"
      ]
     },
     "metadata": {},
     "output_type": "display_data"
    },
    {
     "data": {
      "text/markdown": [
       "###### Numerical diagonalization"
      ],
      "text/plain": [
       "<IPython.core.display.Markdown object>"
      ]
     },
     "metadata": {},
     "output_type": "display_data"
    },
    {
     "data": {
      "text/html": [
       "<div>\n",
       "<style scoped>\n",
       "    .dataframe tbody tr th:only-of-type {\n",
       "        vertical-align: middle;\n",
       "    }\n",
       "\n",
       "    .dataframe tbody tr th {\n",
       "        vertical-align: top;\n",
       "    }\n",
       "\n",
       "    .dataframe thead th {\n",
       "        text-align: right;\n",
       "    }\n",
       "</style>\n",
       "<table border=\"1\" class=\"dataframe\">\n",
       "  <thead>\n",
       "    <tr style=\"text-align: right;\">\n",
       "      <th>variation</th>\n",
       "      <th>0</th>\n",
       "    </tr>\n",
       "  </thead>\n",
       "  <tbody>\n",
       "    <tr>\n",
       "      <th>0</th>\n",
       "      <td>4109.97</td>\n",
       "    </tr>\n",
       "    <tr>\n",
       "      <th>1</th>\n",
       "      <td>6983.90</td>\n",
       "    </tr>\n",
       "  </tbody>\n",
       "</table>\n",
       "</div>"
      ],
      "text/plain": [
       "variation        0\n",
       "0          4109.97\n",
       "1          6983.90"
      ]
     },
     "metadata": {},
     "output_type": "display_data"
    },
    {
     "data": {
      "text/markdown": [
       "#### Kerr Non-linear coefficient table (MHz)"
      ],
      "text/plain": [
       "<IPython.core.display.Markdown object>"
      ]
     },
     "metadata": {},
     "output_type": "display_data"
    },
    {
     "data": {
      "text/markdown": [
       "###### Numerical diagonalization"
      ],
      "text/plain": [
       "<IPython.core.display.Markdown object>"
      ]
     },
     "metadata": {},
     "output_type": "display_data"
    },
    {
     "data": {
      "text/html": [
       "<div>\n",
       "<style scoped>\n",
       "    .dataframe tbody tr th:only-of-type {\n",
       "        vertical-align: middle;\n",
       "    }\n",
       "\n",
       "    .dataframe tbody tr th {\n",
       "        vertical-align: top;\n",
       "    }\n",
       "\n",
       "    .dataframe thead th {\n",
       "        text-align: right;\n",
       "    }\n",
       "</style>\n",
       "<table border=\"1\" class=\"dataframe\">\n",
       "  <thead>\n",
       "    <tr style=\"text-align: right;\">\n",
       "      <th></th>\n",
       "      <th></th>\n",
       "      <th>0</th>\n",
       "      <th>1</th>\n",
       "    </tr>\n",
       "    <tr>\n",
       "      <th>variation</th>\n",
       "      <th></th>\n",
       "      <th></th>\n",
       "      <th></th>\n",
       "    </tr>\n",
       "  </thead>\n",
       "  <tbody>\n",
       "    <tr>\n",
       "      <th rowspan=\"2\" valign=\"top\">0</th>\n",
       "      <th>0</th>\n",
       "      <td>143.25</td>\n",
       "      <td>2.49e-01</td>\n",
       "    </tr>\n",
       "    <tr>\n",
       "      <th>1</th>\n",
       "      <td>0.25</td>\n",
       "      <td>1.08e-04</td>\n",
       "    </tr>\n",
       "  </tbody>\n",
       "</table>\n",
       "</div>"
      ],
      "text/plain": [
       "                  0         1\n",
       "variation                    \n",
       "0         0  143.25  2.49e-01\n",
       "          1    0.25  1.08e-04"
      ]
     },
     "metadata": {},
     "output_type": "display_data"
    },
    {
     "name": "stdout",
     "output_type": "stream",
     "text": [
      "Warning! 105 COM references still alive\n",
      "Ansys will likely refuse to shut down\n",
      "{'qubit_freq_MHz': 4104.724596768513, 'qubit_anharmonicity_MHz': 155.6405669401302, 'other_data': \"{'project_info': {'pinfo': design_name     CavityQubit_Modified_Candle_Andre_design_0_1_5\\nproject_name      CavityQubit_Modified_Candle_Andre_proj_0_1_5\\nproject_path                          D:/lfl/Documents/Ansoft/\\nsetup_name                                       TransmonSetup\\ndtype: object, 'dissip': dielectrics_bulk                             None\\ndielectric_surfaces    [layer_3_datatype_0_plane]\\nresistive_surfaces                           None\\nseams                                        None\\ndtype: object, 'options': Series([], dtype: float64), 'junctions':                                j0\\nCj_variable                  Cj_0\\nLj_variable                  Lj_0\\nlength                     0.0001\\nline             JJ_Lj_3_rect_jj_\\nrect         JJ_rect_Lj_3_rect_jj, 'ports': Empty DataFrame\\nColumns: []\\nIndex: []}, 'results': {'0': {'Pm':          j0\\n0  0.972974\\n1  0.000523, 'Pm_cap':          j0\\n0  0.014745\\n1  0.000021, 'Sm':    s_j0\\n0     1\\n1    -1, 'Om':                  0         1\\nfreq_GHz  4.253351  6.984023, 'sols':             U_H           U_E\\n0  1.342495e-27  1.104505e-25\\n1  5.517238e-26  5.520126e-26, 'Qm_coupling': Empty DataFrame\\nColumns: []\\nIndex: [0, 1], 'Ljs': j0    1.060933e-08\\ndtype: float64, 'Cjs': j0    2.000000e-15\\ndtype: float64, 'Qs': 0    inf\\n1    inf\\ndtype: float64, 'freqs_hfss_GHz': 0    4.253351\\n1    6.984023\\ndtype: float64, 'hfss_variables': _Cj_0                     0fF\\n_Lj_0    10.609327935963472nH\\ndtype: object, 'modes': range(0, 2), 'I_peak': 0    0    3.206389e-09\\ndtype: float64\\n1    0   -5.218104e-11\\ndtype: float64\\ndtype: object, 'V_peak': 0    0    9.091074e-07\\ndtype: float64\\n1    0   -2.429328e-08\\ndtype: float64\\ndtype: object, 'ansys_energies': {0: {'U_J_inds': {'j0': 5.453687783402586e-26}, 'U_J_caps': {'j0': 8.26476207026376e-28}, 'U_H': 6.7124756297851e-28, 'U_E': 5.5225274409761e-26, 'U_tot_ind': 5.520812539700437e-26, 'U_tot_cap': 5.605175061678737e-26, 'U_norm': 5.605175061678737e-26, 'U_diff': 0.00758247492275137}, 1: {'U_J_inds': {'j0': 1.4443864193927056e-29}, 'U_J_caps': {'j0': 5.901634102500015e-31}, 'U_H': 2.75861917479892e-26, 'U_E': 2.76006275459839e-26, 'U_tot_ind': 2.7600635612183126e-26, 'U_tot_cap': 2.7601217709394147e-26, 'U_norm': 2.7601217709394147e-26, 'U_diff': 1.0544885289077666e-05}}, 'mesh':                    Unnamed: 0  Num Tets    Min edge length    \\\\\\n0   layer_1_datatype_0_plane        42547           0.000964   \\n1   layer_3_datatype_0_plane       608211           0.000303   \\n2                 vacuum_box       378762           0.000364   \\n3   prime_cpw_clt3_shortline          231           0.005810   \\n4  second_cpw_clt3_shortline         1212           0.001921   \\n5       trace_cpw3_shortline        18319           0.002170   \\n6                   cross_Q3         3456           0.001156   \\n7         c_connector_arm_Q3         3655           0.000646   \\n\\n   Max edge length    RMS edge length    Min tet vol    Max tet vol    \\\\\\n0           0.238435           0.023593   3.399890e-11   1.628710e-05   \\n1           0.741310           0.019466   1.364890e-12   1.012520e-02   \\n2           0.927333           0.027450   1.602820e-12   3.274650e-02   \\n3           0.026691           0.016819   6.054030e-09   1.184210e-07   \\n4           0.011854           0.005685   3.702030e-10   2.303290e-08   \\n5           0.014336           0.006044   1.768220e-11   4.160250e-08   \\n6           0.019965           0.010409   4.130090e-11   8.606730e-08   \\n7           0.015987           0.006401   9.537190e-12   5.016470e-08   \\n\\n   Mean tet vol    Std Devn (vol)    \\n0    1.013790e-07      5.809870e-07  \\n1    2.911160e-06      7.960880e-05  \\n2    1.027250e-05      3.107600e-04  \\n3    4.558440e-08      2.437810e-08  \\n4    5.082900e-09      2.922200e-09  \\n5    4.935750e-09      3.975670e-09  \\n6    1.614580e-08      1.564090e-08  \\n7    4.762240e-09      5.929200e-09  , 'convergence':              Solved Elements  Max Delta Freq. %\\nPass Number                                    \\n1                      18397                NaN\\n2                      23659           3.330900\\n3                      30420           2.275700\\n4                      39148           1.714300\\n5                      50293           1.212000\\n6                      64540           0.631890\\n7                      82812           0.555350\\n8                     106031           0.595370\\n9                     135835           0.514900\\n10                    173807           0.319670\\n11                    222664           0.350590\\n12                    285329           0.322210\\n13                    365891           0.262660\\n14                    469116           0.181410\\n15                    601423           0.106830\\n16                    770392           0.089195\\n17                    986973           0.084635, 'convergence_f_pass': None}}}\"}\n",
      "pyaedt INFO: Project CavityQubit_Modified_Candle_Andre_proj_0_1_5 set to active.\n"
     ]
    },
    {
     "name": "stderr",
     "output_type": "stream",
     "text": [
      "INFO:Global:Project CavityQubit_Modified_Candle_Andre_proj_0_1_5 set to active.\n"
     ]
    },
    {
     "name": "stdout",
     "output_type": "stream",
     "text": [
      "pyaedt INFO: Aedt Objects initialized\n"
     ]
    },
    {
     "name": "stderr",
     "output_type": "stream",
     "text": [
      "INFO:Global:Aedt Objects initialized\n"
     ]
    },
    {
     "name": "stdout",
     "output_type": "stream",
     "text": [
      "pyaedt INFO: Variable Manager initialized\n"
     ]
    },
    {
     "name": "stderr",
     "output_type": "stream",
     "text": [
      "INFO:Global:Variable Manager initialized\n"
     ]
    },
    {
     "name": "stdout",
     "output_type": "stream",
     "text": [
      "pyaedt INFO: Design Loaded\n"
     ]
    },
    {
     "name": "stderr",
     "output_type": "stream",
     "text": [
      "INFO:Global:Design Loaded\n"
     ]
    },
    {
     "name": "stdout",
     "output_type": "stream",
     "text": [
      "pyaedt INFO: Successfully loaded project materials !\n"
     ]
    },
    {
     "name": "stderr",
     "output_type": "stream",
     "text": [
      "INFO:Global:Successfully loaded project materials !\n"
     ]
    },
    {
     "name": "stdout",
     "output_type": "stream",
     "text": [
      "pyaedt INFO: Materials Loaded\n"
     ]
    },
    {
     "name": "stderr",
     "output_type": "stream",
     "text": [
      "INFO:Global:Materials Loaded\n"
     ]
    },
    {
     "name": "stdout",
     "output_type": "stream",
     "text": [
      "pyaedt INFO: Deleted 10 Objects: layer_1_datatype_0_plane,layer_3_datatype_0_plane,vacuum_box,prime_cpw_clt3_shortline,second_cpw_clt3_shortline,trace_cpw3_shortline,cross_Q3,c_connector_arm_Q3,JJ_rect_Lj_3_rect_jj,JJ_Lj_3_rect_jj_.\n"
     ]
    },
    {
     "name": "stderr",
     "output_type": "stream",
     "text": [
      "INFO:Global:Deleted 10 Objects: layer_1_datatype_0_plane,layer_3_datatype_0_plane,vacuum_box,prime_cpw_clt3_shortline,second_cpw_clt3_shortline,trace_cpw3_shortline,cross_Q3,c_connector_arm_Q3,JJ_rect_Lj_3_rect_jj,JJ_Lj_3_rect_jj_.\n"
     ]
    },
    {
     "name": "stdout",
     "output_type": "stream",
     "text": [
      "pyaedt INFO: Project CavityQubit_Modified_Candle_Andre_proj_0_1_5 set to active.\n"
     ]
    },
    {
     "name": "stderr",
     "output_type": "stream",
     "text": [
      "INFO:Global:Project CavityQubit_Modified_Candle_Andre_proj_0_1_5 set to active.\n"
     ]
    },
    {
     "name": "stdout",
     "output_type": "stream",
     "text": [
      "pyaedt INFO: Aedt Objects initialized\n"
     ]
    },
    {
     "name": "stderr",
     "output_type": "stream",
     "text": [
      "INFO:Global:Aedt Objects initialized\n"
     ]
    },
    {
     "name": "stdout",
     "output_type": "stream",
     "text": [
      "pyaedt INFO: Variable Manager initialized\n"
     ]
    },
    {
     "name": "stderr",
     "output_type": "stream",
     "text": [
      "INFO:Global:Variable Manager initialized\n"
     ]
    },
    {
     "name": "stdout",
     "output_type": "stream",
     "text": [
      "pyaedt INFO: Design Loaded\n"
     ]
    },
    {
     "name": "stderr",
     "output_type": "stream",
     "text": [
      "INFO:Global:Design Loaded\n"
     ]
    },
    {
     "name": "stdout",
     "output_type": "stream",
     "text": [
      "pyaedt INFO: Successfully loaded project materials !\n"
     ]
    },
    {
     "name": "stderr",
     "output_type": "stream",
     "text": [
      "INFO:Global:Successfully loaded project materials !\n"
     ]
    },
    {
     "name": "stdout",
     "output_type": "stream",
     "text": [
      "pyaedt INFO: Materials Loaded\n"
     ]
    },
    {
     "name": "stderr",
     "output_type": "stream",
     "text": [
      "INFO:Global:Materials Loaded\n"
     ]
    },
    {
     "name": "stdout",
     "output_type": "stream",
     "text": [
      "pyaedt INFO: Project CavityQubit_Modified_Candle_Andre_proj_0_1_5 set to active.\n"
     ]
    },
    {
     "name": "stderr",
     "output_type": "stream",
     "text": [
      "INFO:Global:Project CavityQubit_Modified_Candle_Andre_proj_0_1_5 set to active.\n"
     ]
    },
    {
     "name": "stdout",
     "output_type": "stream",
     "text": [
      "pyaedt INFO: Aedt Objects initialized\n"
     ]
    },
    {
     "name": "stderr",
     "output_type": "stream",
     "text": [
      "INFO:Global:Aedt Objects initialized\n"
     ]
    },
    {
     "name": "stdout",
     "output_type": "stream",
     "text": [
      "pyaedt INFO: Variable Manager initialized\n"
     ]
    },
    {
     "name": "stderr",
     "output_type": "stream",
     "text": [
      "INFO:Global:Variable Manager initialized\n"
     ]
    },
    {
     "name": "stdout",
     "output_type": "stream",
     "text": [
      "pyaedt INFO: Design Loaded\n"
     ]
    },
    {
     "name": "stderr",
     "output_type": "stream",
     "text": [
      "INFO:Global:Design Loaded\n"
     ]
    },
    {
     "name": "stdout",
     "output_type": "stream",
     "text": [
      "pyaedt INFO: Successfully loaded project materials !\n"
     ]
    },
    {
     "name": "stderr",
     "output_type": "stream",
     "text": [
      "INFO:Global:Successfully loaded project materials !\n"
     ]
    },
    {
     "name": "stdout",
     "output_type": "stream",
     "text": [
      "pyaedt INFO: Materials Loaded\n"
     ]
    },
    {
     "name": "stderr",
     "output_type": "stream",
     "text": [
      "INFO:Global:Materials Loaded\n"
     ]
    },
    {
     "name": "stdout",
     "output_type": "stream",
     "text": [
      "pyaedt WARNING: No objects to delete\n"
     ]
    },
    {
     "name": "stderr",
     "output_type": "stream",
     "text": [
      "WARNING:Global:No objects to delete\n"
     ]
    },
    {
     "name": "stdout",
     "output_type": "stream",
     "text": [
      "pyaedt INFO: Project CavityQubit_Modified_Candle_Andre_proj_0_1_5 set to active.\n"
     ]
    },
    {
     "name": "stderr",
     "output_type": "stream",
     "text": [
      "INFO:Global:Project CavityQubit_Modified_Candle_Andre_proj_0_1_5 set to active.\n"
     ]
    },
    {
     "name": "stdout",
     "output_type": "stream",
     "text": [
      "pyaedt INFO: Aedt Objects initialized\n"
     ]
    },
    {
     "name": "stderr",
     "output_type": "stream",
     "text": [
      "INFO:Global:Aedt Objects initialized\n"
     ]
    },
    {
     "name": "stdout",
     "output_type": "stream",
     "text": [
      "pyaedt INFO: Variable Manager initialized\n"
     ]
    },
    {
     "name": "stderr",
     "output_type": "stream",
     "text": [
      "INFO:Global:Variable Manager initialized\n"
     ]
    },
    {
     "name": "stdout",
     "output_type": "stream",
     "text": [
      "pyaedt INFO: Design Loaded\n"
     ]
    },
    {
     "name": "stderr",
     "output_type": "stream",
     "text": [
      "INFO:Global:Design Loaded\n"
     ]
    },
    {
     "name": "stdout",
     "output_type": "stream",
     "text": [
      "pyaedt INFO: Successfully loaded project materials !\n"
     ]
    },
    {
     "name": "stderr",
     "output_type": "stream",
     "text": [
      "INFO:Global:Successfully loaded project materials !\n"
     ]
    },
    {
     "name": "stdout",
     "output_type": "stream",
     "text": [
      "pyaedt INFO: Materials Loaded\n"
     ]
    },
    {
     "name": "stderr",
     "output_type": "stream",
     "text": [
      "INFO:Global:Materials Loaded\n"
     ]
    },
    {
     "name": "stdout",
     "output_type": "stream",
     "text": [
      "pyaedt INFO: Boundary Lumped RLC rlc_JJ_rect_Lj_8_rect_jj has been correctly created.\n"
     ]
    },
    {
     "name": "stderr",
     "output_type": "stream",
     "text": [
      "INFO:Global:Boundary Lumped RLC rlc_JJ_rect_Lj_8_rect_jj has been correctly created.\n"
     ]
    },
    {
     "name": "stdout",
     "output_type": "stream",
     "text": [
      "pyaedt INFO: Project CavityQubit_Modified_Candle_Andre_proj_0_1_5 set to active.\n"
     ]
    },
    {
     "name": "stderr",
     "output_type": "stream",
     "text": [
      "INFO:Global:Project CavityQubit_Modified_Candle_Andre_proj_0_1_5 set to active.\n"
     ]
    },
    {
     "name": "stdout",
     "output_type": "stream",
     "text": [
      "pyaedt INFO: Aedt Objects initialized\n"
     ]
    },
    {
     "name": "stderr",
     "output_type": "stream",
     "text": [
      "INFO:Global:Aedt Objects initialized\n"
     ]
    },
    {
     "name": "stdout",
     "output_type": "stream",
     "text": [
      "pyaedt INFO: Variable Manager initialized\n"
     ]
    },
    {
     "name": "stderr",
     "output_type": "stream",
     "text": [
      "INFO:Global:Variable Manager initialized\n"
     ]
    },
    {
     "name": "stdout",
     "output_type": "stream",
     "text": [
      "pyaedt INFO: Design Loaded\n"
     ]
    },
    {
     "name": "stderr",
     "output_type": "stream",
     "text": [
      "INFO:Global:Design Loaded\n"
     ]
    },
    {
     "name": "stdout",
     "output_type": "stream",
     "text": [
      "pyaedt INFO: Successfully loaded project materials !\n"
     ]
    },
    {
     "name": "stderr",
     "output_type": "stream",
     "text": [
      "INFO:Global:Successfully loaded project materials !\n"
     ]
    },
    {
     "name": "stdout",
     "output_type": "stream",
     "text": [
      "pyaedt INFO: Materials Loaded\n"
     ]
    },
    {
     "name": "stderr",
     "output_type": "stream",
     "text": [
      "INFO:Global:Materials Loaded\n"
     ]
    },
    {
     "name": "stdout",
     "output_type": "stream",
     "text": [
      "pyaedt INFO: Project CavityQubit_Modified_Candle_Andre_proj_0_1_5 set to active.\n"
     ]
    },
    {
     "name": "stderr",
     "output_type": "stream",
     "text": [
      "INFO:Global:Project CavityQubit_Modified_Candle_Andre_proj_0_1_5 set to active.\n"
     ]
    },
    {
     "name": "stdout",
     "output_type": "stream",
     "text": [
      "pyaedt INFO: Aedt Objects initialized\n"
     ]
    },
    {
     "name": "stderr",
     "output_type": "stream",
     "text": [
      "INFO:Global:Aedt Objects initialized\n"
     ]
    },
    {
     "name": "stdout",
     "output_type": "stream",
     "text": [
      "pyaedt INFO: Variable Manager initialized\n"
     ]
    },
    {
     "name": "stderr",
     "output_type": "stream",
     "text": [
      "INFO:Global:Variable Manager initialized\n"
     ]
    },
    {
     "name": "stdout",
     "output_type": "stream",
     "text": [
      "pyaedt INFO: Design Loaded\n"
     ]
    },
    {
     "name": "stderr",
     "output_type": "stream",
     "text": [
      "INFO:Global:Design Loaded\n"
     ]
    },
    {
     "name": "stdout",
     "output_type": "stream",
     "text": [
      "pyaedt INFO: Successfully loaded project materials !\n"
     ]
    },
    {
     "name": "stderr",
     "output_type": "stream",
     "text": [
      "INFO:Global:Successfully loaded project materials !\n"
     ]
    },
    {
     "name": "stdout",
     "output_type": "stream",
     "text": [
      "pyaedt INFO: Materials Loaded\n"
     ]
    },
    {
     "name": "stderr",
     "output_type": "stream",
     "text": [
      "INFO:Global:Materials Loaded\n"
     ]
    },
    {
     "name": "stdout",
     "output_type": "stream",
     "text": [
      "pyaedt INFO: Key Desktop/ActiveDSOConfigurations/HFSS correctly changed.\n"
     ]
    },
    {
     "name": "stderr",
     "output_type": "stream",
     "text": [
      "INFO:Global:Key Desktop/ActiveDSOConfigurations/HFSS correctly changed.\n"
     ]
    },
    {
     "name": "stdout",
     "output_type": "stream",
     "text": [
      "pyaedt INFO: Solving design setup TransmonSetup\n"
     ]
    },
    {
     "name": "stderr",
     "output_type": "stream",
     "text": [
      "INFO:Global:Solving design setup TransmonSetup\n"
     ]
    },
    {
     "name": "stdout",
     "output_type": "stream",
     "text": [
      "pyaedt INFO: Key Desktop/ActiveDSOConfigurations/HFSS correctly changed.\n"
     ]
    },
    {
     "name": "stderr",
     "output_type": "stream",
     "text": [
      "INFO:Global:Key Desktop/ActiveDSOConfigurations/HFSS correctly changed.\n"
     ]
    },
    {
     "name": "stdout",
     "output_type": "stream",
     "text": [
      "pyaedt INFO: Design setup TransmonSetup solved correctly in 0.0h 51.0m 42.0s\n"
     ]
    },
    {
     "name": "stderr",
     "output_type": "stream",
     "text": [
      "INFO:Global:Design setup TransmonSetup solved correctly in 0.0h 51.0m 42.0s\n"
     ]
    },
    {
     "name": "stdout",
     "output_type": "stream",
     "text": [
      "pyaedt INFO: Project CavityQubit_Modified_Candle_Andre_proj_0_1_5 set to active.\n"
     ]
    },
    {
     "name": "stderr",
     "output_type": "stream",
     "text": [
      "INFO:Global:Project CavityQubit_Modified_Candle_Andre_proj_0_1_5 set to active.\n"
     ]
    },
    {
     "name": "stdout",
     "output_type": "stream",
     "text": [
      "pyaedt INFO: Aedt Objects initialized\n"
     ]
    },
    {
     "name": "stderr",
     "output_type": "stream",
     "text": [
      "INFO:Global:Aedt Objects initialized\n"
     ]
    },
    {
     "name": "stdout",
     "output_type": "stream",
     "text": [
      "pyaedt INFO: Variable Manager initialized\n"
     ]
    },
    {
     "name": "stderr",
     "output_type": "stream",
     "text": [
      "INFO:Global:Variable Manager initialized\n"
     ]
    },
    {
     "name": "stdout",
     "output_type": "stream",
     "text": [
      "pyaedt INFO: Design Loaded\n"
     ]
    },
    {
     "name": "stderr",
     "output_type": "stream",
     "text": [
      "INFO:Global:Design Loaded\n"
     ]
    },
    {
     "name": "stdout",
     "output_type": "stream",
     "text": [
      "pyaedt INFO: Successfully loaded project materials !\n"
     ]
    },
    {
     "name": "stderr",
     "output_type": "stream",
     "text": [
      "INFO:Global:Successfully loaded project materials !\n"
     ]
    },
    {
     "name": "stdout",
     "output_type": "stream",
     "text": [
      "pyaedt INFO: Materials Loaded\n"
     ]
    },
    {
     "name": "stderr",
     "output_type": "stream",
     "text": [
      "INFO:Global:Materials Loaded\n",
      "INFO 10:08PM [connect_project]: Connecting to Ansys Desktop API...\n",
      "INFO 10:08PM [load_ansys_project]: \tOpened Ansys App\n",
      "INFO 10:08PM [load_ansys_project]: \tOpened Ansys Desktop v2021.1.0\n",
      "INFO 10:08PM [load_ansys_project]: \tOpened Ansys Project\n",
      "\tFolder:    D:/lfl/Documents/Ansoft/\n",
      "\tProject:   CavityQubit_Modified_Candle_Andre_proj_0_1_5\n",
      "INFO 10:08PM [connect_design]: \tOpened active design\n",
      "\tDesign:    CavityQubit_Modified_Candle_Andre_design_0_1_5 [Solution type: Eigenmode]\n",
      "INFO 10:08PM [get_setup]: \tOpened setup `TransmonSetup`  (<class 'pyEPR.ansys.HfssEMSetup'>)\n",
      "INFO 10:08PM [connect]: \tConnected to project \"CavityQubit_Modified_Candle_Andre_proj_0_1_5\" and design \"CavityQubit_Modified_Candle_Andre_design_0_1_5\" 😀 \n",
      "\n"
     ]
    },
    {
     "name": "stdout",
     "output_type": "stream",
     "text": [
      "Design \"CavityQubit_Modified_Candle_Andre_design_0_1_5\" info:\n",
      "\t# eigenmodes    2\n",
      "\t# variations    1\n",
      "\n",
      "Variation 0  [1/1]\n",
      "\n",
      "  \u001b[1mMode 0 at 4.41 GHz   [1/2]\u001b[0m\n",
      "    Calculating ℰ_magnetic,ℰ_electric\n",
      "       (ℰ_E-ℰ_H)/ℰ_E       ℰ_E       ℰ_H\n",
      "               98.9%  2.403e-26 2.598e-28\n",
      "\n",
      "    Calculating junction energy participation ration (EPR)\n",
      "\tmethod=`line_voltage`. First estimates:\n",
      "\tjunction        EPR p_0j   sign s_0j    (p_capacitive)\n",
      "\t\tEnergy fraction (Lj over Lj&Cj)= 97.64%\n",
      "\tj0              0.667195  (+)        0.016102\n",
      "\t\t(U_tot_cap-U_tot_ind)/mean=19.96%\n",
      "WARNING: This simulation must not have converged well!!!                The difference in the total cap and ind energies is larger than 10%.                Proceed with caution.\n",
      "\n",
      "  \u001b[1mMode 1 at 7.67 GHz   [2/2]\u001b[0m\n",
      "    Calculating ℰ_magnetic,ℰ_electric\n",
      "       (ℰ_E-ℰ_H)/ℰ_E       ℰ_E       ℰ_H\n",
      "                0.0%  4.968e-26 4.968e-26\n",
      "\n",
      "    Calculating junction energy participation ration (EPR)\n",
      "\tmethod=`line_voltage`. First estimates:\n",
      "\tjunction        EPR p_1j   sign s_1j    (p_capacitive)\n",
      "\t\tEnergy fraction (Lj over Lj&Cj)= 93.19%\n",
      "\tj0              0.000103312  (+)        7.55255e-06\n",
      "\t\t(U_tot_cap-U_tot_ind)/mean=0.00%\n"
     ]
    },
    {
     "name": "stderr",
     "output_type": "stream",
     "text": [
      "WARNING 10:09PM [__init__]: <p>Error: <class 'IndexError'></p>\n",
      "ERROR 10:09PM [_get_participation_normalized]: WARNING: U_tot_cap-U_tot_ind / mean = 39.9% is > 15%.                     \n",
      "Is the simulation converged? Proceed with caution\n",
      "ERROR 10:09PM [_get_participation_normalized]: WARNING: U_tot_cap-U_tot_ind / mean = 39.9% is > 15%.                     \n",
      "Is the simulation converged? Proceed with caution\n"
     ]
    },
    {
     "name": "stdout",
     "output_type": "stream",
     "text": [
      "\n",
      "ANALYSIS DONE. Data saved to:\n",
      "\n",
      "C:\\data-pyEPR\\CavityQubit_Modified_Candle_Andre_proj_0_1_5\\CavityQubit_Modified_Candle_Andre_design_0_1_5\\2023-06-19 22-08-43.npz\n",
      "\n",
      "\n",
      "\t Differences in variations:\n",
      "\n",
      "\n",
      "\n",
      " . . . . . . . . . . . . . . . . . . . . . . . . . . . . . . . . . . . . . . . . \n",
      "Variation 0\n",
      "\n",
      "Starting the diagonalization\n",
      "Finished the diagonalization\n",
      "Pm_norm=\n",
      "modes\n",
      "0    1.503510\n",
      "1    1.277644\n",
      "dtype: float64\n",
      "\n",
      "Pm_norm idx =\n",
      "      j0\n",
      "0   True\n",
      "1  False\n",
      "*** P (participation matrix, not normlz.)\n",
      "         j0\n",
      "0  0.656623\n",
      "1  0.000103\n",
      "\n",
      "*** S (sign-bit matrix)\n",
      "   s_j0\n",
      "0     1\n",
      "1    -1\n",
      "*** P (participation matrix, normalized.)\n",
      "      0.99\n",
      "    0.0001\n",
      "\n",
      "*** Chi matrix O1 PT (MHz)\n",
      "    Diag is anharmonicity, off diag is full cross-Kerr.\n",
      "       228    0.083\n",
      "     0.083 7.56e-06\n",
      "\n",
      "*** Chi matrix ND (MHz) \n",
      "       260   0.0776\n",
      "    0.0776 5.17e-06\n",
      "\n",
      "*** Frequencies O1 PT (MHz)\n",
      "0    4181.040313\n",
      "1    7673.353979\n",
      "dtype: float64\n",
      "\n",
      "*** Frequencies ND (MHz)\n",
      "0    4167.579627\n",
      "1    7673.354252\n",
      "dtype: float64\n",
      "\n",
      "*** Q_coupling\n",
      "Empty DataFrame\n",
      "Columns: []\n",
      "Index: [0, 1]\n"
     ]
    },
    {
     "data": {
      "text/markdown": [
       "#### Mode frequencies (MHz)"
      ],
      "text/plain": [
       "<IPython.core.display.Markdown object>"
      ]
     },
     "metadata": {},
     "output_type": "display_data"
    },
    {
     "data": {
      "text/markdown": [
       "###### Numerical diagonalization"
      ],
      "text/plain": [
       "<IPython.core.display.Markdown object>"
      ]
     },
     "metadata": {},
     "output_type": "display_data"
    },
    {
     "data": {
      "text/html": [
       "<div>\n",
       "<style scoped>\n",
       "    .dataframe tbody tr th:only-of-type {\n",
       "        vertical-align: middle;\n",
       "    }\n",
       "\n",
       "    .dataframe tbody tr th {\n",
       "        vertical-align: top;\n",
       "    }\n",
       "\n",
       "    .dataframe thead th {\n",
       "        text-align: right;\n",
       "    }\n",
       "</style>\n",
       "<table border=\"1\" class=\"dataframe\">\n",
       "  <thead>\n",
       "    <tr style=\"text-align: right;\">\n",
       "      <th>variation</th>\n",
       "      <th>0</th>\n",
       "    </tr>\n",
       "  </thead>\n",
       "  <tbody>\n",
       "    <tr>\n",
       "      <th>0</th>\n",
       "      <td>4181.04</td>\n",
       "    </tr>\n",
       "    <tr>\n",
       "      <th>1</th>\n",
       "      <td>7673.35</td>\n",
       "    </tr>\n",
       "  </tbody>\n",
       "</table>\n",
       "</div>"
      ],
      "text/plain": [
       "variation        0\n",
       "0          4181.04\n",
       "1          7673.35"
      ]
     },
     "metadata": {},
     "output_type": "display_data"
    },
    {
     "data": {
      "text/markdown": [
       "#### Kerr Non-linear coefficient table (MHz)"
      ],
      "text/plain": [
       "<IPython.core.display.Markdown object>"
      ]
     },
     "metadata": {},
     "output_type": "display_data"
    },
    {
     "data": {
      "text/markdown": [
       "###### Numerical diagonalization"
      ],
      "text/plain": [
       "<IPython.core.display.Markdown object>"
      ]
     },
     "metadata": {},
     "output_type": "display_data"
    },
    {
     "data": {
      "text/html": [
       "<div>\n",
       "<style scoped>\n",
       "    .dataframe tbody tr th:only-of-type {\n",
       "        vertical-align: middle;\n",
       "    }\n",
       "\n",
       "    .dataframe tbody tr th {\n",
       "        vertical-align: top;\n",
       "    }\n",
       "\n",
       "    .dataframe thead th {\n",
       "        text-align: right;\n",
       "    }\n",
       "</style>\n",
       "<table border=\"1\" class=\"dataframe\">\n",
       "  <thead>\n",
       "    <tr style=\"text-align: right;\">\n",
       "      <th></th>\n",
       "      <th></th>\n",
       "      <th>0</th>\n",
       "      <th>1</th>\n",
       "    </tr>\n",
       "    <tr>\n",
       "      <th>variation</th>\n",
       "      <th></th>\n",
       "      <th></th>\n",
       "      <th></th>\n",
       "    </tr>\n",
       "  </thead>\n",
       "  <tbody>\n",
       "    <tr>\n",
       "      <th rowspan=\"2\" valign=\"top\">0</th>\n",
       "      <th>0</th>\n",
       "      <td>227.81</td>\n",
       "      <td>8.30e-02</td>\n",
       "    </tr>\n",
       "    <tr>\n",
       "      <th>1</th>\n",
       "      <td>0.08</td>\n",
       "      <td>7.56e-06</td>\n",
       "    </tr>\n",
       "  </tbody>\n",
       "</table>\n",
       "</div>"
      ],
      "text/plain": [
       "                  0         1\n",
       "variation                    \n",
       "0         0  227.81  8.30e-02\n",
       "          1    0.08  7.56e-06"
      ]
     },
     "metadata": {},
     "output_type": "display_data"
    },
    {
     "name": "stdout",
     "output_type": "stream",
     "text": [
      "Warning! 81 COM references still alive\n",
      "Ansys will likely refuse to shut down\n",
      "{'qubit_freq_MHz': 4167.5796269309685, 'qubit_anharmonicity_MHz': 260.0210767612886, 'other_data': \"{'project_info': {'pinfo': design_name     CavityQubit_Modified_Candle_Andre_design_0_1_5\\nproject_name      CavityQubit_Modified_Candle_Andre_proj_0_1_5\\nproject_path                          D:/lfl/Documents/Ansoft/\\nsetup_name                                       TransmonSetup\\ndtype: object, 'dissip': dielectrics_bulk                             None\\ndielectric_surfaces    [layer_3_datatype_0_plane]\\nresistive_surfaces                           None\\nseams                                        None\\ndtype: object, 'options': Series([], dtype: float64), 'junctions':                                j0\\nCj_variable                  Cj_0\\nLj_variable                  Lj_0\\nlength                     0.0001\\nline             JJ_Lj_8_rect_jj_\\nrect         JJ_rect_Lj_8_rect_jj, 'ports': Empty DataFrame\\nColumns: []\\nIndex: []}, 'results': {'0': {'Pm':          j0\\n0  0.656623\\n1  0.000103, 'Pm_cap':          j0\\n0  0.015847\\n1  0.000008, 'Sm':    s_j0\\n0     1\\n1    -1, 'Om':                  0         1\\nfreq_GHz  4.408894  7.673395, 'sols':             U_H           U_E\\n0  5.195053e-28  4.805966e-26\\n1  9.935012e-26  9.936534e-26, 'Qm_coupling': Empty DataFrame\\nColumns: []\\nIndex: [0, 1], 'Ljs': j0    1.572457e-08\\ndtype: float64, 'Cjs': j0    2.000000e-15\\ndtype: float64, 'Qs': 0    inf\\n1    inf\\ndtype: float64, 'freqs_hfss_GHz': 0    4.408894\\n1    7.673395\\ndtype: float64, 'hfss_variables': _Cj_0                     0fF\\n_Lj_0    15.724568346403402nH\\ndtype: object, 'modes': range(0, 2), 'I_peak': 0    0    1.427998e-09\\ndtype: float64\\n1    0   -2.555072e-11\\ndtype: float64\\ndtype: object, 'V_peak': 0    0    6.220364e-07\\ndtype: float64\\n1    0   -1.937088e-08\\ndtype: float64\\ndtype: object, 'ansys_energies': {0: {'U_J_inds': {'j0': 1.603259541419528e-26}, 'U_J_caps': {'j0': 3.8692927858223285e-28}, 'U_H': 2.59752641977551e-28, 'U_E': 2.40298317944385e-26, 'U_tot_ind': 1.629234805617283e-26, 'U_tot_cap': 2.4416761073020733e-26, 'U_norm': 2.4416761073020733e-26, 'U_diff': 0.19957236084593352}, 1: {'U_J_inds': {'j0': 5.132806330381332e-30}, 'U_J_caps': {'j0': 3.752308234823477e-31}, 'U_H': 4.967506087492655e-26, 'U_E': 4.968266826091225e-26, 'U_tot_ind': 4.968019368125693e-26, 'U_tot_cap': 4.968304349173573e-26, 'U_norm': 4.968304349173573e-26, 'U_diff': 2.8680733034470733e-05}}, 'mesh':                             Unnamed: 0  Num Tets    Min edge length    \\\\\\n0            layer_1_datatype_0_plane        79019           0.001123   \\n1            layer_3_datatype_0_plane      1137451           0.000251   \\n2                          vacuum_box       690343           0.000315   \\n3           prime_cpw_ncap4_shortline           26           0.014757   \\n4      second_cpw_top_ncap4_shortline           21           0.012141   \\n5   second_cpw_bottom_ncap4_shortline          282           0.002457   \\n6                trace_cpw4_shortline        41284           0.001481   \\n7                            cross_Q4         3736           0.000964   \\n8                  c_connector_arm_Q4         3071           0.000691   \\n9                    cap_body_0_ncap4          806           0.000662   \\n10                   cap_body_1_ncap4          480           0.000903   \\n\\n    Max edge length    RMS edge length    Min tet vol    Max tet vol    \\\\\\n0            0.216865           0.020197   4.588190e-11   1.088540e-05   \\n1            0.751294           0.016736   7.014690e-13   1.225300e-02   \\n2            1.260350           0.023786   9.427390e-13   5.802620e-02   \\n3            0.040682           0.023725   3.124450e-08   1.586600e-07   \\n4            0.019624           0.017812   3.975140e-09   1.082260e-07   \\n5            0.013206           0.006665   4.604840e-10   3.496170e-08   \\n6            0.014516           0.005794   1.768220e-11   3.646180e-08   \\n7            0.021151           0.009913   3.382370e-11   9.242860e-08   \\n8            0.013141           0.006081   8.876870e-12   3.705520e-08   \\n9            0.012818           0.005200   1.238570e-11   4.251000e-08   \\n10           0.022100           0.006271   1.922570e-11   5.307170e-08   \\n\\n    Mean tet vol    Std Devn (vol)    \\n0     7.118330e-08      4.481210e-07  \\n1     2.035750e-06      6.583010e-05  \\n2     7.370790e-06      3.013530e-04  \\n3     7.848000e-08      3.077010e-08  \\n4     5.019860e-08      2.252490e-08  \\n5     4.223620e-09      5.732170e-09  \\n6     4.507250e-09      3.725890e-09  \\n7     1.410520e-08      1.494720e-08  \\n8     3.866640e-09      4.845190e-09  \\n9     3.183450e-09      4.259940e-09  \\n10    5.345540e-09      7.099600e-09  , 'convergence':              Solved Elements  Max Delta Freq. %\\nPass Number                                    \\n1                      20975                NaN\\n2                      26985           3.399500\\n3                      34646           3.230200\\n4                      44475           2.125600\\n5                      57134           1.455900\\n6                      73324           0.954370\\n7                      93996           0.445060\\n8                     120354           0.289740\\n9                     154090           0.475420\\n10                    197271           0.339610\\n11                    252194           0.178390\\n12                    322616           0.117170\\n13                    413129           0.176510\\n14                    529374           0.322460\\n15                    678322           0.188510\\n16                    869223           0.205820\\n17                   1113969           0.129970\\n18                   1427038           0.099280\\n19                   1827794           0.088475, 'convergence_f_pass': None}}}\"}\n",
      "pyaedt INFO: Project CavityQubit_Modified_Candle_Andre_proj_0_1_5 set to active.\n"
     ]
    },
    {
     "name": "stderr",
     "output_type": "stream",
     "text": [
      "INFO:Global:Project CavityQubit_Modified_Candle_Andre_proj_0_1_5 set to active.\n"
     ]
    },
    {
     "name": "stdout",
     "output_type": "stream",
     "text": [
      "pyaedt INFO: Aedt Objects initialized\n"
     ]
    },
    {
     "name": "stderr",
     "output_type": "stream",
     "text": [
      "INFO:Global:Aedt Objects initialized\n"
     ]
    },
    {
     "name": "stdout",
     "output_type": "stream",
     "text": [
      "pyaedt INFO: Variable Manager initialized\n"
     ]
    },
    {
     "name": "stderr",
     "output_type": "stream",
     "text": [
      "INFO:Global:Variable Manager initialized\n"
     ]
    },
    {
     "name": "stdout",
     "output_type": "stream",
     "text": [
      "pyaedt INFO: Design Loaded\n"
     ]
    },
    {
     "name": "stderr",
     "output_type": "stream",
     "text": [
      "INFO:Global:Design Loaded\n"
     ]
    },
    {
     "name": "stdout",
     "output_type": "stream",
     "text": [
      "pyaedt INFO: Successfully loaded project materials !\n"
     ]
    },
    {
     "name": "stderr",
     "output_type": "stream",
     "text": [
      "INFO:Global:Successfully loaded project materials !\n"
     ]
    },
    {
     "name": "stdout",
     "output_type": "stream",
     "text": [
      "pyaedt INFO: Materials Loaded\n"
     ]
    },
    {
     "name": "stderr",
     "output_type": "stream",
     "text": [
      "INFO:Global:Materials Loaded\n"
     ]
    },
    {
     "name": "stdout",
     "output_type": "stream",
     "text": [
      "pyaedt INFO: Deleted 13 Objects: layer_1_datatype_0_plane,layer_3_datatype_0_plane,vacuum_box,prime_cpw_ncap4_shortline,second_cpw_top_ncap4_shortline,second_cpw_bottom_ncap4_shortline,trace_cpw4_shortline,cross_Q4,c_connector_arm_Q4,cap_body_0_ncap4,cap_body_1_n...\n"
     ]
    },
    {
     "name": "stderr",
     "output_type": "stream",
     "text": [
      "INFO:Global:Deleted 13 Objects: layer_1_datatype_0_plane,layer_3_datatype_0_plane,vacuum_box,prime_cpw_ncap4_shortline,second_cpw_top_ncap4_shortline,second_cpw_bottom_ncap4_shortline,trace_cpw4_shortline,cross_Q4,c_connector_arm_Q4,cap_body_0_ncap4,cap_body_1_n...\n"
     ]
    },
    {
     "name": "stdout",
     "output_type": "stream",
     "text": [
      "pyaedt INFO: Project CavityQubit_Modified_Candle_Andre_proj_0_1_5 set to active.\n"
     ]
    },
    {
     "name": "stderr",
     "output_type": "stream",
     "text": [
      "INFO:Global:Project CavityQubit_Modified_Candle_Andre_proj_0_1_5 set to active.\n"
     ]
    },
    {
     "name": "stdout",
     "output_type": "stream",
     "text": [
      "pyaedt INFO: Aedt Objects initialized\n"
     ]
    },
    {
     "name": "stderr",
     "output_type": "stream",
     "text": [
      "INFO:Global:Aedt Objects initialized\n"
     ]
    },
    {
     "name": "stdout",
     "output_type": "stream",
     "text": [
      "pyaedt INFO: Variable Manager initialized\n"
     ]
    },
    {
     "name": "stderr",
     "output_type": "stream",
     "text": [
      "INFO:Global:Variable Manager initialized\n"
     ]
    },
    {
     "name": "stdout",
     "output_type": "stream",
     "text": [
      "pyaedt INFO: Design Loaded\n"
     ]
    },
    {
     "name": "stderr",
     "output_type": "stream",
     "text": [
      "INFO:Global:Design Loaded\n"
     ]
    },
    {
     "name": "stdout",
     "output_type": "stream",
     "text": [
      "pyaedt INFO: Successfully loaded project materials !\n"
     ]
    },
    {
     "name": "stderr",
     "output_type": "stream",
     "text": [
      "INFO:Global:Successfully loaded project materials !\n"
     ]
    },
    {
     "name": "stdout",
     "output_type": "stream",
     "text": [
      "pyaedt INFO: Materials Loaded\n"
     ]
    },
    {
     "name": "stderr",
     "output_type": "stream",
     "text": [
      "INFO:Global:Materials Loaded\n"
     ]
    },
    {
     "name": "stdout",
     "output_type": "stream",
     "text": [
      "pyaedt INFO: Project CavityQubit_Modified_Candle_Andre_proj_0_1_5 set to active.\n"
     ]
    },
    {
     "name": "stderr",
     "output_type": "stream",
     "text": [
      "INFO:Global:Project CavityQubit_Modified_Candle_Andre_proj_0_1_5 set to active.\n"
     ]
    },
    {
     "name": "stdout",
     "output_type": "stream",
     "text": [
      "pyaedt INFO: Aedt Objects initialized\n"
     ]
    },
    {
     "name": "stderr",
     "output_type": "stream",
     "text": [
      "INFO:Global:Aedt Objects initialized\n"
     ]
    },
    {
     "name": "stdout",
     "output_type": "stream",
     "text": [
      "pyaedt INFO: Variable Manager initialized\n"
     ]
    },
    {
     "name": "stderr",
     "output_type": "stream",
     "text": [
      "INFO:Global:Variable Manager initialized\n"
     ]
    },
    {
     "name": "stdout",
     "output_type": "stream",
     "text": [
      "pyaedt INFO: Design Loaded\n"
     ]
    },
    {
     "name": "stderr",
     "output_type": "stream",
     "text": [
      "INFO:Global:Design Loaded\n"
     ]
    },
    {
     "name": "stdout",
     "output_type": "stream",
     "text": [
      "pyaedt INFO: Successfully loaded project materials !\n"
     ]
    },
    {
     "name": "stderr",
     "output_type": "stream",
     "text": [
      "INFO:Global:Successfully loaded project materials !\n"
     ]
    },
    {
     "name": "stdout",
     "output_type": "stream",
     "text": [
      "pyaedt INFO: Materials Loaded\n"
     ]
    },
    {
     "name": "stderr",
     "output_type": "stream",
     "text": [
      "INFO:Global:Materials Loaded\n"
     ]
    },
    {
     "name": "stdout",
     "output_type": "stream",
     "text": [
      "pyaedt WARNING: No objects to delete\n"
     ]
    },
    {
     "name": "stderr",
     "output_type": "stream",
     "text": [
      "WARNING:Global:No objects to delete\n"
     ]
    },
    {
     "name": "stdout",
     "output_type": "stream",
     "text": [
      "pyaedt INFO: Project CavityQubit_Modified_Candle_Andre_proj_0_1_5 set to active.\n"
     ]
    },
    {
     "name": "stderr",
     "output_type": "stream",
     "text": [
      "INFO:Global:Project CavityQubit_Modified_Candle_Andre_proj_0_1_5 set to active.\n"
     ]
    },
    {
     "name": "stdout",
     "output_type": "stream",
     "text": [
      "pyaedt INFO: Aedt Objects initialized\n"
     ]
    },
    {
     "name": "stderr",
     "output_type": "stream",
     "text": [
      "INFO:Global:Aedt Objects initialized\n"
     ]
    },
    {
     "name": "stdout",
     "output_type": "stream",
     "text": [
      "pyaedt INFO: Variable Manager initialized\n"
     ]
    },
    {
     "name": "stderr",
     "output_type": "stream",
     "text": [
      "INFO:Global:Variable Manager initialized\n"
     ]
    },
    {
     "name": "stdout",
     "output_type": "stream",
     "text": [
      "pyaedt INFO: Design Loaded\n"
     ]
    },
    {
     "name": "stderr",
     "output_type": "stream",
     "text": [
      "INFO:Global:Design Loaded\n"
     ]
    },
    {
     "name": "stdout",
     "output_type": "stream",
     "text": [
      "pyaedt INFO: Successfully loaded project materials !\n"
     ]
    },
    {
     "name": "stderr",
     "output_type": "stream",
     "text": [
      "INFO:Global:Successfully loaded project materials !\n"
     ]
    },
    {
     "name": "stdout",
     "output_type": "stream",
     "text": [
      "pyaedt INFO: Materials Loaded\n"
     ]
    },
    {
     "name": "stderr",
     "output_type": "stream",
     "text": [
      "INFO:Global:Materials Loaded\n"
     ]
    },
    {
     "name": "stdout",
     "output_type": "stream",
     "text": [
      "pyaedt INFO: Boundary Lumped RLC rlc_JJ_rect_Lj_5_rect_jj has been correctly created.\n"
     ]
    },
    {
     "name": "stderr",
     "output_type": "stream",
     "text": [
      "INFO:Global:Boundary Lumped RLC rlc_JJ_rect_Lj_5_rect_jj has been correctly created.\n"
     ]
    },
    {
     "name": "stdout",
     "output_type": "stream",
     "text": [
      "pyaedt INFO: Project CavityQubit_Modified_Candle_Andre_proj_0_1_5 set to active.\n"
     ]
    },
    {
     "name": "stderr",
     "output_type": "stream",
     "text": [
      "INFO:Global:Project CavityQubit_Modified_Candle_Andre_proj_0_1_5 set to active.\n"
     ]
    },
    {
     "name": "stdout",
     "output_type": "stream",
     "text": [
      "pyaedt INFO: Aedt Objects initialized\n"
     ]
    },
    {
     "name": "stderr",
     "output_type": "stream",
     "text": [
      "INFO:Global:Aedt Objects initialized\n"
     ]
    },
    {
     "name": "stdout",
     "output_type": "stream",
     "text": [
      "pyaedt INFO: Variable Manager initialized\n"
     ]
    },
    {
     "name": "stderr",
     "output_type": "stream",
     "text": [
      "INFO:Global:Variable Manager initialized\n"
     ]
    },
    {
     "name": "stdout",
     "output_type": "stream",
     "text": [
      "pyaedt INFO: Design Loaded\n"
     ]
    },
    {
     "name": "stderr",
     "output_type": "stream",
     "text": [
      "INFO:Global:Design Loaded\n"
     ]
    },
    {
     "name": "stdout",
     "output_type": "stream",
     "text": [
      "pyaedt INFO: Successfully loaded project materials !\n"
     ]
    },
    {
     "name": "stderr",
     "output_type": "stream",
     "text": [
      "INFO:Global:Successfully loaded project materials !\n"
     ]
    },
    {
     "name": "stdout",
     "output_type": "stream",
     "text": [
      "pyaedt INFO: Materials Loaded\n"
     ]
    },
    {
     "name": "stderr",
     "output_type": "stream",
     "text": [
      "INFO:Global:Materials Loaded\n"
     ]
    },
    {
     "name": "stdout",
     "output_type": "stream",
     "text": [
      "pyaedt INFO: Project CavityQubit_Modified_Candle_Andre_proj_0_1_5 set to active.\n"
     ]
    },
    {
     "name": "stderr",
     "output_type": "stream",
     "text": [
      "INFO:Global:Project CavityQubit_Modified_Candle_Andre_proj_0_1_5 set to active.\n"
     ]
    },
    {
     "name": "stdout",
     "output_type": "stream",
     "text": [
      "pyaedt INFO: Aedt Objects initialized\n"
     ]
    },
    {
     "name": "stderr",
     "output_type": "stream",
     "text": [
      "INFO:Global:Aedt Objects initialized\n"
     ]
    },
    {
     "name": "stdout",
     "output_type": "stream",
     "text": [
      "pyaedt INFO: Variable Manager initialized\n"
     ]
    },
    {
     "name": "stderr",
     "output_type": "stream",
     "text": [
      "INFO:Global:Variable Manager initialized\n"
     ]
    },
    {
     "name": "stdout",
     "output_type": "stream",
     "text": [
      "pyaedt INFO: Design Loaded\n"
     ]
    },
    {
     "name": "stderr",
     "output_type": "stream",
     "text": [
      "INFO:Global:Design Loaded\n"
     ]
    },
    {
     "name": "stdout",
     "output_type": "stream",
     "text": [
      "pyaedt INFO: Successfully loaded project materials !\n"
     ]
    },
    {
     "name": "stderr",
     "output_type": "stream",
     "text": [
      "INFO:Global:Successfully loaded project materials !\n"
     ]
    },
    {
     "name": "stdout",
     "output_type": "stream",
     "text": [
      "pyaedt INFO: Materials Loaded\n"
     ]
    },
    {
     "name": "stderr",
     "output_type": "stream",
     "text": [
      "INFO:Global:Materials Loaded\n"
     ]
    },
    {
     "name": "stdout",
     "output_type": "stream",
     "text": [
      "pyaedt INFO: Key Desktop/ActiveDSOConfigurations/HFSS correctly changed.\n"
     ]
    },
    {
     "name": "stderr",
     "output_type": "stream",
     "text": [
      "INFO:Global:Key Desktop/ActiveDSOConfigurations/HFSS correctly changed.\n"
     ]
    },
    {
     "name": "stdout",
     "output_type": "stream",
     "text": [
      "pyaedt INFO: Solving design setup TransmonSetup\n"
     ]
    },
    {
     "name": "stderr",
     "output_type": "stream",
     "text": [
      "INFO:Global:Solving design setup TransmonSetup\n"
     ]
    }
   ],
   "source": [
    "qnames = [['Q1', 'cpw1', 'clt1'], \n",
    "          ['Q2', 'cpw2', 'clt2'], \n",
    "          ['Q3', 'cpw3', 'clt3'], \n",
    "          ['Q4', 'cpw4', 'ncap4'], \n",
    "          ['Q5', 'cpw5', 'ncap5'], \n",
    "          ['Q6', 'cpw6', 'ncap6']]\n",
    "\n",
    "for q in qnames:\n",
    "    print(simulate_cavityqubit(q))"
   ]
  },
  {
   "attachments": {},
   "cell_type": "markdown",
   "metadata": {},
   "source": [
    "# GDS Export"
   ]
  },
  {
   "cell_type": "code",
   "execution_count": null,
   "metadata": {},
   "outputs": [],
   "source": [
    "a_gds = design.renderers.gds\n",
    "a_gds.options['cheese']['view_in_file']['main'][1]=False\n",
    "a_gds.options['no_cheese']['view_in_file']['main'][1] = False\n",
    "\n",
    "a_gds.export_to_gds('final_no_cheese.gds')"
   ]
  },
  {
   "cell_type": "code",
   "execution_count": null,
   "metadata": {},
   "outputs": [],
   "source": []
  }
 ],
 "metadata": {
  "kernelspec": {
   "display_name": "qiskit_metal",
   "language": "python",
   "name": "qiskit_metal"
  },
  "language_info": {
   "codemirror_mode": {
    "name": "ipython",
    "version": 3
   },
   "file_extension": ".py",
   "mimetype": "text/x-python",
   "name": "python",
   "nbconvert_exporter": "python",
   "pygments_lexer": "ipython3",
   "version": "3.11.4"
  },
  "orig_nbformat": 4
 },
 "nbformat": 4,
 "nbformat_minor": 2
}
