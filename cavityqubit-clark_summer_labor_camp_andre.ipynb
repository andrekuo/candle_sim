{
 "cells": [
  {
   "cell_type": "code",
   "execution_count": 1,
   "metadata": {},
   "outputs": [],
   "source": [
    "%load_ext autoreload\n",
    "%autoreload 2"
   ]
  },
  {
   "cell_type": "code",
   "execution_count": 2,
   "metadata": {},
   "outputs": [],
   "source": [
    "from qiskit_metal import draw, Dict, designs, MetalGUI\n",
    "from qiskit_metal.designs.design_multiplanar import MultiPlanar\n",
    "from qiskit_metal.toolbox_metal import math_and_overrides\n",
    "from qiskit_metal.qlibrary.core import QComponent\n",
    "import qiskit_metal as metal\n",
    "# ?metal.qlibrary.core.QComponent.add_qgeometry\n",
    "\n",
    "design = MultiPlanar()\n",
    "gui = metal.MetalGUI(design)\n",
    "design.overwrite_enabled = True\n",
    "\n",
    "# dir(QComponent)"
   ]
  },
  {
   "cell_type": "code",
   "execution_count": 3,
   "metadata": {},
   "outputs": [],
   "source": [
    "cpw_width = '11.7um'\n",
    "\n",
    "design._chips.main.size.size_x = '5mm'\n",
    "design._chips.main.size.size_y = '5mm'"
   ]
  },
  {
   "cell_type": "code",
   "execution_count": 4,
   "metadata": {},
   "outputs": [],
   "source": [
    "from qiskit_metal.qlibrary.terminations.launchpad_wb import LaunchpadWirebond\n",
    "from qiskit_metal.qlibrary.terminations.short_to_ground import ShortToGround\n",
    "from qiskit_metal.qlibrary.tlines.straight_path import RouteStraight\n",
    "from qiskit_metal.qlibrary.tlines.anchored_path import RouteAnchors\n",
    "from qiskit_metal.qlibrary.tlines.mixed_path import RouteMixed\n",
    "from qiskit_metal.qlibrary.qubits.transmon_cross import TransmonCross\n",
    "from qiskit_metal.qlibrary.tlines.meandered import RouteMeander\n",
    "from qiskit_metal.qlibrary.terminations.open_to_ground import OpenToGround\n",
    "from qiskit_metal.qlibrary.couplers.coupled_line_tee import CoupledLineTee\n",
    "from qiskit_metal.qlibrary.couplers.cap_n_interdigital_tee import CapNInterdigitalTee\n",
    "from qiskit_metal.qlibrary.couplers.line_tee import LineTee\n",
    "\n",
    "from collections import OrderedDict\n",
    "\n",
    "import numpy as np"
   ]
  },
  {
   "cell_type": "code",
   "execution_count": 5,
   "metadata": {},
   "outputs": [],
   "source": [
    "### Top and Bottom\n",
    "options = Dict(\n",
    "    orientation = -90,\n",
    "    pos_y = 2.5 - 0.3,\n",
    "    # pad_width = '80um',\n",
    "    # pad_length = '200um',\n",
    "    # taper_height = '200um',\n",
    "    trace_width = cpw_width,\n",
    "    trace_gap = '5.1um'\n",
    ")\n",
    "wb1 = LaunchpadWirebond(design, 'wb_top', options=options)\n",
    "\n",
    "options = Dict(\n",
    "    orientation = 90,\n",
    "    pos_y = -2.5 + 0.3,\n",
    "    # pad_width = '80um',\n",
    "    # pad_length = '200um',\n",
    "    # taper_height = '200um',\n",
    "    trace_width = cpw_width,\n",
    "    trace_gap = '5.1um'\n",
    ")\n",
    "wb2 = LaunchpadWirebond(design, 'wb_bottom', options=options)"
   ]
  },
  {
   "cell_type": "code",
   "execution_count": 6,
   "metadata": {},
   "outputs": [],
   "source": [
    "xmon1_options = dict(\n",
    "    connection_pads=dict(\n",
    "        # a = dict( connector_location = '0', connector_type = '0'),\n",
    "        # b = dict(connector_location = '90', connector_type = '0'),\n",
    "        c = dict(connector_location = '90', \n",
    "                 connector_type = '0', \n",
    "                 claw_length = '215um',\n",
    "                 ground_spacing = '10um', \n",
    "                 claw_gap = '5.1um', \n",
    "                 claw_width = '15um',\n",
    "                 claw_cpw_length = 0),\n",
    "        # d = dict(connector_location = '270', connector_type = '0'),\n",
    "    ),\n",
    "    cross_width = '30um',\n",
    "    cross_length = '240um',\n",
    "    cross_gap = '30um',\n",
    "    orientation = '-90',\n",
    "    pos_x = '-1500um',\n",
    "    pos_y = '1200um',\n",
    "    aedt_hfss_inductance = 10.609327935963474E-9\n",
    ")\n",
    "\n",
    "# Create a new Transmon Cross object with name 'Q1'\n",
    "q1 = TransmonCross(design, 'Q3', options=xmon1_options)\n",
    "\n",
    "# otg_options = dict(width = '5.85um', \n",
    "#                    gap = '5.1um', \n",
    "#                 #    termination_gap = '500um',\n",
    "#                    pos_x='-30um',  \n",
    "#                    pos_y='1313um', \n",
    "#                    orientation='90')\n",
    "\n",
    "# otg = OpenToGround(design, 'open_to_ground', options=otg_options)\n",
    "\n"
   ]
  },
  {
   "cell_type": "code",
   "execution_count": 7,
   "metadata": {},
   "outputs": [],
   "source": [
    "xmon2_options = dict(\n",
    "    connection_pads=dict(\n",
    "        # a = dict( connector_location = '0', connector_type = '0'),\n",
    "        # b = dict(connector_location = '90', connector_type = '0'),\n",
    "        c = dict(connector_location = '90', \n",
    "                 connector_type = '0', \n",
    "                 claw_length = '185.9um',\n",
    "                 ground_spacing = '4.1um', \n",
    "                 claw_gap = '5.1um', \n",
    "                 claw_width = '15.9um',\n",
    "                 claw_cpw_length = 0),\n",
    "        # d = dict(connector_location = '270', connector_type = '0'),\n",
    "    ),\n",
    "    cross_width = '30.9um',\n",
    "    cross_length = '200.9um',\n",
    "    cross_gap = '29.1um',\n",
    "    orientation = '90',\n",
    "    pos_x = '2000.9um',\n",
    "    pos_y = '1700um',\n",
    "    aedt_hfss_inductance = 10.181089091582427E-9\n",
    ")\n",
    "\n",
    "# Create a new Transmon Cross object with name 'Q1'\n",
    "q2 = TransmonCross(design, 'Q6', options=xmon2_options)"
   ]
  },
  {
   "cell_type": "code",
   "execution_count": 8,
   "metadata": {},
   "outputs": [],
   "source": [
    "xmon3_options = dict(\n",
    "    connection_pads=dict(\n",
    "        # a = dict( connector_location = '0', connector_type = '0'),\n",
    "        # b = dict(connector_location = '90', connector_type = '0'),\n",
    "        c = dict(connector_location = '90', \n",
    "                 connector_type = '0', \n",
    "                 claw_length = '185um',\n",
    "                 ground_spacing = '5um', \n",
    "                 claw_gap = '5.1um', \n",
    "                 claw_width = '10um',\n",
    "                 claw_cpw_length = 0),\n",
    "        # d = dict(connector_location = '270', connector_type = '0'),\n",
    "    ),\n",
    "    cross_width = '30um',\n",
    "    cross_length = '200um',\n",
    "    cross_gap = '30um',\n",
    "    orientation = '-90',\n",
    "    pos_x = '-2000um',\n",
    "    pos_y = '-300um',\n",
    "    aedt_hfss_inductance = 12.306527428119221E-9\n",
    ")\n",
    "\n",
    "# Create a new Transmon Cross object with name 'Q1'\n",
    "q3 = TransmonCross(design, 'Q5', options=xmon3_options)"
   ]
  },
  {
   "cell_type": "code",
   "execution_count": 9,
   "metadata": {},
   "outputs": [],
   "source": [
    "xmon4_options = dict(\n",
    "    connection_pads=dict(\n",
    "        # a = dict( connector_location = '0', connector_type = '0'),\n",
    "        # b = dict(connector_location = '90', connector_type = '0'),\n",
    "        c = dict(connector_location = '90', \n",
    "                 connector_type = '0', \n",
    "                 claw_length = '215.9um',\n",
    "                 ground_spacing = '9.1um', \n",
    "                 claw_gap = '5.1um', \n",
    "                 claw_width = '15.9um',\n",
    "                 claw_cpw_length = 0),\n",
    "        # d = dict(connector_location = '270', connector_type = '0'),\n",
    "    ),\n",
    "    cross_width = '30.9um',\n",
    "    cross_length = '240.9um',\n",
    "    cross_gap = '29.1um',\n",
    "    orientation = '90',\n",
    "    pos_x = '1500um',\n",
    "    pos_y = '250um',\n",
    "    aedt_hfss_inductance = 15.500517135714711E-9\n",
    ")\n",
    "\n",
    "# Create a new Transmon Cross object with name 'Q1'\n",
    "q4 = TransmonCross(design, 'Q2', options=xmon4_options)"
   ]
  },
  {
   "cell_type": "code",
   "execution_count": 10,
   "metadata": {},
   "outputs": [],
   "source": [
    "xmon5_options = dict(\n",
    "    connection_pads=dict(\n",
    "        # a = dict( connector_location = '0', connector_type = '0'),\n",
    "        # b = dict(connector_location = '90', connector_type = '0'),\n",
    "        c = dict(connector_location = '90', \n",
    "                 connector_type = '0', \n",
    "                 claw_length = '215.9um',\n",
    "                 ground_spacing = '9.1um', \n",
    "                 claw_gap = '5.1um', \n",
    "                 claw_width = '15.9um',\n",
    "                 claw_cpw_length = '0'),\n",
    "        # d = dict(connector_location = '270', connector_type = '0'),\n",
    "    ),\n",
    "    cross_width = '30.9um',\n",
    "    cross_length = '240.9um',\n",
    "    cross_gap = '29.1um',\n",
    "    orientation = '-90',\n",
    "    pos_x = '-1500um',\n",
    "    pos_y = '-1500um',\n",
    "    aedt_hfss_inductance = 14.261653403709703E-9\n",
    ")\n",
    "\n",
    "# Create a new Transmon Cross object with name 'Q1'\n",
    "q5 = TransmonCross(design, 'Q1', options=xmon5_options)"
   ]
  },
  {
   "cell_type": "code",
   "execution_count": 11,
   "metadata": {},
   "outputs": [],
   "source": [
    "xmon6_options = dict(\n",
    "    connection_pads=dict(\n",
    "        # a = dict( connector_location = '0', connector_type = '0'),\n",
    "        # b = dict(connector_location = '90', connector_type = '0'),\n",
    "        c = dict(connector_location = '90', \n",
    "                 connector_type = '0', \n",
    "                 claw_length = '200.9um',\n",
    "                 ground_spacing = '10.9um', \n",
    "                 claw_gap = '5.1um', \n",
    "                 claw_width = '10.9um',\n",
    "                 claw_cpw_width = cpw_width,\n",
    "                 claw_cpw_length = '0'),\n",
    "        # d = dict(connector_location = '270', connector_type = '0'),\n",
    "    ),\n",
    "    cross_width = '30.9um',\n",
    "    cross_length = '220.9um',\n",
    "    cross_gap = '29.1um',\n",
    "    orientation = '90',\n",
    "    pos_x = '2000um',\n",
    "    pos_y = '-1200um',\n",
    "    aedt_hfss_inductance = 15.724568346403403E-9\n",
    ")\n",
    "\n",
    "# Create a new Transmon Cross object with name 'Q1'\n",
    "q6 = TransmonCross(design, 'Q4', options=xmon6_options)"
   ]
  },
  {
   "cell_type": "code",
   "execution_count": 12,
   "metadata": {},
   "outputs": [],
   "source": [
    "clt1_opts = Dict(prime_width = cpw_width,\n",
    "                prime_gap = '5.1um',\n",
    "                second_width = cpw_width,\n",
    "                second_gap = '5.1um',\n",
    "                coupling_space = '7.9um',\n",
    "                coupling_length = '225um',\n",
    "                open_termination = False,\n",
    "                orientation = '-90',\n",
    "                pos_y = '1200um',\n",
    "                down_length = '50um')\n",
    "\n",
    "clt1 = CoupledLineTee(design, 'clt3', clt1_opts)\n",
    "\n",
    "cpw_total_length = 5160 + 716 + 300 + 1881.18568\n",
    "cpw_total_length = str(cpw_total_length) + 'um'\n",
    "cpw1_opts = Dict(pin_inputs = Dict(start_pin = Dict(component = 'clt3',\n",
    "                                                    pin = 'second_end'),\n",
    "                                   end_pin = Dict(component = 'Q3',\n",
    "                                                  pin = 'c')),\n",
    "                lead = Dict(end_straight = '70um',\n",
    "                            # start_jogged_extension = jogsS),\n",
    "                ),\n",
    "                fillet = '49.9um',\n",
    "                total_length = '3900um',#'3893.8166um', # '6776um',\n",
    "                trace_width = cpw_width,\n",
    "                meander = Dict(spacing = '100um',\n",
    "                               asymmetry = '-150um'),\n",
    "                trace_gap = '5.1um',)\n",
    "cpw1 = RouteMeander(design, 'cpw3', options = cpw1_opts)"
   ]
  },
  {
   "cell_type": "code",
   "execution_count": 13,
   "metadata": {},
   "outputs": [],
   "source": [
    "ncap2_opts = Dict(pos_x = '0',\n",
    "                  pos_y = '1700um',\n",
    "                  orientation = '90',\n",
    "                  prime_width = cpw_width,\n",
    "                  prime_gap = '5.1um',\n",
    "                  second_width = cpw_width,\n",
    "                  second_gap = '5.1um',\n",
    "                  cap_gap = '4.1um',\n",
    "                  cap_width = '10.9um',\n",
    "                  cap_gap_ground = '5.1um',\n",
    "                  finger_length = '30.9um',\n",
    "                  finger_count = '10',\n",
    "                  cap_distance = '50.9um',\n",
    "                  )\n",
    "\n",
    "NCap2 = CapNInterdigitalTee(design, 'ncap6', options = ncap2_opts)\n",
    "\n",
    "cpw_total_length = 5160 + 716 + 300 + 1881.18568\n",
    "cpw_total_length = str(cpw_total_length) + 'um'\n",
    "cpw2_opts = Dict(pin_inputs = Dict(start_pin = Dict(component = 'ncap6',\n",
    "                                                    pin = 'second_end'),\n",
    "                                   end_pin = Dict(component = 'Q6',\n",
    "                                                  pin = 'c')),\n",
    "                lead = Dict(start_straight = '100um',\n",
    "                            end_straight = '170um'),\n",
    "                fillet = '49.9um',\n",
    "                total_length = '8150um', # '6776um',\n",
    "                trace_width = cpw_width,\n",
    "                meander = Dict(spacing = '100um',\n",
    "                               asymmetry = '-150um'),\n",
    "                trace_gap = '5.1um')\n",
    "cpw2 = RouteMeander(design, 'cpw6', options = cpw2_opts)"
   ]
  },
  {
   "cell_type": "code",
   "execution_count": 14,
   "metadata": {},
   "outputs": [],
   "source": [
    "ncap3_opts = Dict(pos_x = '0',\n",
    "                  pos_y = '-300um',\n",
    "                  orientation = '-90',\n",
    "                  prime_width = cpw_width,\n",
    "                  prime_gap = '5.1um',\n",
    "                  second_width = cpw_width,\n",
    "                  second_gap = '5.1um',\n",
    "                  cap_gap = '4.1um',\n",
    "                  cap_width = '10.9um',\n",
    "                  cap_gap_ground = '5.1um',\n",
    "                  finger_length = '30.9um',\n",
    "                  finger_count = '7',\n",
    "                  cap_distance = '50.9um',\n",
    "                  )\n",
    "\n",
    "NCap3 = CapNInterdigitalTee(design, 'ncap5', options = ncap3_opts)\n",
    "\n",
    "cpw_total_length = 5160 + 716 + 300 + 1881.18568\n",
    "cpw_total_length = str(cpw_total_length) + 'um'\n",
    "cpw3_opts = Dict(pin_inputs = Dict(start_pin = Dict(component = 'ncap5',\n",
    "                                                    pin = 'second_end'),\n",
    "                                   end_pin = Dict(component = 'Q5',\n",
    "                                                  pin = 'c')),\n",
    "                lead = Dict(start_straight = '100um'),\n",
    "                fillet = '49.9um',\n",
    "                total_length = '8025um', # '6776um',\n",
    "                trace_width = cpw_width,\n",
    "                meander = Dict(spacing = '100um',\n",
    "                               asymmetry = '-150um'),\n",
    "                trace_gap = '5.1um')\n",
    "cpw3 = RouteMeander(design, 'cpw5', options = cpw3_opts)"
   ]
  },
  {
   "cell_type": "code",
   "execution_count": 15,
   "metadata": {},
   "outputs": [],
   "source": [
    "clt4_opts = Dict(prime_width = cpw_width,\n",
    "                prime_gap = '5.1um',\n",
    "                second_width = cpw_width,\n",
    "                second_gap = '5.1um',\n",
    "                coupling_space = '7.9um',\n",
    "                coupling_length = '225um',\n",
    "                open_termination = False,\n",
    "                orientation = '90',\n",
    "                pos_y = '250um',\n",
    "                down_length = '50um')\n",
    "\n",
    "clt4 = CoupledLineTee(design, 'clt2', clt4_opts)\n",
    "\n",
    "cpw_total_length = 5160 + 716 + 300 + 1881.18568\n",
    "cpw_total_length = str(cpw_total_length) + 'um'\n",
    "cpw4_opts = Dict(pin_inputs = Dict(start_pin = Dict(component = 'clt2',\n",
    "                                                    pin = 'second_end'),\n",
    "                                   end_pin = Dict(component = 'Q2',\n",
    "                                                  pin = 'c')),\n",
    "                lead = Dict(end_straight = '70um',\n",
    "                            # start_jogged_extension = jogsS),\n",
    "                ),\n",
    "                fillet = '49.9um',\n",
    "                total_length = '3700um', # '6776um',\n",
    "                trace_width = cpw_width,\n",
    "                meander = Dict(spacing = '100um',\n",
    "                               asymmetry = '-150um'),\n",
    "                trace_gap = '5.1um')\n",
    "cpw4 = RouteMeander(design, 'cpw2', options = cpw4_opts)"
   ]
  },
  {
   "cell_type": "code",
   "execution_count": 16,
   "metadata": {},
   "outputs": [],
   "source": [
    "clt5_opts = Dict(prime_width = cpw_width,\n",
    "                prime_gap = '5.1um',\n",
    "                second_width = cpw_width,\n",
    "                second_gap = '5.1um',\n",
    "                coupling_space = '7.9um',\n",
    "                coupling_length = '225um',\n",
    "                open_termination = False,\n",
    "                orientation = '-90',\n",
    "                pos_y = '-1500um',\n",
    "                down_length = '50um')\n",
    "\n",
    "clt5 = CoupledLineTee(design, 'clt1', clt5_opts)\n",
    "\n",
    "cpw_total_length = 5160 + 716 + 300 + 1881.18568\n",
    "cpw_total_length = str(cpw_total_length) + 'um'\n",
    "cpw5_opts = Dict(pin_inputs = Dict(start_pin = Dict(component = 'clt1',\n",
    "                                                    pin = 'second_end'),\n",
    "                                   end_pin = Dict(component = 'Q1',\n",
    "                                                  pin = 'c')),\n",
    "                lead = Dict(start_straight = '10um',\n",
    "                            end_straight = '70um'),\n",
    "                #             ),\n",
    "                fillet = '49.9um',\n",
    "                total_length = '3550um', # '6776um',\n",
    "                trace_width = cpw_width,\n",
    "                meander = Dict(spacing = '100um',\n",
    "                               asymmetry = '-150um'),\n",
    "                trace_gap = '5.1um')\n",
    "cpw5 = RouteMeander(design, 'cpw1', options = cpw5_opts)"
   ]
  },
  {
   "cell_type": "code",
   "execution_count": 17,
   "metadata": {},
   "outputs": [],
   "source": [
    "ncap6_opts = Dict(pos_x = '0',\n",
    "                  pos_y = '-1000um',\n",
    "                  orientation = '90',\n",
    "                  prime_width = cpw_width,\n",
    "                  prime_gap = '5.1um',\n",
    "                  second_width = cpw_width,\n",
    "                  second_gap = '5.1um',\n",
    "                  cap_gap = '4.1um',\n",
    "                  cap_width = '10.9um',\n",
    "                  cap_gap_ground = '5.1um',\n",
    "                  finger_length = '30.9um',\n",
    "                  finger_count = '4',\n",
    "                  cap_distance = '50.9um',\n",
    "                  )\n",
    "\n",
    "NCap6 = CapNInterdigitalTee(design, 'ncap4', options = ncap6_opts)\n",
    "\n",
    "cpw6_opts = Dict(pin_inputs = Dict(start_pin = Dict(component = 'ncap4',\n",
    "                                                    pin = 'second_end'),\n",
    "                                   end_pin = Dict(component = 'Q4',\n",
    "                                                  pin = 'c')),\n",
    "                lead = Dict(start_straight = '100um',\n",
    "                            end_straight = '70um'),\n",
    "                fillet = '49.9um',\n",
    "                total_length = '8000um',\n",
    "                trace_width = cpw_width,\n",
    "                meander = Dict(spacing = '100um',\n",
    "                               asymmetry = '-150um'),\n",
    "                trace_gap = '5.1um')\n",
    "cpw6 = RouteMeander(design, 'cpw4', options = cpw6_opts)"
   ]
  },
  {
   "cell_type": "code",
   "execution_count": 18,
   "metadata": {},
   "outputs": [],
   "source": [
    "RouteStraight.get_template_options(design)\n",
    "feedline_opts = Dict(pin_inputs = Dict(start_pin = Dict(component = 'wb_top',\n",
    "                                                        pin = 'tie'),\n",
    "                                       end_pin = Dict(component = 'ncap6',\n",
    "                                                      pin = 'prime_end')),\n",
    "                     trace_width = cpw_width,\n",
    "                     trace_gap = '5.1um')\n",
    "feedline = RouteStraight(design, 'feedline', options = feedline_opts)\n",
    "\n",
    "feedline_opts = Dict(pin_inputs = Dict(start_pin = Dict(component = 'ncap6',\n",
    "                                                        pin = 'prime_start'),\n",
    "                                       end_pin = Dict(component = 'ncap5',\n",
    "                                                      pin = 'prime_start')),\n",
    "                     trace_width = cpw_width,\n",
    "                     trace_gap = '5.1um')\n",
    "feedline2 = RouteStraight(design, 'feedline2', options = feedline_opts)\n",
    "\n",
    "feedline_opts = Dict(pin_inputs = Dict(start_pin = Dict(component = 'ncap5',\n",
    "                                                        pin = 'prime_end'),\n",
    "                                       end_pin = Dict(component = 'ncap4',\n",
    "                                                      pin = 'prime_end')),\n",
    "                     trace_width = cpw_width,\n",
    "                     trace_gap = '5.1um')\n",
    "feedline3 = RouteStraight(design, 'feedline3', options = feedline_opts)\n",
    "\n",
    "feedline_opts = Dict(pin_inputs = Dict(start_pin = Dict(component = 'ncap4',\n",
    "                                                        pin = 'prime_start'),\n",
    "                                       end_pin = Dict(component = 'wb_bottom',\n",
    "                                                      pin = 'tie')),\n",
    "                     trace_width = cpw_width,\n",
    "                     trace_gap = '5.1um')\n",
    "feedline4 = RouteStraight(design, 'feedline4', options = feedline_opts)"
   ]
  },
  {
   "cell_type": "code",
   "execution_count": 19,
   "metadata": {},
   "outputs": [],
   "source": [
    "gui.rebuild()\n",
    "gui.autoscale()\n",
    "# gui.zoom_on_components(['clt5', 'Q5'])\n",
    "# gui.screenshot()"
   ]
  },
  {
   "attachments": {},
   "cell_type": "markdown",
   "metadata": {},
   "source": [
    "# Simulations"
   ]
  },
  {
   "cell_type": "code",
   "execution_count": 20,
   "metadata": {},
   "outputs": [],
   "source": [
    "from qiskit_metal.renderers.renderer_ansys_pyaedt.hfss_renderer_eigenmode_aedt import QHFSSEigenmodePyaedt\n",
    "import pyEPR as epr"
   ]
  },
  {
   "attachments": {},
   "cell_type": "markdown",
   "metadata": {},
   "source": [
    "## Qubit Characteristics (Observables)\n",
    "Resonant frequency of qubit\n",
    "$$\n",
    "\\hbar \\omega_q = \\sqrt{8 E_J E_C} - E_C\n",
    "$$\n",
    "- $E_C$ is energy stored in capacitance\n",
    "- $E_J$ is energy stored in JJ\n",
    "\n",
    "Qubit anharmonicity\n",
    "$$\n",
    "\\alpha \\equiv \\alpha_{q} = \\omega_{q,21} - \\omega_{q,01}\n",
    "$$\n",
    "- $\\omega_{q,21}$ energy splitting between $\\ket 2$ and $\\ket 1$\n",
    "- $\\omega_{q,01}$ energy splitting between $\\ket 0$ and $\\ket 1$\n",
    "\n",
    "Cavity to Qubit Coupling Strength\n",
    "\n",
    "$$\n",
    "g = \\chi^2 / \\Delta\n",
    "$$\n"
   ]
  },
  {
   "cell_type": "code",
   "execution_count": 21,
   "metadata": {},
   "outputs": [
    {
     "name": "stdout",
     "output_type": "stream",
     "text": [
      "pyaedt INFO: using existing logger.\n"
     ]
    },
    {
     "name": "stderr",
     "output_type": "stream",
     "text": [
      "INFO:Global:using existing logger.\n"
     ]
    },
    {
     "name": "stdout",
     "output_type": "stream",
     "text": [
      "pyaedt INFO: Launching PyAEDT outside AEDT with CPython and PythonNET.\n"
     ]
    },
    {
     "name": "stderr",
     "output_type": "stream",
     "text": [
      "INFO:Global:Launching PyAEDT outside AEDT with CPython and PythonNET.\n"
     ]
    },
    {
     "name": "stdout",
     "output_type": "stream",
     "text": [
      "pyaedt INFO: AEDT installation Path D:\\Program Files\\AnsysEM\\AnsysEM21.1\\Win64.\n"
     ]
    },
    {
     "name": "stderr",
     "output_type": "stream",
     "text": [
      "INFO:Global:AEDT installation Path D:\\Program Files\\AnsysEM\\AnsysEM21.1\\Win64.\n"
     ]
    },
    {
     "name": "stdout",
     "output_type": "stream",
     "text": [
      "pyaedt INFO: Launching AEDT with module PythonNET.\n"
     ]
    },
    {
     "name": "stderr",
     "output_type": "stream",
     "text": [
      "INFO:Global:Launching AEDT with module PythonNET.\n"
     ]
    },
    {
     "name": "stdout",
     "output_type": "stream",
     "text": [
      "pyaedt WARNING: PyAEDT is not supported in AEDT versions earlier than 2021 R2. Trying to launch PyAEDT with PyWin32.\n"
     ]
    },
    {
     "name": "stderr",
     "output_type": "stream",
     "text": [
      "WARNING:Global:PyAEDT is not supported in AEDT versions earlier than 2021 R2. Trying to launch PyAEDT with PyWin32.\n"
     ]
    },
    {
     "name": "stdout",
     "output_type": "stream",
     "text": [
      "pyaedt INFO: pyaedt v0.6.26\n"
     ]
    },
    {
     "name": "stderr",
     "output_type": "stream",
     "text": [
      "INFO:Global:pyaedt v0.6.26\n"
     ]
    },
    {
     "name": "stdout",
     "output_type": "stream",
     "text": [
      "pyaedt INFO: Python version 3.10.6 | packaged by conda-forge | (main, Aug 22 2022, 20:30:19) [MSC v.1929 64 bit (AMD64)]\n"
     ]
    },
    {
     "name": "stderr",
     "output_type": "stream",
     "text": [
      "INFO:Global:Python version 3.10.6 | packaged by conda-forge | (main, Aug 22 2022, 20:30:19) [MSC v.1929 64 bit (AMD64)]\n"
     ]
    },
    {
     "name": "stdout",
     "output_type": "stream",
     "text": [
      "pyaedt INFO: Project CavityQubit_Modified_Candle_Andre_proj_0_1_5 has been created.\n"
     ]
    },
    {
     "name": "stderr",
     "output_type": "stream",
     "text": [
      "INFO:Global:Project CavityQubit_Modified_Candle_Andre_proj_0_1_5 has been created.\n"
     ]
    },
    {
     "name": "stdout",
     "output_type": "stream",
     "text": [
      "pyaedt INFO: Added design 'CavityQubit_Modified_Candle_Andre_design_0_1_5' of type HFSS.\n"
     ]
    },
    {
     "name": "stderr",
     "output_type": "stream",
     "text": [
      "INFO:Global:Added design 'CavityQubit_Modified_Candle_Andre_design_0_1_5' of type HFSS.\n"
     ]
    },
    {
     "name": "stdout",
     "output_type": "stream",
     "text": [
      "pyaedt INFO: Aedt Objects initialized\n"
     ]
    },
    {
     "name": "stderr",
     "output_type": "stream",
     "text": [
      "INFO:Global:Aedt Objects initialized\n"
     ]
    },
    {
     "name": "stdout",
     "output_type": "stream",
     "text": [
      "pyaedt INFO: Variable Manager initialized\n"
     ]
    },
    {
     "name": "stderr",
     "output_type": "stream",
     "text": [
      "INFO:Global:Variable Manager initialized\n"
     ]
    },
    {
     "name": "stdout",
     "output_type": "stream",
     "text": [
      "pyaedt INFO: Design Loaded\n"
     ]
    },
    {
     "name": "stderr",
     "output_type": "stream",
     "text": [
      "INFO:Global:Design Loaded\n"
     ]
    },
    {
     "name": "stdout",
     "output_type": "stream",
     "text": [
      "pyaedt INFO: Successfully loaded project materials !\n"
     ]
    },
    {
     "name": "stderr",
     "output_type": "stream",
     "text": [
      "INFO:Global:Successfully loaded project materials !\n"
     ]
    },
    {
     "name": "stdout",
     "output_type": "stream",
     "text": [
      "pyaedt INFO: Materials Loaded\n"
     ]
    },
    {
     "name": "stderr",
     "output_type": "stream",
     "text": [
      "INFO:Global:Materials Loaded\n"
     ]
    },
    {
     "name": "stdout",
     "output_type": "stream",
     "text": [
      "pyaedt INFO: aedt file load time 0.0029997825622558594\n"
     ]
    },
    {
     "name": "stderr",
     "output_type": "stream",
     "text": [
      "INFO:Global:aedt file load time 0.0029997825622558594\n"
     ]
    },
    {
     "name": "stdout",
     "output_type": "stream",
     "text": [
      "pyaedt INFO: Project CavityQubit_Modified_Candle_Andre_proj_0_1_5 set to active.\n"
     ]
    },
    {
     "name": "stderr",
     "output_type": "stream",
     "text": [
      "INFO:Global:Project CavityQubit_Modified_Candle_Andre_proj_0_1_5 set to active.\n"
     ]
    },
    {
     "name": "stdout",
     "output_type": "stream",
     "text": [
      "pyaedt INFO: Aedt Objects initialized\n"
     ]
    },
    {
     "name": "stderr",
     "output_type": "stream",
     "text": [
      "INFO:Global:Aedt Objects initialized\n"
     ]
    },
    {
     "name": "stdout",
     "output_type": "stream",
     "text": [
      "pyaedt INFO: Variable Manager initialized\n"
     ]
    },
    {
     "name": "stderr",
     "output_type": "stream",
     "text": [
      "INFO:Global:Variable Manager initialized\n"
     ]
    },
    {
     "name": "stdout",
     "output_type": "stream",
     "text": [
      "pyaedt INFO: Design Loaded\n"
     ]
    },
    {
     "name": "stderr",
     "output_type": "stream",
     "text": [
      "INFO:Global:Design Loaded\n"
     ]
    },
    {
     "name": "stdout",
     "output_type": "stream",
     "text": [
      "pyaedt INFO: Successfully loaded project materials !\n"
     ]
    },
    {
     "name": "stderr",
     "output_type": "stream",
     "text": [
      "INFO:Global:Successfully loaded project materials !\n"
     ]
    },
    {
     "name": "stdout",
     "output_type": "stream",
     "text": [
      "pyaedt INFO: Materials Loaded\n"
     ]
    },
    {
     "name": "stderr",
     "output_type": "stream",
     "text": [
      "INFO:Global:Materials Loaded\n"
     ]
    }
   ],
   "source": [
    "em1_aedt = QHFSSEigenmodePyaedt(design, \n",
    "                                'CavityQubit_Modified_Candle_Andre_proj_0_1_5',\n",
    "                                'CavityQubit_Modified_Candle_Andre_design_0_1_5',\n",
    "                                initiate=True)\n",
    "hfss_aedt = em1_aedt.current_app\n",
    "\n",
    "#### Computer's variables\n",
    "num_cores=16\n",
    "num_gpu=1\n",
    "\n",
    "#### Setup Name\n",
    "setup_name = 'TransmonSetup'\n",
    "\n",
    "\n",
    "# Change silicon permitivity to super cold silicon\n",
    "em1_aedt.current_app.materials['silicon'].permittivity = 11.45"
   ]
  },
  {
   "cell_type": "code",
   "execution_count": 22,
   "metadata": {},
   "outputs": [],
   "source": [
    "def run_simulation():\n",
    "    #### Computer's variables\n",
    "    num_cores=16\n",
    "    num_gpu=1\n",
    "    \n",
    "    #### Setup Name\n",
    "    setup_name = 'TransmonSetup'\n",
    "    \n",
    "    # Change Silicon to Ultracold Silicon\n",
    "    hfss_aedt.materials['silicon'].permittivity = 11.45\n",
    "    \n",
    "    # Add project variables\n",
    "    add_project_level_vars(em1_aedt)\n",
    "    \n",
    "    # Clear setups\n",
    "    if len(hfss_aedt.setups) != 0:\n",
    "        hfss_aedt.setups[0].delete()\n",
    "    \n",
    "    # Add Setup\n",
    "    setup_options = dict(\n",
    "        name= setup_name,\n",
    "        MinimumFrequency = 3,  # GHz\n",
    "        NumModes= 2,\n",
    "        MaxDeltaFreq = 0.1,\n",
    "        MaximumPasses= 50,\n",
    "        MinimumPasses= None,\n",
    "        MinimumConvergedPasses= 2,\n",
    "        PercentRefinement= 30,\n",
    "        BasisOrder= None\n",
    "    )\n",
    "    \n",
    "    em1_aedt.add_hfss_em_setup(**setup_options)\n",
    "    \n",
    "    hfss_aedt.analyze_setup(name=setup_name, \n",
    "                            num_cores=num_cores, \n",
    "                            num_gpu=num_gpu)\n",
    "    \n",
    "    # Make silicon ultra cold\n",
    "    hfss_aedt.materials['silicon'].permittivity = 11.45\n",
    "\n",
    "def add_project_level_vars(self):\n",
    "    \"\"\"\n",
    "    Finds all names, inductances, and capacitances of Josephson Junctions rendered into ANSYS.\n",
    "    \"\"\"\n",
    "    # Get all josephson junctions from rendered components table\n",
    "    geom_table = self.path_poly_and_junction_with_valid_comps\n",
    "    all_jjs = geom_table.loc[geom_table['name'].str.contains('rect_jj')]\n",
    "    all_jjs = all_jjs.reset_index(drop=True)\n",
    "\n",
    "    for i, row in all_jjs.iterrows():\n",
    "        ### Parsing Data ###\n",
    "        component = str(row['component'])\n",
    "        name = str(row['name'])\n",
    "        inductance = row['aedt_hfss_inductance']  # Lj in Henries\n",
    "        capacitance = row['aedt_hfss_capacitance']  # Cj in Farads\n",
    "\n",
    "        # Get ANSYS > Model > Sheet corresponding to JJs\n",
    "        rect_name = 'JJ_rect_Lj_' + component + '_' + name\n",
    "\n",
    "        # Get ANSYS > Model > Lines corresponding to JJs\n",
    "        line_name = 'JJ_Lj_' + component + '_' + name + '_'\n",
    "\n",
    "        ### Appending data ###\n",
    "        # Add global Lj and Cj variables to ANSYS (for EPR analysis)\n",
    "        ansys_Lj_name = f'Lj_{i}'\n",
    "        ansys_Cj_name = f'Cj_{i}'\n",
    "\n",
    "        self.set_variable(ansys_Lj_name, str(inductance * 1E9) + 'nH')\n",
    "        self.set_variable(ansys_Cj_name, str(capacitance * 1E15) + 'fF')\n",
    "\n",
    "def run_analysis():\n",
    "    '''\n",
    "    After finishing simulation, analyze results\n",
    "    '''\n",
    "    em1_aedt.run_epr()\n",
    "    \n",
    "    # Extract observables of int\n",
    "    observables = extract_observables(em1_aedt.epr_quantum_analysis)\n",
    "    return observables\n",
    "\n",
    "\n",
    "\n",
    "def extract_observables(epra):\n",
    "    '''\n",
    "    Extract observables from EPR quantum analysis\n",
    "    \n",
    "    Args:\n",
    "        epra (epr.QuantumAnalysis): Raw EPR Quanutm analysis class\n",
    "        cos_trunc (int, optional): amount of terms to consider in cosine expansion\n",
    "        fock_trunc (int, optional): size of fock space before truncation\n",
    "        \n",
    "    Returns:\n",
    "        package (dict): simulated observables\n",
    "    '''\n",
    "    \n",
    "    # Extraction of variables\n",
    "    omegas = epra.get_frequencies()\n",
    "    chis = epra.get_chis()\n",
    "    other_data = epra.data\n",
    "    \n",
    "    package = dict(qubit_freq_MHz = omegas['0'][0],\n",
    "                   qubit_anharmonicity_MHz = chis[0][0],\n",
    "                   other_data = str(other_data))\n",
    "    \n",
    "    return package"
   ]
  },
  {
   "cell_type": "code",
   "execution_count": 25,
   "metadata": {},
   "outputs": [],
   "source": [
    "def simulate_cavityqubit(selection):\n",
    "    '''\n",
    "    Args:\n",
    "        selection (str): name of qubit to simulate\n",
    "    '''\n",
    "    ## Clear design\n",
    "    em1_aedt.clean_user_design()\n",
    "    \n",
    "    ## Render design in ANSYS\n",
    "    em1_aedt.render_design(selection=selection)\n",
    "\n",
    "    ## Add project level variables for pyEPR\n",
    "    add_project_level_vars(em1_aedt)\n",
    "    \n",
    "    run_simulation()\n",
    "    package = run_analysis()\n",
    "    \n",
    "    return package"
   ]
  },
  {
   "cell_type": "code",
   "execution_count": 26,
   "metadata": {},
   "outputs": [
    {
     "name": "stdout",
     "output_type": "stream",
     "text": [
      "pyaedt INFO: Project CavityQubit_Modified_Candle_Andre_proj_0_1_5 set to active.\n"
     ]
    },
    {
     "name": "stderr",
     "output_type": "stream",
     "text": [
      "INFO:Global:Project CavityQubit_Modified_Candle_Andre_proj_0_1_5 set to active.\n"
     ]
    },
    {
     "name": "stdout",
     "output_type": "stream",
     "text": [
      "pyaedt INFO: Aedt Objects initialized\n"
     ]
    },
    {
     "name": "stderr",
     "output_type": "stream",
     "text": [
      "INFO:Global:Aedt Objects initialized\n"
     ]
    },
    {
     "name": "stdout",
     "output_type": "stream",
     "text": [
      "pyaedt INFO: Variable Manager initialized\n"
     ]
    },
    {
     "name": "stderr",
     "output_type": "stream",
     "text": [
      "INFO:Global:Variable Manager initialized\n"
     ]
    },
    {
     "name": "stdout",
     "output_type": "stream",
     "text": [
      "pyaedt INFO: Design Loaded\n"
     ]
    },
    {
     "name": "stderr",
     "output_type": "stream",
     "text": [
      "INFO:Global:Design Loaded\n"
     ]
    },
    {
     "name": "stdout",
     "output_type": "stream",
     "text": [
      "pyaedt INFO: Successfully loaded project materials !\n"
     ]
    },
    {
     "name": "stderr",
     "output_type": "stream",
     "text": [
      "INFO:Global:Successfully loaded project materials !\n"
     ]
    },
    {
     "name": "stdout",
     "output_type": "stream",
     "text": [
      "pyaedt INFO: Materials Loaded\n"
     ]
    },
    {
     "name": "stderr",
     "output_type": "stream",
     "text": [
      "INFO:Global:Materials Loaded\n"
     ]
    },
    {
     "name": "stdout",
     "output_type": "stream",
     "text": [
      "pyaedt WARNING: No objects to delete\n"
     ]
    },
    {
     "name": "stderr",
     "output_type": "stream",
     "text": [
      "WARNING:Global:No objects to delete\n"
     ]
    },
    {
     "name": "stdout",
     "output_type": "stream",
     "text": [
      "pyaedt INFO: Project CavityQubit_Modified_Candle_Andre_proj_0_1_5 set to active.\n"
     ]
    },
    {
     "name": "stderr",
     "output_type": "stream",
     "text": [
      "INFO:Global:Project CavityQubit_Modified_Candle_Andre_proj_0_1_5 set to active.\n"
     ]
    },
    {
     "name": "stdout",
     "output_type": "stream",
     "text": [
      "pyaedt INFO: Aedt Objects initialized\n"
     ]
    },
    {
     "name": "stderr",
     "output_type": "stream",
     "text": [
      "INFO:Global:Aedt Objects initialized\n"
     ]
    },
    {
     "name": "stdout",
     "output_type": "stream",
     "text": [
      "pyaedt INFO: Variable Manager initialized\n"
     ]
    },
    {
     "name": "stderr",
     "output_type": "stream",
     "text": [
      "INFO:Global:Variable Manager initialized\n"
     ]
    },
    {
     "name": "stdout",
     "output_type": "stream",
     "text": [
      "pyaedt INFO: Design Loaded\n"
     ]
    },
    {
     "name": "stderr",
     "output_type": "stream",
     "text": [
      "INFO:Global:Design Loaded\n"
     ]
    },
    {
     "name": "stdout",
     "output_type": "stream",
     "text": [
      "pyaedt INFO: Successfully loaded project materials !\n"
     ]
    },
    {
     "name": "stderr",
     "output_type": "stream",
     "text": [
      "INFO:Global:Successfully loaded project materials !\n"
     ]
    },
    {
     "name": "stdout",
     "output_type": "stream",
     "text": [
      "pyaedt INFO: Materials Loaded\n"
     ]
    },
    {
     "name": "stderr",
     "output_type": "stream",
     "text": [
      "INFO:Global:Materials Loaded\n"
     ]
    },
    {
     "name": "stdout",
     "output_type": "stream",
     "text": [
      "pyaedt INFO: Project CavityQubit_Modified_Candle_Andre_proj_0_1_5 set to active.\n"
     ]
    },
    {
     "name": "stderr",
     "output_type": "stream",
     "text": [
      "INFO:Global:Project CavityQubit_Modified_Candle_Andre_proj_0_1_5 set to active.\n"
     ]
    },
    {
     "name": "stdout",
     "output_type": "stream",
     "text": [
      "pyaedt INFO: Aedt Objects initialized\n"
     ]
    },
    {
     "name": "stderr",
     "output_type": "stream",
     "text": [
      "INFO:Global:Aedt Objects initialized\n"
     ]
    },
    {
     "name": "stdout",
     "output_type": "stream",
     "text": [
      "pyaedt INFO: Variable Manager initialized\n"
     ]
    },
    {
     "name": "stderr",
     "output_type": "stream",
     "text": [
      "INFO:Global:Variable Manager initialized\n"
     ]
    },
    {
     "name": "stdout",
     "output_type": "stream",
     "text": [
      "pyaedt INFO: Design Loaded\n"
     ]
    },
    {
     "name": "stderr",
     "output_type": "stream",
     "text": [
      "INFO:Global:Design Loaded\n"
     ]
    },
    {
     "name": "stdout",
     "output_type": "stream",
     "text": [
      "pyaedt INFO: Successfully loaded project materials !\n"
     ]
    },
    {
     "name": "stderr",
     "output_type": "stream",
     "text": [
      "INFO:Global:Successfully loaded project materials !\n"
     ]
    },
    {
     "name": "stdout",
     "output_type": "stream",
     "text": [
      "pyaedt INFO: Materials Loaded\n"
     ]
    },
    {
     "name": "stderr",
     "output_type": "stream",
     "text": [
      "INFO:Global:Materials Loaded\n"
     ]
    },
    {
     "name": "stdout",
     "output_type": "stream",
     "text": [
      "pyaedt WARNING: No objects to delete\n"
     ]
    },
    {
     "name": "stderr",
     "output_type": "stream",
     "text": [
      "WARNING:Global:No objects to delete\n"
     ]
    },
    {
     "name": "stdout",
     "output_type": "stream",
     "text": [
      "pyaedt INFO: Project CavityQubit_Modified_Candle_Andre_proj_0_1_5 set to active.\n"
     ]
    },
    {
     "name": "stderr",
     "output_type": "stream",
     "text": [
      "INFO:Global:Project CavityQubit_Modified_Candle_Andre_proj_0_1_5 set to active.\n"
     ]
    },
    {
     "name": "stdout",
     "output_type": "stream",
     "text": [
      "pyaedt INFO: Aedt Objects initialized\n"
     ]
    },
    {
     "name": "stderr",
     "output_type": "stream",
     "text": [
      "INFO:Global:Aedt Objects initialized\n"
     ]
    },
    {
     "name": "stdout",
     "output_type": "stream",
     "text": [
      "pyaedt INFO: Variable Manager initialized\n"
     ]
    },
    {
     "name": "stderr",
     "output_type": "stream",
     "text": [
      "INFO:Global:Variable Manager initialized\n"
     ]
    },
    {
     "name": "stdout",
     "output_type": "stream",
     "text": [
      "pyaedt INFO: Design Loaded\n"
     ]
    },
    {
     "name": "stderr",
     "output_type": "stream",
     "text": [
      "INFO:Global:Design Loaded\n"
     ]
    },
    {
     "name": "stdout",
     "output_type": "stream",
     "text": [
      "pyaedt INFO: Successfully loaded project materials !\n"
     ]
    },
    {
     "name": "stderr",
     "output_type": "stream",
     "text": [
      "INFO:Global:Successfully loaded project materials !\n"
     ]
    },
    {
     "name": "stdout",
     "output_type": "stream",
     "text": [
      "pyaedt INFO: Materials Loaded\n"
     ]
    },
    {
     "name": "stderr",
     "output_type": "stream",
     "text": [
      "INFO:Global:Materials Loaded\n"
     ]
    },
    {
     "name": "stdout",
     "output_type": "stream",
     "text": [
      "pyaedt INFO: Boundary Lumped RLC rlc_JJ_rect_Lj_7_rect_jj has been correctly created.\n"
     ]
    },
    {
     "name": "stderr",
     "output_type": "stream",
     "text": [
      "INFO:Global:Boundary Lumped RLC rlc_JJ_rect_Lj_7_rect_jj has been correctly created.\n"
     ]
    },
    {
     "name": "stdout",
     "output_type": "stream",
     "text": [
      "pyaedt INFO: Project CavityQubit_Modified_Candle_Andre_proj_0_1_5 set to active.\n"
     ]
    },
    {
     "name": "stderr",
     "output_type": "stream",
     "text": [
      "INFO:Global:Project CavityQubit_Modified_Candle_Andre_proj_0_1_5 set to active.\n"
     ]
    },
    {
     "name": "stdout",
     "output_type": "stream",
     "text": [
      "pyaedt INFO: Aedt Objects initialized\n"
     ]
    },
    {
     "name": "stderr",
     "output_type": "stream",
     "text": [
      "INFO:Global:Aedt Objects initialized\n"
     ]
    },
    {
     "name": "stdout",
     "output_type": "stream",
     "text": [
      "pyaedt INFO: Variable Manager initialized\n"
     ]
    },
    {
     "name": "stderr",
     "output_type": "stream",
     "text": [
      "INFO:Global:Variable Manager initialized\n"
     ]
    },
    {
     "name": "stdout",
     "output_type": "stream",
     "text": [
      "pyaedt INFO: Design Loaded\n"
     ]
    },
    {
     "name": "stderr",
     "output_type": "stream",
     "text": [
      "INFO:Global:Design Loaded\n"
     ]
    },
    {
     "name": "stdout",
     "output_type": "stream",
     "text": [
      "pyaedt INFO: Successfully loaded project materials !\n"
     ]
    },
    {
     "name": "stderr",
     "output_type": "stream",
     "text": [
      "INFO:Global:Successfully loaded project materials !\n"
     ]
    },
    {
     "name": "stdout",
     "output_type": "stream",
     "text": [
      "pyaedt INFO: Materials Loaded\n"
     ]
    },
    {
     "name": "stderr",
     "output_type": "stream",
     "text": [
      "INFO:Global:Materials Loaded\n"
     ]
    },
    {
     "name": "stdout",
     "output_type": "stream",
     "text": [
      "pyaedt INFO: Project CavityQubit_Modified_Candle_Andre_proj_0_1_5 set to active.\n"
     ]
    },
    {
     "name": "stderr",
     "output_type": "stream",
     "text": [
      "INFO:Global:Project CavityQubit_Modified_Candle_Andre_proj_0_1_5 set to active.\n"
     ]
    },
    {
     "name": "stdout",
     "output_type": "stream",
     "text": [
      "pyaedt INFO: Aedt Objects initialized\n"
     ]
    },
    {
     "name": "stderr",
     "output_type": "stream",
     "text": [
      "INFO:Global:Aedt Objects initialized\n"
     ]
    },
    {
     "name": "stdout",
     "output_type": "stream",
     "text": [
      "pyaedt INFO: Variable Manager initialized\n"
     ]
    },
    {
     "name": "stderr",
     "output_type": "stream",
     "text": [
      "INFO:Global:Variable Manager initialized\n"
     ]
    },
    {
     "name": "stdout",
     "output_type": "stream",
     "text": [
      "pyaedt INFO: Design Loaded\n"
     ]
    },
    {
     "name": "stderr",
     "output_type": "stream",
     "text": [
      "INFO:Global:Design Loaded\n"
     ]
    },
    {
     "name": "stdout",
     "output_type": "stream",
     "text": [
      "pyaedt INFO: Successfully loaded project materials !\n"
     ]
    },
    {
     "name": "stderr",
     "output_type": "stream",
     "text": [
      "INFO:Global:Successfully loaded project materials !\n"
     ]
    },
    {
     "name": "stdout",
     "output_type": "stream",
     "text": [
      "pyaedt INFO: Materials Loaded\n"
     ]
    },
    {
     "name": "stderr",
     "output_type": "stream",
     "text": [
      "INFO:Global:Materials Loaded\n"
     ]
    },
    {
     "name": "stdout",
     "output_type": "stream",
     "text": [
      "pyaedt INFO: Key Desktop/ActiveDSOConfigurations/HFSS correctly changed.\n"
     ]
    },
    {
     "name": "stderr",
     "output_type": "stream",
     "text": [
      "INFO:Global:Key Desktop/ActiveDSOConfigurations/HFSS correctly changed.\n"
     ]
    },
    {
     "name": "stdout",
     "output_type": "stream",
     "text": [
      "pyaedt INFO: Solving design setup TransmonSetup\n"
     ]
    },
    {
     "name": "stderr",
     "output_type": "stream",
     "text": [
      "INFO:Global:Solving design setup TransmonSetup\n"
     ]
    },
    {
     "name": "stdout",
     "output_type": "stream",
     "text": [
      "pyaedt INFO: Key Desktop/ActiveDSOConfigurations/HFSS correctly changed.\n"
     ]
    },
    {
     "name": "stderr",
     "output_type": "stream",
     "text": [
      "INFO:Global:Key Desktop/ActiveDSOConfigurations/HFSS correctly changed.\n"
     ]
    },
    {
     "name": "stdout",
     "output_type": "stream",
     "text": [
      "pyaedt INFO: Design setup TransmonSetup solved correctly in 0.0h 41.0m 1.0s\n"
     ]
    },
    {
     "name": "stderr",
     "output_type": "stream",
     "text": [
      "INFO:Global:Design setup TransmonSetup solved correctly in 0.0h 41.0m 1.0s\n"
     ]
    },
    {
     "name": "stdout",
     "output_type": "stream",
     "text": [
      "pyaedt INFO: Project CavityQubit_Modified_Candle_Andre_proj_0_1_5 set to active.\n"
     ]
    },
    {
     "name": "stderr",
     "output_type": "stream",
     "text": [
      "INFO:Global:Project CavityQubit_Modified_Candle_Andre_proj_0_1_5 set to active.\n"
     ]
    },
    {
     "name": "stdout",
     "output_type": "stream",
     "text": [
      "pyaedt INFO: Aedt Objects initialized\n"
     ]
    },
    {
     "name": "stderr",
     "output_type": "stream",
     "text": [
      "INFO:Global:Aedt Objects initialized\n"
     ]
    },
    {
     "name": "stdout",
     "output_type": "stream",
     "text": [
      "pyaedt INFO: Variable Manager initialized\n"
     ]
    },
    {
     "name": "stderr",
     "output_type": "stream",
     "text": [
      "INFO:Global:Variable Manager initialized\n"
     ]
    },
    {
     "name": "stdout",
     "output_type": "stream",
     "text": [
      "pyaedt INFO: Design Loaded\n"
     ]
    },
    {
     "name": "stderr",
     "output_type": "stream",
     "text": [
      "INFO:Global:Design Loaded\n"
     ]
    },
    {
     "name": "stdout",
     "output_type": "stream",
     "text": [
      "pyaedt INFO: Successfully loaded project materials !\n"
     ]
    },
    {
     "name": "stderr",
     "output_type": "stream",
     "text": [
      "INFO:Global:Successfully loaded project materials !\n"
     ]
    },
    {
     "name": "stdout",
     "output_type": "stream",
     "text": [
      "pyaedt INFO: Materials Loaded\n"
     ]
    },
    {
     "name": "stderr",
     "output_type": "stream",
     "text": [
      "INFO:Global:Materials Loaded\n",
      "INFO 06:11AM [connect_project]: Connecting to Ansys Desktop API...\n",
      "INFO 06:11AM [load_ansys_project]: \tOpened Ansys App\n",
      "INFO 06:11AM [load_ansys_project]: \tOpened Ansys Desktop v2021.1.0\n",
      "INFO 06:11AM [load_ansys_project]: \tOpened Ansys Project\n",
      "\tFolder:    D:/lfl/Documents/Ansoft/\n",
      "\tProject:   CavityQubit_Modified_Candle_Andre_proj_0_1_5\n",
      "INFO 06:11AM [connect_design]: \tOpened active design\n",
      "\tDesign:    CavityQubit_Modified_Candle_Andre_design_0_1_5 [Solution type: Eigenmode]\n",
      "INFO 06:11AM [get_setup]: \tOpened setup `TransmonSetup`  (<class 'pyEPR.ansys.HfssEMSetup'>)\n",
      "INFO 06:11AM [connect]: \tConnected to project \"CavityQubit_Modified_Candle_Andre_proj_0_1_5\" and design \"CavityQubit_Modified_Candle_Andre_design_0_1_5\" 😀 \n",
      "\n"
     ]
    },
    {
     "name": "stdout",
     "output_type": "stream",
     "text": [
      "Design \"CavityQubit_Modified_Candle_Andre_design_0_1_5\" info:\n",
      "\t# eigenmodes    2\n",
      "\t# variations    1\n",
      "\n",
      "Variation 0  [1/1]\n",
      "\n",
      "  \u001b[1mMode 0 at 4.21 GHz   [1/2]\u001b[0m\n",
      "    Calculating ℰ_magnetic,ℰ_electric\n",
      "       (ℰ_E-ℰ_H)/ℰ_E       ℰ_E       ℰ_H\n",
      "               98.8%  3.024e-26 3.617e-28\n",
      "\n",
      "    Calculating junction energy participation ration (EPR)\n",
      "\tmethod=`line_voltage`. First estimates:\n",
      "\tjunction        EPR p_0j   sign s_0j    (p_capacitive)\n",
      "\t\tEnergy fraction (Lj over Lj&Cj)= 98.04%\n",
      "\tj0               0.73478  (+)        0.0146994\n",
      "\t\t(U_tot_cap-U_tot_ind)/mean=15.21%\n",
      "WARNING: This simulation must not have converged well!!!                The difference in the total cap and ind energies is larger than 10%.                Proceed with caution.\n",
      "\n",
      "  \u001b[1mMode 1 at 7.53 GHz   [2/2]\u001b[0m\n",
      "    Calculating ℰ_magnetic,ℰ_electric\n",
      "       (ℰ_E-ℰ_H)/ℰ_E       ℰ_E       ℰ_H\n",
      "                0.0%  1.577e-26 1.576e-26\n",
      "\n",
      "    Calculating junction energy participation ration (EPR)\n",
      "\tmethod=`line_voltage`. First estimates:\n",
      "\tjunction        EPR p_1j   sign s_1j    (p_capacitive)\n",
      "\t\tEnergy fraction (Lj over Lj&Cj)= 94.00%\n",
      "\tj0              0.000356668  (+)        2.27771e-05\n",
      "\t\t(U_tot_cap-U_tot_ind)/mean=0.01%\n"
     ]
    },
    {
     "name": "stderr",
     "output_type": "stream",
     "text": [
      "WARNING 06:12AM [__init__]: <p>Error: <class 'IndexError'></p>\n",
      "ERROR 06:12AM [_get_participation_normalized]: WARNING: U_tot_cap-U_tot_ind / mean = 30.4% is > 15%.                     \n",
      "Is the simulation converged? Proceed with caution\n",
      "ERROR 06:12AM [_get_participation_normalized]: WARNING: U_tot_cap-U_tot_ind / mean = 30.4% is > 15%.                     \n",
      "Is the simulation converged? Proceed with caution\n"
     ]
    },
    {
     "name": "stdout",
     "output_type": "stream",
     "text": [
      "\n",
      "ANALYSIS DONE. Data saved to:\n",
      "\n",
      "C:\\data-pyEPR\\CavityQubit_Modified_Candle_Andre_proj_0_1_5\\CavityQubit_Modified_Candle_Andre_design_0_1_5\\2023-06-15 06-11-33.npz\n",
      "\n",
      "\n",
      "\t Differences in variations:\n",
      "\n",
      "\n",
      "\n",
      " . . . . . . . . . . . . . . . . . . . . . . . . . . . . . . . . . . . . . . . . \n",
      "Variation 0\n",
      "\n",
      "Starting the diagonalization\n",
      "Finished the diagonalization\n",
      "Pm_norm=\n",
      "modes\n",
      "0    1.362202\n",
      "1    1.204191\n",
      "dtype: float64\n",
      "\n",
      "Pm_norm idx =\n",
      "      j0\n",
      "0   True\n",
      "1  False\n",
      "*** P (participation matrix, not normlz.)\n",
      "         j0\n",
      "0  0.724136\n",
      "1  0.000357\n",
      "\n",
      "*** S (sign-bit matrix)\n",
      "   s_j0\n",
      "0    -1\n",
      "1     1\n",
      "*** P (participation matrix, normalized.)\n",
      "      0.99\n",
      "   0.00036\n",
      "\n",
      "*** Chi matrix O1 PT (MHz)\n",
      "    Diag is anharmonicity, off diag is full cross-Kerr.\n",
      "       189    0.244\n",
      "     0.244 7.87e-05\n",
      "\n",
      "*** Chi matrix ND (MHz) \n",
      "       211    0.231\n",
      "     0.231 6.24e-05\n",
      "\n",
      "*** Frequencies O1 PT (MHz)\n",
      "0    4026.285097\n",
      "1    7530.601998\n",
      "dtype: float64\n",
      "\n",
      "*** Frequencies ND (MHz)\n",
      "0    4016.833903\n",
      "1    7530.602323\n",
      "dtype: float64\n",
      "\n",
      "*** Q_coupling\n",
      "Empty DataFrame\n",
      "Columns: []\n",
      "Index: [0, 1]\n"
     ]
    },
    {
     "data": {
      "text/markdown": [
       "#### Mode frequencies (MHz)"
      ],
      "text/plain": [
       "<IPython.core.display.Markdown object>"
      ]
     },
     "metadata": {},
     "output_type": "display_data"
    },
    {
     "data": {
      "text/markdown": [
       "###### Numerical diagonalization"
      ],
      "text/plain": [
       "<IPython.core.display.Markdown object>"
      ]
     },
     "metadata": {},
     "output_type": "display_data"
    },
    {
     "data": {
      "text/html": [
       "<div>\n",
       "<style scoped>\n",
       "    .dataframe tbody tr th:only-of-type {\n",
       "        vertical-align: middle;\n",
       "    }\n",
       "\n",
       "    .dataframe tbody tr th {\n",
       "        vertical-align: top;\n",
       "    }\n",
       "\n",
       "    .dataframe thead th {\n",
       "        text-align: right;\n",
       "    }\n",
       "</style>\n",
       "<table border=\"1\" class=\"dataframe\">\n",
       "  <thead>\n",
       "    <tr style=\"text-align: right;\">\n",
       "      <th>variation</th>\n",
       "      <th>0</th>\n",
       "    </tr>\n",
       "  </thead>\n",
       "  <tbody>\n",
       "    <tr>\n",
       "      <th>0</th>\n",
       "      <td>4026.29</td>\n",
       "    </tr>\n",
       "    <tr>\n",
       "      <th>1</th>\n",
       "      <td>7530.60</td>\n",
       "    </tr>\n",
       "  </tbody>\n",
       "</table>\n",
       "</div>"
      ],
      "text/plain": [
       "variation        0\n",
       "0          4026.29\n",
       "1          7530.60"
      ]
     },
     "metadata": {},
     "output_type": "display_data"
    },
    {
     "data": {
      "text/markdown": [
       "#### Kerr Non-linear coefficient table (MHz)"
      ],
      "text/plain": [
       "<IPython.core.display.Markdown object>"
      ]
     },
     "metadata": {},
     "output_type": "display_data"
    },
    {
     "data": {
      "text/markdown": [
       "###### Numerical diagonalization"
      ],
      "text/plain": [
       "<IPython.core.display.Markdown object>"
      ]
     },
     "metadata": {},
     "output_type": "display_data"
    },
    {
     "data": {
      "text/html": [
       "<div>\n",
       "<style scoped>\n",
       "    .dataframe tbody tr th:only-of-type {\n",
       "        vertical-align: middle;\n",
       "    }\n",
       "\n",
       "    .dataframe tbody tr th {\n",
       "        vertical-align: top;\n",
       "    }\n",
       "\n",
       "    .dataframe thead th {\n",
       "        text-align: right;\n",
       "    }\n",
       "</style>\n",
       "<table border=\"1\" class=\"dataframe\">\n",
       "  <thead>\n",
       "    <tr style=\"text-align: right;\">\n",
       "      <th></th>\n",
       "      <th></th>\n",
       "      <th>0</th>\n",
       "      <th>1</th>\n",
       "    </tr>\n",
       "    <tr>\n",
       "      <th>variation</th>\n",
       "      <th></th>\n",
       "      <th></th>\n",
       "      <th></th>\n",
       "    </tr>\n",
       "  </thead>\n",
       "  <tbody>\n",
       "    <tr>\n",
       "      <th rowspan=\"2\" valign=\"top\">0</th>\n",
       "      <th>0</th>\n",
       "      <td>188.53</td>\n",
       "      <td>2.44e-01</td>\n",
       "    </tr>\n",
       "    <tr>\n",
       "      <th>1</th>\n",
       "      <td>0.24</td>\n",
       "      <td>7.87e-05</td>\n",
       "    </tr>\n",
       "  </tbody>\n",
       "</table>\n",
       "</div>"
      ],
      "text/plain": [
       "                  0         1\n",
       "variation                    \n",
       "0         0  188.53  2.44e-01\n",
       "          1    0.24  7.87e-05"
      ]
     },
     "metadata": {},
     "output_type": "display_data"
    },
    {
     "name": "stdout",
     "output_type": "stream",
     "text": [
      "Warning! 42 COM references still alive\n",
      "Ansys will likely refuse to shut down\n",
      "{'qubit_freq_MHz': 4016.8339026447857, 'qubit_anharmonicity_MHz': 211.04512105220127, 'other_data': \"{'project_info': {'pinfo': design_name     CavityQubit_Modified_Candle_Andre_design_0_1_5\\nproject_name      CavityQubit_Modified_Candle_Andre_proj_0_1_5\\nproject_path                          D:/lfl/Documents/Ansoft/\\nsetup_name                                       TransmonSetup\\ndtype: object, 'dissip': dielectrics_bulk                             None\\ndielectric_surfaces    [layer_3_datatype_0_plane]\\nresistive_surfaces                           None\\nseams                                        None\\ndtype: object, 'options': Series([], dtype: float64), 'junctions':                                j0\\nCj_variable                  Cj_0\\nLj_variable                  Lj_0\\nlength                     0.0001\\nline             JJ_Lj_7_rect_jj_\\nrect         JJ_rect_Lj_7_rect_jj, 'ports': Empty DataFrame\\nColumns: []\\nIndex: []}, 'results': {'0': {'Pm':          j0\\n0  0.724136\\n1  0.000357, 'Pm_cap':          j0\\n0  0.014486\\n1  0.000023, 'Sm':    s_j0\\n0    -1\\n1     1, 'Om':                  0         1\\nfreq_GHz  4.214932  7.530724, 'sols':             U_H           U_E\\n0  7.234438e-28  6.048658e-26\\n1  3.152243e-26  3.153755e-26, 'Qm_coupling': Empty DataFrame\\nColumns: []\\nIndex: [0, 1], 'Ljs': j0    1.426165e-08\\ndtype: float64, 'Cjs': j0    2.000000e-15\\ndtype: float64, 'Qs': 0    inf\\n1    inf\\ndtype: float64, 'freqs_hfss_GHz': 0    4.214932\\n1    7.530724\\ndtype: float64, 'hfss_variables': _Cj_0                     0fF\\n_Lj_0    14.261653403709703nH\\ndtype: object, 'modes': range(0, 2), 'I_peak': 0    0   -1.765320e-09\\ndtype: float64\\n1    0    2.808415e-11\\ndtype: float64\\ndtype: object, 'V_peak': 0    0   -6.667510e-07\\ndtype: float64\\n1    0    1.895168e-08\\ndtype: float64\\ndtype: object, 'ansys_energies': {0: {'U_J_inds': {'j0': 2.2222174469818947e-26}, 'U_J_caps': {'j0': 4.4455683400475135e-28}, 'U_H': 3.61721878620747e-28, 'U_E': 3.024328984381265e-26, 'U_tot_ind': 2.2583896348439694e-26, 'U_tot_cap': 3.0687846677817404e-26, 'U_norm': 3.0687846677817404e-26, 'U_diff': 0.1521247451089287}, 1: {'U_J_inds': {'j0': 5.6242232945648855e-30}, 'U_J_caps': {'j0': 3.5916632545695223e-31}, 'U_H': 1.57612127116128e-26, 'U_E': 1.576877361284845e-26, 'U_tot_ind': 1.5766836934907366e-26, 'U_tot_cap': 1.5769132779173907e-26, 'U_norm': 1.5769132779173907e-26, 'U_diff': 7.280081403415061e-05}}, 'mesh':                    Unnamed: 0  Num Tets    Min edge length    \\\\\\n0   layer_1_datatype_0_plane        53661           0.000597   \\n1   layer_3_datatype_0_plane       867305           0.000176   \\n2                 vacuum_box       564308           0.000223   \\n3   prime_cpw_clt1_shortline          187           0.012212   \\n4  second_cpw_clt1_shortline         1939           0.001780   \\n5       trace_cpw1_shortline        28478           0.001630   \\n6                   cross_Q1         5475           0.000674   \\n7         c_connector_arm_Q1         5477           0.000433   \\n\\n   Max edge length    RMS edge length    Min tet vol    Max tet vol    \\\\\\n0           0.220266           0.021045   7.534190e-12   1.319560e-05   \\n1           0.754583           0.016888   3.179870e-13   9.771110e-03   \\n2           0.910222           0.023007   2.882150e-13   2.733630e-02   \\n3           0.042097           0.022176   6.129330e-09   1.603090e-07   \\n4           0.008002           0.004448   3.172870e-10   1.173290e-08   \\n5           0.012848           0.004576   4.635660e-11   2.910930e-08   \\n6           0.031928           0.009007   1.391270e-11   1.591350e-07   \\n7           0.016483           0.005220   3.720530e-12   4.747730e-08   \\n\\n   Mean tet vol    Std Devn (vol)    \\n0    8.067730e-08      5.145850e-07  \\n1    2.041500e-06      5.911080e-05  \\n2    6.894840e-06      2.462590e-04  \\n3    5.631020e-08      3.897850e-08  \\n4    3.177140e-09      1.592330e-09  \\n5    2.887420e-09      2.270420e-09  \\n6    1.052800e-08      1.366270e-08  \\n7    3.373920e-09      3.973760e-09  , 'convergence':              Solved Elements  Max Delta Freq. %\\nPass Number                                    \\n1                      10469                NaN\\n2                      13490          14.449000\\n3                      17320           5.271500\\n4                      22264           2.956000\\n5                      28582           1.961200\\n6                      36690           1.538600\\n7                      47056           0.791960\\n8                      60232           0.361450\\n9                      77122           0.795540\\n10                     98751           0.511940\\n11                    126365           0.488800\\n12                    161738           0.340180\\n13                    207101           0.478540\\n14                    265465           0.302360\\n15                    340116           0.215710\\n16                    436082           0.276200\\n17                    558988           0.202400\\n18                    716722           0.144950\\n19                    918584           0.116290\\n20                   1177967           0.093248\\n21                   1431613           0.057543, 'convergence_f_pass': None}}}\"}\n",
      "pyaedt INFO: Project CavityQubit_Modified_Candle_Andre_proj_0_1_5 set to active.\n"
     ]
    },
    {
     "name": "stderr",
     "output_type": "stream",
     "text": [
      "INFO:Global:Project CavityQubit_Modified_Candle_Andre_proj_0_1_5 set to active.\n"
     ]
    },
    {
     "name": "stdout",
     "output_type": "stream",
     "text": [
      "pyaedt INFO: Aedt Objects initialized\n"
     ]
    },
    {
     "name": "stderr",
     "output_type": "stream",
     "text": [
      "INFO:Global:Aedt Objects initialized\n"
     ]
    },
    {
     "name": "stdout",
     "output_type": "stream",
     "text": [
      "pyaedt INFO: Variable Manager initialized\n"
     ]
    },
    {
     "name": "stderr",
     "output_type": "stream",
     "text": [
      "INFO:Global:Variable Manager initialized\n"
     ]
    },
    {
     "name": "stdout",
     "output_type": "stream",
     "text": [
      "pyaedt INFO: Design Loaded\n"
     ]
    },
    {
     "name": "stderr",
     "output_type": "stream",
     "text": [
      "INFO:Global:Design Loaded\n"
     ]
    },
    {
     "name": "stdout",
     "output_type": "stream",
     "text": [
      "pyaedt INFO: Successfully loaded project materials !\n"
     ]
    },
    {
     "name": "stderr",
     "output_type": "stream",
     "text": [
      "INFO:Global:Successfully loaded project materials !\n"
     ]
    },
    {
     "name": "stdout",
     "output_type": "stream",
     "text": [
      "pyaedt INFO: Materials Loaded\n"
     ]
    },
    {
     "name": "stderr",
     "output_type": "stream",
     "text": [
      "INFO:Global:Materials Loaded\n"
     ]
    },
    {
     "name": "stdout",
     "output_type": "stream",
     "text": [
      "pyaedt INFO: Deleted 10 Objects: layer_1_datatype_0_plane,layer_3_datatype_0_plane,vacuum_box,prime_cpw_clt1_shortline,second_cpw_clt1_shortline,trace_cpw1_shortline,cross_Q1,c_connector_arm_Q1,JJ_rect_Lj_7_rect_jj,JJ_Lj_7_rect_jj_.\n"
     ]
    },
    {
     "name": "stderr",
     "output_type": "stream",
     "text": [
      "INFO:Global:Deleted 10 Objects: layer_1_datatype_0_plane,layer_3_datatype_0_plane,vacuum_box,prime_cpw_clt1_shortline,second_cpw_clt1_shortline,trace_cpw1_shortline,cross_Q1,c_connector_arm_Q1,JJ_rect_Lj_7_rect_jj,JJ_Lj_7_rect_jj_.\n"
     ]
    },
    {
     "name": "stdout",
     "output_type": "stream",
     "text": [
      "pyaedt INFO: Project CavityQubit_Modified_Candle_Andre_proj_0_1_5 set to active.\n"
     ]
    },
    {
     "name": "stderr",
     "output_type": "stream",
     "text": [
      "INFO:Global:Project CavityQubit_Modified_Candle_Andre_proj_0_1_5 set to active.\n"
     ]
    },
    {
     "name": "stdout",
     "output_type": "stream",
     "text": [
      "pyaedt INFO: Aedt Objects initialized\n"
     ]
    },
    {
     "name": "stderr",
     "output_type": "stream",
     "text": [
      "INFO:Global:Aedt Objects initialized\n"
     ]
    },
    {
     "name": "stdout",
     "output_type": "stream",
     "text": [
      "pyaedt INFO: Variable Manager initialized\n"
     ]
    },
    {
     "name": "stderr",
     "output_type": "stream",
     "text": [
      "INFO:Global:Variable Manager initialized\n"
     ]
    },
    {
     "name": "stdout",
     "output_type": "stream",
     "text": [
      "pyaedt INFO: Design Loaded\n"
     ]
    },
    {
     "name": "stderr",
     "output_type": "stream",
     "text": [
      "INFO:Global:Design Loaded\n"
     ]
    },
    {
     "name": "stdout",
     "output_type": "stream",
     "text": [
      "pyaedt INFO: Successfully loaded project materials !\n"
     ]
    },
    {
     "name": "stderr",
     "output_type": "stream",
     "text": [
      "INFO:Global:Successfully loaded project materials !\n"
     ]
    },
    {
     "name": "stdout",
     "output_type": "stream",
     "text": [
      "pyaedt INFO: Materials Loaded\n"
     ]
    },
    {
     "name": "stderr",
     "output_type": "stream",
     "text": [
      "INFO:Global:Materials Loaded\n"
     ]
    },
    {
     "name": "stdout",
     "output_type": "stream",
     "text": [
      "pyaedt INFO: Project CavityQubit_Modified_Candle_Andre_proj_0_1_5 set to active.\n"
     ]
    },
    {
     "name": "stderr",
     "output_type": "stream",
     "text": [
      "INFO:Global:Project CavityQubit_Modified_Candle_Andre_proj_0_1_5 set to active.\n"
     ]
    },
    {
     "name": "stdout",
     "output_type": "stream",
     "text": [
      "pyaedt INFO: Aedt Objects initialized\n"
     ]
    },
    {
     "name": "stderr",
     "output_type": "stream",
     "text": [
      "INFO:Global:Aedt Objects initialized\n"
     ]
    },
    {
     "name": "stdout",
     "output_type": "stream",
     "text": [
      "pyaedt INFO: Variable Manager initialized\n"
     ]
    },
    {
     "name": "stderr",
     "output_type": "stream",
     "text": [
      "INFO:Global:Variable Manager initialized\n"
     ]
    },
    {
     "name": "stdout",
     "output_type": "stream",
     "text": [
      "pyaedt INFO: Design Loaded\n"
     ]
    },
    {
     "name": "stderr",
     "output_type": "stream",
     "text": [
      "INFO:Global:Design Loaded\n"
     ]
    },
    {
     "name": "stdout",
     "output_type": "stream",
     "text": [
      "pyaedt INFO: Successfully loaded project materials !\n"
     ]
    },
    {
     "name": "stderr",
     "output_type": "stream",
     "text": [
      "INFO:Global:Successfully loaded project materials !\n"
     ]
    },
    {
     "name": "stdout",
     "output_type": "stream",
     "text": [
      "pyaedt INFO: Materials Loaded\n"
     ]
    },
    {
     "name": "stderr",
     "output_type": "stream",
     "text": [
      "INFO:Global:Materials Loaded\n"
     ]
    },
    {
     "name": "stdout",
     "output_type": "stream",
     "text": [
      "pyaedt WARNING: No objects to delete\n"
     ]
    },
    {
     "name": "stderr",
     "output_type": "stream",
     "text": [
      "WARNING:Global:No objects to delete\n"
     ]
    },
    {
     "name": "stdout",
     "output_type": "stream",
     "text": [
      "pyaedt INFO: Project CavityQubit_Modified_Candle_Andre_proj_0_1_5 set to active.\n"
     ]
    },
    {
     "name": "stderr",
     "output_type": "stream",
     "text": [
      "INFO:Global:Project CavityQubit_Modified_Candle_Andre_proj_0_1_5 set to active.\n"
     ]
    },
    {
     "name": "stdout",
     "output_type": "stream",
     "text": [
      "pyaedt INFO: Aedt Objects initialized\n"
     ]
    },
    {
     "name": "stderr",
     "output_type": "stream",
     "text": [
      "INFO:Global:Aedt Objects initialized\n"
     ]
    },
    {
     "name": "stdout",
     "output_type": "stream",
     "text": [
      "pyaedt INFO: Variable Manager initialized\n"
     ]
    },
    {
     "name": "stderr",
     "output_type": "stream",
     "text": [
      "INFO:Global:Variable Manager initialized\n"
     ]
    },
    {
     "name": "stdout",
     "output_type": "stream",
     "text": [
      "pyaedt INFO: Design Loaded\n"
     ]
    },
    {
     "name": "stderr",
     "output_type": "stream",
     "text": [
      "INFO:Global:Design Loaded\n"
     ]
    },
    {
     "name": "stdout",
     "output_type": "stream",
     "text": [
      "pyaedt INFO: Successfully loaded project materials !\n"
     ]
    },
    {
     "name": "stderr",
     "output_type": "stream",
     "text": [
      "INFO:Global:Successfully loaded project materials !\n"
     ]
    },
    {
     "name": "stdout",
     "output_type": "stream",
     "text": [
      "pyaedt INFO: Materials Loaded\n"
     ]
    },
    {
     "name": "stderr",
     "output_type": "stream",
     "text": [
      "INFO:Global:Materials Loaded\n"
     ]
    },
    {
     "name": "stdout",
     "output_type": "stream",
     "text": [
      "pyaedt INFO: Boundary Lumped RLC rlc_JJ_rect_Lj_6_rect_jj has been correctly created.\n"
     ]
    },
    {
     "name": "stderr",
     "output_type": "stream",
     "text": [
      "INFO:Global:Boundary Lumped RLC rlc_JJ_rect_Lj_6_rect_jj has been correctly created.\n"
     ]
    },
    {
     "name": "stdout",
     "output_type": "stream",
     "text": [
      "pyaedt INFO: Project CavityQubit_Modified_Candle_Andre_proj_0_1_5 set to active.\n"
     ]
    },
    {
     "name": "stderr",
     "output_type": "stream",
     "text": [
      "INFO:Global:Project CavityQubit_Modified_Candle_Andre_proj_0_1_5 set to active.\n"
     ]
    },
    {
     "name": "stdout",
     "output_type": "stream",
     "text": [
      "pyaedt INFO: Aedt Objects initialized\n"
     ]
    },
    {
     "name": "stderr",
     "output_type": "stream",
     "text": [
      "INFO:Global:Aedt Objects initialized\n"
     ]
    },
    {
     "name": "stdout",
     "output_type": "stream",
     "text": [
      "pyaedt INFO: Variable Manager initialized\n"
     ]
    },
    {
     "name": "stderr",
     "output_type": "stream",
     "text": [
      "INFO:Global:Variable Manager initialized\n"
     ]
    },
    {
     "name": "stdout",
     "output_type": "stream",
     "text": [
      "pyaedt INFO: Design Loaded\n"
     ]
    },
    {
     "name": "stderr",
     "output_type": "stream",
     "text": [
      "INFO:Global:Design Loaded\n"
     ]
    },
    {
     "name": "stdout",
     "output_type": "stream",
     "text": [
      "pyaedt INFO: Successfully loaded project materials !\n"
     ]
    },
    {
     "name": "stderr",
     "output_type": "stream",
     "text": [
      "INFO:Global:Successfully loaded project materials !\n"
     ]
    },
    {
     "name": "stdout",
     "output_type": "stream",
     "text": [
      "pyaedt INFO: Materials Loaded\n"
     ]
    },
    {
     "name": "stderr",
     "output_type": "stream",
     "text": [
      "INFO:Global:Materials Loaded\n"
     ]
    },
    {
     "name": "stdout",
     "output_type": "stream",
     "text": [
      "pyaedt INFO: Project CavityQubit_Modified_Candle_Andre_proj_0_1_5 set to active.\n"
     ]
    },
    {
     "name": "stderr",
     "output_type": "stream",
     "text": [
      "INFO:Global:Project CavityQubit_Modified_Candle_Andre_proj_0_1_5 set to active.\n"
     ]
    },
    {
     "name": "stdout",
     "output_type": "stream",
     "text": [
      "pyaedt INFO: Aedt Objects initialized\n"
     ]
    },
    {
     "name": "stderr",
     "output_type": "stream",
     "text": [
      "INFO:Global:Aedt Objects initialized\n"
     ]
    },
    {
     "name": "stdout",
     "output_type": "stream",
     "text": [
      "pyaedt INFO: Variable Manager initialized\n"
     ]
    },
    {
     "name": "stderr",
     "output_type": "stream",
     "text": [
      "INFO:Global:Variable Manager initialized\n"
     ]
    },
    {
     "name": "stdout",
     "output_type": "stream",
     "text": [
      "pyaedt INFO: Design Loaded\n"
     ]
    },
    {
     "name": "stderr",
     "output_type": "stream",
     "text": [
      "INFO:Global:Design Loaded\n"
     ]
    },
    {
     "name": "stdout",
     "output_type": "stream",
     "text": [
      "pyaedt INFO: Successfully loaded project materials !\n"
     ]
    },
    {
     "name": "stderr",
     "output_type": "stream",
     "text": [
      "INFO:Global:Successfully loaded project materials !\n"
     ]
    },
    {
     "name": "stdout",
     "output_type": "stream",
     "text": [
      "pyaedt INFO: Materials Loaded\n"
     ]
    },
    {
     "name": "stderr",
     "output_type": "stream",
     "text": [
      "INFO:Global:Materials Loaded\n"
     ]
    },
    {
     "name": "stdout",
     "output_type": "stream",
     "text": [
      "pyaedt INFO: Key Desktop/ActiveDSOConfigurations/HFSS correctly changed.\n"
     ]
    },
    {
     "name": "stderr",
     "output_type": "stream",
     "text": [
      "INFO:Global:Key Desktop/ActiveDSOConfigurations/HFSS correctly changed.\n"
     ]
    },
    {
     "name": "stdout",
     "output_type": "stream",
     "text": [
      "pyaedt INFO: Solving design setup TransmonSetup\n"
     ]
    },
    {
     "name": "stderr",
     "output_type": "stream",
     "text": [
      "INFO:Global:Solving design setup TransmonSetup\n"
     ]
    },
    {
     "name": "stdout",
     "output_type": "stream",
     "text": [
      "pyaedt INFO: Key Desktop/ActiveDSOConfigurations/HFSS correctly changed.\n"
     ]
    },
    {
     "name": "stderr",
     "output_type": "stream",
     "text": [
      "INFO:Global:Key Desktop/ActiveDSOConfigurations/HFSS correctly changed.\n"
     ]
    },
    {
     "name": "stdout",
     "output_type": "stream",
     "text": [
      "pyaedt INFO: Design setup TransmonSetup solved correctly in 0.0h 41.0m 47.0s\n"
     ]
    },
    {
     "name": "stderr",
     "output_type": "stream",
     "text": [
      "INFO:Global:Design setup TransmonSetup solved correctly in 0.0h 41.0m 47.0s\n"
     ]
    },
    {
     "name": "stdout",
     "output_type": "stream",
     "text": [
      "pyaedt INFO: Project CavityQubit_Modified_Candle_Andre_proj_0_1_5 set to active.\n"
     ]
    },
    {
     "name": "stderr",
     "output_type": "stream",
     "text": [
      "INFO:Global:Project CavityQubit_Modified_Candle_Andre_proj_0_1_5 set to active.\n"
     ]
    },
    {
     "name": "stdout",
     "output_type": "stream",
     "text": [
      "pyaedt INFO: Aedt Objects initialized\n"
     ]
    },
    {
     "name": "stderr",
     "output_type": "stream",
     "text": [
      "INFO:Global:Aedt Objects initialized\n"
     ]
    },
    {
     "name": "stdout",
     "output_type": "stream",
     "text": [
      "pyaedt INFO: Variable Manager initialized\n"
     ]
    },
    {
     "name": "stderr",
     "output_type": "stream",
     "text": [
      "INFO:Global:Variable Manager initialized\n"
     ]
    },
    {
     "name": "stdout",
     "output_type": "stream",
     "text": [
      "pyaedt INFO: Design Loaded\n"
     ]
    },
    {
     "name": "stderr",
     "output_type": "stream",
     "text": [
      "INFO:Global:Design Loaded\n"
     ]
    },
    {
     "name": "stdout",
     "output_type": "stream",
     "text": [
      "pyaedt INFO: Successfully loaded project materials !\n"
     ]
    },
    {
     "name": "stderr",
     "output_type": "stream",
     "text": [
      "INFO:Global:Successfully loaded project materials !\n"
     ]
    },
    {
     "name": "stdout",
     "output_type": "stream",
     "text": [
      "pyaedt INFO: Materials Loaded\n"
     ]
    },
    {
     "name": "stderr",
     "output_type": "stream",
     "text": [
      "INFO:Global:Materials Loaded\n",
      "INFO 06:54AM [connect_project]: Connecting to Ansys Desktop API...\n",
      "INFO 06:54AM [load_ansys_project]: \tOpened Ansys App\n",
      "INFO 06:54AM [load_ansys_project]: \tOpened Ansys Desktop v2021.1.0\n",
      "INFO 06:54AM [load_ansys_project]: \tOpened Ansys Project\n",
      "\tFolder:    D:/lfl/Documents/Ansoft/\n",
      "\tProject:   CavityQubit_Modified_Candle_Andre_proj_0_1_5\n",
      "INFO 06:54AM [connect_design]: \tOpened active design\n",
      "\tDesign:    CavityQubit_Modified_Candle_Andre_design_0_1_5 [Solution type: Eigenmode]\n",
      "INFO 06:54AM [get_setup]: \tOpened setup `TransmonSetup`  (<class 'pyEPR.ansys.HfssEMSetup'>)\n",
      "INFO 06:54AM [connect]: \tConnected to project \"CavityQubit_Modified_Candle_Andre_proj_0_1_5\" and design \"CavityQubit_Modified_Candle_Andre_design_0_1_5\" 😀 \n",
      "\n"
     ]
    },
    {
     "name": "stdout",
     "output_type": "stream",
     "text": [
      "Design \"CavityQubit_Modified_Candle_Andre_design_0_1_5\" info:\n",
      "\t# eigenmodes    2\n",
      "\t# variations    1\n",
      "\n",
      "Variation 0  [1/1]\n",
      "\n",
      "  \u001b[1mMode 0 at 4.22 GHz   [1/2]\u001b[0m\n",
      "    Calculating ℰ_magnetic,ℰ_electric\n",
      "       (ℰ_E-ℰ_H)/ℰ_E       ℰ_E       ℰ_H\n",
      "               98.8%  2.269e-26 2.727e-28\n",
      "\n",
      "    Calculating junction energy participation ration (EPR)\n",
      "\tmethod=`line_voltage`. First estimates:\n",
      "\tjunction        EPR p_0j   sign s_0j    (p_capacitive)\n",
      "\t\tEnergy fraction (Lj over Lj&Cj)= 97.87%\n",
      "\tj0              0.676015  (+)        0.0147013\n",
      "\t\t(U_tot_cap-U_tot_ind)/mean=19.18%\n",
      "WARNING: This simulation must not have converged well!!!                The difference in the total cap and ind energies is larger than 10%.                Proceed with caution.\n",
      "\n",
      "  \u001b[1mMode 1 at 7.28 GHz   [2/2]\u001b[0m\n",
      "    Calculating ℰ_magnetic,ℰ_electric\n",
      "       (ℰ_E-ℰ_H)/ℰ_E       ℰ_E       ℰ_H\n",
      "                0.1%  1.654e-26 1.653e-26\n",
      "\n",
      "    Calculating junction energy participation ration (EPR)\n",
      "\tmethod=`line_voltage`. First estimates:\n",
      "\tjunction        EPR p_1j   sign s_1j    (p_capacitive)\n",
      "\t\tEnergy fraction (Lj over Lj&Cj)= 93.90%\n",
      "\tj0              0.000362582  (+)        2.35369e-05\n",
      "\t\t(U_tot_cap-U_tot_ind)/mean=0.01%\n"
     ]
    },
    {
     "name": "stderr",
     "output_type": "stream",
     "text": [
      "WARNING 06:55AM [__init__]: <p>Error: <class 'IndexError'></p>\n",
      "ERROR 06:55AM [_get_participation_normalized]: WARNING: U_tot_cap-U_tot_ind / mean = 38.4% is > 15%.                     \n",
      "Is the simulation converged? Proceed with caution\n",
      "ERROR 06:55AM [_get_participation_normalized]: WARNING: U_tot_cap-U_tot_ind / mean = 38.4% is > 15%.                     \n",
      "Is the simulation converged? Proceed with caution\n"
     ]
    },
    {
     "name": "stdout",
     "output_type": "stream",
     "text": [
      "\n",
      "ANALYSIS DONE. Data saved to:\n",
      "\n",
      "C:\\data-pyEPR\\CavityQubit_Modified_Candle_Andre_proj_0_1_5\\CavityQubit_Modified_Candle_Andre_design_0_1_5\\2023-06-15 06-54-44.npz\n",
      "\n",
      "\n",
      "\t Differences in variations:\n",
      "\n",
      "\n",
      "\n",
      " . . . . . . . . . . . . . . . . . . . . . . . . . . . . . . . . . . . . . . . . \n",
      "Variation 0\n",
      "\n",
      "Starting the diagonalization\n",
      "Finished the diagonalization\n",
      "Pm_norm=\n",
      "modes\n",
      "0    1.479817\n",
      "1    1.262995\n",
      "dtype: float64\n",
      "\n",
      "Pm_norm idx =\n",
      "      j0\n",
      "0   True\n",
      "1  False\n",
      "*** P (participation matrix, not normlz.)\n",
      "         j0\n",
      "0  0.666221\n",
      "1  0.000363\n",
      "\n",
      "*** S (sign-bit matrix)\n",
      "   s_j0\n",
      "0    -1\n",
      "1    -1\n",
      "*** P (participation matrix, normalized.)\n",
      "      0.99\n",
      "   0.00036\n",
      "\n",
      "*** Chi matrix O1 PT (MHz)\n",
      "    Diag is anharmonicity, off diag is full cross-Kerr.\n",
      "       205     0.26\n",
      "      0.26 8.26e-05\n",
      "\n",
      "*** Chi matrix ND (MHz) \n",
      "       232    0.242\n",
      "     0.242 7.78e-05\n",
      "\n",
      "*** Frequencies O1 PT (MHz)\n",
      "0    4010.485584\n",
      "1    7282.759858\n",
      "dtype: float64\n",
      "\n",
      "*** Frequencies ND (MHz)\n",
      "0    3999.218717\n",
      "1    7282.760963\n",
      "dtype: float64\n",
      "\n",
      "*** Q_coupling\n",
      "Empty DataFrame\n",
      "Columns: []\n",
      "Index: [0, 1]\n"
     ]
    },
    {
     "data": {
      "text/markdown": [
       "#### Mode frequencies (MHz)"
      ],
      "text/plain": [
       "<IPython.core.display.Markdown object>"
      ]
     },
     "metadata": {},
     "output_type": "display_data"
    },
    {
     "data": {
      "text/markdown": [
       "###### Numerical diagonalization"
      ],
      "text/plain": [
       "<IPython.core.display.Markdown object>"
      ]
     },
     "metadata": {},
     "output_type": "display_data"
    },
    {
     "data": {
      "text/html": [
       "<div>\n",
       "<style scoped>\n",
       "    .dataframe tbody tr th:only-of-type {\n",
       "        vertical-align: middle;\n",
       "    }\n",
       "\n",
       "    .dataframe tbody tr th {\n",
       "        vertical-align: top;\n",
       "    }\n",
       "\n",
       "    .dataframe thead th {\n",
       "        text-align: right;\n",
       "    }\n",
       "</style>\n",
       "<table border=\"1\" class=\"dataframe\">\n",
       "  <thead>\n",
       "    <tr style=\"text-align: right;\">\n",
       "      <th>variation</th>\n",
       "      <th>0</th>\n",
       "    </tr>\n",
       "  </thead>\n",
       "  <tbody>\n",
       "    <tr>\n",
       "      <th>0</th>\n",
       "      <td>4010.49</td>\n",
       "    </tr>\n",
       "    <tr>\n",
       "      <th>1</th>\n",
       "      <td>7282.76</td>\n",
       "    </tr>\n",
       "  </tbody>\n",
       "</table>\n",
       "</div>"
      ],
      "text/plain": [
       "variation        0\n",
       "0          4010.49\n",
       "1          7282.76"
      ]
     },
     "metadata": {},
     "output_type": "display_data"
    },
    {
     "data": {
      "text/markdown": [
       "#### Kerr Non-linear coefficient table (MHz)"
      ],
      "text/plain": [
       "<IPython.core.display.Markdown object>"
      ]
     },
     "metadata": {},
     "output_type": "display_data"
    },
    {
     "data": {
      "text/markdown": [
       "###### Numerical diagonalization"
      ],
      "text/plain": [
       "<IPython.core.display.Markdown object>"
      ]
     },
     "metadata": {},
     "output_type": "display_data"
    },
    {
     "data": {
      "text/html": [
       "<div>\n",
       "<style scoped>\n",
       "    .dataframe tbody tr th:only-of-type {\n",
       "        vertical-align: middle;\n",
       "    }\n",
       "\n",
       "    .dataframe tbody tr th {\n",
       "        vertical-align: top;\n",
       "    }\n",
       "\n",
       "    .dataframe thead th {\n",
       "        text-align: right;\n",
       "    }\n",
       "</style>\n",
       "<table border=\"1\" class=\"dataframe\">\n",
       "  <thead>\n",
       "    <tr style=\"text-align: right;\">\n",
       "      <th></th>\n",
       "      <th></th>\n",
       "      <th>0</th>\n",
       "      <th>1</th>\n",
       "    </tr>\n",
       "    <tr>\n",
       "      <th>variation</th>\n",
       "      <th></th>\n",
       "      <th></th>\n",
       "      <th></th>\n",
       "    </tr>\n",
       "  </thead>\n",
       "  <tbody>\n",
       "    <tr>\n",
       "      <th rowspan=\"2\" valign=\"top\">0</th>\n",
       "      <th>0</th>\n",
       "      <td>204.72</td>\n",
       "      <td>2.60e-01</td>\n",
       "    </tr>\n",
       "    <tr>\n",
       "      <th>1</th>\n",
       "      <td>0.26</td>\n",
       "      <td>8.26e-05</td>\n",
       "    </tr>\n",
       "  </tbody>\n",
       "</table>\n",
       "</div>"
      ],
      "text/plain": [
       "                  0         1\n",
       "variation                    \n",
       "0         0  204.72  2.60e-01\n",
       "          1    0.26  8.26e-05"
      ]
     },
     "metadata": {},
     "output_type": "display_data"
    },
    {
     "name": "stdout",
     "output_type": "stream",
     "text": [
      "Warning! 105 COM references still alive\n",
      "Ansys will likely refuse to shut down\n",
      "{'qubit_freq_MHz': 3999.2187170905777, 'qubit_anharmonicity_MHz': 231.6415373457012, 'other_data': \"{'project_info': {'pinfo': design_name     CavityQubit_Modified_Candle_Andre_design_0_1_5\\nproject_name      CavityQubit_Modified_Candle_Andre_proj_0_1_5\\nproject_path                          D:/lfl/Documents/Ansoft/\\nsetup_name                                       TransmonSetup\\ndtype: object, 'dissip': dielectrics_bulk                             None\\ndielectric_surfaces    [layer_3_datatype_0_plane]\\nresistive_surfaces                           None\\nseams                                        None\\ndtype: object, 'options': Series([], dtype: float64), 'junctions':                                j0\\nCj_variable                  Cj_0\\nLj_variable                  Lj_0\\nlength                     0.0001\\nline             JJ_Lj_6_rect_jj_\\nrect         JJ_rect_Lj_6_rect_jj, 'ports': Empty DataFrame\\nColumns: []\\nIndex: []}, 'results': {'0': {'Pm':          j0\\n0  0.666221\\n1  0.000363, 'Pm_cap':          j0\\n0  0.014488\\n1  0.000024, 'Sm':    s_j0\\n0    -1\\n1    -1, 'Om':                  0        1\\nfreq_GHz  4.215334  7.28289, 'sols':             U_H           U_E\\n0  5.453468e-28  4.538144e-26\\n1  3.306299e-26  3.308052e-26, 'Qm_coupling': Empty DataFrame\\nColumns: []\\nIndex: [0, 1], 'Ljs': j0    1.550052e-08\\ndtype: float64, 'Cjs': j0    2.000000e-15\\ndtype: float64, 'Qs': 0    inf\\n1    inf\\ndtype: float64, 'freqs_hfss_GHz': 0    4.215334\\n1    7.282890\\ndtype: float64, 'hfss_variables': _Cj_0                     0fF\\n_Lj_0    15.500517135714711nH\\ndtype: object, 'modes': range(0, 2), 'I_peak': 0    0   -1.406838e-09\\ndtype: float64\\n1    0   -2.781738e-11\\ndtype: float64\\ndtype: object, 'V_peak': 0    0   -5.775669e-07\\ndtype: float64\\n1    0   -1.973086e-08\\ndtype: float64\\ndtype: object, 'ansys_energies': {0: {'U_J_inds': {'j0': 1.533926923447719e-26}, 'U_J_caps': {'j0': 3.3358355263689453e-28}, 'U_H': 2.726733892559565e-28, 'U_E': 2.2690720446663e-26, 'U_tot_ind': 1.5611942623733145e-26, 'U_tot_cap': 2.3024303999299893e-26, 'U_norm': 2.3024303999299893e-26, 'U_diff': 0.19184993428289854}, 1: {'U_J_inds': {'j0': 5.997200803379107e-30}, 'U_J_caps': {'j0': 3.8930682140337077e-31}, 'U_H': 1.653149683778625e-26, 'U_E': 1.654025775824345e-26, 'U_tot_ind': 1.6537494038589631e-26, 'U_tot_cap': 1.6540647065064854e-26, 'U_norm': 1.6540647065064854e-26, 'U_diff': 9.532054613777064e-05}}, 'mesh':                    Unnamed: 0  Num Tets    Min edge length    \\\\\\n0   layer_1_datatype_0_plane        56501           0.000644   \\n1   layer_3_datatype_0_plane       913241           0.000184   \\n2                 vacuum_box       594510           0.000202   \\n3   prime_cpw_clt2_shortline          191           0.012320   \\n4  second_cpw_clt2_shortline         2027           0.001892   \\n5       trace_cpw2_shortline        30215           0.001646   \\n6                   cross_Q2         5827           0.000662   \\n7         c_connector_arm_Q2         5409           0.000321   \\n\\n   Max edge length    RMS edge length    Min tet vol    Max tet vol    \\\\\\n0           0.228765           0.020668   1.153200e-11   1.301380e-05   \\n1           0.743524           0.016558   1.848270e-13   1.104800e-02   \\n2           0.865890           0.022768   1.640180e-13   3.191250e-02   \\n3           0.049055           0.022498   1.544830e-08   1.913150e-07   \\n4           0.007388           0.004311   3.020460e-10   9.239420e-09   \\n5           0.012572           0.004559   4.031760e-11   2.775700e-08   \\n6           0.031806           0.009093   1.283550e-11   1.599660e-07   \\n7           0.013627           0.005221   1.385750e-12   3.640990e-08   \\n\\n   Mean tet vol    Std Devn (vol)    \\n0    7.650580e-08      4.799320e-07  \\n1    1.938810e-06      5.805080e-05  \\n2    6.544580e-06      2.368200e-04  \\n3    5.513090e-08      4.138260e-08  \\n4    3.039210e-09      1.472980e-09  \\n5    2.837600e-09      2.258110e-09  \\n6    9.892030e-09      1.382160e-08  \\n7    3.416340e-09      3.922750e-09  , 'convergence':              Solved Elements  Max Delta Freq. %\\nPass Number                                    \\n1                      10461                NaN\\n2                      13474          13.691000\\n3                      17327           5.514000\\n4                      22232           2.893000\\n5                      28540           1.653500\\n6                      36597           1.574200\\n7                      46916           0.778970\\n8                      60085           0.416920\\n9                      77010           0.611050\\n10                     98557           0.709640\\n11                    126139           0.580960\\n12                    161390           0.364960\\n13                    206734           0.279990\\n14                    265007           0.467800\\n15                    339788           0.344370\\n16                    435526           0.202050\\n17                    557988           0.106340\\n18                    715416           0.114710\\n19                    917062           0.101530\\n20                   1175265           0.076999\\n21                   1507751           0.070837, 'convergence_f_pass': None}}}\"}\n",
      "pyaedt INFO: Project CavityQubit_Modified_Candle_Andre_proj_0_1_5 set to active.\n"
     ]
    },
    {
     "name": "stderr",
     "output_type": "stream",
     "text": [
      "INFO:Global:Project CavityQubit_Modified_Candle_Andre_proj_0_1_5 set to active.\n"
     ]
    },
    {
     "name": "stdout",
     "output_type": "stream",
     "text": [
      "pyaedt INFO: Aedt Objects initialized\n"
     ]
    },
    {
     "name": "stderr",
     "output_type": "stream",
     "text": [
      "INFO:Global:Aedt Objects initialized\n"
     ]
    },
    {
     "name": "stdout",
     "output_type": "stream",
     "text": [
      "pyaedt INFO: Variable Manager initialized\n"
     ]
    },
    {
     "name": "stderr",
     "output_type": "stream",
     "text": [
      "INFO:Global:Variable Manager initialized\n"
     ]
    },
    {
     "name": "stdout",
     "output_type": "stream",
     "text": [
      "pyaedt INFO: Design Loaded\n"
     ]
    },
    {
     "name": "stderr",
     "output_type": "stream",
     "text": [
      "INFO:Global:Design Loaded\n"
     ]
    },
    {
     "name": "stdout",
     "output_type": "stream",
     "text": [
      "pyaedt INFO: Successfully loaded project materials !\n"
     ]
    },
    {
     "name": "stderr",
     "output_type": "stream",
     "text": [
      "INFO:Global:Successfully loaded project materials !\n"
     ]
    },
    {
     "name": "stdout",
     "output_type": "stream",
     "text": [
      "pyaedt INFO: Materials Loaded\n"
     ]
    },
    {
     "name": "stderr",
     "output_type": "stream",
     "text": [
      "INFO:Global:Materials Loaded\n"
     ]
    },
    {
     "name": "stdout",
     "output_type": "stream",
     "text": [
      "pyaedt INFO: Deleted 10 Objects: layer_1_datatype_0_plane,layer_3_datatype_0_plane,vacuum_box,prime_cpw_clt2_shortline,second_cpw_clt2_shortline,trace_cpw2_shortline,cross_Q2,c_connector_arm_Q2,JJ_rect_Lj_6_rect_jj,JJ_Lj_6_rect_jj_.\n"
     ]
    },
    {
     "name": "stderr",
     "output_type": "stream",
     "text": [
      "INFO:Global:Deleted 10 Objects: layer_1_datatype_0_plane,layer_3_datatype_0_plane,vacuum_box,prime_cpw_clt2_shortline,second_cpw_clt2_shortline,trace_cpw2_shortline,cross_Q2,c_connector_arm_Q2,JJ_rect_Lj_6_rect_jj,JJ_Lj_6_rect_jj_.\n"
     ]
    },
    {
     "name": "stdout",
     "output_type": "stream",
     "text": [
      "pyaedt INFO: Project CavityQubit_Modified_Candle_Andre_proj_0_1_5 set to active.\n"
     ]
    },
    {
     "name": "stderr",
     "output_type": "stream",
     "text": [
      "INFO:Global:Project CavityQubit_Modified_Candle_Andre_proj_0_1_5 set to active.\n"
     ]
    },
    {
     "name": "stdout",
     "output_type": "stream",
     "text": [
      "pyaedt INFO: Aedt Objects initialized\n"
     ]
    },
    {
     "name": "stderr",
     "output_type": "stream",
     "text": [
      "INFO:Global:Aedt Objects initialized\n"
     ]
    },
    {
     "name": "stdout",
     "output_type": "stream",
     "text": [
      "pyaedt INFO: Variable Manager initialized\n"
     ]
    },
    {
     "name": "stderr",
     "output_type": "stream",
     "text": [
      "INFO:Global:Variable Manager initialized\n"
     ]
    },
    {
     "name": "stdout",
     "output_type": "stream",
     "text": [
      "pyaedt INFO: Design Loaded\n"
     ]
    },
    {
     "name": "stderr",
     "output_type": "stream",
     "text": [
      "INFO:Global:Design Loaded\n"
     ]
    },
    {
     "name": "stdout",
     "output_type": "stream",
     "text": [
      "pyaedt INFO: Successfully loaded project materials !\n"
     ]
    },
    {
     "name": "stderr",
     "output_type": "stream",
     "text": [
      "INFO:Global:Successfully loaded project materials !\n"
     ]
    },
    {
     "name": "stdout",
     "output_type": "stream",
     "text": [
      "pyaedt INFO: Materials Loaded\n"
     ]
    },
    {
     "name": "stderr",
     "output_type": "stream",
     "text": [
      "INFO:Global:Materials Loaded\n"
     ]
    },
    {
     "name": "stdout",
     "output_type": "stream",
     "text": [
      "pyaedt INFO: Project CavityQubit_Modified_Candle_Andre_proj_0_1_5 set to active.\n"
     ]
    },
    {
     "name": "stderr",
     "output_type": "stream",
     "text": [
      "INFO:Global:Project CavityQubit_Modified_Candle_Andre_proj_0_1_5 set to active.\n"
     ]
    },
    {
     "name": "stdout",
     "output_type": "stream",
     "text": [
      "pyaedt INFO: Aedt Objects initialized\n"
     ]
    },
    {
     "name": "stderr",
     "output_type": "stream",
     "text": [
      "INFO:Global:Aedt Objects initialized\n"
     ]
    },
    {
     "name": "stdout",
     "output_type": "stream",
     "text": [
      "pyaedt INFO: Variable Manager initialized\n"
     ]
    },
    {
     "name": "stderr",
     "output_type": "stream",
     "text": [
      "INFO:Global:Variable Manager initialized\n"
     ]
    },
    {
     "name": "stdout",
     "output_type": "stream",
     "text": [
      "pyaedt INFO: Design Loaded\n"
     ]
    },
    {
     "name": "stderr",
     "output_type": "stream",
     "text": [
      "INFO:Global:Design Loaded\n"
     ]
    },
    {
     "name": "stdout",
     "output_type": "stream",
     "text": [
      "pyaedt INFO: Successfully loaded project materials !\n"
     ]
    },
    {
     "name": "stderr",
     "output_type": "stream",
     "text": [
      "INFO:Global:Successfully loaded project materials !\n"
     ]
    },
    {
     "name": "stdout",
     "output_type": "stream",
     "text": [
      "pyaedt INFO: Materials Loaded\n"
     ]
    },
    {
     "name": "stderr",
     "output_type": "stream",
     "text": [
      "INFO:Global:Materials Loaded\n"
     ]
    },
    {
     "name": "stdout",
     "output_type": "stream",
     "text": [
      "pyaedt WARNING: No objects to delete\n"
     ]
    },
    {
     "name": "stderr",
     "output_type": "stream",
     "text": [
      "WARNING:Global:No objects to delete\n"
     ]
    },
    {
     "name": "stdout",
     "output_type": "stream",
     "text": [
      "pyaedt INFO: Project CavityQubit_Modified_Candle_Andre_proj_0_1_5 set to active.\n"
     ]
    },
    {
     "name": "stderr",
     "output_type": "stream",
     "text": [
      "INFO:Global:Project CavityQubit_Modified_Candle_Andre_proj_0_1_5 set to active.\n"
     ]
    },
    {
     "name": "stdout",
     "output_type": "stream",
     "text": [
      "pyaedt INFO: Aedt Objects initialized\n"
     ]
    },
    {
     "name": "stderr",
     "output_type": "stream",
     "text": [
      "INFO:Global:Aedt Objects initialized\n"
     ]
    },
    {
     "name": "stdout",
     "output_type": "stream",
     "text": [
      "pyaedt INFO: Variable Manager initialized\n"
     ]
    },
    {
     "name": "stderr",
     "output_type": "stream",
     "text": [
      "INFO:Global:Variable Manager initialized\n"
     ]
    },
    {
     "name": "stdout",
     "output_type": "stream",
     "text": [
      "pyaedt INFO: Design Loaded\n"
     ]
    },
    {
     "name": "stderr",
     "output_type": "stream",
     "text": [
      "INFO:Global:Design Loaded\n"
     ]
    },
    {
     "name": "stdout",
     "output_type": "stream",
     "text": [
      "pyaedt INFO: Successfully loaded project materials !\n"
     ]
    },
    {
     "name": "stderr",
     "output_type": "stream",
     "text": [
      "INFO:Global:Successfully loaded project materials !\n"
     ]
    },
    {
     "name": "stdout",
     "output_type": "stream",
     "text": [
      "pyaedt INFO: Materials Loaded\n"
     ]
    },
    {
     "name": "stderr",
     "output_type": "stream",
     "text": [
      "INFO:Global:Materials Loaded\n"
     ]
    },
    {
     "name": "stdout",
     "output_type": "stream",
     "text": [
      "pyaedt INFO: Boundary Lumped RLC rlc_JJ_rect_Lj_3_rect_jj has been correctly created.\n"
     ]
    },
    {
     "name": "stderr",
     "output_type": "stream",
     "text": [
      "INFO:Global:Boundary Lumped RLC rlc_JJ_rect_Lj_3_rect_jj has been correctly created.\n"
     ]
    },
    {
     "name": "stdout",
     "output_type": "stream",
     "text": [
      "pyaedt INFO: Project CavityQubit_Modified_Candle_Andre_proj_0_1_5 set to active.\n"
     ]
    },
    {
     "name": "stderr",
     "output_type": "stream",
     "text": [
      "INFO:Global:Project CavityQubit_Modified_Candle_Andre_proj_0_1_5 set to active.\n"
     ]
    },
    {
     "name": "stdout",
     "output_type": "stream",
     "text": [
      "pyaedt INFO: Aedt Objects initialized\n"
     ]
    },
    {
     "name": "stderr",
     "output_type": "stream",
     "text": [
      "INFO:Global:Aedt Objects initialized\n"
     ]
    },
    {
     "name": "stdout",
     "output_type": "stream",
     "text": [
      "pyaedt INFO: Variable Manager initialized\n"
     ]
    },
    {
     "name": "stderr",
     "output_type": "stream",
     "text": [
      "INFO:Global:Variable Manager initialized\n"
     ]
    },
    {
     "name": "stdout",
     "output_type": "stream",
     "text": [
      "pyaedt INFO: Design Loaded\n"
     ]
    },
    {
     "name": "stderr",
     "output_type": "stream",
     "text": [
      "INFO:Global:Design Loaded\n"
     ]
    },
    {
     "name": "stdout",
     "output_type": "stream",
     "text": [
      "pyaedt INFO: Successfully loaded project materials !\n"
     ]
    },
    {
     "name": "stderr",
     "output_type": "stream",
     "text": [
      "INFO:Global:Successfully loaded project materials !\n"
     ]
    },
    {
     "name": "stdout",
     "output_type": "stream",
     "text": [
      "pyaedt INFO: Materials Loaded\n"
     ]
    },
    {
     "name": "stderr",
     "output_type": "stream",
     "text": [
      "INFO:Global:Materials Loaded\n"
     ]
    },
    {
     "name": "stdout",
     "output_type": "stream",
     "text": [
      "pyaedt INFO: Project CavityQubit_Modified_Candle_Andre_proj_0_1_5 set to active.\n"
     ]
    },
    {
     "name": "stderr",
     "output_type": "stream",
     "text": [
      "INFO:Global:Project CavityQubit_Modified_Candle_Andre_proj_0_1_5 set to active.\n"
     ]
    },
    {
     "name": "stdout",
     "output_type": "stream",
     "text": [
      "pyaedt INFO: Aedt Objects initialized\n"
     ]
    },
    {
     "name": "stderr",
     "output_type": "stream",
     "text": [
      "INFO:Global:Aedt Objects initialized\n"
     ]
    },
    {
     "name": "stdout",
     "output_type": "stream",
     "text": [
      "pyaedt INFO: Variable Manager initialized\n"
     ]
    },
    {
     "name": "stderr",
     "output_type": "stream",
     "text": [
      "INFO:Global:Variable Manager initialized\n"
     ]
    },
    {
     "name": "stdout",
     "output_type": "stream",
     "text": [
      "pyaedt INFO: Design Loaded\n"
     ]
    },
    {
     "name": "stderr",
     "output_type": "stream",
     "text": [
      "INFO:Global:Design Loaded\n"
     ]
    },
    {
     "name": "stdout",
     "output_type": "stream",
     "text": [
      "pyaedt INFO: Successfully loaded project materials !\n"
     ]
    },
    {
     "name": "stderr",
     "output_type": "stream",
     "text": [
      "INFO:Global:Successfully loaded project materials !\n"
     ]
    },
    {
     "name": "stdout",
     "output_type": "stream",
     "text": [
      "pyaedt INFO: Materials Loaded\n"
     ]
    },
    {
     "name": "stderr",
     "output_type": "stream",
     "text": [
      "INFO:Global:Materials Loaded\n"
     ]
    },
    {
     "name": "stdout",
     "output_type": "stream",
     "text": [
      "pyaedt INFO: Key Desktop/ActiveDSOConfigurations/HFSS correctly changed.\n"
     ]
    },
    {
     "name": "stderr",
     "output_type": "stream",
     "text": [
      "INFO:Global:Key Desktop/ActiveDSOConfigurations/HFSS correctly changed.\n"
     ]
    },
    {
     "name": "stdout",
     "output_type": "stream",
     "text": [
      "pyaedt INFO: Solving design setup TransmonSetup\n"
     ]
    },
    {
     "name": "stderr",
     "output_type": "stream",
     "text": [
      "INFO:Global:Solving design setup TransmonSetup\n"
     ]
    },
    {
     "name": "stdout",
     "output_type": "stream",
     "text": [
      "pyaedt INFO: Key Desktop/ActiveDSOConfigurations/HFSS correctly changed.\n"
     ]
    },
    {
     "name": "stderr",
     "output_type": "stream",
     "text": [
      "INFO:Global:Key Desktop/ActiveDSOConfigurations/HFSS correctly changed.\n"
     ]
    },
    {
     "name": "stdout",
     "output_type": "stream",
     "text": [
      "pyaedt INFO: Design setup TransmonSetup solved correctly in 0.0h 40.0m 35.0s\n"
     ]
    },
    {
     "name": "stderr",
     "output_type": "stream",
     "text": [
      "INFO:Global:Design setup TransmonSetup solved correctly in 0.0h 40.0m 35.0s\n"
     ]
    },
    {
     "name": "stdout",
     "output_type": "stream",
     "text": [
      "pyaedt INFO: Project CavityQubit_Modified_Candle_Andre_proj_0_1_5 set to active.\n"
     ]
    },
    {
     "name": "stderr",
     "output_type": "stream",
     "text": [
      "INFO:Global:Project CavityQubit_Modified_Candle_Andre_proj_0_1_5 set to active.\n"
     ]
    },
    {
     "name": "stdout",
     "output_type": "stream",
     "text": [
      "pyaedt INFO: Aedt Objects initialized\n"
     ]
    },
    {
     "name": "stderr",
     "output_type": "stream",
     "text": [
      "INFO:Global:Aedt Objects initialized\n"
     ]
    },
    {
     "name": "stdout",
     "output_type": "stream",
     "text": [
      "pyaedt INFO: Variable Manager initialized\n"
     ]
    },
    {
     "name": "stderr",
     "output_type": "stream",
     "text": [
      "INFO:Global:Variable Manager initialized\n"
     ]
    },
    {
     "name": "stdout",
     "output_type": "stream",
     "text": [
      "pyaedt INFO: Design Loaded\n"
     ]
    },
    {
     "name": "stderr",
     "output_type": "stream",
     "text": [
      "INFO:Global:Design Loaded\n"
     ]
    },
    {
     "name": "stdout",
     "output_type": "stream",
     "text": [
      "pyaedt INFO: Successfully loaded project materials !\n"
     ]
    },
    {
     "name": "stderr",
     "output_type": "stream",
     "text": [
      "INFO:Global:Successfully loaded project materials !\n"
     ]
    },
    {
     "name": "stdout",
     "output_type": "stream",
     "text": [
      "pyaedt INFO: Materials Loaded\n"
     ]
    },
    {
     "name": "stderr",
     "output_type": "stream",
     "text": [
      "INFO:Global:Materials Loaded\n",
      "INFO 07:36AM [connect_project]: Connecting to Ansys Desktop API...\n",
      "INFO 07:36AM [load_ansys_project]: \tOpened Ansys App\n",
      "INFO 07:36AM [load_ansys_project]: \tOpened Ansys Desktop v2021.1.0\n",
      "INFO 07:36AM [load_ansys_project]: \tOpened Ansys Project\n",
      "\tFolder:    D:/lfl/Documents/Ansoft/\n",
      "\tProject:   CavityQubit_Modified_Candle_Andre_proj_0_1_5\n",
      "INFO 07:36AM [connect_design]: \tOpened active design\n",
      "\tDesign:    CavityQubit_Modified_Candle_Andre_design_0_1_5 [Solution type: Eigenmode]\n",
      "INFO 07:36AM [get_setup]: \tOpened setup `TransmonSetup`  (<class 'pyEPR.ansys.HfssEMSetup'>)\n",
      "INFO 07:36AM [connect]: \tConnected to project \"CavityQubit_Modified_Candle_Andre_proj_0_1_5\" and design \"CavityQubit_Modified_Candle_Andre_design_0_1_5\" 😀 \n",
      "\n"
     ]
    },
    {
     "name": "stdout",
     "output_type": "stream",
     "text": [
      "Design \"CavityQubit_Modified_Candle_Andre_design_0_1_5\" info:\n",
      "\t# eigenmodes    2\n",
      "\t# variations    1\n",
      "\n",
      "Variation 0  [1/1]\n",
      "\n",
      "  \u001b[1mMode 0 at 4.26 GHz   [1/2]\u001b[0m\n",
      "    Calculating ℰ_magnetic,ℰ_electric\n",
      "       (ℰ_E-ℰ_H)/ℰ_E       ℰ_E       ℰ_H\n",
      "               98.8%  2.031e-26 2.478e-28\n",
      "\n",
      "    Calculating junction energy participation ration (EPR)\n",
      "\tmethod=`line_voltage`. First estimates:\n",
      "\tjunction        EPR p_0j   sign s_0j    (p_capacitive)\n",
      "\t\tEnergy fraction (Lj over Lj&Cj)= 98.50%\n",
      "\tj0              0.987489  (+)        0.0150124\n",
      "\t\t(U_tot_cap-U_tot_ind)/mean=0.76%\n",
      "\n",
      "  \u001b[1mMode 1 at 6.99 GHz   [2/2]\u001b[0m\n",
      "    Calculating ℰ_magnetic,ℰ_electric\n",
      "       (ℰ_E-ℰ_H)/ℰ_E       ℰ_E       ℰ_H\n",
      "                0.1%  1.901e-26   1.9e-26\n",
      "\n",
      "    Calculating junction energy participation ration (EPR)\n",
      "\tmethod=`line_voltage`. First estimates:\n",
      "\tjunction        EPR p_1j   sign s_1j    (p_capacitive)\n",
      "\t\tEnergy fraction (Lj over Lj&Cj)= 96.07%\n",
      "\tj0              0.000529578  (+)        2.1678e-05\n",
      "\t\t(U_tot_cap-U_tot_ind)/mean=0.00%\n"
     ]
    },
    {
     "name": "stderr",
     "output_type": "stream",
     "text": [
      "WARNING 07:37AM [__init__]: <p>Error: <class 'IndexError'></p>\n"
     ]
    },
    {
     "name": "stdout",
     "output_type": "stream",
     "text": [
      "\n",
      "ANALYSIS DONE. Data saved to:\n",
      "\n",
      "C:\\data-pyEPR\\CavityQubit_Modified_Candle_Andre_proj_0_1_5\\CavityQubit_Modified_Candle_Andre_design_0_1_5\\2023-06-15 07-36-46.npz\n",
      "\n",
      "\n",
      "\t Differences in variations:\n",
      "\n",
      "\n",
      "\n",
      " . . . . . . . . . . . . . . . . . . . . . . . . . . . . . . . . . . . . . . . . \n",
      "Variation 0\n",
      "\n",
      "Starting the diagonalization\n",
      "Finished the diagonalization\n",
      "Pm_norm=\n",
      "modes\n",
      "0    1.015423\n",
      "1    1.020387\n",
      "dtype: float64\n",
      "\n",
      "Pm_norm idx =\n",
      "      j0\n",
      "0   True\n",
      "1  False\n",
      "*** P (participation matrix, not normlz.)\n",
      "         j0\n",
      "0  0.972884\n",
      "1  0.000530\n",
      "\n",
      "*** S (sign-bit matrix)\n",
      "   s_j0\n",
      "0     1\n",
      "1     1\n",
      "*** P (participation matrix, normalized.)\n",
      "      0.99\n",
      "   0.00053\n",
      "\n",
      "*** Chi matrix O1 PT (MHz)\n",
      "    Diag is anharmonicity, off diag is full cross-Kerr.\n",
      "       144    0.253\n",
      "     0.253 0.000111\n",
      "\n",
      "*** Chi matrix ND (MHz) \n",
      "       156    0.234\n",
      "     0.234  9.4e-05\n",
      "\n",
      "*** Frequencies O1 PT (MHz)\n",
      "0    4116.280424\n",
      "1    6990.343790\n",
      "dtype: float64\n",
      "\n",
      "*** Frequencies ND (MHz)\n",
      "0    4111.005550\n",
      "1    6990.345716\n",
      "dtype: float64\n",
      "\n",
      "*** Q_coupling\n",
      "Empty DataFrame\n",
      "Columns: []\n",
      "Index: [0, 1]\n"
     ]
    },
    {
     "data": {
      "text/markdown": [
       "#### Mode frequencies (MHz)"
      ],
      "text/plain": [
       "<IPython.core.display.Markdown object>"
      ]
     },
     "metadata": {},
     "output_type": "display_data"
    },
    {
     "data": {
      "text/markdown": [
       "###### Numerical diagonalization"
      ],
      "text/plain": [
       "<IPython.core.display.Markdown object>"
      ]
     },
     "metadata": {},
     "output_type": "display_data"
    },
    {
     "data": {
      "text/html": [
       "<div>\n",
       "<style scoped>\n",
       "    .dataframe tbody tr th:only-of-type {\n",
       "        vertical-align: middle;\n",
       "    }\n",
       "\n",
       "    .dataframe tbody tr th {\n",
       "        vertical-align: top;\n",
       "    }\n",
       "\n",
       "    .dataframe thead th {\n",
       "        text-align: right;\n",
       "    }\n",
       "</style>\n",
       "<table border=\"1\" class=\"dataframe\">\n",
       "  <thead>\n",
       "    <tr style=\"text-align: right;\">\n",
       "      <th>variation</th>\n",
       "      <th>0</th>\n",
       "    </tr>\n",
       "  </thead>\n",
       "  <tbody>\n",
       "    <tr>\n",
       "      <th>0</th>\n",
       "      <td>4116.28</td>\n",
       "    </tr>\n",
       "    <tr>\n",
       "      <th>1</th>\n",
       "      <td>6990.34</td>\n",
       "    </tr>\n",
       "  </tbody>\n",
       "</table>\n",
       "</div>"
      ],
      "text/plain": [
       "variation        0\n",
       "0          4116.28\n",
       "1          6990.34"
      ]
     },
     "metadata": {},
     "output_type": "display_data"
    },
    {
     "data": {
      "text/markdown": [
       "#### Kerr Non-linear coefficient table (MHz)"
      ],
      "text/plain": [
       "<IPython.core.display.Markdown object>"
      ]
     },
     "metadata": {},
     "output_type": "display_data"
    },
    {
     "data": {
      "text/markdown": [
       "###### Numerical diagonalization"
      ],
      "text/plain": [
       "<IPython.core.display.Markdown object>"
      ]
     },
     "metadata": {},
     "output_type": "display_data"
    },
    {
     "data": {
      "text/html": [
       "<div>\n",
       "<style scoped>\n",
       "    .dataframe tbody tr th:only-of-type {\n",
       "        vertical-align: middle;\n",
       "    }\n",
       "\n",
       "    .dataframe tbody tr th {\n",
       "        vertical-align: top;\n",
       "    }\n",
       "\n",
       "    .dataframe thead th {\n",
       "        text-align: right;\n",
       "    }\n",
       "</style>\n",
       "<table border=\"1\" class=\"dataframe\">\n",
       "  <thead>\n",
       "    <tr style=\"text-align: right;\">\n",
       "      <th></th>\n",
       "      <th></th>\n",
       "      <th>0</th>\n",
       "      <th>1</th>\n",
       "    </tr>\n",
       "    <tr>\n",
       "      <th>variation</th>\n",
       "      <th></th>\n",
       "      <th></th>\n",
       "      <th></th>\n",
       "    </tr>\n",
       "  </thead>\n",
       "  <tbody>\n",
       "    <tr>\n",
       "      <th rowspan=\"2\" valign=\"top\">0</th>\n",
       "      <th>0</th>\n",
       "      <td>143.69</td>\n",
       "      <td>2.53e-01</td>\n",
       "    </tr>\n",
       "    <tr>\n",
       "      <th>1</th>\n",
       "      <td>0.25</td>\n",
       "      <td>1.11e-04</td>\n",
       "    </tr>\n",
       "  </tbody>\n",
       "</table>\n",
       "</div>"
      ],
      "text/plain": [
       "                  0         1\n",
       "variation                    \n",
       "0         0  143.69  2.53e-01\n",
       "          1    0.25  1.11e-04"
      ]
     },
     "metadata": {},
     "output_type": "display_data"
    },
    {
     "name": "stdout",
     "output_type": "stream",
     "text": [
      "Warning! 81 COM references still alive\n",
      "Ansys will likely refuse to shut down\n",
      "{'qubit_freq_MHz': 4111.005550039732, 'qubit_anharmonicity_MHz': 156.14193459741878, 'other_data': \"{'project_info': {'pinfo': design_name     CavityQubit_Modified_Candle_Andre_design_0_1_5\\nproject_name      CavityQubit_Modified_Candle_Andre_proj_0_1_5\\nproject_path                          D:/lfl/Documents/Ansoft/\\nsetup_name                                       TransmonSetup\\ndtype: object, 'dissip': dielectrics_bulk                             None\\ndielectric_surfaces    [layer_3_datatype_0_plane]\\nresistive_surfaces                           None\\nseams                                        None\\ndtype: object, 'options': Series([], dtype: float64), 'junctions':                                j0\\nCj_variable                  Cj_0\\nLj_variable                  Lj_0\\nlength                     0.0001\\nline             JJ_Lj_3_rect_jj_\\nrect         JJ_rect_Lj_3_rect_jj, 'ports': Empty DataFrame\\nColumns: []\\nIndex: []}, 'results': {'0': {'Pm':          j0\\n0  0.972884\\n1  0.000530, 'Pm_cap':          j0\\n0  0.014790\\n1  0.000022, 'Sm':    s_j0\\n0     1\\n1     1, 'Om':                  0        1\\nfreq_GHz  4.260101  6.99047, 'sols':             U_H           U_E\\n0  4.955859e-28  4.062014e-26\\n1  3.799472e-26  3.801485e-26, 'Qm_coupling': Empty DataFrame\\nColumns: []\\nIndex: [0, 1], 'Ljs': j0    1.060933e-08\\ndtype: float64, 'Cjs': j0    2.000000e-15\\ndtype: float64, 'Qs': 0    inf\\n1    inf\\ndtype: float64, 'freqs_hfss_GHz': 0    4.260101\\n1    6.990470\\ndtype: float64, 'hfss_variables': _Cj_0                     0fF\\n_Lj_0    10.609327935963472nH\\ndtype: object, 'modes': range(0, 2), 'I_peak': 0    0    1.944432e-09\\ndtype: float64\\n1    0    4.356097e-11\\ndtype: float64\\ndtype: object, 'V_peak': 0    0    5.521797e-07\\ndtype: float64\\n1    0    2.029886e-08\\ndtype: float64\\ndtype: object, 'ansys_energies': {0: {'U_J_inds': {'j0': 2.0055967171891953e-26}, 'U_J_caps': {'j0': 3.049024584567673e-28}, 'U_H': 2.47792951307598e-28, 'U_E': 2.031006902716335e-26, 'U_tot_ind': 2.0303760123199552e-26, 'U_tot_cap': 2.0614971485620118e-26, 'U_norm': 2.0614971485620118e-26, 'U_diff': 0.007605596512514749}, 1: {'U_J_inds': {'j0': 1.0065908856279115e-29}, 'U_J_caps': {'j0': 4.120438053710846e-31}, 'U_H': 1.89973590654383e-26, 'U_E': 1.90074231445431e-26, 'U_tot_ind': 1.900742497429458e-26, 'U_tot_cap': 1.9007835188348472e-26, 'U_norm': 1.9007835188348472e-26, 'U_diff': 1.0790773287845177e-05}}, 'mesh':                    Unnamed: 0  Num Tets    Min edge length    \\\\\\n0   layer_1_datatype_0_plane        56058           0.000662   \\n1   layer_3_datatype_0_plane       904759           0.000221   \\n2                 vacuum_box       581952           0.000227   \\n3   prime_cpw_clt3_shortline          182           0.012233   \\n4  second_cpw_clt3_shortline         1785           0.002139   \\n5       trace_cpw3_shortline        29149           0.001784   \\n6                   cross_Q3         5796           0.000654   \\n7         c_connector_arm_Q3         5012           0.000526   \\n\\n   Max edge length    RMS edge length    Min tet vol    Max tet vol    \\\\\\n0           0.259631           0.020480   1.120330e-11   1.202510e-05   \\n1           0.650238           0.016796   4.593070e-13   8.383980e-03   \\n2           0.927134           0.022528   3.529130e-13   3.528610e-02   \\n3           0.058531           0.024462   1.468540e-08   2.282700e-07   \\n4           0.007645           0.004708   3.727320e-10   1.144240e-08   \\n5           0.012496           0.004737   5.968840e-11   3.074800e-08   \\n6           0.030428           0.009009   1.289670e-11   1.599110e-07   \\n7           0.015680           0.005585   5.784080e-12   4.947690e-08   \\n\\n   Mean tet vol    Std Devn (vol)    \\n0    7.694500e-08      4.828970e-07  \\n1    1.956990e-06      5.852260e-05  \\n2    6.685820e-06      2.418780e-04  \\n3    5.785710e-08      4.376700e-08  \\n4    3.451250e-09      1.708070e-09  \\n5    3.101920e-09      2.480830e-09  \\n6    9.627330e-09      1.324440e-08  \\n7    3.472870e-09      4.533320e-09  , 'convergence':              Solved Elements  Max Delta Freq. %\\nPass Number                                    \\n1                      10290                NaN\\n2                      13259           7.956600\\n3                      17027           4.221900\\n4                      21894           3.582200\\n5                      28104           2.236600\\n6                      36099           1.119000\\n7                      46333           0.814710\\n8                      59301           0.847350\\n9                      75876           0.371600\\n10                     97105           0.485440\\n11                    124220           0.632520\\n12                    159090           0.508760\\n13                    203775           0.374620\\n14                    261170           0.430190\\n15                    334688           0.247270\\n16                    429080           0.226370\\n17                    549942           0.136510\\n18                    705225           0.118430\\n19                    903839           0.101730\\n20                   1158597           0.075931\\n21                   1486711           0.075430, 'convergence_f_pass': None}}}\"}\n",
      "pyaedt INFO: Project CavityQubit_Modified_Candle_Andre_proj_0_1_5 set to active.\n"
     ]
    },
    {
     "name": "stderr",
     "output_type": "stream",
     "text": [
      "INFO:Global:Project CavityQubit_Modified_Candle_Andre_proj_0_1_5 set to active.\n"
     ]
    },
    {
     "name": "stdout",
     "output_type": "stream",
     "text": [
      "pyaedt INFO: Aedt Objects initialized\n"
     ]
    },
    {
     "name": "stderr",
     "output_type": "stream",
     "text": [
      "INFO:Global:Aedt Objects initialized\n"
     ]
    },
    {
     "name": "stdout",
     "output_type": "stream",
     "text": [
      "pyaedt INFO: Variable Manager initialized\n"
     ]
    },
    {
     "name": "stderr",
     "output_type": "stream",
     "text": [
      "INFO:Global:Variable Manager initialized\n"
     ]
    },
    {
     "name": "stdout",
     "output_type": "stream",
     "text": [
      "pyaedt INFO: Design Loaded\n"
     ]
    },
    {
     "name": "stderr",
     "output_type": "stream",
     "text": [
      "INFO:Global:Design Loaded\n"
     ]
    },
    {
     "name": "stdout",
     "output_type": "stream",
     "text": [
      "pyaedt INFO: Successfully loaded project materials !\n"
     ]
    },
    {
     "name": "stderr",
     "output_type": "stream",
     "text": [
      "INFO:Global:Successfully loaded project materials !\n"
     ]
    },
    {
     "name": "stdout",
     "output_type": "stream",
     "text": [
      "pyaedt INFO: Materials Loaded\n"
     ]
    },
    {
     "name": "stderr",
     "output_type": "stream",
     "text": [
      "INFO:Global:Materials Loaded\n"
     ]
    },
    {
     "name": "stdout",
     "output_type": "stream",
     "text": [
      "pyaedt INFO: Deleted 10 Objects: layer_1_datatype_0_plane,layer_3_datatype_0_plane,vacuum_box,prime_cpw_clt3_shortline,second_cpw_clt3_shortline,trace_cpw3_shortline,cross_Q3,c_connector_arm_Q3,JJ_rect_Lj_3_rect_jj,JJ_Lj_3_rect_jj_.\n"
     ]
    },
    {
     "name": "stderr",
     "output_type": "stream",
     "text": [
      "INFO:Global:Deleted 10 Objects: layer_1_datatype_0_plane,layer_3_datatype_0_plane,vacuum_box,prime_cpw_clt3_shortline,second_cpw_clt3_shortline,trace_cpw3_shortline,cross_Q3,c_connector_arm_Q3,JJ_rect_Lj_3_rect_jj,JJ_Lj_3_rect_jj_.\n"
     ]
    },
    {
     "name": "stdout",
     "output_type": "stream",
     "text": [
      "pyaedt INFO: Project CavityQubit_Modified_Candle_Andre_proj_0_1_5 set to active.\n"
     ]
    },
    {
     "name": "stderr",
     "output_type": "stream",
     "text": [
      "INFO:Global:Project CavityQubit_Modified_Candle_Andre_proj_0_1_5 set to active.\n"
     ]
    },
    {
     "name": "stdout",
     "output_type": "stream",
     "text": [
      "pyaedt INFO: Aedt Objects initialized\n"
     ]
    },
    {
     "name": "stderr",
     "output_type": "stream",
     "text": [
      "INFO:Global:Aedt Objects initialized\n"
     ]
    },
    {
     "name": "stdout",
     "output_type": "stream",
     "text": [
      "pyaedt INFO: Variable Manager initialized\n"
     ]
    },
    {
     "name": "stderr",
     "output_type": "stream",
     "text": [
      "INFO:Global:Variable Manager initialized\n"
     ]
    },
    {
     "name": "stdout",
     "output_type": "stream",
     "text": [
      "pyaedt INFO: Design Loaded\n"
     ]
    },
    {
     "name": "stderr",
     "output_type": "stream",
     "text": [
      "INFO:Global:Design Loaded\n"
     ]
    },
    {
     "name": "stdout",
     "output_type": "stream",
     "text": [
      "pyaedt INFO: Successfully loaded project materials !\n"
     ]
    },
    {
     "name": "stderr",
     "output_type": "stream",
     "text": [
      "INFO:Global:Successfully loaded project materials !\n"
     ]
    },
    {
     "name": "stdout",
     "output_type": "stream",
     "text": [
      "pyaedt INFO: Materials Loaded\n"
     ]
    },
    {
     "name": "stderr",
     "output_type": "stream",
     "text": [
      "INFO:Global:Materials Loaded\n"
     ]
    },
    {
     "name": "stdout",
     "output_type": "stream",
     "text": [
      "pyaedt INFO: Project CavityQubit_Modified_Candle_Andre_proj_0_1_5 set to active.\n"
     ]
    },
    {
     "name": "stderr",
     "output_type": "stream",
     "text": [
      "INFO:Global:Project CavityQubit_Modified_Candle_Andre_proj_0_1_5 set to active.\n"
     ]
    },
    {
     "name": "stdout",
     "output_type": "stream",
     "text": [
      "pyaedt INFO: Aedt Objects initialized\n"
     ]
    },
    {
     "name": "stderr",
     "output_type": "stream",
     "text": [
      "INFO:Global:Aedt Objects initialized\n"
     ]
    },
    {
     "name": "stdout",
     "output_type": "stream",
     "text": [
      "pyaedt INFO: Variable Manager initialized\n"
     ]
    },
    {
     "name": "stderr",
     "output_type": "stream",
     "text": [
      "INFO:Global:Variable Manager initialized\n"
     ]
    },
    {
     "name": "stdout",
     "output_type": "stream",
     "text": [
      "pyaedt INFO: Design Loaded\n"
     ]
    },
    {
     "name": "stderr",
     "output_type": "stream",
     "text": [
      "INFO:Global:Design Loaded\n"
     ]
    },
    {
     "name": "stdout",
     "output_type": "stream",
     "text": [
      "pyaedt INFO: Successfully loaded project materials !\n"
     ]
    },
    {
     "name": "stderr",
     "output_type": "stream",
     "text": [
      "INFO:Global:Successfully loaded project materials !\n"
     ]
    },
    {
     "name": "stdout",
     "output_type": "stream",
     "text": [
      "pyaedt INFO: Materials Loaded\n"
     ]
    },
    {
     "name": "stderr",
     "output_type": "stream",
     "text": [
      "INFO:Global:Materials Loaded\n"
     ]
    },
    {
     "name": "stdout",
     "output_type": "stream",
     "text": [
      "pyaedt WARNING: No objects to delete\n"
     ]
    },
    {
     "name": "stderr",
     "output_type": "stream",
     "text": [
      "WARNING:Global:No objects to delete\n"
     ]
    },
    {
     "name": "stdout",
     "output_type": "stream",
     "text": [
      "pyaedt INFO: Project CavityQubit_Modified_Candle_Andre_proj_0_1_5 set to active.\n"
     ]
    },
    {
     "name": "stderr",
     "output_type": "stream",
     "text": [
      "INFO:Global:Project CavityQubit_Modified_Candle_Andre_proj_0_1_5 set to active.\n"
     ]
    },
    {
     "name": "stdout",
     "output_type": "stream",
     "text": [
      "pyaedt INFO: Aedt Objects initialized\n"
     ]
    },
    {
     "name": "stderr",
     "output_type": "stream",
     "text": [
      "INFO:Global:Aedt Objects initialized\n"
     ]
    },
    {
     "name": "stdout",
     "output_type": "stream",
     "text": [
      "pyaedt INFO: Variable Manager initialized\n"
     ]
    },
    {
     "name": "stderr",
     "output_type": "stream",
     "text": [
      "INFO:Global:Variable Manager initialized\n"
     ]
    },
    {
     "name": "stdout",
     "output_type": "stream",
     "text": [
      "pyaedt INFO: Design Loaded\n"
     ]
    },
    {
     "name": "stderr",
     "output_type": "stream",
     "text": [
      "INFO:Global:Design Loaded\n"
     ]
    },
    {
     "name": "stdout",
     "output_type": "stream",
     "text": [
      "pyaedt INFO: Successfully loaded project materials !\n"
     ]
    },
    {
     "name": "stderr",
     "output_type": "stream",
     "text": [
      "INFO:Global:Successfully loaded project materials !\n"
     ]
    },
    {
     "name": "stdout",
     "output_type": "stream",
     "text": [
      "pyaedt INFO: Materials Loaded\n"
     ]
    },
    {
     "name": "stderr",
     "output_type": "stream",
     "text": [
      "INFO:Global:Materials Loaded\n"
     ]
    },
    {
     "name": "stdout",
     "output_type": "stream",
     "text": [
      "pyaedt INFO: Boundary Lumped RLC rlc_JJ_rect_Lj_8_rect_jj has been correctly created.\n"
     ]
    },
    {
     "name": "stderr",
     "output_type": "stream",
     "text": [
      "INFO:Global:Boundary Lumped RLC rlc_JJ_rect_Lj_8_rect_jj has been correctly created.\n"
     ]
    },
    {
     "name": "stdout",
     "output_type": "stream",
     "text": [
      "pyaedt INFO: Project CavityQubit_Modified_Candle_Andre_proj_0_1_5 set to active.\n"
     ]
    },
    {
     "name": "stderr",
     "output_type": "stream",
     "text": [
      "INFO:Global:Project CavityQubit_Modified_Candle_Andre_proj_0_1_5 set to active.\n"
     ]
    },
    {
     "name": "stdout",
     "output_type": "stream",
     "text": [
      "pyaedt INFO: Aedt Objects initialized\n"
     ]
    },
    {
     "name": "stderr",
     "output_type": "stream",
     "text": [
      "INFO:Global:Aedt Objects initialized\n"
     ]
    },
    {
     "name": "stdout",
     "output_type": "stream",
     "text": [
      "pyaedt INFO: Variable Manager initialized\n"
     ]
    },
    {
     "name": "stderr",
     "output_type": "stream",
     "text": [
      "INFO:Global:Variable Manager initialized\n"
     ]
    },
    {
     "name": "stdout",
     "output_type": "stream",
     "text": [
      "pyaedt INFO: Design Loaded\n"
     ]
    },
    {
     "name": "stderr",
     "output_type": "stream",
     "text": [
      "INFO:Global:Design Loaded\n"
     ]
    },
    {
     "name": "stdout",
     "output_type": "stream",
     "text": [
      "pyaedt INFO: Successfully loaded project materials !\n"
     ]
    },
    {
     "name": "stderr",
     "output_type": "stream",
     "text": [
      "INFO:Global:Successfully loaded project materials !\n"
     ]
    },
    {
     "name": "stdout",
     "output_type": "stream",
     "text": [
      "pyaedt INFO: Materials Loaded\n"
     ]
    },
    {
     "name": "stderr",
     "output_type": "stream",
     "text": [
      "INFO:Global:Materials Loaded\n"
     ]
    },
    {
     "name": "stdout",
     "output_type": "stream",
     "text": [
      "pyaedt INFO: Project CavityQubit_Modified_Candle_Andre_proj_0_1_5 set to active.\n"
     ]
    },
    {
     "name": "stderr",
     "output_type": "stream",
     "text": [
      "INFO:Global:Project CavityQubit_Modified_Candle_Andre_proj_0_1_5 set to active.\n"
     ]
    },
    {
     "name": "stdout",
     "output_type": "stream",
     "text": [
      "pyaedt INFO: Aedt Objects initialized\n"
     ]
    },
    {
     "name": "stderr",
     "output_type": "stream",
     "text": [
      "INFO:Global:Aedt Objects initialized\n"
     ]
    },
    {
     "name": "stdout",
     "output_type": "stream",
     "text": [
      "pyaedt INFO: Variable Manager initialized\n"
     ]
    },
    {
     "name": "stderr",
     "output_type": "stream",
     "text": [
      "INFO:Global:Variable Manager initialized\n"
     ]
    },
    {
     "name": "stdout",
     "output_type": "stream",
     "text": [
      "pyaedt INFO: Design Loaded\n"
     ]
    },
    {
     "name": "stderr",
     "output_type": "stream",
     "text": [
      "INFO:Global:Design Loaded\n"
     ]
    },
    {
     "name": "stdout",
     "output_type": "stream",
     "text": [
      "pyaedt INFO: Successfully loaded project materials !\n"
     ]
    },
    {
     "name": "stderr",
     "output_type": "stream",
     "text": [
      "INFO:Global:Successfully loaded project materials !\n"
     ]
    },
    {
     "name": "stdout",
     "output_type": "stream",
     "text": [
      "pyaedt INFO: Materials Loaded\n"
     ]
    },
    {
     "name": "stderr",
     "output_type": "stream",
     "text": [
      "INFO:Global:Materials Loaded\n"
     ]
    },
    {
     "name": "stdout",
     "output_type": "stream",
     "text": [
      "pyaedt INFO: Key Desktop/ActiveDSOConfigurations/HFSS correctly changed.\n"
     ]
    },
    {
     "name": "stderr",
     "output_type": "stream",
     "text": [
      "INFO:Global:Key Desktop/ActiveDSOConfigurations/HFSS correctly changed.\n"
     ]
    },
    {
     "name": "stdout",
     "output_type": "stream",
     "text": [
      "pyaedt INFO: Solving design setup TransmonSetup\n"
     ]
    },
    {
     "name": "stderr",
     "output_type": "stream",
     "text": [
      "INFO:Global:Solving design setup TransmonSetup\n"
     ]
    },
    {
     "name": "stdout",
     "output_type": "stream",
     "text": [
      "pyaedt INFO: Key Desktop/ActiveDSOConfigurations/HFSS correctly changed.\n"
     ]
    },
    {
     "name": "stderr",
     "output_type": "stream",
     "text": [
      "INFO:Global:Key Desktop/ActiveDSOConfigurations/HFSS correctly changed.\n"
     ]
    },
    {
     "name": "stdout",
     "output_type": "stream",
     "text": [
      "pyaedt INFO: Design setup TransmonSetup solved correctly in 1.0h 44.0m 1.0s\n"
     ]
    },
    {
     "name": "stderr",
     "output_type": "stream",
     "text": [
      "INFO:Global:Design setup TransmonSetup solved correctly in 1.0h 44.0m 1.0s\n"
     ]
    },
    {
     "name": "stdout",
     "output_type": "stream",
     "text": [
      "pyaedt INFO: Project CavityQubit_Modified_Candle_Andre_proj_0_1_5 set to active.\n"
     ]
    },
    {
     "name": "stderr",
     "output_type": "stream",
     "text": [
      "INFO:Global:Project CavityQubit_Modified_Candle_Andre_proj_0_1_5 set to active.\n"
     ]
    },
    {
     "name": "stdout",
     "output_type": "stream",
     "text": [
      "pyaedt INFO: Aedt Objects initialized\n"
     ]
    },
    {
     "name": "stderr",
     "output_type": "stream",
     "text": [
      "INFO:Global:Aedt Objects initialized\n"
     ]
    },
    {
     "name": "stdout",
     "output_type": "stream",
     "text": [
      "pyaedt INFO: Variable Manager initialized\n"
     ]
    },
    {
     "name": "stderr",
     "output_type": "stream",
     "text": [
      "INFO:Global:Variable Manager initialized\n"
     ]
    },
    {
     "name": "stdout",
     "output_type": "stream",
     "text": [
      "pyaedt INFO: Design Loaded\n"
     ]
    },
    {
     "name": "stderr",
     "output_type": "stream",
     "text": [
      "INFO:Global:Design Loaded\n"
     ]
    },
    {
     "name": "stdout",
     "output_type": "stream",
     "text": [
      "pyaedt INFO: Successfully loaded project materials !\n"
     ]
    },
    {
     "name": "stderr",
     "output_type": "stream",
     "text": [
      "INFO:Global:Successfully loaded project materials !\n"
     ]
    },
    {
     "name": "stdout",
     "output_type": "stream",
     "text": [
      "pyaedt INFO: Materials Loaded\n"
     ]
    },
    {
     "name": "stderr",
     "output_type": "stream",
     "text": [
      "INFO:Global:Materials Loaded\n",
      "INFO 09:22AM [connect_project]: Connecting to Ansys Desktop API...\n",
      "INFO 09:22AM [load_ansys_project]: \tOpened Ansys App\n",
      "INFO 09:22AM [load_ansys_project]: \tOpened Ansys Desktop v2021.1.0\n",
      "INFO 09:22AM [load_ansys_project]: \tOpened Ansys Project\n",
      "\tFolder:    D:/lfl/Documents/Ansoft/\n",
      "\tProject:   CavityQubit_Modified_Candle_Andre_proj_0_1_5\n",
      "INFO 09:22AM [connect_design]: \tOpened active design\n",
      "\tDesign:    CavityQubit_Modified_Candle_Andre_design_0_1_5 [Solution type: Eigenmode]\n",
      "INFO 09:22AM [get_setup]: \tOpened setup `TransmonSetup`  (<class 'pyEPR.ansys.HfssEMSetup'>)\n",
      "INFO 09:22AM [connect]: \tConnected to project \"CavityQubit_Modified_Candle_Andre_proj_0_1_5\" and design \"CavityQubit_Modified_Candle_Andre_design_0_1_5\" 😀 \n",
      "\n"
     ]
    },
    {
     "name": "stdout",
     "output_type": "stream",
     "text": [
      "Design \"CavityQubit_Modified_Candle_Andre_design_0_1_5\" info:\n",
      "\t# eigenmodes    2\n",
      "\t# variations    1\n",
      "\n",
      "Variation 0  [1/1]\n",
      "\n",
      "  \u001b[1mMode 0 at 4.41 GHz   [1/2]\u001b[0m\n",
      "    Calculating ℰ_magnetic,ℰ_electric\n",
      "       (ℰ_E-ℰ_H)/ℰ_E       ℰ_E       ℰ_H\n",
      "               98.9%  2.174e-26 2.357e-28\n",
      "\n",
      "    Calculating junction energy participation ration (EPR)\n",
      "\tmethod=`line_voltage`. First estimates:\n",
      "\tjunction        EPR p_0j   sign s_0j    (p_capacitive)\n",
      "\t\tEnergy fraction (Lj over Lj&Cj)= 97.64%\n",
      "\tj0              0.667175  (+)        0.0161383\n",
      "\t\t(U_tot_cap-U_tot_ind)/mean=19.96%\n",
      "WARNING: This simulation must not have converged well!!!                The difference in the total cap and ind energies is larger than 10%.                Proceed with caution.\n",
      "\n",
      "  \u001b[1mMode 1 at 7.68 GHz   [2/2]\u001b[0m\n",
      "    Calculating ℰ_magnetic,ℰ_electric\n",
      "       (ℰ_E-ℰ_H)/ℰ_E       ℰ_E       ℰ_H\n",
      "                0.0%  2.363e-26 2.363e-26\n",
      "\n",
      "    Calculating junction energy participation ration (EPR)\n",
      "\tmethod=`line_voltage`. First estimates:\n",
      "\tjunction        EPR p_1j   sign s_1j    (p_capacitive)\n",
      "\t\tEnergy fraction (Lj over Lj&Cj)= 93.17%\n",
      "\tj0              0.000104569  (+)        7.66136e-06\n",
      "\t\t(U_tot_cap-U_tot_ind)/mean=0.00%\n"
     ]
    },
    {
     "name": "stderr",
     "output_type": "stream",
     "text": [
      "INFO 09:23AM [__del__]: Disconnected from Ansys HFSS\n",
      "WARNING 09:23AM [__init__]: <p>Error: <class 'IndexError'></p>\n",
      "ERROR 09:23AM [_get_participation_normalized]: WARNING: U_tot_cap-U_tot_ind / mean = 39.9% is > 15%.                     \n",
      "Is the simulation converged? Proceed with caution\n",
      "ERROR 09:23AM [_get_participation_normalized]: WARNING: U_tot_cap-U_tot_ind / mean = 39.9% is > 15%.                     \n",
      "Is the simulation converged? Proceed with caution\n"
     ]
    },
    {
     "name": "stdout",
     "output_type": "stream",
     "text": [
      "\n",
      "ANALYSIS DONE. Data saved to:\n",
      "\n",
      "C:\\data-pyEPR\\CavityQubit_Modified_Candle_Andre_proj_0_1_5\\CavityQubit_Modified_Candle_Andre_design_0_1_5\\2023-06-15 09-22-20.npz\n",
      "\n",
      "\n",
      "\t Differences in variations:\n",
      "\n",
      "\n",
      "\n",
      " . . . . . . . . . . . . . . . . . . . . . . . . . . . . . . . . . . . . . . . . \n",
      "Variation 0\n",
      "\n",
      "Starting the diagonalization\n",
      "Finished the diagonalization\n",
      "Pm_norm=\n",
      "modes\n",
      "0    1.503553\n",
      "1    1.271090\n",
      "dtype: float64\n",
      "\n",
      "Pm_norm idx =\n",
      "      j0\n",
      "0   True\n",
      "1  False\n",
      "*** P (participation matrix, not normlz.)\n",
      "         j0\n",
      "0  0.656579\n",
      "1  0.000105\n",
      "\n",
      "*** S (sign-bit matrix)\n",
      "   s_j0\n",
      "0     1\n",
      "1    -1\n",
      "*** P (participation matrix, normalized.)\n",
      "      0.99\n",
      "    0.0001\n",
      "\n",
      "*** Chi matrix O1 PT (MHz)\n",
      "    Diag is anharmonicity, off diag is full cross-Kerr.\n",
      "       228   0.0842\n",
      "    0.0842 7.76e-06\n",
      "\n",
      "*** Chi matrix ND (MHz) \n",
      "       261   0.0787\n",
      "    0.0787 5.32e-06\n",
      "\n",
      "*** Frequencies O1 PT (MHz)\n",
      "0    4185.567278\n",
      "1    7681.826645\n",
      "dtype: float64\n",
      "\n",
      "*** Frequencies ND (MHz)\n",
      "0    4172.060741\n",
      "1    7681.826922\n",
      "dtype: float64\n",
      "\n",
      "*** Q_coupling\n",
      "Empty DataFrame\n",
      "Columns: []\n",
      "Index: [0, 1]\n"
     ]
    },
    {
     "data": {
      "text/markdown": [
       "#### Mode frequencies (MHz)"
      ],
      "text/plain": [
       "<IPython.core.display.Markdown object>"
      ]
     },
     "metadata": {},
     "output_type": "display_data"
    },
    {
     "data": {
      "text/markdown": [
       "###### Numerical diagonalization"
      ],
      "text/plain": [
       "<IPython.core.display.Markdown object>"
      ]
     },
     "metadata": {},
     "output_type": "display_data"
    },
    {
     "data": {
      "text/html": [
       "<div>\n",
       "<style scoped>\n",
       "    .dataframe tbody tr th:only-of-type {\n",
       "        vertical-align: middle;\n",
       "    }\n",
       "\n",
       "    .dataframe tbody tr th {\n",
       "        vertical-align: top;\n",
       "    }\n",
       "\n",
       "    .dataframe thead th {\n",
       "        text-align: right;\n",
       "    }\n",
       "</style>\n",
       "<table border=\"1\" class=\"dataframe\">\n",
       "  <thead>\n",
       "    <tr style=\"text-align: right;\">\n",
       "      <th>variation</th>\n",
       "      <th>0</th>\n",
       "    </tr>\n",
       "  </thead>\n",
       "  <tbody>\n",
       "    <tr>\n",
       "      <th>0</th>\n",
       "      <td>4185.57</td>\n",
       "    </tr>\n",
       "    <tr>\n",
       "      <th>1</th>\n",
       "      <td>7681.83</td>\n",
       "    </tr>\n",
       "  </tbody>\n",
       "</table>\n",
       "</div>"
      ],
      "text/plain": [
       "variation        0\n",
       "0          4185.57\n",
       "1          7681.83"
      ]
     },
     "metadata": {},
     "output_type": "display_data"
    },
    {
     "data": {
      "text/markdown": [
       "#### Kerr Non-linear coefficient table (MHz)"
      ],
      "text/plain": [
       "<IPython.core.display.Markdown object>"
      ]
     },
     "metadata": {},
     "output_type": "display_data"
    },
    {
     "data": {
      "text/markdown": [
       "###### Numerical diagonalization"
      ],
      "text/plain": [
       "<IPython.core.display.Markdown object>"
      ]
     },
     "metadata": {},
     "output_type": "display_data"
    },
    {
     "data": {
      "text/html": [
       "<div>\n",
       "<style scoped>\n",
       "    .dataframe tbody tr th:only-of-type {\n",
       "        vertical-align: middle;\n",
       "    }\n",
       "\n",
       "    .dataframe tbody tr th {\n",
       "        vertical-align: top;\n",
       "    }\n",
       "\n",
       "    .dataframe thead th {\n",
       "        text-align: right;\n",
       "    }\n",
       "</style>\n",
       "<table border=\"1\" class=\"dataframe\">\n",
       "  <thead>\n",
       "    <tr style=\"text-align: right;\">\n",
       "      <th></th>\n",
       "      <th></th>\n",
       "      <th>0</th>\n",
       "      <th>1</th>\n",
       "    </tr>\n",
       "    <tr>\n",
       "      <th>variation</th>\n",
       "      <th></th>\n",
       "      <th></th>\n",
       "      <th></th>\n",
       "    </tr>\n",
       "  </thead>\n",
       "  <tbody>\n",
       "    <tr>\n",
       "      <th rowspan=\"2\" valign=\"top\">0</th>\n",
       "      <th>0</th>\n",
       "      <td>228.31</td>\n",
       "      <td>8.42e-02</td>\n",
       "    </tr>\n",
       "    <tr>\n",
       "      <th>1</th>\n",
       "      <td>0.08</td>\n",
       "      <td>7.76e-06</td>\n",
       "    </tr>\n",
       "  </tbody>\n",
       "</table>\n",
       "</div>"
      ],
      "text/plain": [
       "                  0         1\n",
       "variation                    \n",
       "0         0  228.31  8.42e-02\n",
       "          1    0.08  7.76e-06"
      ]
     },
     "metadata": {},
     "output_type": "display_data"
    },
    {
     "name": "stdout",
     "output_type": "stream",
     "text": [
      "Warning! 72 COM references still alive\n",
      "Ansys will likely refuse to shut down\n",
      "{'qubit_freq_MHz': 4172.060741152904, 'qubit_anharmonicity_MHz': 260.6345026376648, 'other_data': \"{'project_info': {'pinfo': design_name     CavityQubit_Modified_Candle_Andre_design_0_1_5\\nproject_name      CavityQubit_Modified_Candle_Andre_proj_0_1_5\\nproject_path                          D:/lfl/Documents/Ansoft/\\nsetup_name                                       TransmonSetup\\ndtype: object, 'dissip': dielectrics_bulk                             None\\ndielectric_surfaces    [layer_3_datatype_0_plane]\\nresistive_surfaces                           None\\nseams                                        None\\ndtype: object, 'options': Series([], dtype: float64), 'junctions':                                j0\\nCj_variable                  Cj_0\\nLj_variable                  Lj_0\\nlength                     0.0001\\nline             JJ_Lj_8_rect_jj_\\nrect         JJ_rect_Lj_8_rect_jj, 'ports': Empty DataFrame\\nColumns: []\\nIndex: []}, 'results': {'0': {'Pm':          j0\\n0  0.656579\\n1  0.000105, 'Pm_cap':          j0\\n0  0.015882\\n1  0.000008, 'Sm':    s_j0\\n0     1\\n1    -1, 'Om':                  0         1\\nfreq_GHz  4.413924  7.681869, 'sols':             U_H           U_E\\n0  4.713129e-28  4.347121e-26\\n1  4.725299e-26  4.726025e-26, 'Qm_coupling': Empty DataFrame\\nColumns: []\\nIndex: [0, 1], 'Ljs': j0    1.572457e-08\\ndtype: float64, 'Cjs': j0    2.000000e-15\\ndtype: float64, 'Qs': 0    inf\\n1    inf\\ndtype: float64, 'freqs_hfss_GHz': 0    4.413924\\n1    7.681869\\ndtype: float64, 'hfss_variables': _Cj_0                     0fF\\n_Lj_0    15.724568346403402nH\\ndtype: object, 'modes': range(0, 2), 'I_peak': 0    0    1.358099e-09\\ndtype: float64\\n1    0   -1.772803e-11\\ndtype: float64\\ndtype: object, 'V_peak': 0    0    5.922632e-07\\ndtype: float64\\n1    0   -1.345507e-08\\ndtype: float64\\ndtype: object, 'ansys_energies': {0: {'U_J_inds': {'j0': 1.4501446101938886e-26}, 'U_J_caps': {'j0': 3.507756968301284e-28}, 'U_H': 2.35656470718836e-28, 'U_E': 2.17356030851355e-26, 'U_tot_ind': 1.4737102572657722e-26, 'U_tot_cap': 2.2086378781965626e-26, 'U_norm': 2.2086378781965626e-26, 'U_diff': 0.1995812437865865}, 1: {'U_J_inds': {'j0': 2.4709835731664853e-30}, 'U_J_caps': {'j0': 1.8103897728497583e-31}, 'U_H': 2.362649574364595e-26, 'U_E': 2.363012522561105e-26, 'U_tot_ind': 2.3628966727219116e-26, 'U_tot_cap': 2.3630306264588336e-26, 'U_norm': 2.3630306264588336e-26, 'U_diff': 2.8344434529324593e-05}}, 'mesh':                             Unnamed: 0  Num Tets    Min edge length    \\\\\\n0            layer_1_datatype_0_plane       111504           0.000616   \\n1            layer_3_datatype_0_plane      1784416           0.000145   \\n2                          vacuum_box      1096852           0.000213   \\n3           prime_cpw_ncap4_shortline           24           0.014757   \\n4      second_cpw_top_ncap4_shortline           18           0.012017   \\n5   second_cpw_bottom_ncap4_shortline          428           0.002251   \\n6                trace_cpw4_shortline        74729           0.001247   \\n7                            cross_Q4         5640           0.000828   \\n8                  c_connector_arm_Q4         5181           0.000332   \\n9                    cap_body_0_ncap4         1352           0.000350   \\n10                   cap_body_1_ncap4          757           0.000636   \\n\\n    Max edge length    RMS edge length    Min tet vol    Max tet vol    \\\\\\n0            0.209396           0.016780   8.878870e-12   1.046770e-05   \\n1            0.763987           0.014020   1.426310e-13   9.389780e-03   \\n2            1.225740           0.019445   3.973850e-13   3.879230e-02   \\n3            0.059272           0.027280   3.124450e-08   2.322720e-07   \\n4            0.020128           0.018266   7.570570e-09   1.240330e-07   \\n5            0.012483           0.005291   2.058740e-10   2.868670e-08   \\n6            0.013115           0.004301   3.747390e-11   3.295600e-08   \\n7            0.026879           0.008512   2.046910e-11   1.393220e-07   \\n8            0.012767           0.004722   1.600240e-12   2.641570e-08   \\n9            0.011700           0.004082   1.944470e-12   2.243580e-08   \\n10           0.014830           0.005196   9.454230e-12   3.802590e-08   \\n\\n    Mean tet vol    Std Devn (vol)    \\n0     5.044510e-08      3.582080e-07  \\n1     1.297660e-06      4.441620e-05  \\n2     4.639070e-06      2.105810e-04  \\n3     8.502000e-08      5.301680e-08  \\n4     5.856500e-08      2.065940e-08  \\n5     2.782850e-09      3.880120e-09  \\n6     2.490030e-09      2.053370e-09  \\n7     9.343410e-09      1.203130e-08  \\n8     2.291920e-09      2.909560e-09  \\n9     1.897830e-09      2.418120e-09  \\n10    3.389510e-09      4.991060e-09  , 'convergence':              Solved Elements  Max Delta Freq. %\\nPass Number                                    \\n1                      12704                NaN\\n2                      16323          13.872000\\n3                      20907           6.323700\\n4                      26774           4.818500\\n5                      34309           1.544800\\n6                      43910           1.636700\\n7                      56216           0.850470\\n8                      71973           0.439720\\n9                      92173           0.429250\\n10                    117969           0.703300\\n11                    150874           0.992440\\n12                    192899           0.723230\\n13                    246730           0.660060\\n14                    315720           0.795540\\n15                    404486           0.483450\\n16                    518013           0.395120\\n17                    663506           0.353710\\n18                    850076           0.216630\\n19                   1089180           0.160810\\n20                   1395481           0.135570\\n21                   1786878           0.126180\\n22                   2248420           0.094492\\n23                   2881268           0.071538, 'convergence_f_pass': None}}}\"}\n",
      "pyaedt INFO: Project CavityQubit_Modified_Candle_Andre_proj_0_1_5 set to active.\n"
     ]
    },
    {
     "name": "stderr",
     "output_type": "stream",
     "text": [
      "INFO:Global:Project CavityQubit_Modified_Candle_Andre_proj_0_1_5 set to active.\n"
     ]
    },
    {
     "name": "stdout",
     "output_type": "stream",
     "text": [
      "pyaedt INFO: Aedt Objects initialized\n"
     ]
    },
    {
     "name": "stderr",
     "output_type": "stream",
     "text": [
      "INFO:Global:Aedt Objects initialized\n"
     ]
    },
    {
     "name": "stdout",
     "output_type": "stream",
     "text": [
      "pyaedt INFO: Variable Manager initialized\n"
     ]
    },
    {
     "name": "stderr",
     "output_type": "stream",
     "text": [
      "INFO:Global:Variable Manager initialized\n"
     ]
    },
    {
     "name": "stdout",
     "output_type": "stream",
     "text": [
      "pyaedt INFO: Design Loaded\n"
     ]
    },
    {
     "name": "stderr",
     "output_type": "stream",
     "text": [
      "INFO:Global:Design Loaded\n"
     ]
    },
    {
     "name": "stdout",
     "output_type": "stream",
     "text": [
      "pyaedt INFO: Successfully loaded project materials !\n"
     ]
    },
    {
     "name": "stderr",
     "output_type": "stream",
     "text": [
      "INFO:Global:Successfully loaded project materials !\n"
     ]
    },
    {
     "name": "stdout",
     "output_type": "stream",
     "text": [
      "pyaedt INFO: Materials Loaded\n"
     ]
    },
    {
     "name": "stderr",
     "output_type": "stream",
     "text": [
      "INFO:Global:Materials Loaded\n"
     ]
    },
    {
     "name": "stdout",
     "output_type": "stream",
     "text": [
      "pyaedt INFO: Deleted 13 Objects: layer_1_datatype_0_plane,layer_3_datatype_0_plane,vacuum_box,prime_cpw_ncap4_shortline,second_cpw_top_ncap4_shortline,second_cpw_bottom_ncap4_shortline,trace_cpw4_shortline,cross_Q4,c_connector_arm_Q4,cap_body_0_ncap4,cap_body_1_n...\n"
     ]
    },
    {
     "name": "stderr",
     "output_type": "stream",
     "text": [
      "INFO:Global:Deleted 13 Objects: layer_1_datatype_0_plane,layer_3_datatype_0_plane,vacuum_box,prime_cpw_ncap4_shortline,second_cpw_top_ncap4_shortline,second_cpw_bottom_ncap4_shortline,trace_cpw4_shortline,cross_Q4,c_connector_arm_Q4,cap_body_0_ncap4,cap_body_1_n...\n"
     ]
    },
    {
     "name": "stdout",
     "output_type": "stream",
     "text": [
      "pyaedt INFO: Project CavityQubit_Modified_Candle_Andre_proj_0_1_5 set to active.\n"
     ]
    },
    {
     "name": "stderr",
     "output_type": "stream",
     "text": [
      "INFO:Global:Project CavityQubit_Modified_Candle_Andre_proj_0_1_5 set to active.\n"
     ]
    },
    {
     "name": "stdout",
     "output_type": "stream",
     "text": [
      "pyaedt INFO: Aedt Objects initialized\n"
     ]
    },
    {
     "name": "stderr",
     "output_type": "stream",
     "text": [
      "INFO:Global:Aedt Objects initialized\n"
     ]
    },
    {
     "name": "stdout",
     "output_type": "stream",
     "text": [
      "pyaedt INFO: Variable Manager initialized\n"
     ]
    },
    {
     "name": "stderr",
     "output_type": "stream",
     "text": [
      "INFO:Global:Variable Manager initialized\n"
     ]
    },
    {
     "name": "stdout",
     "output_type": "stream",
     "text": [
      "pyaedt INFO: Design Loaded\n"
     ]
    },
    {
     "name": "stderr",
     "output_type": "stream",
     "text": [
      "INFO:Global:Design Loaded\n"
     ]
    },
    {
     "name": "stdout",
     "output_type": "stream",
     "text": [
      "pyaedt INFO: Successfully loaded project materials !\n"
     ]
    },
    {
     "name": "stderr",
     "output_type": "stream",
     "text": [
      "INFO:Global:Successfully loaded project materials !\n"
     ]
    },
    {
     "name": "stdout",
     "output_type": "stream",
     "text": [
      "pyaedt INFO: Materials Loaded\n"
     ]
    },
    {
     "name": "stderr",
     "output_type": "stream",
     "text": [
      "INFO:Global:Materials Loaded\n"
     ]
    },
    {
     "name": "stdout",
     "output_type": "stream",
     "text": [
      "pyaedt INFO: Project CavityQubit_Modified_Candle_Andre_proj_0_1_5 set to active.\n"
     ]
    },
    {
     "name": "stderr",
     "output_type": "stream",
     "text": [
      "INFO:Global:Project CavityQubit_Modified_Candle_Andre_proj_0_1_5 set to active.\n"
     ]
    },
    {
     "name": "stdout",
     "output_type": "stream",
     "text": [
      "pyaedt INFO: Aedt Objects initialized\n"
     ]
    },
    {
     "name": "stderr",
     "output_type": "stream",
     "text": [
      "INFO:Global:Aedt Objects initialized\n"
     ]
    },
    {
     "name": "stdout",
     "output_type": "stream",
     "text": [
      "pyaedt INFO: Variable Manager initialized\n"
     ]
    },
    {
     "name": "stderr",
     "output_type": "stream",
     "text": [
      "INFO:Global:Variable Manager initialized\n"
     ]
    },
    {
     "name": "stdout",
     "output_type": "stream",
     "text": [
      "pyaedt INFO: Design Loaded\n"
     ]
    },
    {
     "name": "stderr",
     "output_type": "stream",
     "text": [
      "INFO:Global:Design Loaded\n"
     ]
    },
    {
     "name": "stdout",
     "output_type": "stream",
     "text": [
      "pyaedt INFO: Successfully loaded project materials !\n"
     ]
    },
    {
     "name": "stderr",
     "output_type": "stream",
     "text": [
      "INFO:Global:Successfully loaded project materials !\n"
     ]
    },
    {
     "name": "stdout",
     "output_type": "stream",
     "text": [
      "pyaedt INFO: Materials Loaded\n"
     ]
    },
    {
     "name": "stderr",
     "output_type": "stream",
     "text": [
      "INFO:Global:Materials Loaded\n"
     ]
    },
    {
     "name": "stdout",
     "output_type": "stream",
     "text": [
      "pyaedt WARNING: No objects to delete\n"
     ]
    },
    {
     "name": "stderr",
     "output_type": "stream",
     "text": [
      "WARNING:Global:No objects to delete\n"
     ]
    },
    {
     "name": "stdout",
     "output_type": "stream",
     "text": [
      "pyaedt INFO: Project CavityQubit_Modified_Candle_Andre_proj_0_1_5 set to active.\n"
     ]
    },
    {
     "name": "stderr",
     "output_type": "stream",
     "text": [
      "INFO:Global:Project CavityQubit_Modified_Candle_Andre_proj_0_1_5 set to active.\n"
     ]
    },
    {
     "name": "stdout",
     "output_type": "stream",
     "text": [
      "pyaedt INFO: Aedt Objects initialized\n"
     ]
    },
    {
     "name": "stderr",
     "output_type": "stream",
     "text": [
      "INFO:Global:Aedt Objects initialized\n"
     ]
    },
    {
     "name": "stdout",
     "output_type": "stream",
     "text": [
      "pyaedt INFO: Variable Manager initialized\n"
     ]
    },
    {
     "name": "stderr",
     "output_type": "stream",
     "text": [
      "INFO:Global:Variable Manager initialized\n"
     ]
    },
    {
     "name": "stdout",
     "output_type": "stream",
     "text": [
      "pyaedt INFO: Design Loaded\n"
     ]
    },
    {
     "name": "stderr",
     "output_type": "stream",
     "text": [
      "INFO:Global:Design Loaded\n"
     ]
    },
    {
     "name": "stdout",
     "output_type": "stream",
     "text": [
      "pyaedt INFO: Successfully loaded project materials !\n"
     ]
    },
    {
     "name": "stderr",
     "output_type": "stream",
     "text": [
      "INFO:Global:Successfully loaded project materials !\n"
     ]
    },
    {
     "name": "stdout",
     "output_type": "stream",
     "text": [
      "pyaedt INFO: Materials Loaded\n"
     ]
    },
    {
     "name": "stderr",
     "output_type": "stream",
     "text": [
      "INFO:Global:Materials Loaded\n"
     ]
    },
    {
     "name": "stdout",
     "output_type": "stream",
     "text": [
      "pyaedt INFO: Boundary Lumped RLC rlc_JJ_rect_Lj_5_rect_jj has been correctly created.\n"
     ]
    },
    {
     "name": "stderr",
     "output_type": "stream",
     "text": [
      "INFO:Global:Boundary Lumped RLC rlc_JJ_rect_Lj_5_rect_jj has been correctly created.\n"
     ]
    },
    {
     "name": "stdout",
     "output_type": "stream",
     "text": [
      "pyaedt INFO: Project CavityQubit_Modified_Candle_Andre_proj_0_1_5 set to active.\n"
     ]
    },
    {
     "name": "stderr",
     "output_type": "stream",
     "text": [
      "INFO:Global:Project CavityQubit_Modified_Candle_Andre_proj_0_1_5 set to active.\n"
     ]
    },
    {
     "name": "stdout",
     "output_type": "stream",
     "text": [
      "pyaedt INFO: Aedt Objects initialized\n"
     ]
    },
    {
     "name": "stderr",
     "output_type": "stream",
     "text": [
      "INFO:Global:Aedt Objects initialized\n"
     ]
    },
    {
     "name": "stdout",
     "output_type": "stream",
     "text": [
      "pyaedt INFO: Variable Manager initialized\n"
     ]
    },
    {
     "name": "stderr",
     "output_type": "stream",
     "text": [
      "INFO:Global:Variable Manager initialized\n"
     ]
    },
    {
     "name": "stdout",
     "output_type": "stream",
     "text": [
      "pyaedt INFO: Design Loaded\n"
     ]
    },
    {
     "name": "stderr",
     "output_type": "stream",
     "text": [
      "INFO:Global:Design Loaded\n"
     ]
    },
    {
     "name": "stdout",
     "output_type": "stream",
     "text": [
      "pyaedt INFO: Successfully loaded project materials !\n"
     ]
    },
    {
     "name": "stderr",
     "output_type": "stream",
     "text": [
      "INFO:Global:Successfully loaded project materials !\n"
     ]
    },
    {
     "name": "stdout",
     "output_type": "stream",
     "text": [
      "pyaedt INFO: Materials Loaded\n"
     ]
    },
    {
     "name": "stderr",
     "output_type": "stream",
     "text": [
      "INFO:Global:Materials Loaded\n"
     ]
    },
    {
     "name": "stdout",
     "output_type": "stream",
     "text": [
      "pyaedt INFO: Project CavityQubit_Modified_Candle_Andre_proj_0_1_5 set to active.\n"
     ]
    },
    {
     "name": "stderr",
     "output_type": "stream",
     "text": [
      "INFO:Global:Project CavityQubit_Modified_Candle_Andre_proj_0_1_5 set to active.\n"
     ]
    },
    {
     "name": "stdout",
     "output_type": "stream",
     "text": [
      "pyaedt INFO: Aedt Objects initialized\n"
     ]
    },
    {
     "name": "stderr",
     "output_type": "stream",
     "text": [
      "INFO:Global:Aedt Objects initialized\n"
     ]
    },
    {
     "name": "stdout",
     "output_type": "stream",
     "text": [
      "pyaedt INFO: Variable Manager initialized\n"
     ]
    },
    {
     "name": "stderr",
     "output_type": "stream",
     "text": [
      "INFO:Global:Variable Manager initialized\n"
     ]
    },
    {
     "name": "stdout",
     "output_type": "stream",
     "text": [
      "pyaedt INFO: Design Loaded\n"
     ]
    },
    {
     "name": "stderr",
     "output_type": "stream",
     "text": [
      "INFO:Global:Design Loaded\n"
     ]
    },
    {
     "name": "stdout",
     "output_type": "stream",
     "text": [
      "pyaedt INFO: Successfully loaded project materials !\n"
     ]
    },
    {
     "name": "stderr",
     "output_type": "stream",
     "text": [
      "INFO:Global:Successfully loaded project materials !\n"
     ]
    },
    {
     "name": "stdout",
     "output_type": "stream",
     "text": [
      "pyaedt INFO: Materials Loaded\n"
     ]
    },
    {
     "name": "stderr",
     "output_type": "stream",
     "text": [
      "INFO:Global:Materials Loaded\n"
     ]
    },
    {
     "name": "stdout",
     "output_type": "stream",
     "text": [
      "pyaedt INFO: Key Desktop/ActiveDSOConfigurations/HFSS correctly changed.\n"
     ]
    },
    {
     "name": "stderr",
     "output_type": "stream",
     "text": [
      "INFO:Global:Key Desktop/ActiveDSOConfigurations/HFSS correctly changed.\n"
     ]
    },
    {
     "name": "stdout",
     "output_type": "stream",
     "text": [
      "pyaedt INFO: Solving design setup TransmonSetup\n"
     ]
    },
    {
     "name": "stderr",
     "output_type": "stream",
     "text": [
      "INFO:Global:Solving design setup TransmonSetup\n"
     ]
    },
    {
     "name": "stdout",
     "output_type": "stream",
     "text": [
      "pyaedt INFO: Key Desktop/ActiveDSOConfigurations/HFSS correctly changed.\n"
     ]
    },
    {
     "name": "stderr",
     "output_type": "stream",
     "text": [
      "INFO:Global:Key Desktop/ActiveDSOConfigurations/HFSS correctly changed.\n"
     ]
    },
    {
     "name": "stdout",
     "output_type": "stream",
     "text": [
      "pyaedt INFO: Design setup TransmonSetup solved correctly in 0.0h 51.0m 28.0s\n"
     ]
    },
    {
     "name": "stderr",
     "output_type": "stream",
     "text": [
      "INFO:Global:Design setup TransmonSetup solved correctly in 0.0h 51.0m 28.0s\n"
     ]
    },
    {
     "name": "stdout",
     "output_type": "stream",
     "text": [
      "pyaedt INFO: Project CavityQubit_Modified_Candle_Andre_proj_0_1_5 set to active.\n"
     ]
    },
    {
     "name": "stderr",
     "output_type": "stream",
     "text": [
      "INFO:Global:Project CavityQubit_Modified_Candle_Andre_proj_0_1_5 set to active.\n"
     ]
    },
    {
     "name": "stdout",
     "output_type": "stream",
     "text": [
      "pyaedt INFO: Aedt Objects initialized\n"
     ]
    },
    {
     "name": "stderr",
     "output_type": "stream",
     "text": [
      "INFO:Global:Aedt Objects initialized\n"
     ]
    },
    {
     "name": "stdout",
     "output_type": "stream",
     "text": [
      "pyaedt INFO: Variable Manager initialized\n"
     ]
    },
    {
     "name": "stderr",
     "output_type": "stream",
     "text": [
      "INFO:Global:Variable Manager initialized\n"
     ]
    },
    {
     "name": "stdout",
     "output_type": "stream",
     "text": [
      "pyaedt INFO: Design Loaded\n"
     ]
    },
    {
     "name": "stderr",
     "output_type": "stream",
     "text": [
      "INFO:Global:Design Loaded\n"
     ]
    },
    {
     "name": "stdout",
     "output_type": "stream",
     "text": [
      "pyaedt INFO: Successfully loaded project materials !\n"
     ]
    },
    {
     "name": "stderr",
     "output_type": "stream",
     "text": [
      "INFO:Global:Successfully loaded project materials !\n"
     ]
    },
    {
     "name": "stdout",
     "output_type": "stream",
     "text": [
      "pyaedt INFO: Materials Loaded\n"
     ]
    },
    {
     "name": "stderr",
     "output_type": "stream",
     "text": [
      "INFO:Global:Materials Loaded\n",
      "INFO 10:15AM [connect_project]: Connecting to Ansys Desktop API...\n",
      "INFO 10:15AM [load_ansys_project]: \tOpened Ansys App\n",
      "INFO 10:15AM [load_ansys_project]: \tOpened Ansys Desktop v2021.1.0\n",
      "INFO 10:15AM [load_ansys_project]: \tOpened Ansys Project\n",
      "\tFolder:    D:/lfl/Documents/Ansoft/\n",
      "\tProject:   CavityQubit_Modified_Candle_Andre_proj_0_1_5\n",
      "INFO 10:15AM [connect_design]: \tOpened active design\n",
      "\tDesign:    CavityQubit_Modified_Candle_Andre_design_0_1_5 [Solution type: Eigenmode]\n",
      "INFO 10:15AM [get_setup]: \tOpened setup `TransmonSetup`  (<class 'pyEPR.ansys.HfssEMSetup'>)\n",
      "INFO 10:15AM [connect]: \tConnected to project \"CavityQubit_Modified_Candle_Andre_proj_0_1_5\" and design \"CavityQubit_Modified_Candle_Andre_design_0_1_5\" 😀 \n",
      "\n"
     ]
    },
    {
     "name": "stdout",
     "output_type": "stream",
     "text": [
      "Design \"CavityQubit_Modified_Candle_Andre_design_0_1_5\" info:\n",
      "\t# eigenmodes    2\n",
      "\t# variations    1\n",
      "\n",
      "Variation 0  [1/1]\n",
      "\n",
      "  \u001b[1mMode 0 at 4.69 GHz   [1/2]\u001b[0m\n",
      "    Calculating ℰ_magnetic,ℰ_electric\n",
      "       (ℰ_E-ℰ_H)/ℰ_E       ℰ_E       ℰ_H\n",
      "               99.0%  3.086e-26 3.208e-28\n",
      "\n",
      "    Calculating junction energy participation ration (EPR)\n",
      "\tmethod=`line_voltage`. First estimates:\n",
      "\tjunction        EPR p_0j   sign s_0j    (p_capacitive)\n",
      "\t\tEnergy fraction (Lj over Lj&Cj)= 97.91%\n",
      "\tj0              0.852858  (+)        0.0182349\n",
      "\t\t(U_tot_cap-U_tot_ind)/mean=8.24%\n",
      "\n",
      "  \u001b[1mMode 1 at 7.62 GHz   [2/2]\u001b[0m\n",
      "    Calculating ℰ_magnetic,ℰ_electric\n",
      "       (ℰ_E-ℰ_H)/ℰ_E       ℰ_E       ℰ_H\n",
      "                0.0%  4.238e-26 4.237e-26\n",
      "\n",
      "    Calculating junction energy participation ration (EPR)\n",
      "\tmethod=`line_voltage`. First estimates:\n",
      "\tjunction        EPR p_1j   sign s_1j    (p_capacitive)\n",
      "\t\tEnergy fraction (Lj over Lj&Cj)= 94.66%\n",
      "\tj0              0.000303906  (+)        1.71552e-05\n",
      "\t\t(U_tot_cap-U_tot_ind)/mean=0.00%\n"
     ]
    },
    {
     "name": "stderr",
     "output_type": "stream",
     "text": [
      "WARNING 10:16AM [__init__]: <p>Error: <class 'IndexError'></p>\n",
      "ERROR 10:16AM [_get_participation_normalized]: WARNING: U_tot_cap-U_tot_ind / mean = 16.5% is > 15%.                     \n",
      "Is the simulation converged? Proceed with caution\n",
      "ERROR 10:16AM [_get_participation_normalized]: WARNING: U_tot_cap-U_tot_ind / mean = 16.5% is > 15%.                     \n",
      "Is the simulation converged? Proceed with caution\n"
     ]
    },
    {
     "name": "stdout",
     "output_type": "stream",
     "text": [
      "\n",
      "ANALYSIS DONE. Data saved to:\n",
      "\n",
      "C:\\data-pyEPR\\CavityQubit_Modified_Candle_Andre_proj_0_1_5\\CavityQubit_Modified_Candle_Andre_design_0_1_5\\2023-06-15 10-16-00.npz\n",
      "\n",
      "\n",
      "\t Differences in variations:\n",
      "\n",
      "\n",
      "\n",
      " . . . . . . . . . . . . . . . . . . . . . . . . . . . . . . . . . . . . . . . . \n",
      "Variation 0\n",
      "\n",
      "Starting the diagonalization\n",
      "Finished the diagonalization\n",
      "Pm_norm=\n",
      "modes\n",
      "0    1.180716\n",
      "1    1.105539\n",
      "dtype: float64\n",
      "\n",
      "Pm_norm idx =\n",
      "      j0\n",
      "0   True\n",
      "1  False\n",
      "*** P (participation matrix, not normlz.)\n",
      "         j0\n",
      "0  0.837585\n",
      "1  0.000304\n",
      "\n",
      "*** S (sign-bit matrix)\n",
      "   s_j0\n",
      "0    -1\n",
      "1     1\n",
      "*** P (participation matrix, normalized.)\n",
      "      0.99\n",
      "    0.0003\n",
      "\n",
      "*** Chi matrix O1 PT (MHz)\n",
      "    Diag is anharmonicity, off diag is full cross-Kerr.\n",
      "       203    0.202\n",
      "     0.202 5.05e-05\n",
      "\n",
      "*** Chi matrix ND (MHz) \n",
      "       226    0.183\n",
      "     0.183 4.08e-05\n",
      "\n",
      "*** Frequencies O1 PT (MHz)\n",
      "0    4488.213710\n",
      "1    7621.846353\n",
      "dtype: float64\n",
      "\n",
      "*** Frequencies ND (MHz)\n",
      "0    4478.433689\n",
      "1    7621.848353\n",
      "dtype: float64\n",
      "\n",
      "*** Q_coupling\n",
      "Empty DataFrame\n",
      "Columns: []\n",
      "Index: [0, 1]\n"
     ]
    },
    {
     "data": {
      "text/markdown": [
       "#### Mode frequencies (MHz)"
      ],
      "text/plain": [
       "<IPython.core.display.Markdown object>"
      ]
     },
     "metadata": {},
     "output_type": "display_data"
    },
    {
     "data": {
      "text/markdown": [
       "###### Numerical diagonalization"
      ],
      "text/plain": [
       "<IPython.core.display.Markdown object>"
      ]
     },
     "metadata": {},
     "output_type": "display_data"
    },
    {
     "data": {
      "text/html": [
       "<div>\n",
       "<style scoped>\n",
       "    .dataframe tbody tr th:only-of-type {\n",
       "        vertical-align: middle;\n",
       "    }\n",
       "\n",
       "    .dataframe tbody tr th {\n",
       "        vertical-align: top;\n",
       "    }\n",
       "\n",
       "    .dataframe thead th {\n",
       "        text-align: right;\n",
       "    }\n",
       "</style>\n",
       "<table border=\"1\" class=\"dataframe\">\n",
       "  <thead>\n",
       "    <tr style=\"text-align: right;\">\n",
       "      <th>variation</th>\n",
       "      <th>0</th>\n",
       "    </tr>\n",
       "  </thead>\n",
       "  <tbody>\n",
       "    <tr>\n",
       "      <th>0</th>\n",
       "      <td>4488.21</td>\n",
       "    </tr>\n",
       "    <tr>\n",
       "      <th>1</th>\n",
       "      <td>7621.85</td>\n",
       "    </tr>\n",
       "  </tbody>\n",
       "</table>\n",
       "</div>"
      ],
      "text/plain": [
       "variation        0\n",
       "0          4488.21\n",
       "1          7621.85"
      ]
     },
     "metadata": {},
     "output_type": "display_data"
    },
    {
     "data": {
      "text/markdown": [
       "#### Kerr Non-linear coefficient table (MHz)"
      ],
      "text/plain": [
       "<IPython.core.display.Markdown object>"
      ]
     },
     "metadata": {},
     "output_type": "display_data"
    },
    {
     "data": {
      "text/markdown": [
       "###### Numerical diagonalization"
      ],
      "text/plain": [
       "<IPython.core.display.Markdown object>"
      ]
     },
     "metadata": {},
     "output_type": "display_data"
    },
    {
     "data": {
      "text/html": [
       "<div>\n",
       "<style scoped>\n",
       "    .dataframe tbody tr th:only-of-type {\n",
       "        vertical-align: middle;\n",
       "    }\n",
       "\n",
       "    .dataframe tbody tr th {\n",
       "        vertical-align: top;\n",
       "    }\n",
       "\n",
       "    .dataframe thead th {\n",
       "        text-align: right;\n",
       "    }\n",
       "</style>\n",
       "<table border=\"1\" class=\"dataframe\">\n",
       "  <thead>\n",
       "    <tr style=\"text-align: right;\">\n",
       "      <th></th>\n",
       "      <th></th>\n",
       "      <th>0</th>\n",
       "      <th>1</th>\n",
       "    </tr>\n",
       "    <tr>\n",
       "      <th>variation</th>\n",
       "      <th></th>\n",
       "      <th></th>\n",
       "      <th></th>\n",
       "    </tr>\n",
       "  </thead>\n",
       "  <tbody>\n",
       "    <tr>\n",
       "      <th rowspan=\"2\" valign=\"top\">0</th>\n",
       "      <th>0</th>\n",
       "      <td>202.53</td>\n",
       "      <td>2.02e-01</td>\n",
       "    </tr>\n",
       "    <tr>\n",
       "      <th>1</th>\n",
       "      <td>0.20</td>\n",
       "      <td>5.05e-05</td>\n",
       "    </tr>\n",
       "  </tbody>\n",
       "</table>\n",
       "</div>"
      ],
      "text/plain": [
       "                  0         1\n",
       "variation                    \n",
       "0         0  202.53  2.02e-01\n",
       "          1    0.20  5.05e-05"
      ]
     },
     "metadata": {},
     "output_type": "display_data"
    },
    {
     "name": "stdout",
     "output_type": "stream",
     "text": [
      "Warning! 135 COM references still alive\n",
      "Ansys will likely refuse to shut down\n",
      "{'qubit_freq_MHz': 4478.433688590971, 'qubit_anharmonicity_MHz': 225.7993628792057, 'other_data': \"{'project_info': {'pinfo': design_name     CavityQubit_Modified_Candle_Andre_design_0_1_5\\nproject_name      CavityQubit_Modified_Candle_Andre_proj_0_1_5\\nproject_path                          D:/lfl/Documents/Ansoft/\\nsetup_name                                       TransmonSetup\\ndtype: object, 'dissip': dielectrics_bulk                             None\\ndielectric_surfaces    [layer_3_datatype_0_plane]\\nresistive_surfaces                           None\\nseams                                        None\\ndtype: object, 'options': Series([], dtype: float64), 'junctions':                                j0\\nCj_variable                  Cj_0\\nLj_variable                  Lj_0\\nlength                     0.0001\\nline             JJ_Lj_5_rect_jj_\\nrect         JJ_rect_Lj_5_rect_jj, 'ports': Empty DataFrame\\nColumns: []\\nIndex: []}, 'results': {'0': {'Pm':          j0\\n0  0.837585\\n1  0.000304, 'Pm_cap':          j0\\n0  0.017908\\n1  0.000017, 'Sm':    s_j0\\n0    -1\\n1     1, 'Om':                 0         1\\nfreq_GHz  4.69084  7.621948, 'sols':             U_H           U_E\\n0  6.415253e-28  6.171319e-26\\n1  8.473478e-26  8.476453e-26, 'Qm_coupling': Empty DataFrame\\nColumns: []\\nIndex: [0, 1], 'Ljs': j0    1.230653e-08\\ndtype: float64, 'Cjs': j0    2.000000e-15\\ndtype: float64, 'Qs': 0    inf\\n1    inf\\ndtype: float64, 'freqs_hfss_GHz': 0    4.690840\\n1    7.621948\\ndtype: float64, 'hfss_variables': _Cj_0                     0fF\\n_Lj_0    12.306527428119221nH\\ndtype: object, 'modes': range(0, 2), 'I_peak': 0    0   -2.068043e-09\\ndtype: float64\\n1    0    4.575187e-11\\ndtype: float64\\ndtype: object, 'V_peak': 0    0   -7.501112e-07\\ndtype: float64\\n1    0    2.696436e-08\\ndtype: float64\\ndtype: object, 'ansys_energies': {0: {'U_J_inds': {'j0': 2.631629195734866e-26}, 'U_J_caps': {'j0': 5.626667809938129e-28}, 'U_H': 3.20762671722373e-28, 'U_E': 3.08565944664968e-26, 'U_tot_ind': 2.663705462907103e-26, 'U_tot_cap': 3.1419261247490614e-26, 'U_norm': 3.1419261247490614e-26, 'U_diff': 0.0823718581900276}, 1: {'U_J_inds': {'j0': 1.2880217513337476e-29}, 'U_J_caps': {'j0': 7.270769264078916e-31}, 'U_H': 4.236739213238545e-26, 'U_E': 4.23822630922167e-26, 'U_tot_ind': 4.238027234989879e-26, 'U_tot_cap': 4.238299016914311e-26, 'U_norm': 4.238299016914311e-26, 'U_diff': 3.206364601302289e-05}}, 'mesh':                             Unnamed: 0  Num Tets    Min edge length    \\\\\\n0            layer_1_datatype_0_plane        75950           0.000730   \\n1            layer_3_datatype_0_plane      1115081           0.000248   \\n2                          vacuum_box       676770           0.000310   \\n3           prime_cpw_ncap5_shortline           38           0.013583   \\n4      second_cpw_top_ncap5_shortline           15           0.014222   \\n5   second_cpw_bottom_ncap5_shortline          248           0.002478   \\n6                trace_cpw5_shortline        39267           0.002314   \\n7                            cross_Q5         3599           0.000728   \\n8                  c_connector_arm_Q5         2448           0.000678   \\n9                    cap_body_0_ncap5         1459           0.000631   \\n10                   cap_body_1_ncap5          842           0.000709   \\n\\n    Max edge length    RMS edge length    Min tet vol    Max tet vol    \\\\\\n0            0.282343           0.020726   1.784150e-11   1.247930e-05   \\n1            0.704713           0.017195   8.354070e-13   1.046460e-02   \\n2            1.485330           0.024847   7.571240e-13   7.292330e-02   \\n3            0.050397           0.031936   7.833350e-09   1.963920e-07   \\n4            0.030425           0.021597   4.392370e-08   1.487920e-07   \\n5            0.013971           0.007020   3.913590e-10   3.296920e-08   \\n6            0.013946           0.005944   7.050470e-11   3.629380e-08   \\n7            0.042426           0.010843   1.931450e-11   3.000000e-07   \\n8            0.012982           0.006116   1.262920e-11   3.039530e-08   \\n9            0.012296           0.005419   9.607900e-12   3.194460e-08   \\n10           0.015700           0.006181   1.375410e-11   4.251000e-08   \\n\\n    Mean tet vol    Std Devn (vol)    \\n0     7.703790e-08      4.949740e-07  \\n1     2.150680e-06      6.665720e-05  \\n2     7.786830e-06      3.231390e-04  \\n3     9.396950e-08      4.916900e-08  \\n4     7.027800e-08      3.059160e-08  \\n5     4.802660e-09      6.058700e-09  \\n6     4.751290e-09      3.885030e-09  \\n7     1.283690e-08      1.959270e-08  \\n8     4.086600e-09      5.101950e-09  \\n9     3.354420e-09      4.139950e-09  \\n10    5.012450e-09      6.593230e-09  , 'convergence':              Solved Elements  Max Delta Freq. %\\nPass Number                                    \\n1                      12674                NaN\\n2                      16287          11.877000\\n3                      20879           3.032600\\n4                      26722           4.129700\\n5                      34182           1.442400\\n6                      43767           0.870790\\n7                      56037           0.833070\\n8                      71801           0.879750\\n9                      91934           0.590600\\n10                    117739           0.449680\\n11                    150738           0.688510\\n12                    192902           0.407540\\n13                    246875           0.445920\\n14                    316013           0.373830\\n15                    404635           0.296810\\n16                    518426           0.260440\\n17                    664341           0.206370\\n18                    851485           0.128840\\n19                   1091312           0.109240\\n20                   1398616           0.087299\\n21                   1791851           0.074690, 'convergence_f_pass': None}}}\"}\n",
      "pyaedt INFO: Project CavityQubit_Modified_Candle_Andre_proj_0_1_5 set to active.\n"
     ]
    },
    {
     "name": "stderr",
     "output_type": "stream",
     "text": [
      "INFO:Global:Project CavityQubit_Modified_Candle_Andre_proj_0_1_5 set to active.\n"
     ]
    },
    {
     "name": "stdout",
     "output_type": "stream",
     "text": [
      "pyaedt INFO: Aedt Objects initialized\n"
     ]
    },
    {
     "name": "stderr",
     "output_type": "stream",
     "text": [
      "INFO:Global:Aedt Objects initialized\n"
     ]
    },
    {
     "name": "stdout",
     "output_type": "stream",
     "text": [
      "pyaedt INFO: Variable Manager initialized\n"
     ]
    },
    {
     "name": "stderr",
     "output_type": "stream",
     "text": [
      "INFO:Global:Variable Manager initialized\n"
     ]
    },
    {
     "name": "stdout",
     "output_type": "stream",
     "text": [
      "pyaedt INFO: Design Loaded\n"
     ]
    },
    {
     "name": "stderr",
     "output_type": "stream",
     "text": [
      "INFO:Global:Design Loaded\n"
     ]
    },
    {
     "name": "stdout",
     "output_type": "stream",
     "text": [
      "pyaedt INFO: Successfully loaded project materials !\n"
     ]
    },
    {
     "name": "stderr",
     "output_type": "stream",
     "text": [
      "INFO:Global:Successfully loaded project materials !\n"
     ]
    },
    {
     "name": "stdout",
     "output_type": "stream",
     "text": [
      "pyaedt INFO: Materials Loaded\n"
     ]
    },
    {
     "name": "stderr",
     "output_type": "stream",
     "text": [
      "INFO:Global:Materials Loaded\n"
     ]
    },
    {
     "name": "stdout",
     "output_type": "stream",
     "text": [
      "pyaedt INFO: Deleted 13 Objects: layer_1_datatype_0_plane,layer_3_datatype_0_plane,vacuum_box,prime_cpw_ncap5_shortline,second_cpw_top_ncap5_shortline,second_cpw_bottom_ncap5_shortline,trace_cpw5_shortline,cross_Q5,c_connector_arm_Q5,cap_body_0_ncap5,cap_body_1_n...\n"
     ]
    },
    {
     "name": "stderr",
     "output_type": "stream",
     "text": [
      "INFO:Global:Deleted 13 Objects: layer_1_datatype_0_plane,layer_3_datatype_0_plane,vacuum_box,prime_cpw_ncap5_shortline,second_cpw_top_ncap5_shortline,second_cpw_bottom_ncap5_shortline,trace_cpw5_shortline,cross_Q5,c_connector_arm_Q5,cap_body_0_ncap5,cap_body_1_n...\n"
     ]
    },
    {
     "name": "stdout",
     "output_type": "stream",
     "text": [
      "pyaedt INFO: Project CavityQubit_Modified_Candle_Andre_proj_0_1_5 set to active.\n"
     ]
    },
    {
     "name": "stderr",
     "output_type": "stream",
     "text": [
      "INFO:Global:Project CavityQubit_Modified_Candle_Andre_proj_0_1_5 set to active.\n"
     ]
    },
    {
     "name": "stdout",
     "output_type": "stream",
     "text": [
      "pyaedt INFO: Aedt Objects initialized\n"
     ]
    },
    {
     "name": "stderr",
     "output_type": "stream",
     "text": [
      "INFO:Global:Aedt Objects initialized\n"
     ]
    },
    {
     "name": "stdout",
     "output_type": "stream",
     "text": [
      "pyaedt INFO: Variable Manager initialized\n"
     ]
    },
    {
     "name": "stderr",
     "output_type": "stream",
     "text": [
      "INFO:Global:Variable Manager initialized\n"
     ]
    },
    {
     "name": "stdout",
     "output_type": "stream",
     "text": [
      "pyaedt INFO: Design Loaded\n"
     ]
    },
    {
     "name": "stderr",
     "output_type": "stream",
     "text": [
      "INFO:Global:Design Loaded\n"
     ]
    },
    {
     "name": "stdout",
     "output_type": "stream",
     "text": [
      "pyaedt INFO: Successfully loaded project materials !\n"
     ]
    },
    {
     "name": "stderr",
     "output_type": "stream",
     "text": [
      "INFO:Global:Successfully loaded project materials !\n"
     ]
    },
    {
     "name": "stdout",
     "output_type": "stream",
     "text": [
      "pyaedt INFO: Materials Loaded\n"
     ]
    },
    {
     "name": "stderr",
     "output_type": "stream",
     "text": [
      "INFO:Global:Materials Loaded\n"
     ]
    },
    {
     "name": "stdout",
     "output_type": "stream",
     "text": [
      "pyaedt INFO: Project CavityQubit_Modified_Candle_Andre_proj_0_1_5 set to active.\n"
     ]
    },
    {
     "name": "stderr",
     "output_type": "stream",
     "text": [
      "INFO:Global:Project CavityQubit_Modified_Candle_Andre_proj_0_1_5 set to active.\n"
     ]
    },
    {
     "name": "stdout",
     "output_type": "stream",
     "text": [
      "pyaedt INFO: Aedt Objects initialized\n"
     ]
    },
    {
     "name": "stderr",
     "output_type": "stream",
     "text": [
      "INFO:Global:Aedt Objects initialized\n"
     ]
    },
    {
     "name": "stdout",
     "output_type": "stream",
     "text": [
      "pyaedt INFO: Variable Manager initialized\n"
     ]
    },
    {
     "name": "stderr",
     "output_type": "stream",
     "text": [
      "INFO:Global:Variable Manager initialized\n"
     ]
    },
    {
     "name": "stdout",
     "output_type": "stream",
     "text": [
      "pyaedt INFO: Design Loaded\n"
     ]
    },
    {
     "name": "stderr",
     "output_type": "stream",
     "text": [
      "INFO:Global:Design Loaded\n"
     ]
    },
    {
     "name": "stdout",
     "output_type": "stream",
     "text": [
      "pyaedt INFO: Successfully loaded project materials !\n"
     ]
    },
    {
     "name": "stderr",
     "output_type": "stream",
     "text": [
      "INFO:Global:Successfully loaded project materials !\n"
     ]
    },
    {
     "name": "stdout",
     "output_type": "stream",
     "text": [
      "pyaedt INFO: Materials Loaded\n"
     ]
    },
    {
     "name": "stderr",
     "output_type": "stream",
     "text": [
      "INFO:Global:Materials Loaded\n"
     ]
    },
    {
     "name": "stdout",
     "output_type": "stream",
     "text": [
      "pyaedt WARNING: No objects to delete\n"
     ]
    },
    {
     "name": "stderr",
     "output_type": "stream",
     "text": [
      "WARNING:Global:No objects to delete\n"
     ]
    },
    {
     "name": "stdout",
     "output_type": "stream",
     "text": [
      "pyaedt INFO: Project CavityQubit_Modified_Candle_Andre_proj_0_1_5 set to active.\n"
     ]
    },
    {
     "name": "stderr",
     "output_type": "stream",
     "text": [
      "INFO:Global:Project CavityQubit_Modified_Candle_Andre_proj_0_1_5 set to active.\n"
     ]
    },
    {
     "name": "stdout",
     "output_type": "stream",
     "text": [
      "pyaedt INFO: Aedt Objects initialized\n"
     ]
    },
    {
     "name": "stderr",
     "output_type": "stream",
     "text": [
      "INFO:Global:Aedt Objects initialized\n"
     ]
    },
    {
     "name": "stdout",
     "output_type": "stream",
     "text": [
      "pyaedt INFO: Variable Manager initialized\n"
     ]
    },
    {
     "name": "stderr",
     "output_type": "stream",
     "text": [
      "INFO:Global:Variable Manager initialized\n"
     ]
    },
    {
     "name": "stdout",
     "output_type": "stream",
     "text": [
      "pyaedt INFO: Design Loaded\n"
     ]
    },
    {
     "name": "stderr",
     "output_type": "stream",
     "text": [
      "INFO:Global:Design Loaded\n"
     ]
    },
    {
     "name": "stdout",
     "output_type": "stream",
     "text": [
      "pyaedt INFO: Successfully loaded project materials !\n"
     ]
    },
    {
     "name": "stderr",
     "output_type": "stream",
     "text": [
      "INFO:Global:Successfully loaded project materials !\n"
     ]
    },
    {
     "name": "stdout",
     "output_type": "stream",
     "text": [
      "pyaedt INFO: Materials Loaded\n"
     ]
    },
    {
     "name": "stderr",
     "output_type": "stream",
     "text": [
      "INFO:Global:Materials Loaded\n"
     ]
    },
    {
     "name": "stdout",
     "output_type": "stream",
     "text": [
      "pyaedt INFO: Boundary Lumped RLC rlc_JJ_rect_Lj_4_rect_jj has been correctly created.\n"
     ]
    },
    {
     "name": "stderr",
     "output_type": "stream",
     "text": [
      "INFO:Global:Boundary Lumped RLC rlc_JJ_rect_Lj_4_rect_jj has been correctly created.\n"
     ]
    },
    {
     "name": "stdout",
     "output_type": "stream",
     "text": [
      "pyaedt INFO: Project CavityQubit_Modified_Candle_Andre_proj_0_1_5 set to active.\n"
     ]
    },
    {
     "name": "stderr",
     "output_type": "stream",
     "text": [
      "INFO:Global:Project CavityQubit_Modified_Candle_Andre_proj_0_1_5 set to active.\n"
     ]
    },
    {
     "name": "stdout",
     "output_type": "stream",
     "text": [
      "pyaedt INFO: Aedt Objects initialized\n"
     ]
    },
    {
     "name": "stderr",
     "output_type": "stream",
     "text": [
      "INFO:Global:Aedt Objects initialized\n"
     ]
    },
    {
     "name": "stdout",
     "output_type": "stream",
     "text": [
      "pyaedt INFO: Variable Manager initialized\n"
     ]
    },
    {
     "name": "stderr",
     "output_type": "stream",
     "text": [
      "INFO:Global:Variable Manager initialized\n"
     ]
    },
    {
     "name": "stdout",
     "output_type": "stream",
     "text": [
      "pyaedt INFO: Design Loaded\n"
     ]
    },
    {
     "name": "stderr",
     "output_type": "stream",
     "text": [
      "INFO:Global:Design Loaded\n"
     ]
    },
    {
     "name": "stdout",
     "output_type": "stream",
     "text": [
      "pyaedt INFO: Successfully loaded project materials !\n"
     ]
    },
    {
     "name": "stderr",
     "output_type": "stream",
     "text": [
      "INFO:Global:Successfully loaded project materials !\n"
     ]
    },
    {
     "name": "stdout",
     "output_type": "stream",
     "text": [
      "pyaedt INFO: Materials Loaded\n"
     ]
    },
    {
     "name": "stderr",
     "output_type": "stream",
     "text": [
      "INFO:Global:Materials Loaded\n"
     ]
    },
    {
     "name": "stdout",
     "output_type": "stream",
     "text": [
      "pyaedt INFO: Project CavityQubit_Modified_Candle_Andre_proj_0_1_5 set to active.\n"
     ]
    },
    {
     "name": "stderr",
     "output_type": "stream",
     "text": [
      "INFO:Global:Project CavityQubit_Modified_Candle_Andre_proj_0_1_5 set to active.\n"
     ]
    },
    {
     "name": "stdout",
     "output_type": "stream",
     "text": [
      "pyaedt INFO: Aedt Objects initialized\n"
     ]
    },
    {
     "name": "stderr",
     "output_type": "stream",
     "text": [
      "INFO:Global:Aedt Objects initialized\n"
     ]
    },
    {
     "name": "stdout",
     "output_type": "stream",
     "text": [
      "pyaedt INFO: Variable Manager initialized\n"
     ]
    },
    {
     "name": "stderr",
     "output_type": "stream",
     "text": [
      "INFO:Global:Variable Manager initialized\n"
     ]
    },
    {
     "name": "stdout",
     "output_type": "stream",
     "text": [
      "pyaedt INFO: Design Loaded\n"
     ]
    },
    {
     "name": "stderr",
     "output_type": "stream",
     "text": [
      "INFO:Global:Design Loaded\n"
     ]
    },
    {
     "name": "stdout",
     "output_type": "stream",
     "text": [
      "pyaedt INFO: Successfully loaded project materials !\n"
     ]
    },
    {
     "name": "stderr",
     "output_type": "stream",
     "text": [
      "INFO:Global:Successfully loaded project materials !\n"
     ]
    },
    {
     "name": "stdout",
     "output_type": "stream",
     "text": [
      "pyaedt INFO: Materials Loaded\n"
     ]
    },
    {
     "name": "stderr",
     "output_type": "stream",
     "text": [
      "INFO:Global:Materials Loaded\n"
     ]
    },
    {
     "name": "stdout",
     "output_type": "stream",
     "text": [
      "pyaedt INFO: Key Desktop/ActiveDSOConfigurations/HFSS correctly changed.\n"
     ]
    },
    {
     "name": "stderr",
     "output_type": "stream",
     "text": [
      "INFO:Global:Key Desktop/ActiveDSOConfigurations/HFSS correctly changed.\n"
     ]
    },
    {
     "name": "stdout",
     "output_type": "stream",
     "text": [
      "pyaedt INFO: Solving design setup TransmonSetup\n"
     ]
    },
    {
     "name": "stderr",
     "output_type": "stream",
     "text": [
      "INFO:Global:Solving design setup TransmonSetup\n"
     ]
    },
    {
     "name": "stdout",
     "output_type": "stream",
     "text": [
      "pyaedt INFO: Key Desktop/ActiveDSOConfigurations/HFSS correctly changed.\n"
     ]
    },
    {
     "name": "stderr",
     "output_type": "stream",
     "text": [
      "INFO:Global:Key Desktop/ActiveDSOConfigurations/HFSS correctly changed.\n"
     ]
    },
    {
     "name": "stdout",
     "output_type": "stream",
     "text": [
      "pyaedt INFO: Design setup TransmonSetup solved correctly in 0.0h 58.0m 12.0s\n"
     ]
    },
    {
     "name": "stderr",
     "output_type": "stream",
     "text": [
      "INFO:Global:Design setup TransmonSetup solved correctly in 0.0h 58.0m 12.0s\n"
     ]
    },
    {
     "name": "stdout",
     "output_type": "stream",
     "text": [
      "pyaedt INFO: Project CavityQubit_Modified_Candle_Andre_proj_0_1_5 set to active.\n"
     ]
    },
    {
     "name": "stderr",
     "output_type": "stream",
     "text": [
      "INFO:Global:Project CavityQubit_Modified_Candle_Andre_proj_0_1_5 set to active.\n"
     ]
    },
    {
     "name": "stdout",
     "output_type": "stream",
     "text": [
      "pyaedt INFO: Aedt Objects initialized\n"
     ]
    },
    {
     "name": "stderr",
     "output_type": "stream",
     "text": [
      "INFO:Global:Aedt Objects initialized\n"
     ]
    },
    {
     "name": "stdout",
     "output_type": "stream",
     "text": [
      "pyaedt INFO: Variable Manager initialized\n"
     ]
    },
    {
     "name": "stderr",
     "output_type": "stream",
     "text": [
      "INFO:Global:Variable Manager initialized\n"
     ]
    },
    {
     "name": "stdout",
     "output_type": "stream",
     "text": [
      "pyaedt INFO: Design Loaded\n"
     ]
    },
    {
     "name": "stderr",
     "output_type": "stream",
     "text": [
      "INFO:Global:Design Loaded\n"
     ]
    },
    {
     "name": "stdout",
     "output_type": "stream",
     "text": [
      "pyaedt INFO: Successfully loaded project materials !\n"
     ]
    },
    {
     "name": "stderr",
     "output_type": "stream",
     "text": [
      "INFO:Global:Successfully loaded project materials !\n"
     ]
    },
    {
     "name": "stdout",
     "output_type": "stream",
     "text": [
      "pyaedt INFO: Materials Loaded\n"
     ]
    },
    {
     "name": "stderr",
     "output_type": "stream",
     "text": [
      "INFO:Global:Materials Loaded\n",
      "INFO 11:15AM [connect_project]: Connecting to Ansys Desktop API...\n",
      "INFO 11:15AM [load_ansys_project]: \tOpened Ansys App\n",
      "INFO 11:15AM [load_ansys_project]: \tOpened Ansys Desktop v2021.1.0\n",
      "INFO 11:15AM [load_ansys_project]: \tOpened Ansys Project\n",
      "\tFolder:    D:/lfl/Documents/Ansoft/\n",
      "\tProject:   CavityQubit_Modified_Candle_Andre_proj_0_1_5\n",
      "INFO 11:15AM [connect_design]: \tOpened active design\n",
      "\tDesign:    CavityQubit_Modified_Candle_Andre_design_0_1_5 [Solution type: Eigenmode]\n",
      "INFO 11:15AM [get_setup]: \tOpened setup `TransmonSetup`  (<class 'pyEPR.ansys.HfssEMSetup'>)\n",
      "INFO 11:15AM [connect]: \tConnected to project \"CavityQubit_Modified_Candle_Andre_proj_0_1_5\" and design \"CavityQubit_Modified_Candle_Andre_design_0_1_5\" 😀 \n",
      "\n"
     ]
    },
    {
     "name": "stdout",
     "output_type": "stream",
     "text": [
      "Design \"CavityQubit_Modified_Candle_Andre_design_0_1_5\" info:\n",
      "\t# eigenmodes    2\n",
      "\t# variations    1\n",
      "\n",
      "Variation 0  [1/1]\n",
      "\n",
      "  \u001b[1mMode 0 at 4.64 GHz   [1/2]\u001b[0m\n",
      "    Calculating ℰ_magnetic,ℰ_electric\n",
      "       (ℰ_E-ℰ_H)/ℰ_E       ℰ_E       ℰ_H\n",
      "               98.9%  2.115e-26 2.243e-28\n",
      "\n",
      "    Calculating junction energy participation ration (EPR)\n",
      "\tmethod=`line_voltage`. First estimates:\n",
      "\tjunction        EPR p_0j   sign s_0j    (p_capacitive)\n",
      "\t\tEnergy fraction (Lj over Lj&Cj)= 98.30%\n",
      "\tj0               1.03068  (+)        0.017833\n",
      "\t\t(U_tot_cap-U_tot_ind)/mean=-1.14%\n",
      "\n",
      "  \u001b[1mMode 1 at 7.40 GHz   [2/2]\u001b[0m\n",
      "    Calculating ℰ_magnetic,ℰ_electric\n",
      "       (ℰ_E-ℰ_H)/ℰ_E       ℰ_E       ℰ_H\n",
      "                0.1%  4.283e-26  4.28e-26\n",
      "\n",
      "    Calculating junction energy participation ration (EPR)\n",
      "\tmethod=`line_voltage`. First estimates:\n",
      "\tjunction        EPR p_1j   sign s_1j    (p_capacitive)\n",
      "\t\tEnergy fraction (Lj over Lj&Cj)= 95.79%\n",
      "\tj0              0.000707922  (+)        3.11469e-05\n",
      "\t\t(U_tot_cap-U_tot_ind)/mean=0.00%\n"
     ]
    },
    {
     "name": "stderr",
     "output_type": "stream",
     "text": [
      "WARNING 11:16AM [__init__]: <p>Error: <class 'IndexError'></p>\n"
     ]
    },
    {
     "name": "stdout",
     "output_type": "stream",
     "text": [
      "\n",
      "ANALYSIS DONE. Data saved to:\n",
      "\n",
      "C:\\data-pyEPR\\CavityQubit_Modified_Candle_Andre_proj_0_1_5\\CavityQubit_Modified_Candle_Andre_design_0_1_5\\2023-06-15 11-15-54.npz\n",
      "\n",
      "\n",
      "\t Differences in variations:\n",
      "\n",
      "\n",
      "\n",
      " . . . . . . . . . . . . . . . . . . . . . . . . . . . . . . . . . . . . . . . . \n",
      "Variation 0\n",
      "\n",
      "Starting the diagonalization\n",
      "Finished the diagonalization\n",
      "Pm_norm=\n",
      "modes\n",
      "0    0.977360\n",
      "1    1.001757\n",
      "dtype: float64\n",
      "\n",
      "Pm_norm idx =\n",
      "      j0\n",
      "0   True\n",
      "1  False\n",
      "*** P (participation matrix, not normlz.)\n",
      "         j0\n",
      "0  1.012624\n",
      "1  0.000708\n",
      "\n",
      "*** S (sign-bit matrix)\n",
      "   s_j0\n",
      "0     1\n",
      "1    -1\n",
      "*** P (participation matrix, normalized.)\n",
      "      0.99\n",
      "   0.00071\n",
      "\n",
      "*** Chi matrix O1 PT (MHz)\n",
      "    Diag is anharmonicity, off diag is full cross-Kerr.\n",
      "       164    0.374\n",
      "     0.374 0.000214\n",
      "\n",
      "*** Chi matrix ND (MHz) \n",
      "       179    0.341\n",
      "     0.341 0.000176\n",
      "\n",
      "*** Frequencies O1 PT (MHz)\n",
      "0    4475.036650\n",
      "1    7397.956911\n",
      "dtype: float64\n",
      "\n",
      "*** Frequencies ND (MHz)\n",
      "0    4468.663944\n",
      "1    7397.960715\n",
      "dtype: float64\n",
      "\n",
      "*** Q_coupling\n",
      "Empty DataFrame\n",
      "Columns: []\n",
      "Index: [0, 1]\n"
     ]
    },
    {
     "data": {
      "text/markdown": [
       "#### Mode frequencies (MHz)"
      ],
      "text/plain": [
       "<IPython.core.display.Markdown object>"
      ]
     },
     "metadata": {},
     "output_type": "display_data"
    },
    {
     "data": {
      "text/markdown": [
       "###### Numerical diagonalization"
      ],
      "text/plain": [
       "<IPython.core.display.Markdown object>"
      ]
     },
     "metadata": {},
     "output_type": "display_data"
    },
    {
     "data": {
      "text/html": [
       "<div>\n",
       "<style scoped>\n",
       "    .dataframe tbody tr th:only-of-type {\n",
       "        vertical-align: middle;\n",
       "    }\n",
       "\n",
       "    .dataframe tbody tr th {\n",
       "        vertical-align: top;\n",
       "    }\n",
       "\n",
       "    .dataframe thead th {\n",
       "        text-align: right;\n",
       "    }\n",
       "</style>\n",
       "<table border=\"1\" class=\"dataframe\">\n",
       "  <thead>\n",
       "    <tr style=\"text-align: right;\">\n",
       "      <th>variation</th>\n",
       "      <th>0</th>\n",
       "    </tr>\n",
       "  </thead>\n",
       "  <tbody>\n",
       "    <tr>\n",
       "      <th>0</th>\n",
       "      <td>4475.04</td>\n",
       "    </tr>\n",
       "    <tr>\n",
       "      <th>1</th>\n",
       "      <td>7397.96</td>\n",
       "    </tr>\n",
       "  </tbody>\n",
       "</table>\n",
       "</div>"
      ],
      "text/plain": [
       "variation        0\n",
       "0          4475.04\n",
       "1          7397.96"
      ]
     },
     "metadata": {},
     "output_type": "display_data"
    },
    {
     "data": {
      "text/markdown": [
       "#### Kerr Non-linear coefficient table (MHz)"
      ],
      "text/plain": [
       "<IPython.core.display.Markdown object>"
      ]
     },
     "metadata": {},
     "output_type": "display_data"
    },
    {
     "data": {
      "text/markdown": [
       "###### Numerical diagonalization"
      ],
      "text/plain": [
       "<IPython.core.display.Markdown object>"
      ]
     },
     "metadata": {},
     "output_type": "display_data"
    },
    {
     "data": {
      "text/html": [
       "<div>\n",
       "<style scoped>\n",
       "    .dataframe tbody tr th:only-of-type {\n",
       "        vertical-align: middle;\n",
       "    }\n",
       "\n",
       "    .dataframe tbody tr th {\n",
       "        vertical-align: top;\n",
       "    }\n",
       "\n",
       "    .dataframe thead th {\n",
       "        text-align: right;\n",
       "    }\n",
       "</style>\n",
       "<table border=\"1\" class=\"dataframe\">\n",
       "  <thead>\n",
       "    <tr style=\"text-align: right;\">\n",
       "      <th></th>\n",
       "      <th></th>\n",
       "      <th>0</th>\n",
       "      <th>1</th>\n",
       "    </tr>\n",
       "    <tr>\n",
       "      <th>variation</th>\n",
       "      <th></th>\n",
       "      <th></th>\n",
       "      <th></th>\n",
       "    </tr>\n",
       "  </thead>\n",
       "  <tbody>\n",
       "    <tr>\n",
       "      <th rowspan=\"2\" valign=\"top\">0</th>\n",
       "      <th>0</th>\n",
       "      <td>164.14</td>\n",
       "      <td>3.74e-01</td>\n",
       "    </tr>\n",
       "    <tr>\n",
       "      <th>1</th>\n",
       "      <td>0.37</td>\n",
       "      <td>2.14e-04</td>\n",
       "    </tr>\n",
       "  </tbody>\n",
       "</table>\n",
       "</div>"
      ],
      "text/plain": [
       "                  0         1\n",
       "variation                    \n",
       "0         0  164.14  3.74e-01\n",
       "          1    0.37  2.14e-04"
      ]
     },
     "metadata": {},
     "output_type": "display_data"
    },
    {
     "name": "stdout",
     "output_type": "stream",
     "text": [
      "Warning! 111 COM references still alive\n",
      "Ansys will likely refuse to shut down\n",
      "{'qubit_freq_MHz': 4468.663944132442, 'qubit_anharmonicity_MHz': 179.21020257086752, 'other_data': \"{'project_info': {'pinfo': design_name     CavityQubit_Modified_Candle_Andre_design_0_1_5\\nproject_name      CavityQubit_Modified_Candle_Andre_proj_0_1_5\\nproject_path                          D:/lfl/Documents/Ansoft/\\nsetup_name                                       TransmonSetup\\ndtype: object, 'dissip': dielectrics_bulk                             None\\ndielectric_surfaces    [layer_3_datatype_0_plane]\\nresistive_surfaces                           None\\nseams                                        None\\ndtype: object, 'options': Series([], dtype: float64), 'junctions':                                j0\\nCj_variable                  Cj_0\\nLj_variable                  Lj_0\\nlength                     0.0001\\nline             JJ_Lj_4_rect_jj_\\nrect         JJ_rect_Lj_4_rect_jj, 'ports': Empty DataFrame\\nColumns: []\\nIndex: []}, 'results': {'0': {'Pm':          j0\\n0  1.012624\\n1  0.000708, 'Pm_cap':          j0\\n0  0.017521\\n1  0.000031, 'Sm':    s_j0\\n0     1\\n1    -1, 'Om':                  0         1\\nfreq_GHz  4.639362  7.398144, 'sols':             U_H           U_E\\n0  4.486329e-28  4.229663e-26\\n1  8.559984e-26  8.565802e-26, 'Qm_coupling': Empty DataFrame\\nColumns: []\\nIndex: [0, 1], 'Ljs': j0    1.018109e-08\\ndtype: float64, 'Cjs': j0    2.000000e-15\\ndtype: float64, 'Qs': 0    inf\\n1    inf\\ndtype: float64, 'freqs_hfss_GHz': 0    4.639362\\n1    7.398144\\ndtype: float64, 'hfss_variables': _Cj_0                     0fF\\n_Lj_0    10.181089091582427nH\\ndtype: object, 'modes': range(0, 2), 'I_peak': 0    0    2.069275e-09\\ndtype: float64\\n1    0   -7.717551e-11\\ndtype: float64\\ndtype: object, 'V_peak': 0    0    6.141162e-07\\ndtype: float64\\n1    0   -3.652384e-08\\ndtype: float64\\ndtype: object, 'ansys_energies': {0: {'U_J_inds': {'j0': 2.1797189744067003e-26}, 'U_J_caps': {'j0': 3.771386707427001e-28}, 'U_H': 2.24316472074736e-28, 'U_E': 2.11483145116085e-26, 'U_tot_ind': 2.2021506216141738e-26, 'U_tot_cap': 2.15254531823512e-26, 'U_norm': 2.15254531823512e-26, 'U_diff': -0.01139122089446515}, 1: {'U_J_inds': {'j0': 3.03195886079507e-29}, 'U_J_caps': {'j0': 1.3339909250014814e-30}, 'U_H': 4.27999188596875e-26, 'U_E': 4.28290108963271e-26, 'U_tot_ind': 4.283023844829545e-26, 'U_tot_cap': 4.28303448872521e-26, 'U_norm': 4.28303448872521e-26, 'U_diff': 1.2425663298762451e-06}}, 'mesh':                             Unnamed: 0  Num Tets    Min edge length    \\\\\\n0            layer_1_datatype_0_plane        82507           0.001108   \\n1            layer_3_datatype_0_plane      1217138           0.000239   \\n2                          vacuum_box       739600           0.000331   \\n3           prime_cpw_ncap6_shortline           58           0.014541   \\n4      second_cpw_top_ncap6_shortline           20           0.008898   \\n5   second_cpw_bottom_ncap6_shortline          295           0.002435   \\n6                trace_cpw6_shortline        44386           0.002212   \\n7                            cross_Q6         3305           0.000876   \\n8                  c_connector_arm_Q6         3386           0.000667   \\n9                    cap_body_0_ncap6         1964           0.000599   \\n10                   cap_body_1_ncap6         1351           0.000710   \\n\\n    Max edge length    RMS edge length    Min tet vol    Max tet vol    \\\\\\n0            0.258733           0.020615   2.654340e-11   1.365820e-05   \\n1            0.702457           0.016629   5.823470e-13   1.042160e-02   \\n2            1.464660           0.024109   1.393440e-12   5.403080e-02   \\n3            0.084324           0.030968   7.030800e-09   3.288640e-07   \\n4            0.022701           0.017513   1.247830e-08   1.123740e-07   \\n5            0.012704           0.005807   3.947450e-10   2.794270e-08   \\n6            0.013338           0.005594   7.879220e-11   3.434020e-08   \\n7            0.043699           0.011655   3.003260e-11   3.182700e-07   \\n8            0.017729           0.006499   1.191590e-11   5.532180e-08   \\n9            0.013199           0.005538   7.276540e-12   3.960330e-08   \\n10           0.016270           0.006068   1.378960e-11   4.384810e-08   \\n\\n    Mean tet vol    Std Devn (vol)    \\n0     7.180640e-08      4.452300e-07  \\n1     1.999090e-06      6.113820e-05  \\n2     7.229280e-06      3.056670e-04  \\n3     8.795170e-08      5.304360e-08  \\n4     5.270850e-08      2.803590e-08  \\n5     4.037490e-09      4.402540e-09  \\n6     4.271330e-09      3.412920e-09  \\n7     1.444870e-08      2.287130e-08  \\n8     4.800050e-09      6.187630e-09  \\n9     3.334380e-09      4.286810e-09  \\n10    4.847310e-09      6.451140e-09  , 'convergence':              Solved Elements  Max Delta Freq. %\\nPass Number                                    \\n1                      13790                NaN\\n2                      17724           6.860400\\n3                      22734           3.876700\\n4                      29151           2.682200\\n5                      37326           1.580700\\n6                      47903           1.142300\\n7                      61325           0.828540\\n8                      78562           0.556700\\n9                     100554           0.235110\\n10                    128675           0.352790\\n11                    164705           0.440000\\n12                    210928           0.436400\\n13                    269861           0.332470\\n14                    345517           0.328090\\n15                    442335           0.270580\\n16                    566838           0.168200\\n17                    726768           0.163850\\n18                    931142           0.121310\\n19                   1192961           0.100010\\n20                   1528216           0.084656\\n21                   1956738           0.071091, 'convergence_f_pass': None}}}\"}\n"
     ]
    }
   ],
   "source": [
    "qnames = [['Q1', 'cpw1', 'clt1'], \n",
    "          ['Q2', 'cpw2', 'clt2'], \n",
    "          ['Q3', 'cpw3', 'clt3'], \n",
    "          ['Q4', 'cpw4', 'ncap4'], \n",
    "          ['Q5', 'cpw5', 'ncap5'], \n",
    "          ['Q6', 'cpw6', 'ncap6']]\n",
    "\n",
    "for q in qnames:\n",
    "    print(simulate_cavityqubit(q))"
   ]
  },
  {
   "attachments": {},
   "cell_type": "markdown",
   "metadata": {},
   "source": [
    "# GDS Export"
   ]
  },
  {
   "cell_type": "code",
   "execution_count": null,
   "metadata": {},
   "outputs": [],
   "source": [
    "a_gds = design.renderers.gds\n",
    "a_gds.options['cheese']['view_in_file']['main'][1]=False\n",
    "a_gds.options['no_cheese']['view_in_file']['main'][1] = False\n",
    "\n",
    "a_gds.export_to_gds('final_no_cheese.gds')"
   ]
  },
  {
   "cell_type": "code",
   "execution_count": null,
   "metadata": {},
   "outputs": [],
   "source": []
  }
 ],
 "metadata": {
  "kernelspec": {
   "display_name": "qiskit_metal",
   "language": "python",
   "name": "python3"
  },
  "language_info": {
   "codemirror_mode": {
    "name": "ipython",
    "version": 3
   },
   "file_extension": ".py",
   "mimetype": "text/x-python",
   "name": "python",
   "nbconvert_exporter": "python",
   "pygments_lexer": "ipython3",
   "version": "3.10.6"
  },
  "orig_nbformat": 4
 },
 "nbformat": 4,
 "nbformat_minor": 2
}
