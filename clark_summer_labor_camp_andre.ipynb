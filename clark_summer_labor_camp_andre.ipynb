{
 "cells": [
  {
   "cell_type": "code",
   "execution_count": 1,
   "metadata": {},
   "outputs": [],
   "source": [
    "%load_ext autoreload\n",
    "%autoreload 2"
   ]
  },
  {
   "cell_type": "code",
   "execution_count": 2,
   "metadata": {},
   "outputs": [],
   "source": [
    "from qiskit_metal import draw, Dict, designs, MetalGUI\n",
    "from qiskit_metal.designs.design_multiplanar import MultiPlanar\n",
    "from qiskit_metal.toolbox_metal import math_and_overrides\n",
    "from qiskit_metal.qlibrary.core import QComponent\n",
    "import qiskit_metal as metal\n",
    "# ?metal.qlibrary.core.QComponent.add_qgeometry\n",
    "\n",
    "design = MultiPlanar()\n",
    "gui = metal.MetalGUI(design)\n",
    "design.overwrite_enabled = True\n",
    "\n",
    "# dir(QComponent)\n",
    "design._chips.main.size.size_x = '5mm'\n",
    "design._chips.main.size.size_y = '5mm'\n"
   ]
  },
  {
   "cell_type": "code",
   "execution_count": 3,
   "metadata": {},
   "outputs": [],
   "source": [
    "cpw_width = '11.7um'"
   ]
  },
  {
   "cell_type": "code",
   "execution_count": 4,
   "metadata": {},
   "outputs": [],
   "source": [
    "from qiskit_metal.qlibrary.terminations.launchpad_wb import LaunchpadWirebond\n",
    "from qiskit_metal.qlibrary.terminations.short_to_ground import ShortToGround\n",
    "from qiskit_metal.qlibrary.tlines.straight_path import RouteStraight\n",
    "from qiskit_metal.qlibrary.tlines.anchored_path import RouteAnchors\n",
    "from qiskit_metal.qlibrary.tlines.mixed_path import RouteMixed\n",
    "from qiskit_metal.qlibrary.qubits.transmon_cross import TransmonCross\n",
    "from qiskit_metal.qlibrary.tlines.meandered import RouteMeander\n",
    "from qiskit_metal.qlibrary.terminations.open_to_ground import OpenToGround\n",
    "from qiskit_metal.qlibrary.couplers.coupled_line_tee import CoupledLineTee\n",
    "from qiskit_metal.qlibrary.couplers.cap_n_interdigital_tee import CapNInterdigitalTee\n",
    "from qiskit_metal.qlibrary.couplers.line_tee import LineTee\n",
    "\n",
    "from collections import OrderedDict\n",
    "\n",
    "import numpy as np"
   ]
  },
  {
   "cell_type": "code",
   "execution_count": 5,
   "metadata": {},
   "outputs": [],
   "source": [
    "### Top and Bottom\n",
    "options = Dict(\n",
    "    orientation = -90,\n",
    "    pos_y = 2.5 - 0.3,\n",
    "    # pad_width = '80um',\n",
    "    # pad_length = '200um',\n",
    "    # taper_height = '200um',\n",
    "    trace_width = cpw_width,\n",
    "    trace_gap = '5.1um'\n",
    ")\n",
    "wb1 = LaunchpadWirebond(design, 'wb_top', options=options)\n",
    "\n",
    "options = Dict(\n",
    "    orientation = 90,\n",
    "    pos_y = -2.5 + 0.3,\n",
    "    # pad_width = '80um',\n",
    "    # pad_length = '200um',\n",
    "    # taper_height = '200um',\n",
    "    trace_width = cpw_width,\n",
    "    trace_gap = '5.1um'\n",
    ")\n",
    "wb2 = LaunchpadWirebond(design, 'wb_bottom', options=options)"
   ]
  },
  {
   "cell_type": "code",
   "execution_count": 6,
   "metadata": {},
   "outputs": [],
   "source": [
    "xmon1_options = dict(\n",
    "    connection_pads=dict(\n",
    "        # a = dict( connector_location = '0', connector_type = '0'),\n",
    "        # b = dict(connector_location = '90', connector_type = '0'),\n",
    "        c = dict(connector_location = '90', \n",
    "                 connector_type = '0', \n",
    "                 claw_length = '215um',\n",
    "                 ground_spacing = '10um', \n",
    "                 claw_gap = '5.1um', \n",
    "                 claw_width = '15um',\n",
    "                 claw_cpw_length = 0),\n",
    "        # d = dict(connector_location = '270', connector_type = '0'),\n",
    "    ),\n",
    "    cross_width = '30um',\n",
    "    cross_length = '240um',\n",
    "    cross_gap = '30um',\n",
    "    orientation = '-90',\n",
    "    pos_x = '-1500um',\n",
    "    pos_y = '1200um'\n",
    ")\n",
    "\n",
    "# Create a new Transmon Cross object with name 'Q1'\n",
    "q1 = TransmonCross(design, 'Q1', options=xmon1_options)\n",
    "\n",
    "# otg_options = dict(width = '5.85um', \n",
    "#                    gap = '5.1um', \n",
    "#                 #    termination_gap = '500um',\n",
    "#                    pos_x='-30um',  \n",
    "#                    pos_y='1313um', \n",
    "#                    orientation='90')\n",
    "\n",
    "# otg = OpenToGround(design, 'open_to_ground', options=otg_options)\n",
    "\n"
   ]
  },
  {
   "cell_type": "code",
   "execution_count": 7,
   "metadata": {},
   "outputs": [],
   "source": [
    "xmon2_options = dict(\n",
    "    connection_pads=dict(\n",
    "        # a = dict( connector_location = '0', connector_type = '0'),\n",
    "        # b = dict(connector_location = '90', connector_type = '0'),\n",
    "        c = dict(connector_location = '90', \n",
    "                 connector_type = '0', \n",
    "                 claw_length = '185.9um',\n",
    "                 ground_spacing = '4.1um', \n",
    "                 claw_gap = '5.1um', \n",
    "                 claw_width = '15.9um',\n",
    "                 claw_cpw_length = 0),\n",
    "        # d = dict(connector_location = '270', connector_type = '0'),\n",
    "    ),\n",
    "    cross_width = '30.9um',\n",
    "    cross_length = '200.9um',\n",
    "    cross_gap = '29.1um',\n",
    "    orientation = '90',\n",
    "    pos_x = '2000um',\n",
    "    pos_y = '1700um'\n",
    ")\n",
    "\n",
    "# Create a new Transmon Cross object with name 'Q1'\n",
    "q2 = TransmonCross(design, 'Q2', options=xmon2_options)"
   ]
  },
  {
   "cell_type": "code",
   "execution_count": 8,
   "metadata": {},
   "outputs": [],
   "source": [
    "xmon3_options = dict(\n",
    "    connection_pads=dict(\n",
    "        # a = dict( connector_location = '0', connector_type = '0'),\n",
    "        # b = dict(connector_location = '90', connector_type = '0'),\n",
    "        c = dict(connector_location = '90', \n",
    "                 connector_type = '0', \n",
    "                 claw_length = '185um',\n",
    "                 ground_spacing = '5um', \n",
    "                 claw_gap = '5.1um', \n",
    "                 claw_width = '10um',\n",
    "                 claw_cpw_length = 0),\n",
    "        # d = dict(connector_location = '270', connector_type = '0'),\n",
    "    ),\n",
    "    cross_width = '30um',\n",
    "    cross_length = '200um',\n",
    "    cross_gap = '30um',\n",
    "    orientation = '-90',\n",
    "    pos_x = '-2000um',\n",
    "    pos_y = '-300um'\n",
    ")\n",
    "\n",
    "# Create a new Transmon Cross object with name 'Q1'\n",
    "q3 = TransmonCross(design, 'Q3', options=xmon3_options)"
   ]
  },
  {
   "cell_type": "code",
   "execution_count": 9,
   "metadata": {},
   "outputs": [],
   "source": [
    "xmon4_options = dict(\n",
    "    connection_pads=dict(\n",
    "        # a = dict( connector_location = '0', connector_type = '0'),\n",
    "        # b = dict(connector_location = '90', connector_type = '0'),\n",
    "        c = dict(connector_location = '90', \n",
    "                 connector_type = '0', \n",
    "                 claw_length = '215.9um',\n",
    "                 ground_spacing = '9.1um', \n",
    "                 claw_gap = '5.1um', \n",
    "                 claw_width = '15.9um',\n",
    "                 claw_cpw_length = 0),\n",
    "        # d = dict(connector_location = '270', connector_type = '0'),\n",
    "    ),\n",
    "    cross_width = '30.9um',\n",
    "    cross_length = '240.9um',\n",
    "    cross_gap = '29.1um',\n",
    "    orientation = '90',\n",
    "    pos_x = '1500um',\n",
    "    pos_y = '250um'\n",
    ")\n",
    "\n",
    "# Create a new Transmon Cross object with name 'Q1'\n",
    "q4 = TransmonCross(design, 'Q4', options=xmon4_options)"
   ]
  },
  {
   "cell_type": "code",
   "execution_count": 10,
   "metadata": {},
   "outputs": [],
   "source": [
    "xmon5_options = dict(\n",
    "    connection_pads=dict(\n",
    "        # a = dict( connector_location = '0', connector_type = '0'),\n",
    "        # b = dict(connector_location = '90', connector_type = '0'),\n",
    "        c = dict(connector_location = '90', \n",
    "                 connector_type = '0', \n",
    "                 claw_length = '215.9um',\n",
    "                 ground_spacing = '9.1um', \n",
    "                 claw_gap = '5.1um', \n",
    "                 claw_width = '15.9um',\n",
    "                 claw_cpw_length = 0),\n",
    "        # d = dict(connector_location = '270', connector_type = '0'),\n",
    "    ),\n",
    "    cross_width = '30.9um',\n",
    "    cross_length = '240.9um',\n",
    "    cross_gap = '29.1um',\n",
    "    orientation = '-90',\n",
    "    pos_x = '-1500um',\n",
    "    pos_y = '-1500um'\n",
    ")\n",
    "\n",
    "# Create a new Transmon Cross object with name 'Q1'\n",
    "q5 = TransmonCross(design, 'Q5', options=xmon5_options)"
   ]
  },
  {
   "cell_type": "code",
   "execution_count": 11,
   "metadata": {},
   "outputs": [],
   "source": [
    "xmon6_options = dict(\n",
    "    connection_pads=dict(\n",
    "        # a = dict( connector_location = '0', connector_type = '0'),\n",
    "        # b = dict(connector_location = '90', connector_type = '0'),\n",
    "        c = dict(connector_location = '90', \n",
    "                 connector_type = '0', \n",
    "                 claw_length = '200.9um',\n",
    "                 ground_spacing = '10.9um', \n",
    "                 claw_gap = '5.1um', \n",
    "                 claw_width = '10.9um',\n",
    "                 claw_cpw_width = cpw_width,\n",
    "                 claw_cpw_length = '0'),\n",
    "        # d = dict(connector_location = '270', connector_type = '0'),\n",
    "    ),\n",
    "    cross_width = '30.9um',\n",
    "    cross_length = '220.9um',\n",
    "    cross_gap = '29.1um',\n",
    "    orientation = '90',\n",
    "    pos_x = '2000um',\n",
    "    pos_y = '-1200um'\n",
    ")\n",
    "\n",
    "# Create a new Transmon Cross object with name 'Q1'\n",
    "q6 = TransmonCross(design, 'Q6', options=xmon6_options)"
   ]
  },
  {
   "cell_type": "code",
   "execution_count": 12,
   "metadata": {},
   "outputs": [],
   "source": [
    "stg_opts = Dict(pos_x = '-29.8um',\n",
    "                pos_y = '1312.5um',\n",
    "                orientation = '90',\n",
    "                # width = cpw_width)\n",
    ")\n",
    "stg = ShortToGround(design, 'stg', options = stg_opts)\n",
    "\n",
    "jogsS = OrderedDict()\n",
    "jogsS[0] = ['R', '51.6um']\n",
    "\n",
    "clt1_opts = Dict(prime_width = cpw_width,\n",
    "                prime_gap = '5.1um',\n",
    "                second_width = cpw_width,\n",
    "                second_gap = '5.1um',\n",
    "                coupling_space = '7.9um',\n",
    "                coupling_length = '225um',\n",
    "                open_termination = False,\n",
    "                orientation = '-90',\n",
    "                pos_y = '1200um',\n",
    "                down_length = '50um')\n",
    "\n",
    "clt1 = CoupledLineTee(design, 'clt1', clt1_opts)\n",
    "\n",
    "cpw_total_length = 5160 + 716 + 300 + 1881.18568\n",
    "cpw_total_length = str(cpw_total_length) + 'um'\n",
    "cpw1_opts = Dict(pin_inputs = Dict(start_pin = Dict(component = 'clt1',\n",
    "                                                    pin = 'second_end'),\n",
    "                                   end_pin = Dict(component = 'Q1',\n",
    "                                                  pin = 'c')),\n",
    "                lead = Dict(end_straight = '70um',\n",
    "                            # start_jogged_extension = jogsS),\n",
    "                ),\n",
    "                fillet = '49.9um',\n",
    "                total_length = '3900um',#'3893.8166um', # '6776um',\n",
    "                trace_width = cpw_width,\n",
    "                meander = Dict(spacing = '100um',\n",
    "                               asymmetry = '-150um'),\n",
    "                trace_gap = '5.1um',)\n",
    "cpw1 = RouteMeander(design, 'cpw1', options = cpw1_opts)"
   ]
  },
  {
   "cell_type": "code",
   "execution_count": 13,
   "metadata": {},
   "outputs": [],
   "source": [
    "ncap2_opts = Dict(pos_x = '0',\n",
    "                  pos_y = '1700um',\n",
    "                  orientation = '90',\n",
    "                  prime_width = cpw_width,\n",
    "                  prime_gap = '5.1um',\n",
    "                  second_width = cpw_width,\n",
    "                  second_gap = '5.1um',\n",
    "                  cap_gap = '4.1um',\n",
    "                  cap_width = '10.9um',\n",
    "                  cap_gap_ground = '5.1um',\n",
    "                  finger_length = '30.9um',\n",
    "                  finger_count = '10',\n",
    "                  cap_distance = '50.9um',\n",
    "                  )\n",
    "\n",
    "NCap2 = CapNInterdigitalTee(design, 'ncap2', options = ncap2_opts)\n",
    "\n",
    "cpw_total_length = 5160 + 716 + 300 + 1881.18568\n",
    "cpw_total_length = str(cpw_total_length) + 'um'\n",
    "cpw2_opts = Dict(pin_inputs = Dict(start_pin = Dict(component = 'ncap2',\n",
    "                                                    pin = 'second_end'),\n",
    "                                   end_pin = Dict(component = 'Q2',\n",
    "                                                  pin = 'c')),\n",
    "                lead = Dict(start_straight = '100um',\n",
    "                            end_straight = '170um'),\n",
    "                fillet = '49.9um',\n",
    "                total_length = '8150um', # '6776um',\n",
    "                trace_width = cpw_width,\n",
    "                meander = Dict(spacing = '100um',\n",
    "                               asymmetry = '-150um'),\n",
    "                trace_gap = '5.1um')\n",
    "cpw2 = RouteMeander(design, 'cpw2', options = cpw2_opts)"
   ]
  },
  {
   "cell_type": "code",
   "execution_count": 14,
   "metadata": {},
   "outputs": [],
   "source": [
    "ncap3_opts = Dict(pos_x = '0',\n",
    "                  pos_y = '-300um',\n",
    "                  orientation = '-90',\n",
    "                  prime_width = cpw_width,\n",
    "                  prime_gap = '5.1um',\n",
    "                  second_width = cpw_width,\n",
    "                  second_gap = '5.1um',\n",
    "                  cap_gap = '4.1um',\n",
    "                  cap_width = '10.9um',\n",
    "                  cap_gap_ground = '5.1um',\n",
    "                  finger_length = '30.9um',\n",
    "                  finger_count = '7',\n",
    "                  cap_distance = '50.9um',\n",
    "                  )\n",
    "\n",
    "NCap3 = CapNInterdigitalTee(design, 'ncap3', options = ncap3_opts)\n",
    "\n",
    "cpw_total_length = 5160 + 716 + 300 + 1881.18568\n",
    "cpw_total_length = str(cpw_total_length) + 'um'\n",
    "cpw3_opts = Dict(pin_inputs = Dict(start_pin = Dict(component = 'ncap3',\n",
    "                                                    pin = 'second_end'),\n",
    "                                   end_pin = Dict(component = 'Q3',\n",
    "                                                  pin = 'c')),\n",
    "                lead = Dict(start_straight = '100um'),\n",
    "                fillet = '49.9um',\n",
    "                total_length = '8025um', # '6776um',\n",
    "                trace_width = cpw_width,\n",
    "                meander = Dict(spacing = '100um',\n",
    "                               asymmetry = '-150um'),\n",
    "                trace_gap = '5.1um')\n",
    "cpw3 = RouteMeander(design, 'cpw3', options = cpw3_opts)"
   ]
  },
  {
   "cell_type": "code",
   "execution_count": 15,
   "metadata": {},
   "outputs": [],
   "source": [
    "stg_opts = Dict(pos_x = '29.8um',\n",
    "                pos_y = '137.5um',\n",
    "                orientation = '-90',\n",
    "                width = cpw_width)\n",
    "stg4 = ShortToGround(design, 'stg4', options = stg_opts)\n",
    "\n",
    "jogsS = OrderedDict()\n",
    "jogsS[0] = ['R', '80.0um']\n",
    "\n",
    "clt4_opts = Dict(prime_width = cpw_width,\n",
    "                prime_gap = '5.1um',\n",
    "                second_width = cpw_width,\n",
    "                second_gap = '5.1um',\n",
    "                coupling_space = '7.9um',\n",
    "                coupling_length = '225um',\n",
    "                open_termination = False,\n",
    "                orientation = '90',\n",
    "                pos_y = '250um',\n",
    "                down_length = '50um')\n",
    "\n",
    "clt4 = CoupledLineTee(design, 'clt4', clt4_opts)\n",
    "\n",
    "cpw_total_length = 5160 + 716 + 300 + 1881.18568\n",
    "cpw_total_length = str(cpw_total_length) + 'um'\n",
    "cpw4_opts = Dict(pin_inputs = Dict(start_pin = Dict(component = 'clt4',\n",
    "                                                    pin = 'second_end'),\n",
    "                                   end_pin = Dict(component = 'Q4',\n",
    "                                                  pin = 'c')),\n",
    "                lead = Dict(end_straight = '70um',\n",
    "                            # start_jogged_extension = jogsS),\n",
    "                ),\n",
    "                fillet = '49.9um',\n",
    "                total_length = '3700um', # '6776um',\n",
    "                trace_width = cpw_width,\n",
    "                meander = Dict(spacing = '100um',\n",
    "                               asymmetry = '-150um'),\n",
    "                trace_gap = '5.1um')\n",
    "cpw4 = RouteMeander(design, 'cpw4', options = cpw4_opts)"
   ]
  },
  {
   "cell_type": "code",
   "execution_count": 16,
   "metadata": {},
   "outputs": [],
   "source": [
    "stg_opts = Dict(pos_x = '-29.8um',\n",
    "                pos_y = '-1387.5um',\n",
    "                orientation = '90',\n",
    "                width = cpw_width)\n",
    "stg5 = ShortToGround(design, 'stg5', options = stg_opts)\n",
    "\n",
    "jogsS = OrderedDict()\n",
    "jogsS[0] = ['R', '80.0um']\n",
    "\n",
    "clt5_opts = Dict(prime_width = cpw_width,\n",
    "                prime_gap = '5.1um',\n",
    "                second_width = cpw_width,\n",
    "                second_gap = '5.1um',\n",
    "                coupling_space = '7.9um',\n",
    "                coupling_length = '225um',\n",
    "                open_termination = False,\n",
    "                orientation = '-90',\n",
    "                pos_y = '-1500um',\n",
    "                down_length = '50um')\n",
    "\n",
    "clt5 = CoupledLineTee(design, 'clt5', clt5_opts)\n",
    "\n",
    "cpw_total_length = 5160 + 716 + 300 + 1881.18568\n",
    "cpw_total_length = str(cpw_total_length) + 'um'\n",
    "cpw5_opts = Dict(pin_inputs = Dict(start_pin = Dict(component = 'clt5',\n",
    "                                                    pin = 'second_end'),\n",
    "                                   end_pin = Dict(component = 'Q5',\n",
    "                                                  pin = 'c')),\n",
    "                lead = Dict(start_straight = '10um',\n",
    "                            end_straight = '70um'),\n",
    "                #             ),\n",
    "                fillet = '49.9um',\n",
    "                total_length = '3550um', # '6776um',\n",
    "                trace_width = cpw_width,\n",
    "                meander = Dict(spacing = '100um',\n",
    "                               asymmetry = '-150um'),\n",
    "                trace_gap = '5.1um')\n",
    "cpw5 = RouteMeander(design, 'cpw5', options = cpw5_opts)"
   ]
  },
  {
   "cell_type": "code",
   "execution_count": 17,
   "metadata": {},
   "outputs": [],
   "source": [
    "ncap6_opts = Dict(pos_x = '0',\n",
    "                  pos_y = '-1000um',\n",
    "                  orientation = '90',\n",
    "                  prime_width = cpw_width,\n",
    "                  prime_gap = '5.1um',\n",
    "                  second_width = cpw_width,\n",
    "                  second_gap = '5.1um',\n",
    "                  cap_gap = '4.1um',\n",
    "                  cap_width = '10.9um',\n",
    "                  cap_gap_ground = '5.1um',\n",
    "                  finger_length = '30.9um',\n",
    "                  finger_count = '4',\n",
    "                  cap_distance = '50.9um',\n",
    "                  )\n",
    "\n",
    "NCap6 = CapNInterdigitalTee(design, 'ncap6', options = ncap6_opts)\n",
    "\n",
    "cpw6_opts = Dict(pin_inputs = Dict(start_pin = Dict(component = 'ncap6',\n",
    "                                                    pin = 'second_end'),\n",
    "                                   end_pin = Dict(component = 'Q6',\n",
    "                                                  pin = 'c')),\n",
    "                lead = Dict(start_straight = '100um',\n",
    "                            end_straight = '70um'),\n",
    "                fillet = '49.9um',\n",
    "                total_length = '8000um',\n",
    "                trace_width = cpw_width,\n",
    "                meander = Dict(spacing = '100um',\n",
    "                               asymmetry = '-150um'),\n",
    "                trace_gap = '5.1um')\n",
    "cpw6 = RouteMeander(design, 'cpw6', options = cpw6_opts)"
   ]
  },
  {
   "cell_type": "code",
   "execution_count": 18,
   "metadata": {},
   "outputs": [],
   "source": [
    "RouteStraight.get_template_options(design)\n",
    "feedline_opts = Dict(pin_inputs = Dict(start_pin = Dict(component = 'wb_top',\n",
    "                                                        pin = 'tie'),\n",
    "                                       end_pin = Dict(component = 'ncap2',\n",
    "                                                      pin = 'prime_end')),\n",
    "                     trace_width = cpw_width,\n",
    "                     trace_gap = '5.1um')\n",
    "feedline = RouteStraight(design, 'feedline', options = feedline_opts)\n",
    "\n",
    "feedline_opts = Dict(pin_inputs = Dict(start_pin = Dict(component = 'ncap2',\n",
    "                                                        pin = 'prime_start'),\n",
    "                                       end_pin = Dict(component = 'ncap3',\n",
    "                                                      pin = 'prime_start')),\n",
    "                     trace_width = cpw_width,\n",
    "                     trace_gap = '5.1um')\n",
    "feedline2 = RouteStraight(design, 'feedline2', options = feedline_opts)\n",
    "\n",
    "feedline_opts = Dict(pin_inputs = Dict(start_pin = Dict(component = 'ncap3',\n",
    "                                                        pin = 'prime_end'),\n",
    "                                       end_pin = Dict(component = 'ncap6',\n",
    "                                                      pin = 'prime_end')),\n",
    "                     trace_width = cpw_width,\n",
    "                     trace_gap = '5.1um')\n",
    "feedline3 = RouteStraight(design, 'feedline3', options = feedline_opts)\n",
    "\n",
    "feedline_opts = Dict(pin_inputs = Dict(start_pin = Dict(component = 'ncap6',\n",
    "                                                        pin = 'prime_start'),\n",
    "                                       end_pin = Dict(component = 'wb_bottom',\n",
    "                                                      pin = 'tie')),\n",
    "                     trace_width = cpw_width,\n",
    "                     trace_gap = '5.1um')\n",
    "feedline4 = RouteStraight(design, 'feedline4', options = feedline_opts)"
   ]
  },
  {
   "cell_type": "code",
   "execution_count": 19,
   "metadata": {},
   "outputs": [],
   "source": [
    "gui.rebuild()\n",
    "gui.autoscale()\n",
    "gui.zoom_on_components(['clt5', 'Q5'])\n",
    "# gui.screenshot()"
   ]
  },
  {
   "attachments": {},
   "cell_type": "markdown",
   "metadata": {},
   "source": [
    "# Simulations"
   ]
  },
  {
   "cell_type": "code",
   "execution_count": 20,
   "metadata": {},
   "outputs": [],
   "source": [
    "from qiskit_metal.renderers.renderer_ansys_pyaedt.hfss_renderer_eigenmode_aedt import QHFSSEigenmodePyaedt\n",
    "import pyEPR as epr"
   ]
  },
  {
   "cell_type": "code",
   "execution_count": 21,
   "metadata": {},
   "outputs": [
    {
     "name": "stdout",
     "output_type": "stream",
     "text": [
      "pyaedt INFO: using existing logger.\n"
     ]
    },
    {
     "name": "stderr",
     "output_type": "stream",
     "text": [
      "INFO:Global:using existing logger.\n"
     ]
    },
    {
     "name": "stdout",
     "output_type": "stream",
     "text": [
      "pyaedt INFO: Launching PyAEDT outside AEDT with CPython and PythonNET.\n"
     ]
    },
    {
     "name": "stderr",
     "output_type": "stream",
     "text": [
      "INFO:Global:Launching PyAEDT outside AEDT with CPython and PythonNET.\n"
     ]
    },
    {
     "name": "stdout",
     "output_type": "stream",
     "text": [
      "pyaedt INFO: AEDT installation Path C:\\Program Files\\AnsysEM\\AnsysEM21.1\\Win64.\n"
     ]
    },
    {
     "name": "stderr",
     "output_type": "stream",
     "text": [
      "INFO:Global:AEDT installation Path C:\\Program Files\\AnsysEM\\AnsysEM21.1\\Win64.\n"
     ]
    },
    {
     "name": "stdout",
     "output_type": "stream",
     "text": [
      "pyaedt INFO: Launching AEDT with module PythonNET.\n"
     ]
    },
    {
     "name": "stderr",
     "output_type": "stream",
     "text": [
      "INFO:Global:Launching AEDT with module PythonNET.\n"
     ]
    },
    {
     "name": "stdout",
     "output_type": "stream",
     "text": [
      "pyaedt WARNING: PyAEDT is not supported in AEDT versions earlier than 2021 R2. Trying to launch PyAEDT with PyWin32.\n"
     ]
    },
    {
     "name": "stderr",
     "output_type": "stream",
     "text": [
      "WARNING:Global:PyAEDT is not supported in AEDT versions earlier than 2021 R2. Trying to launch PyAEDT with PyWin32.\n"
     ]
    },
    {
     "name": "stdout",
     "output_type": "stream",
     "text": [
      "pyaedt INFO: pyaedt v0.6.46\n"
     ]
    },
    {
     "name": "stderr",
     "output_type": "stream",
     "text": [
      "INFO:Global:pyaedt v0.6.46\n"
     ]
    },
    {
     "name": "stdout",
     "output_type": "stream",
     "text": [
      "pyaedt INFO: Python version 3.11.3 | packaged by conda-forge | (main, Apr  6 2023, 08:50:54) [MSC v.1934 64 bit (AMD64)]\n"
     ]
    },
    {
     "name": "stderr",
     "output_type": "stream",
     "text": [
      "INFO:Global:Python version 3.11.3 | packaged by conda-forge | (main, Apr  6 2023, 08:50:54) [MSC v.1934 64 bit (AMD64)]\n"
     ]
    },
    {
     "name": "stdout",
     "output_type": "stream",
     "text": [
      "pyaedt INFO: Project Modified_Candle_Andre_proj has been created.\n"
     ]
    },
    {
     "name": "stderr",
     "output_type": "stream",
     "text": [
      "INFO:Global:Project Modified_Candle_Andre_proj has been created.\n"
     ]
    },
    {
     "name": "stdout",
     "output_type": "stream",
     "text": [
      "pyaedt INFO: Added design 'Modified_Candle_Andre_design' of type HFSS.\n"
     ]
    },
    {
     "name": "stderr",
     "output_type": "stream",
     "text": [
      "INFO:Global:Added design 'Modified_Candle_Andre_design' of type HFSS.\n"
     ]
    },
    {
     "name": "stdout",
     "output_type": "stream",
     "text": [
      "pyaedt INFO: Aedt Objects initialized\n"
     ]
    },
    {
     "name": "stderr",
     "output_type": "stream",
     "text": [
      "INFO:Global:Aedt Objects initialized\n"
     ]
    },
    {
     "name": "stdout",
     "output_type": "stream",
     "text": [
      "pyaedt INFO: Variable Manager initialized\n"
     ]
    },
    {
     "name": "stderr",
     "output_type": "stream",
     "text": [
      "INFO:Global:Variable Manager initialized\n"
     ]
    },
    {
     "name": "stdout",
     "output_type": "stream",
     "text": [
      "pyaedt INFO: Design Loaded\n"
     ]
    },
    {
     "name": "stderr",
     "output_type": "stream",
     "text": [
      "INFO:Global:Design Loaded\n"
     ]
    },
    {
     "name": "stdout",
     "output_type": "stream",
     "text": [
      "pyaedt INFO: Successfully loaded project materials !\n"
     ]
    },
    {
     "name": "stderr",
     "output_type": "stream",
     "text": [
      "INFO:Global:Successfully loaded project materials !\n"
     ]
    },
    {
     "name": "stdout",
     "output_type": "stream",
     "text": [
      "pyaedt INFO: Materials Loaded\n"
     ]
    },
    {
     "name": "stderr",
     "output_type": "stream",
     "text": [
      "INFO:Global:Materials Loaded\n"
     ]
    },
    {
     "name": "stdout",
     "output_type": "stream",
     "text": [
      "pyaedt INFO: aedt file load time 0.0020012855529785156\n"
     ]
    },
    {
     "name": "stderr",
     "output_type": "stream",
     "text": [
      "INFO:Global:aedt file load time 0.0020012855529785156\n"
     ]
    },
    {
     "name": "stdout",
     "output_type": "stream",
     "text": [
      "pyaedt INFO: Project Modified_Candle_Andre_proj set to active.\n"
     ]
    },
    {
     "name": "stderr",
     "output_type": "stream",
     "text": [
      "INFO:Global:Project Modified_Candle_Andre_proj set to active.\n"
     ]
    },
    {
     "name": "stdout",
     "output_type": "stream",
     "text": [
      "pyaedt INFO: Aedt Objects initialized\n"
     ]
    },
    {
     "name": "stderr",
     "output_type": "stream",
     "text": [
      "INFO:Global:Aedt Objects initialized\n"
     ]
    },
    {
     "name": "stdout",
     "output_type": "stream",
     "text": [
      "pyaedt INFO: Variable Manager initialized\n"
     ]
    },
    {
     "name": "stderr",
     "output_type": "stream",
     "text": [
      "INFO:Global:Variable Manager initialized\n"
     ]
    },
    {
     "name": "stdout",
     "output_type": "stream",
     "text": [
      "pyaedt INFO: Design Loaded\n"
     ]
    },
    {
     "name": "stderr",
     "output_type": "stream",
     "text": [
      "INFO:Global:Design Loaded\n"
     ]
    },
    {
     "name": "stdout",
     "output_type": "stream",
     "text": [
      "pyaedt INFO: Successfully loaded project materials !\n"
     ]
    },
    {
     "name": "stderr",
     "output_type": "stream",
     "text": [
      "INFO:Global:Successfully loaded project materials !\n"
     ]
    },
    {
     "name": "stdout",
     "output_type": "stream",
     "text": [
      "pyaedt INFO: Materials Loaded\n"
     ]
    },
    {
     "name": "stderr",
     "output_type": "stream",
     "text": [
      "INFO:Global:Materials Loaded\n"
     ]
    },
    {
     "name": "stdout",
     "output_type": "stream",
     "text": [
      "pyaedt INFO: Project Modified_Candle_Andre_proj set to active.\n"
     ]
    },
    {
     "name": "stderr",
     "output_type": "stream",
     "text": [
      "INFO:Global:Project Modified_Candle_Andre_proj set to active.\n"
     ]
    },
    {
     "name": "stdout",
     "output_type": "stream",
     "text": [
      "pyaedt INFO: Aedt Objects initialized\n"
     ]
    },
    {
     "name": "stderr",
     "output_type": "stream",
     "text": [
      "INFO:Global:Aedt Objects initialized\n"
     ]
    },
    {
     "name": "stdout",
     "output_type": "stream",
     "text": [
      "pyaedt INFO: Variable Manager initialized\n"
     ]
    },
    {
     "name": "stderr",
     "output_type": "stream",
     "text": [
      "INFO:Global:Variable Manager initialized\n"
     ]
    },
    {
     "name": "stdout",
     "output_type": "stream",
     "text": [
      "pyaedt INFO: Design Loaded\n"
     ]
    },
    {
     "name": "stderr",
     "output_type": "stream",
     "text": [
      "INFO:Global:Design Loaded\n"
     ]
    },
    {
     "name": "stdout",
     "output_type": "stream",
     "text": [
      "pyaedt INFO: Successfully loaded project materials !\n"
     ]
    },
    {
     "name": "stderr",
     "output_type": "stream",
     "text": [
      "INFO:Global:Successfully loaded project materials !\n"
     ]
    },
    {
     "name": "stdout",
     "output_type": "stream",
     "text": [
      "pyaedt INFO: Materials Loaded\n"
     ]
    },
    {
     "name": "stderr",
     "output_type": "stream",
     "text": [
      "INFO:Global:Materials Loaded\n"
     ]
    }
   ],
   "source": [
    "em1_aedt = QHFSSEigenmodePyaedt(design, \n",
    "                                'Modified_Candle_Andre_proj',\n",
    "                                'Modified_Candle_Andre_design',\n",
    "                                initiate=True)\n",
    "hfss_aedt = em1_aedt.current_app\n",
    "\n",
    "#### Computer's variables\n",
    "num_cores=16\n",
    "num_gpu=1\n",
    "\n",
    "#### Setup Name\n",
    "setup_name = 'TransmonSetup'\n",
    "\n",
    "# Add Setup\n",
    "setup_options = dict(\n",
    "    name= setup_name,\n",
    "    MinimumFrequency = 3,  # GHz\n",
    "    NumModes= 1,\n",
    "    MaxDeltaFreq = 0.01,\n",
    "    MaximumPasses= 50,\n",
    "    MinimumPasses= None,\n",
    "    MinimumConvergedPasses= 2,\n",
    "    PercentRefinement= 30,\n",
    "    BasisOrder= None\n",
    ")\n",
    "\n",
    "em1_aedt.add_hfss_em_setup(**setup_options)"
   ]
  },
  {
   "cell_type": "code",
   "execution_count": 22,
   "metadata": {},
   "outputs": [],
   "source": [
    "def setup_junctions_for_epr(pinfo):\n",
    "    '''\n",
    "    Tells EPR analysis where junctions in ANSYS are.\n",
    "    \n",
    "    **THIS IS DESIGN SPECIFIC**\n",
    "    If you change number of qubits, you will have\n",
    "    to update this code.\n",
    "    \n",
    "    Args:\n",
    "        pinfo (epr.ProjectInfo): raw project info\n",
    "    \n",
    "    Returns:\n",
    "        pinfo (epr.ProjectInfo): updated project info w/\n",
    "                        junction information.\n",
    "    \n",
    "    '''\n",
    "    # Tell EPR where the junctions are in ANSYS\n",
    "    pinfo.junctions['j1'] = {'Lj_variable' : 'Lj_1', \n",
    "                         'rect'        : 'JJ_rect_Lj_3_rect_jj', \n",
    "                         'line'        : 'JJ_Lj_3_rect_jj_', \n",
    "                         'length'      : epr.parse_units('100um'),\n",
    "                         'Cj_variable': 'Cj'}\n",
    "    pinfo.dissipative['dielectrics_bulk'] = ['layer_3_datatype_0_plane']\n",
    "    \n",
    "    # Confirm junctions are defined properly,\n",
    "    # will break script if they're not.\n",
    "    pinfo.validate_junction_info()  \n",
    "    return pinfo\n",
    "\n",
    "def extract_observables(epra, \n",
    "                        cos_trunc: int = 7, \n",
    "                        fock_trunc: int = 8):\n",
    "    '''\n",
    "    Extract observables from EPR quantum analysis\n",
    "    \n",
    "    Args:\n",
    "        epra (epr.QuantumAnalysis): Raw EPR Quanutm analysis class\n",
    "        cos_trunc (int, optional): amount of terms to consider in cosine expansion\n",
    "        fock_trunc (int, optional): size of fock space before truncation\n",
    "        \n",
    "    Returns:\n",
    "        package (dict): simulated observables\n",
    "    '''\n",
    "    # Run analysis\n",
    "    epra.analyze_all_variations(cos_trunc=cos_trunc, \n",
    "                                fock_trunc=fock_trunc)\n",
    "    \n",
    "    # Extraction of variables\n",
    "    omegas = epra.get_frequencies()\n",
    "    chis = epra.get_chis()\n",
    "    other_data = epra.data\n",
    "    \n",
    "    package = dict(qubit_freq_MHz = omegas['0'][0],\n",
    "                   qubit_anharmonicity_MHz = chis[0][0],\n",
    "                   other_data = str(other_data))\n",
    "    \n",
    "    return package"
   ]
  },
  {
   "cell_type": "code",
   "execution_count": 23,
   "metadata": {},
   "outputs": [],
   "source": [
    "def simulate_qubit(selection):\n",
    "    '''\n",
    "    Args:\n",
    "        selection (str): name of qubit to simulate\n",
    "    '''\n",
    "    ## Clear design\n",
    "    em1_aedt.clean_user_design()\n",
    "    \n",
    "    ## Ljs and Cjs setup\n",
    "    # Grab Lj and Cj from component\n",
    "    component_options = em1_aedt.design.components[selection].options\n",
    "    Lj = component_options.aedt_hfss_eigenmode_inductance\n",
    "    Cj = component_options.aedt_hfss_eigenmode_capacitance\n",
    "    # Change Lj of JJ in ANSYS\n",
    "    variable_manager = hfss_aedt._variable_manager\n",
    "    variable_manager['Lj_1'] = Lj\n",
    "    variable_manager['Cj'] = Cj\n",
    "    \n",
    "    ## Render design in ANSYS\n",
    "    em1_aedt.render_design(selection=[selection])\n",
    "    \n",
    "    hfss_aedt.analyze_setup(name=setup_name, \n",
    "                            num_cores=num_cores, \n",
    "                            num_gpu=num_gpu)\n",
    "    \n",
    "    ## Run EPR ANALYSIS\n",
    "    # Connect EPR to ANSYS\n",
    "    pinfo = epr.ProjectInfo()\n",
    "    pinfo = setup_junctions_for_epr(pinfo) # this function is design specific,\n",
    "                                           # must be changed if adding more qubits\n",
    "    \n",
    "    # Run EPR Analysis\n",
    "    eprh = epr.DistributedAnalysis(pinfo) # \n",
    "    eprh.do_EPR_analysis()\n",
    "    epra = epr.QuantumAnalysis(eprh.data_filename)\n",
    "    \n",
    "    # Extract observables of int\n",
    "    observables = extract_observables(epra)\n",
    "    \n",
    "    return observables"
   ]
  },
  {
   "cell_type": "code",
   "execution_count": 24,
   "metadata": {},
   "outputs": [
    {
     "name": "stdout",
     "output_type": "stream",
     "text": [
      "pyaedt INFO: Project Modified_Candle_Andre_proj set to active.\n"
     ]
    },
    {
     "name": "stderr",
     "output_type": "stream",
     "text": [
      "INFO:Global:Project Modified_Candle_Andre_proj set to active.\n"
     ]
    },
    {
     "name": "stdout",
     "output_type": "stream",
     "text": [
      "pyaedt INFO: Aedt Objects initialized\n"
     ]
    },
    {
     "name": "stderr",
     "output_type": "stream",
     "text": [
      "INFO:Global:Aedt Objects initialized\n"
     ]
    },
    {
     "name": "stdout",
     "output_type": "stream",
     "text": [
      "pyaedt INFO: Variable Manager initialized\n"
     ]
    },
    {
     "name": "stderr",
     "output_type": "stream",
     "text": [
      "INFO:Global:Variable Manager initialized\n"
     ]
    },
    {
     "name": "stdout",
     "output_type": "stream",
     "text": [
      "pyaedt INFO: Design Loaded\n"
     ]
    },
    {
     "name": "stderr",
     "output_type": "stream",
     "text": [
      "INFO:Global:Design Loaded\n"
     ]
    },
    {
     "name": "stdout",
     "output_type": "stream",
     "text": [
      "pyaedt INFO: Successfully loaded project materials !\n"
     ]
    },
    {
     "name": "stderr",
     "output_type": "stream",
     "text": [
      "INFO:Global:Successfully loaded project materials !\n"
     ]
    },
    {
     "name": "stdout",
     "output_type": "stream",
     "text": [
      "pyaedt INFO: Materials Loaded\n"
     ]
    },
    {
     "name": "stderr",
     "output_type": "stream",
     "text": [
      "INFO:Global:Materials Loaded\n"
     ]
    },
    {
     "name": "stdout",
     "output_type": "stream",
     "text": [
      "pyaedt WARNING: No objects to delete\n"
     ]
    },
    {
     "name": "stderr",
     "output_type": "stream",
     "text": [
      "WARNING:Global:No objects to delete\n"
     ]
    },
    {
     "name": "stdout",
     "output_type": "stream",
     "text": [
      "pyaedt INFO: Project Modified_Candle_Andre_proj set to active.\n"
     ]
    },
    {
     "name": "stderr",
     "output_type": "stream",
     "text": [
      "INFO:Global:Project Modified_Candle_Andre_proj set to active.\n"
     ]
    },
    {
     "name": "stdout",
     "output_type": "stream",
     "text": [
      "pyaedt INFO: Aedt Objects initialized\n"
     ]
    },
    {
     "name": "stderr",
     "output_type": "stream",
     "text": [
      "INFO:Global:Aedt Objects initialized\n"
     ]
    },
    {
     "name": "stdout",
     "output_type": "stream",
     "text": [
      "pyaedt INFO: Variable Manager initialized\n"
     ]
    },
    {
     "name": "stderr",
     "output_type": "stream",
     "text": [
      "INFO:Global:Variable Manager initialized\n"
     ]
    },
    {
     "name": "stdout",
     "output_type": "stream",
     "text": [
      "pyaedt INFO: Design Loaded\n"
     ]
    },
    {
     "name": "stderr",
     "output_type": "stream",
     "text": [
      "INFO:Global:Design Loaded\n"
     ]
    },
    {
     "name": "stdout",
     "output_type": "stream",
     "text": [
      "pyaedt INFO: Successfully loaded project materials !\n"
     ]
    },
    {
     "name": "stderr",
     "output_type": "stream",
     "text": [
      "INFO:Global:Successfully loaded project materials !\n"
     ]
    },
    {
     "name": "stdout",
     "output_type": "stream",
     "text": [
      "pyaedt INFO: Materials Loaded\n"
     ]
    },
    {
     "name": "stderr",
     "output_type": "stream",
     "text": [
      "INFO:Global:Materials Loaded\n"
     ]
    },
    {
     "name": "stdout",
     "output_type": "stream",
     "text": [
      "pyaedt INFO: Project Modified_Candle_Andre_proj set to active.\n"
     ]
    },
    {
     "name": "stderr",
     "output_type": "stream",
     "text": [
      "INFO:Global:Project Modified_Candle_Andre_proj set to active.\n"
     ]
    },
    {
     "name": "stdout",
     "output_type": "stream",
     "text": [
      "pyaedt INFO: Aedt Objects initialized\n"
     ]
    },
    {
     "name": "stderr",
     "output_type": "stream",
     "text": [
      "INFO:Global:Aedt Objects initialized\n"
     ]
    },
    {
     "name": "stdout",
     "output_type": "stream",
     "text": [
      "pyaedt INFO: Variable Manager initialized\n"
     ]
    },
    {
     "name": "stderr",
     "output_type": "stream",
     "text": [
      "INFO:Global:Variable Manager initialized\n"
     ]
    },
    {
     "name": "stdout",
     "output_type": "stream",
     "text": [
      "pyaedt INFO: Design Loaded\n"
     ]
    },
    {
     "name": "stderr",
     "output_type": "stream",
     "text": [
      "INFO:Global:Design Loaded\n"
     ]
    },
    {
     "name": "stdout",
     "output_type": "stream",
     "text": [
      "pyaedt INFO: Successfully loaded project materials !\n"
     ]
    },
    {
     "name": "stderr",
     "output_type": "stream",
     "text": [
      "INFO:Global:Successfully loaded project materials !\n"
     ]
    },
    {
     "name": "stdout",
     "output_type": "stream",
     "text": [
      "pyaedt INFO: Materials Loaded\n"
     ]
    },
    {
     "name": "stderr",
     "output_type": "stream",
     "text": [
      "INFO:Global:Materials Loaded\n"
     ]
    },
    {
     "name": "stdout",
     "output_type": "stream",
     "text": [
      "pyaedt WARNING: No objects to delete\n"
     ]
    },
    {
     "name": "stderr",
     "output_type": "stream",
     "text": [
      "WARNING:Global:No objects to delete\n"
     ]
    },
    {
     "name": "stdout",
     "output_type": "stream",
     "text": [
      "pyaedt INFO: Project Modified_Candle_Andre_proj set to active.\n"
     ]
    },
    {
     "name": "stderr",
     "output_type": "stream",
     "text": [
      "INFO:Global:Project Modified_Candle_Andre_proj set to active.\n"
     ]
    },
    {
     "name": "stdout",
     "output_type": "stream",
     "text": [
      "pyaedt INFO: Aedt Objects initialized\n"
     ]
    },
    {
     "name": "stderr",
     "output_type": "stream",
     "text": [
      "INFO:Global:Aedt Objects initialized\n"
     ]
    },
    {
     "name": "stdout",
     "output_type": "stream",
     "text": [
      "pyaedt INFO: Variable Manager initialized\n"
     ]
    },
    {
     "name": "stderr",
     "output_type": "stream",
     "text": [
      "INFO:Global:Variable Manager initialized\n"
     ]
    },
    {
     "name": "stdout",
     "output_type": "stream",
     "text": [
      "pyaedt INFO: Design Loaded\n"
     ]
    },
    {
     "name": "stderr",
     "output_type": "stream",
     "text": [
      "INFO:Global:Design Loaded\n"
     ]
    },
    {
     "name": "stdout",
     "output_type": "stream",
     "text": [
      "pyaedt INFO: Successfully loaded project materials !\n"
     ]
    },
    {
     "name": "stderr",
     "output_type": "stream",
     "text": [
      "INFO:Global:Successfully loaded project materials !\n"
     ]
    },
    {
     "name": "stdout",
     "output_type": "stream",
     "text": [
      "pyaedt INFO: Materials Loaded\n"
     ]
    },
    {
     "name": "stderr",
     "output_type": "stream",
     "text": [
      "INFO:Global:Materials Loaded\n"
     ]
    },
    {
     "name": "stdout",
     "output_type": "stream",
     "text": [
      "pyaedt INFO: Boundary Lumped RLC rlc_JJ_rect_Lj_3_rect_jj has been correctly created.\n"
     ]
    },
    {
     "name": "stderr",
     "output_type": "stream",
     "text": [
      "INFO:Global:Boundary Lumped RLC rlc_JJ_rect_Lj_3_rect_jj has been correctly created.\n"
     ]
    },
    {
     "name": "stdout",
     "output_type": "stream",
     "text": [
      "pyaedt INFO: Project Modified_Candle_Andre_proj set to active.\n"
     ]
    },
    {
     "name": "stderr",
     "output_type": "stream",
     "text": [
      "INFO:Global:Project Modified_Candle_Andre_proj set to active.\n"
     ]
    },
    {
     "name": "stdout",
     "output_type": "stream",
     "text": [
      "pyaedt INFO: Aedt Objects initialized\n"
     ]
    },
    {
     "name": "stderr",
     "output_type": "stream",
     "text": [
      "INFO:Global:Aedt Objects initialized\n"
     ]
    },
    {
     "name": "stdout",
     "output_type": "stream",
     "text": [
      "pyaedt INFO: Variable Manager initialized\n"
     ]
    },
    {
     "name": "stderr",
     "output_type": "stream",
     "text": [
      "INFO:Global:Variable Manager initialized\n"
     ]
    },
    {
     "name": "stdout",
     "output_type": "stream",
     "text": [
      "pyaedt INFO: Design Loaded\n"
     ]
    },
    {
     "name": "stderr",
     "output_type": "stream",
     "text": [
      "INFO:Global:Design Loaded\n"
     ]
    },
    {
     "name": "stdout",
     "output_type": "stream",
     "text": [
      "pyaedt INFO: Successfully loaded project materials !\n"
     ]
    },
    {
     "name": "stderr",
     "output_type": "stream",
     "text": [
      "INFO:Global:Successfully loaded project materials !\n"
     ]
    },
    {
     "name": "stdout",
     "output_type": "stream",
     "text": [
      "pyaedt INFO: Materials Loaded\n"
     ]
    },
    {
     "name": "stderr",
     "output_type": "stream",
     "text": [
      "INFO:Global:Materials Loaded\n"
     ]
    },
    {
     "name": "stdout",
     "output_type": "stream",
     "text": [
      "pyaedt INFO: Key Desktop/ActiveDSOConfigurations/HFSS correctly changed.\n"
     ]
    },
    {
     "name": "stderr",
     "output_type": "stream",
     "text": [
      "INFO:Global:Key Desktop/ActiveDSOConfigurations/HFSS correctly changed.\n"
     ]
    },
    {
     "name": "stdout",
     "output_type": "stream",
     "text": [
      "pyaedt INFO: Solving design setup TransmonSetup\n"
     ]
    },
    {
     "name": "stderr",
     "output_type": "stream",
     "text": [
      "INFO:Global:Solving design setup TransmonSetup\n"
     ]
    },
    {
     "name": "stdout",
     "output_type": "stream",
     "text": [
      "pyaedt INFO: Key Desktop/ActiveDSOConfigurations/HFSS correctly changed.\n"
     ]
    },
    {
     "name": "stderr",
     "output_type": "stream",
     "text": [
      "INFO:Global:Key Desktop/ActiveDSOConfigurations/HFSS correctly changed.\n"
     ]
    },
    {
     "name": "stdout",
     "output_type": "stream",
     "text": [
      "pyaedt ERROR: Error in Solving Setup TransmonSetup\n"
     ]
    },
    {
     "name": "stderr",
     "output_type": "stream",
     "text": [
      "ERROR:Global:Error in Solving Setup TransmonSetup\n",
      "INFO 06:16PM [connect_project]: Connecting to Ansys Desktop API...\n",
      "INFO 06:16PM [load_ansys_project]: \tOpened Ansys App\n",
      "INFO 06:16PM [load_ansys_project]: \tOpened Ansys Desktop v2021.1.0\n",
      "INFO 06:16PM [load_ansys_project]: \tOpened Ansys Project\n",
      "\tFolder:    C:/Users/lfl/Documents/Ansoft/\n",
      "\tProject:   Modified_Candle_Andre_proj\n",
      "INFO 06:16PM [connect_design]: \tOpened active design\n",
      "\tDesign:    Modified_Candle_Andre_design [Solution type: Eigenmode]\n",
      "INFO 06:16PM [get_setup]: \tOpened setup `TransmonSetup`  (<class 'pyEPR.ansys.HfssEMSetup'>)\n",
      "INFO 06:16PM [connect]: \tConnected to project \"Modified_Candle_Andre_proj\" and design \"Modified_Candle_Andre_design\" 😀 \n",
      "\n"
     ]
    },
    {
     "name": "stdout",
     "output_type": "stream",
     "text": [
      "Design \"Modified_Candle_Andre_design\" info:\n",
      "\t# eigenmodes    1\n",
      "\t# variations    0\n",
      "\n",
      "ANALYSIS DONE. Data saved to:\n",
      "\n",
      "C:\\data-pyEPR\\Modified_Candle_Andre_proj\\Modified_Candle_Andre_design\\2023-05-25 18-16-47.npz\n",
      "\n",
      "\n"
     ]
    },
    {
     "ename": "FileNotFoundError",
     "evalue": "[Errno 2] No such file or directory: 'C:\\\\data-pyEPR\\\\Modified_Candle_Andre_proj\\\\Modified_Candle_Andre_design\\\\2023-05-25 18-16-47.npz'",
     "output_type": "error",
     "traceback": [
      "\u001b[1;31m---------------------------------------------------------------------------\u001b[0m",
      "\u001b[1;31mFileNotFoundError\u001b[0m                         Traceback (most recent call last)",
      "Cell \u001b[1;32mIn[24], line 1\u001b[0m\n\u001b[1;32m----> 1\u001b[0m simulate_qubit(\u001b[39m'\u001b[39;49m\u001b[39mQ1\u001b[39;49m\u001b[39m'\u001b[39;49m)\n",
      "Cell \u001b[1;32mIn[23], line 35\u001b[0m, in \u001b[0;36msimulate_qubit\u001b[1;34m(selection)\u001b[0m\n\u001b[0;32m     33\u001b[0m eprh \u001b[39m=\u001b[39m epr\u001b[39m.\u001b[39mDistributedAnalysis(pinfo) \u001b[39m# \u001b[39;00m\n\u001b[0;32m     34\u001b[0m eprh\u001b[39m.\u001b[39mdo_EPR_analysis()\n\u001b[1;32m---> 35\u001b[0m epra \u001b[39m=\u001b[39m epr\u001b[39m.\u001b[39;49mQuantumAnalysis(eprh\u001b[39m.\u001b[39;49mdata_filename)\n\u001b[0;32m     37\u001b[0m \u001b[39m# Extract observables of int\u001b[39;00m\n\u001b[0;32m     38\u001b[0m observables \u001b[39m=\u001b[39m extract_observables(epra)\n",
      "File \u001b[1;32mc:\\Users\\lfl\\AppData\\Local\\miniconda3\\envs\\qiskit_metal\\Lib\\site-packages\\pyEPR\\core_quantum_analysis.py:236\u001b[0m, in \u001b[0;36mQuantumAnalysis.__init__\u001b[1;34m(self, data_filename, variations, do_print_info, Res_hamil_filename)\u001b[0m\n\u001b[0;32m    232\u001b[0m \u001b[39mself\u001b[39m\u001b[39m.\u001b[39mdata_filename \u001b[39m=\u001b[39m data_filename\n\u001b[0;32m    233\u001b[0m \u001b[39mself\u001b[39m\u001b[39m.\u001b[39mresults \u001b[39m=\u001b[39m HamiltonianResultsContainer(dict_file\u001b[39m=\u001b[39mRes_hamil_filename,\n\u001b[0;32m    234\u001b[0m                                            data_dir\u001b[39m=\u001b[39mdata_filename)\n\u001b[1;32m--> 236\u001b[0m \u001b[39mwith\u001b[39;00m \u001b[39mopen\u001b[39;49m(\u001b[39mstr\u001b[39;49m(data_filename), \u001b[39m'\u001b[39;49m\u001b[39mrb\u001b[39;49m\u001b[39m'\u001b[39;49m) \u001b[39mas\u001b[39;00m handle:\n\u001b[0;32m    237\u001b[0m     \u001b[39m# Contain everything: project_info and results\u001b[39;00m\n\u001b[0;32m    238\u001b[0m     \u001b[39mself\u001b[39m\u001b[39m.\u001b[39mdata \u001b[39m=\u001b[39m Dict(pickle\u001b[39m.\u001b[39mload(handle))\n\u001b[0;32m    240\u001b[0m \u001b[39m# Reverse from variations on outside to on inside\u001b[39;00m\n",
      "\u001b[1;31mFileNotFoundError\u001b[0m: [Errno 2] No such file or directory: 'C:\\\\data-pyEPR\\\\Modified_Candle_Andre_proj\\\\Modified_Candle_Andre_design\\\\2023-05-25 18-16-47.npz'"
     ]
    }
   ],
   "source": [
    "simulate_qubit('Q1')"
   ]
  },
  {
   "cell_type": "code",
   "execution_count": null,
   "metadata": {},
   "outputs": [],
   "source": []
  },
  {
   "cell_type": "code",
   "execution_count": null,
   "metadata": {},
   "outputs": [],
   "source": []
  },
  {
   "cell_type": "markdown",
   "metadata": {},
   "source": []
  },
  {
   "attachments": {},
   "cell_type": "markdown",
   "metadata": {},
   "source": [
    "# GDS Export"
   ]
  },
  {
   "cell_type": "code",
   "execution_count": 20,
   "metadata": {},
   "outputs": [
    {
     "name": "stderr",
     "output_type": "stream",
     "text": [
      "10:33PM 35s WARNING [_import_junction_gds_file]: Not able to find file:\"../resources/Fake_Junctions.GDS\".  Not used to replace junction. Checked directory:\"d:\\andre\\resources\".\n"
     ]
    },
    {
     "data": {
      "text/plain": [
       "1"
      ]
     },
     "execution_count": 20,
     "metadata": {},
     "output_type": "execute_result"
    }
   ],
   "source": [
    "a_gds = design.renderers.gds\n",
    "a_gds.options['cheese']['view_in_file']['main'][1]=False\n",
    "a_gds.options['no_cheese']['view_in_file']['main'][1] = False\n",
    "\n",
    "a_gds.export_to_gds('final_no_cheese.gds')"
   ]
  }
 ],
 "metadata": {
  "kernelspec": {
   "display_name": "Python 3",
   "language": "python",
   "name": "python3"
  },
  "language_info": {
   "codemirror_mode": {
    "name": "ipython",
    "version": 3
   },
   "file_extension": ".py",
   "mimetype": "text/x-python",
   "name": "python",
   "nbconvert_exporter": "python",
   "pygments_lexer": "ipython3",
   "version": "3.11.3"
  },
  "orig_nbformat": 4
 },
 "nbformat": 4,
 "nbformat_minor": 2
}
