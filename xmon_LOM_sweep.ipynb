{
 "cells": [
  {
   "cell_type": "code",
   "execution_count": 1,
   "metadata": {},
   "outputs": [],
   "source": [
    "%load_ext autoreload\n",
    "%autoreload 2\n",
    "\n",
    "%config IPython.sys.argv=['-Xfrozen_modules=off']\n",
    "\n",
    "from qiskit_metal import draw, Dict, designs, MetalGUI\n",
    "from qiskit_metal.toolbox_metal import math_and_overrides\n",
    "from qiskit_metal.qlibrary.core import QComponent\n",
    "import qiskit_metal as metal\n",
    "# ?metal.qlibrary.core.QComponent.add_qgeometry\n",
    "\n",
    "design = metal.designs.design_planar.DesignPlanar()\n",
    "gui = metal.MetalGUI(design)\n",
    "design.overwrite_enabled = True\n",
    "\n",
    "# dir(QComponent)\n",
    "cpw_width = '11.7um'\n",
    "\n",
    "design._chips.main.size.size_x = '5mm'\n",
    "design._chips.main.size.size_y = '5mm'\n",
    "from qiskit_metal.qlibrary.terminations.launchpad_wb import LaunchpadWirebond\n",
    "from qiskit_metal.qlibrary.terminations.short_to_ground import ShortToGround\n",
    "from qiskit_metal.qlibrary.tlines.straight_path import RouteStraight\n",
    "from qiskit_metal.qlibrary.tlines.anchored_path import RouteAnchors\n",
    "from qiskit_metal.qlibrary.tlines.mixed_path import RouteMixed\n",
    "from qiskit_metal.qlibrary.qubits.transmon_cross import TransmonCross\n",
    "from qiskit_metal.qlibrary.tlines.meandered import RouteMeander\n",
    "from qiskit_metal.qlibrary.terminations.open_to_ground import OpenToGround\n",
    "from qiskit_metal.qlibrary.couplers.coupled_line_tee import CoupledLineTee\n",
    "from qiskit_metal.qlibrary.couplers.cap_n_interdigital_tee import CapNInterdigitalTee\n",
    "from qiskit_metal.qlibrary.couplers.line_tee import LineTee\n",
    "\n",
    "from collections import OrderedDict\n",
    "\n",
    "import numpy as np"
   ]
  },
  {
   "cell_type": "code",
   "execution_count": 2,
   "metadata": {},
   "outputs": [],
   "source": [
    "xmon_options = dict(\n",
    "    connection_pads=dict(\n",
    "        c = dict(\n",
    "                #  claw_length = '215um',\n",
    "                #  ground_spacing = '10um', \n",
    "                 claw_gap = '5.1um', \n",
    "                 claw_width = '15um',),\n",
    "    ),\n",
    "    cross_width = '30um',\n",
    "    # cross_length = '240um',\n",
    "    cross_gap = '30um',\n",
    "    aedt_hfss_inductance = 12E-9\n",
    ")\n",
    "\n",
    "# Create a new Transmon Cross object with name 'Q1'\n",
    "q = TransmonCross(design, 'Q', options=xmon_options)\n",
    "\n",
    "gui.rebuild()  # line needed to propagate the updates from the qubit instance into the junction design table\n",
    "gui.autoscale()"
   ]
  },
  {
   "cell_type": "markdown",
   "metadata": {},
   "source": [
    "# LOM sim"
   ]
  },
  {
   "cell_type": "code",
   "execution_count": 3,
   "metadata": {},
   "outputs": [],
   "source": [
    "from qiskit_metal.analyses.quantization import LOManalysis\n",
    "c1 = LOManalysis(design, \"q3d\")"
   ]
  },
  {
   "cell_type": "code",
   "execution_count": null,
   "metadata": {},
   "outputs": [],
   "source": [
    "c1.sim.setup.reuse_selected_design = False\n",
    "c1.sim.setup.reuse_setup = False\n",
    "\n",
    "# example: update single setting\n",
    "c1.sim.setup.max_passes = 30\n",
    "c1.sim.setup.min_converged_passes = 1\n",
    "c1.sim.setup.percent_error = 0.1\n",
    "c1.sim.setup.name = 'sweep_setup'\n"
   ]
  },
  {
   "cell_type": "code",
   "execution_count": 4,
   "metadata": {},
   "outputs": [],
   "source": [
    "def render_design():\n",
    "    c1.sim.render_design()"
   ]
  },
  {
   "cell_type": "code",
   "execution_count": 5,
   "metadata": {},
   "outputs": [],
   "source": [
    "def run_simulation():\n",
    "    c1.sim.setup.reuse_selected_design = False\n",
    "    c1.sim.setup.reuse_setup = False\n",
    "\n",
    "    # example: update single setting\n",
    "    c1.sim.setup.max_passes = 30\n",
    "    c1.sim.setup.min_converged_passes = 1\n",
    "    c1.sim.setup.percent_error = 0.1\n",
    "    c1.sim.setup.name = 'sweep_setup'\n",
    "\n",
    "    c1.sim.add_setup(name = c1.sim.setup.name)\n",
    "    \n",
    "    Lj = design.components['Q'].options['aedt_hfss_inductance']\n",
    "    design.components['Q'].options['hfss_inductance'] = Lj\n",
    "    design.rebuild()\n",
    "    \n",
    "    c1.sim.analyze_setup(name = c1.sim.setup.name)\n",
    "\n",
    "def add_project_level_vars(renderer):\n",
    "    Lj = design.components['Q'].options['aedt_hfss_inductance']\n",
    "    design.components['Q'].options['hfss_inductance'] = Lj\n",
    "    design.rebuild()\n",
    "\n",
    "def run_analysis():\n",
    "    cap_df = c1.sim.capacitance_matrix\n",
    "    cap_df['misc'] = [ground_spacing_arr[i], cross_len_arr[j], claw_len_arr[k]]\n",
    "    return cap_df"
   ]
  },
  {
   "cell_type": "code",
   "execution_count": null,
   "metadata": {},
   "outputs": [],
   "source": [
    "import pandas as pd\n",
    "\n",
    "ground_spacing_arr = [3, 4, 5, 7, 9, 15, 22, 30]\n",
    "cross_len_arr = [50+i*50 for i in range(10)]\n",
    "claw_len_arr = [10+i*50 for i in range(10)]\n",
    "\n",
    "all_cap_matricies = []\n",
    "\n",
    "# c1.sim.add_seutp(name = <setup_name>, ...)\n",
    "\n",
    "\n",
    "for i in range(len(ground_spacing_arr)):\n",
    "    for j in range(len(cross_len_arr)):\n",
    "        for k in range(j+1):\n",
    "            design.components['Q'].options['connection_pads']['c']['ground_spacing'] = str(ground_spacing_arr[i]) + 'um'\n",
    "            design.components['Q'].options['cross_length'] = str(cross_len_arr[j]) + 'um'\n",
    "            design.components['Q'].options['connection_pads']['c']['claw_length'] = str(claw_len_arr[k]) + 'um'\n",
    "            \n",
    "            Lj = design.components['Q'].options['aedt_hfss_inductance']\n",
    "            design.components['Q'].options['hfss_inductance'] = Lj\n",
    "            design.rebuild()\n",
    "\n",
    "            # c1.sim.render_design(...)\n",
    "            # c1.sim.analyze_setup(name = <setup_name>...)\n",
    "\n",
    "            c1.sim.run(name = 'sweep_v1.0', components=['Q'],\n",
    "               open_terminations=[('Q', 'c')])\n",
    "            cap_df = c1.sim.capacitance_matrix\n",
    "            cap_df['misc'] = [ground_spacing_arr[i], cross_len_arr[j], claw_len_arr[k]]\n",
    "            all_cap_matricies.append(cap_df)\n",
    "\n",
    "            print(f'For Qubit_{ground_spacing_arr[i]}_{cross_len_arr[j]}_{claw_len_arr[k]}, the cap matrix is...')\n",
    "            print(cap_df)\n",
    "\n",
    "final_df = pd.concat(all_cap_matricies)"
   ]
  },
  {
   "cell_type": "code",
   "execution_count": null,
   "metadata": {},
   "outputs": [],
   "source": [
    "project_name = c1.sim.renderer.pinfo.project_name\n",
    "design_name = c1.sim.renderer.get_active_design_name()"
   ]
  },
  {
   "cell_type": "code",
   "execution_count": null,
   "metadata": {},
   "outputs": [],
   "source": [
    "from pyaedt import Q3d\n",
    "\n",
    "app = Q3d()\n",
    "\n",
    "# app.materials['silicon'].permittivity = 11.45"
   ]
  },
  {
   "cell_type": "code",
   "execution_count": 6,
   "metadata": {},
   "outputs": [],
   "source": [
    "def run_single_design(): # this will be used as `custom_analysis`\n",
    "\n",
    "    render_design()\n",
    "    run_simulation()\n",
    "    package = run_analysis()\n",
    "    return package"
   ]
  },
  {
   "cell_type": "code",
   "execution_count": 7,
   "metadata": {},
   "outputs": [],
   "source": [
    "from metal_library.sweeper import QSweeper\n",
    "sweeper = QSweeper(design)"
   ]
  },
  {
   "cell_type": "code",
   "execution_count": 8,
   "metadata": {},
   "outputs": [
    {
     "ename": "AttributeError",
     "evalue": "'QSweeper' object has no attribute 'run_single_component_sweep'",
     "output_type": "error",
     "traceback": [
      "\u001b[1;31m---------------------------------------------------------------------------\u001b[0m",
      "\u001b[1;31mAttributeError\u001b[0m                            Traceback (most recent call last)",
      "Cell \u001b[1;32mIn[8], line 16\u001b[0m\n\u001b[0;32m      1\u001b[0m sweep_parameters \u001b[39m=\u001b[39m \u001b[39mdict\u001b[39m(\n\u001b[0;32m      2\u001b[0m   connection_pads \u001b[39m=\u001b[39m \u001b[39mdict\u001b[39m(\n\u001b[0;32m      3\u001b[0m     readout \u001b[39m=\u001b[39m \u001b[39mdict\u001b[39m(\n\u001b[1;32m   (...)\u001b[0m\n\u001b[0;32m     14\u001b[0m   aedt_hfss_inductance \u001b[39m=\u001b[39m [\u001b[39m12E-9\u001b[39m]\n\u001b[0;32m     15\u001b[0m )\n\u001b[1;32m---> 16\u001b[0m my_librarian \u001b[39m=\u001b[39m sweeper\u001b[39m.\u001b[39;49mrun_single_component_sweep(component_name\u001b[39m=\u001b[39m\u001b[39m'\u001b[39m\u001b[39mQ\u001b[39m\u001b[39m'\u001b[39m,\n\u001b[0;32m     17\u001b[0m                                                   parameters \u001b[39m=\u001b[39m sweep_parameters,\n\u001b[0;32m     18\u001b[0m                                                   custom_analysis \u001b[39m=\u001b[39m run_single_design,\n\u001b[0;32m     19\u001b[0m                                                   parameters_slice\u001b[39m=\u001b[39m\u001b[39mslice\u001b[39m(\u001b[39m1\u001b[39m,\u001b[39m2\u001b[39m),\n\u001b[0;32m     20\u001b[0m                                                   save_path\u001b[39m=\u001b[39m\u001b[39m\"\u001b[39m\u001b[39m./sweep_08_19_test.csv\u001b[39m\u001b[39m\"\u001b[39m)\n",
      "\u001b[1;31mAttributeError\u001b[0m: 'QSweeper' object has no attribute 'run_single_component_sweep'"
     ]
    }
   ],
   "source": [
    "sweep_parameters = dict(\n",
    "  connection_pads = dict(\n",
    "    readout = dict(\n",
    "      connector_type = '0', \n",
    "      claw_length = [f'{10+i*50}um' for i in range(10)],\n",
    "      ground_spacing = ['3um', '4um', '5um', '7um', '9um', '15um', '22um', '30um'], \n",
    "      claw_gap = ['5.1um'], \n",
    "      claw_width = ['15um']\n",
    "      )\n",
    "    ),\n",
    "  cross_width = ['30um'],\n",
    "  cross_length = [f'{50+i*50}um' for i in range(10)],\n",
    "  cross_gap = ['30um'],\n",
    "  aedt_hfss_inductance = [12E-9]\n",
    ")\n",
    "my_librarian = sweeper.run_single_component_sweep(component_name='Q',\n",
    "                                                  parameters = sweep_parameters,\n",
    "                                                  custom_analysis = run_single_design,\n",
    "                                                  parameters_slice=slice(1,2),\n",
    "                                                  save_path=\"./sweep_08_19_test.csv\")"
   ]
  },
  {
   "cell_type": "code",
   "execution_count": 9,
   "metadata": {},
   "outputs": [
    {
     "data": {
      "text/plain": [
       "['__class__',\n",
       " '__delattr__',\n",
       " '__dict__',\n",
       " '__dir__',\n",
       " '__doc__',\n",
       " '__eq__',\n",
       " '__format__',\n",
       " '__ge__',\n",
       " '__getattribute__',\n",
       " '__getstate__',\n",
       " '__gt__',\n",
       " '__hash__',\n",
       " '__init__',\n",
       " '__init_subclass__',\n",
       " '__le__',\n",
       " '__lt__',\n",
       " '__module__',\n",
       " '__ne__',\n",
       " '__new__',\n",
       " '__reduce__',\n",
       " '__reduce_ex__',\n",
       " '__repr__',\n",
       " '__setattr__',\n",
       " '__sizeof__',\n",
       " '__str__',\n",
       " '__subclasshook__',\n",
       " '__weakref__',\n",
       " 'design',\n",
       " 'run_sweep',\n",
       " 'update_qcomponent']"
      ]
     },
     "execution_count": 9,
     "metadata": {},
     "output_type": "execute_result"
    }
   ],
   "source": [
    "dir(sweeper)"
   ]
  }
 ],
 "metadata": {
  "kernelspec": {
   "display_name": "qiskit_metal",
   "language": "python",
   "name": "python3"
  },
  "language_info": {
   "codemirror_mode": {
    "name": "ipython",
    "version": 3
   },
   "file_extension": ".py",
   "mimetype": "text/x-python",
   "name": "python",
   "nbconvert_exporter": "python",
   "pygments_lexer": "ipython3",
   "version": "3.11.4"
  },
  "orig_nbformat": 4
 },
 "nbformat": 4,
 "nbformat_minor": 2
}
